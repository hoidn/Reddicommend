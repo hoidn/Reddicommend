{
 "cells": [
  {
   "cell_type": "code",
   "execution_count": 1,
   "metadata": {
    "collapsed": true
   },
   "outputs": [],
   "source": [
    "import pyspark"
   ]
  },
  {
   "cell_type": "code",
   "execution_count": 2,
   "metadata": {
    "collapsed": true
   },
   "outputs": [],
   "source": [
    "import numpy as np"
   ]
  },
  {
   "cell_type": "code",
   "execution_count": 3,
   "metadata": {
    "collapsed": true
   },
   "outputs": [],
   "source": [
    "from pyspark.mllib.linalg.distributed import CoordinateMatrix\n",
    "from pyspark.mllib.linalg.distributed import MatrixEntry\n",
    "from pyspark.sql.types import *\n",
    "from operator import add\n",
    "from pyspark.mllib.linalg import Vectors, ArrayType"
   ]
  },
  {
   "cell_type": "code",
   "execution_count": 4,
   "metadata": {
    "collapsed": true
   },
   "outputs": [],
   "source": [
    "minimal_fields = [ \n",
    "          StructField(\"author\", StringType(), True),\n",
    "          StructField(\"score\", LongType(), True),\n",
    "          StructField(\"subreddit\", StringType(), True)]"
   ]
  },
  {
   "cell_type": "code",
   "execution_count": 5,
   "metadata": {
    "collapsed": true
   },
   "outputs": [],
   "source": [
    "#def parquet_cache(table_name):\n",
    "#    def memo(f):\n",
    "#        "
   ]
  },
  {
   "cell_type": "code",
   "execution_count": 6,
   "metadata": {
    "collapsed": true
   },
   "outputs": [],
   "source": [
    "def df_most_active_subreddits(num_subreddit = 1000, npartitions = 18):\n",
    "    most_active = sqlContext.sql(\"\"\"\n",
    "    select * from\n",
    "        (select *, dense_rank() over (order by activity desc) as ordered_id\n",
    "        from (select rid, subreddit, sum(activity) as activity\n",
    "            from occurrences\n",
    "            group by rid, subreddit))\n",
    "        where ordered_id<=%d\n",
    "\"\"\" % num_subreddit).persist(StorageLevel.MEMORY_AND_DISK_SER)\n",
    "    most_active.registerTempTable('most_active')\n",
    "    return most_active.repartition(npartitions)\n",
    "\n",
    "def df_valid_users(min_subreddits = 2, max_subreddits = 20):\n",
    "    \"\"\"\n",
    "    filter users by the number of subreddits they've posted in, among the above-defined most active subreddits\n",
    "    \"\"\"\n",
    "    most_active_users = sqlContext.sql(\"\"\"\n",
    "    select * from\n",
    "        (select author, count(subreddit) as count\n",
    "        from \n",
    "            (select * from occurrences\n",
    "            where subreddit in (select subreddit from most_active))\n",
    "        group by author\n",
    "        order by count desc)\n",
    "    where count>=%d and count<=%d\"\"\" % (min_subreddits, max_subreddits)).persist(StorageLevel.MEMORY_AND_DISK_SER)\n",
    "    most_active_users.registerTempTable('most_active_users')\n",
    "    return most_active_users\n",
    "\n",
    "def load_and_preprocess(json_uri, num_subreddit, user_min_active_subreddits = 4, user_max_active_subreddits = 20):\n",
    "    \"\"\"\n",
    "    Load json and do preprocessing via some SQL queries\n",
    "    \"\"\"\n",
    "    sj = sqlContext.read.json(json_uri, StructType(minimal_fields))\n",
    "    sj.registerTempTable('test')\n",
    "    \n",
    "    occurrences = sqlContext.sql(\"\"\"\n",
    "    select *, dense_rank() over (order by subreddit desc) as rid \n",
    "    from  (SELECT subreddit, author, sum(sign(score)) as tally,\\\n",
    "        count(score) as activity, dense_rank() over (order by author desc) as uid\n",
    "    from test\n",
    "    group by subreddit, author)\n",
    "    where tally!=0\n",
    "    \"\"\").persist(StorageLevel.MEMORY_AND_DISK_SER)\n",
    "    occurrences.registerTempTable('occurrences')\n",
    "        \n",
    "    df_most_active_subreddits(num_subreddit)\n",
    "    df_valid_users(user_min_active_subreddits, user_max_active_subreddits)\n",
    "    \n",
    "    test2 = sqlContext.sql(\"\"\"\n",
    "    select test.author, test.score, test.subreddit, most_active.ordered_id as ordered_id\n",
    "    from test\n",
    "    inner join most_active on most_active.subreddit=test.subreddit\"\"\")\n",
    "    test2.registerTempTable('test2')\n",
    "    \n",
    "    occurrences_pruned = sqlContext.sql(\"\"\"\n",
    "    select *\n",
    "    from  (SELECT test2.subreddit, author, test2.ordered_id, sum(score) as tally,\\\n",
    "        sum(abs(score)) as activity, dense_rank() over (order by author desc) as uid\n",
    "        from test2\n",
    "        where author in (select author from most_active_users)\n",
    "        group by test2.subreddit, test2.ordered_id, author)\n",
    "    where tally!=0\n",
    "    \"\"\").persist(StorageLevel.MEMORY_AND_DISK_SER)\n",
    "    occurrences_pruned.registerTempTable('occurrences_pruned')\n",
    "    \n",
    "    bare_occurrences = sqlContext.sql(\"\"\"\n",
    "    select ordered_id, uid, tally\n",
    "    from occurrences_pruned\n",
    "    \"\"\").persist(StorageLevel.MEMORY_AND_DISK_SER)\n",
    "    bare_occurrences.registerTempTable('bare_occurrences')\n",
    "    \n",
    "def gen_frequency_matrix(npartitions = 18, bias_correction = False):\n",
    "    # subreddit-activity matrix\n",
    "    bare_occurrences = sqlContext.sql(\"\"\"select * from bare_occurrences\"\"\").repartition(npartitions)\n",
    "    rows = bare_occurrences.rdd.map(\n",
    "            lambda row: (row.ordered_id, (row.uid, row.tally))).sortByKey()\n",
    "    tf_ij = CoordinateMatrix(rows.map(lambda entry: (entry[0] - 1, entry[1][0], entry[1][1])))\n",
    "    \n",
    "    return rows, tf_ij"
   ]
  },
  {
   "cell_type": "code",
   "execution_count": 316,
   "metadata": {
    "collapsed": false
   },
   "outputs": [],
   "source": [
    "sqlContext.createDataFrame(rows).write.parquet(hdfs_prefix + \"/test\")"
   ]
  },
  {
   "cell_type": "code",
   "execution_count": 319,
   "metadata": {
    "collapsed": false
   },
   "outputs": [
    {
     "data": {
      "text/plain": [
       "18"
      ]
     },
     "execution_count": 319,
     "metadata": {},
     "output_type": "execute_result"
    }
   ],
   "source": [
    "sqlContext.read.parquet(hdfs_prefix + \"/test\").rdd.getNumPartitions()"
   ]
  },
  {
   "cell_type": "code",
   "execution_count": 72,
   "metadata": {
    "collapsed": true
   },
   "outputs": [
    {
     "name": "stdout",
     "output_type": "stream",
     "text": [
      "    ordered_id             subreddit\n",
      "0            1             AskReddit\n",
      "1            2              politics\n",
      "2            3            The_Donald\n",
      "3            4                soccer\n",
      "4            5                   nba\n",
      "5            6  RocketLeagueExchange\n",
      "6            7             worldnews\n",
      "7            8            BigBrother\n",
      "8            9         SquaredCircle\n",
      "9           10       leagueoflegends\n",
      "10          11                  news\n",
      "11          12                 funny\n",
      "12          13         gameofthrones\n",
      "13          14                gaming\n",
      "14          15                 DotA2\n",
      "15          16                videos\n",
      "16          17                  pics\n",
      "17          18       PUBATTLEGROUNDS\n",
      "18          19             Overwatch\n",
      "19          20           hearthstone\n",
      "20          21         todayilearned\n",
      "21          22                   nfl\n",
      "22          23       DBZDokkanBattle\n",
      "23          24                movies\n",
      "24          25           pathofexile\n",
      "25          26         relationships\n",
      "26          27          pcmasterrace\n",
      "27          28            conspiracy\n",
      "28          29                  gifs\n",
      "29          30                 anime\n",
      "30          31       GlobalOffensive\n",
      "31          32                   MMA\n",
      "32          33        Showerthoughts\n",
      "33          34                   aww\n",
      "34          35              gonewild\n",
      "35          36            Guildwars2\n",
      "36          37       personalfinance\n",
      "37          38              baseball\n",
      "38          39     mildlyinteresting\n",
      "39          40         CringeAnarchy\n",
      "40          41                asoiaf\n",
      "41          42                   CFB\n",
      "42          43  GlobalOffensiveTrade\n",
      "43          44        NintendoSwitch\n",
      "44          45                me_irl\n",
      "45          46       rupaulsdragrace\n",
      "46          47              Rainbow6\n",
      "47          48               Bitcoin\n",
      "48          49      FireEmblemHeroes\n",
      "49          50                europe\n",
      "50          51           hiphopheads\n",
      "51          52          TheSilphRoad\n",
      "52          53                   btc\n",
      "53          54                canada\n",
      "54          55              buildapc\n",
      "55          56              freefolk\n",
      "56          57             teenagers\n",
      "57          58             ethtrader\n",
      "58          59                 ffxiv\n",
      "59          60    BlackPeopleTwitter\n",
      "           ...                   ...\n",
      "\n",
      "[508 rows x 2 columns]\n"
     ]
    }
   ],
   "source": [
    "sqlContext.sql(\"\"\"select\n",
    "ordered_id, subreddit\n",
    "from most_active\n",
    "group by ordered_id, subreddit\"\"\").toPandas()"
   ]
  },
  {
   "cell_type": "code",
   "execution_count": 66,
   "metadata": {
    "collapsed": true
   },
   "outputs": [
    {
     "data": {
      "text/plain": [
       "[Row(subreddit=u'AskReddit'),\n",
       " Row(subreddit=u'politics'),\n",
       " Row(subreddit=u'The_Donald'),\n",
       " Row(subreddit=u'soccer'),\n",
       " Row(subreddit=u'nba'),\n",
       " Row(subreddit=u'RocketLeagueExchange'),\n",
       " Row(subreddit=u'worldnews'),\n",
       " Row(subreddit=u'BigBrother'),\n",
       " Row(subreddit=u'SquaredCircle'),\n",
       " Row(subreddit=u'leagueoflegends'),\n",
       " Row(subreddit=u'news'),\n",
       " Row(subreddit=u'funny'),\n",
       " Row(subreddit=u'gameofthrones'),\n",
       " Row(subreddit=u'gaming'),\n",
       " Row(subreddit=u'DotA2'),\n",
       " Row(subreddit=u'videos'),\n",
       " Row(subreddit=u'pics'),\n",
       " Row(subreddit=u'PUBATTLEGROUNDS'),\n",
       " Row(subreddit=u'Overwatch'),\n",
       " Row(subreddit=u'hearthstone'),\n",
       " Row(subreddit=u'todayilearned'),\n",
       " Row(subreddit=u'nfl'),\n",
       " Row(subreddit=u'DBZDokkanBattle'),\n",
       " Row(subreddit=u'movies'),\n",
       " Row(subreddit=u'pathofexile'),\n",
       " Row(subreddit=u'relationships'),\n",
       " Row(subreddit=u'pcmasterrace'),\n",
       " Row(subreddit=u'conspiracy'),\n",
       " Row(subreddit=u'gifs'),\n",
       " Row(subreddit=u'anime'),\n",
       " Row(subreddit=u'GlobalOffensive'),\n",
       " Row(subreddit=u'MMA'),\n",
       " Row(subreddit=u'Showerthoughts'),\n",
       " Row(subreddit=u'aww'),\n",
       " Row(subreddit=u'gonewild'),\n",
       " Row(subreddit=u'Guildwars2'),\n",
       " Row(subreddit=u'personalfinance'),\n",
       " Row(subreddit=u'baseball'),\n",
       " Row(subreddit=u'mildlyinteresting'),\n",
       " Row(subreddit=u'CringeAnarchy'),\n",
       " Row(subreddit=u'asoiaf'),\n",
       " Row(subreddit=u'CFB'),\n",
       " Row(subreddit=u'GlobalOffensiveTrade'),\n",
       " Row(subreddit=u'NintendoSwitch'),\n",
       " Row(subreddit=u'me_irl'),\n",
       " Row(subreddit=u'rupaulsdragrace'),\n",
       " Row(subreddit=u'Rainbow6'),\n",
       " Row(subreddit=u'Bitcoin'),\n",
       " Row(subreddit=u'FireEmblemHeroes'),\n",
       " Row(subreddit=u'europe'),\n",
       " Row(subreddit=u'hiphopheads'),\n",
       " Row(subreddit=u'TheSilphRoad'),\n",
       " Row(subreddit=u'btc'),\n",
       " Row(subreddit=u'canada'),\n",
       " Row(subreddit=u'buildapc'),\n",
       " Row(subreddit=u'freefolk'),\n",
       " Row(subreddit=u'teenagers'),\n",
       " Row(subreddit=u'ethtrader'),\n",
       " Row(subreddit=u'ffxiv'),\n",
       " Row(subreddit=u'BlackPeopleTwitter'),\n",
       " Row(subreddit=u'FFBraveExvius'),\n",
       " Row(subreddit=u'2007scape'),\n",
       " Row(subreddit=u'AskOuija'),\n",
       " Row(subreddit=u'Philippines'),\n",
       " Row(subreddit=u'wow'),\n",
       " Row(subreddit=u'Android'),\n",
       " Row(subreddit=u'ukpolitics'),\n",
       " Row(subreddit=u'DestinyTheGame'),\n",
       " Row(subreddit=u'hockey'),\n",
       " Row(subreddit=u'FIFA'),\n",
       " Row(subreddit=u'WTF'),\n",
       " Row(subreddit=u'science'),\n",
       " Row(subreddit=u'cars'),\n",
       " Row(subreddit=u'Amd'),\n",
       " Row(subreddit=u'neoliberal'),\n",
       " Row(subreddit=u'trees'),\n",
       " Row(subreddit=u'television'),\n",
       " Row(subreddit=u'FORTnITE'),\n",
       " Row(subreddit=u'4chan4trump'),\n",
       " Row(subreddit=u'pokemongo'),\n",
       " Row(subreddit=u'CasualConversation'),\n",
       " Row(subreddit=u'dankmemes'),\n",
       " Row(subreddit=u'de'),\n",
       " Row(subreddit=u'Fitness'),\n",
       " Row(subreddit=u'AskMen'),\n",
       " Row(subreddit=u'NYYankees'),\n",
       " Row(subreddit=u'Games'),\n",
       " Row(subreddit=u'xboxone'),\n",
       " Row(subreddit=u'heroesofthestorm'),\n",
       " Row(subreddit=u'LiverpoolFC'),\n",
       " Row(subreddit=u'france'),\n",
       " Row(subreddit=u'PS4'),\n",
       " Row(subreddit=u'forhonor'),\n",
       " Row(subreddit=u'legaladvice'),\n",
       " Row(subreddit=u'formula1'),\n",
       " Row(subreddit=u'australia'),\n",
       " Row(subreddit=u'teslamotors'),\n",
       " Row(subreddit=u'AdviceAnimals'),\n",
       " Row(subreddit=u'unitedkingdom'),\n",
       " Row(subreddit=u'AskWomen'),\n",
       " Row(subreddit=u'RocketLeague'),\n",
       " Row(subreddit=u'OkCupid'),\n",
       " Row(subreddit=u'Warframe'),\n",
       " Row(subreddit=u'magicTCG'),\n",
       " Row(subreddit=u'grandorder'),\n",
       " Row(subreddit=u'exmormon'),\n",
       " Row(subreddit=u'splatoon'),\n",
       " Row(subreddit=u'technology'),\n",
       " Row(subreddit=u'Ice_Poseidon'),\n",
       " Row(subreddit=u'counting'),\n",
       " Row(subreddit=u'OldSchoolCool'),\n",
       " Row(subreddit=u'nottheonion'),\n",
       " Row(subreddit=u'DnD'),\n",
       " Row(subreddit=u'explainlikeimfive'),\n",
       " Row(subreddit=u'FashionReps'),\n",
       " Row(subreddit=u'Jokes'),\n",
       " Row(subreddit=u'Drugs'),\n",
       " Row(subreddit=u'runescape'),\n",
       " Row(subreddit=u'trashy'),\n",
       " Row(subreddit=u'marvelstudios'),\n",
       " Row(subreddit=u'india'),\n",
       " Row(subreddit=u'pokemontrades'),\n",
       " Row(subreddit=u'PoliticalHumor'),\n",
       " Row(subreddit=u'JUSTNOMIL'),\n",
       " Row(subreddit=u'MLS'),\n",
       " Row(subreddit=u'ClashRoyale'),\n",
       " Row(subreddit=u'Smite'),\n",
       " Row(subreddit=u'books'),\n",
       " Row(subreddit=u'interestingasfuck'),\n",
       " Row(subreddit=u'sex'),\n",
       " Row(subreddit=u'vegan'),\n",
       " Row(subreddit=u'OnePiece'),\n",
       " Row(subreddit=u'argentina'),\n",
       " Row(subreddit=u'apple'),\n",
       " Row(subreddit=u'Christianity'),\n",
       " Row(subreddit=u'reddevils'),\n",
       " Row(subreddit=u'rickandmorty'),\n",
       " Row(subreddit=u'MGTOW'),\n",
       " Row(subreddit=u'ChapoTrapHouse'),\n",
       " Row(subreddit=u'KotakuInAction'),\n",
       " Row(subreddit=u'loseit'),\n",
       " Row(subreddit=u'summonerswar'),\n",
       " Row(subreddit=u'dataisbeautiful'),\n",
       " Row(subreddit=u'MechanicalKeyboards'),\n",
       " Row(subreddit=u'fantasybaseball'),\n",
       " Row(subreddit=u'wallstreetbets'),\n",
       " Row(subreddit=u'SWGalaxyOfHeroes'),\n",
       " Row(subreddit=u'Eve'),\n",
       " Row(subreddit=u'brasil'),\n",
       " Row(subreddit=u'twinpeaks'),\n",
       " Row(subreddit=u'titanfall'),\n",
       " Row(subreddit=u'RoastMe'),\n",
       " Row(subreddit=u'motorcycles'),\n",
       " Row(subreddit=u'newzealand'),\n",
       " Row(subreddit=u'starcitizen'),\n",
       " Row(subreddit=u'NoFap'),\n",
       " Row(subreddit=u'LifeProTips'),\n",
       " Row(subreddit=u'Tinder'),\n",
       " Row(subreddit=u'starterpacks'),\n",
       " Row(subreddit=u'MLBTheShow'),\n",
       " Row(subreddit=u'fantasyfootball'),\n",
       " Row(subreddit=u'hardwareswap'),\n",
       " Row(subreddit=u'Gunners'),\n",
       " Row(subreddit=u'Futurology'),\n",
       " Row(subreddit=u'churning'),\n",
       " Row(subreddit=u'sports'),\n",
       " Row(subreddit=u'electronic_cigarette'),\n",
       " Row(subreddit=u'Sneakers'),\n",
       " Row(subreddit=u'ComedyCemetery'),\n",
       " Row(subreddit=u'CHICubs'),\n",
       " Row(subreddit=u'AFL'),\n",
       " Row(subreddit=u'Kappa'),\n",
       " Row(subreddit=u'tifu'),\n",
       " Row(subreddit=u'paragon'),\n",
       " Row(subreddit=u'oculus'),\n",
       " Row(subreddit=u'smashbros'),\n",
       " Row(subreddit=u'changemyview'),\n",
       " Row(subreddit=u'guns'),\n",
       " Row(subreddit=u'Mariners'),\n",
       " Row(subreddit=u'nrl'),\n",
       " Row(subreddit=u'opieandanthony'),\n",
       " Row(subreddit=u'tf2'),\n",
       " Row(subreddit=u'atheism'),\n",
       " Row(subreddit=u'SubredditDrama'),\n",
       " Row(subreddit=u'phish'),\n",
       " Row(subreddit=u'TumblrInAction'),\n",
       " Row(subreddit=u'albiononline'),\n",
       " Row(subreddit=u'sysadmin'),\n",
       " Row(subreddit=u'blackdesertonline'),\n",
       " Row(subreddit=u'keto'),\n",
       " Row(subreddit=u'NoStupidQuestions'),\n",
       " Row(subreddit=u'childfree'),\n",
       " Row(subreddit=u'Libertarian'),\n",
       " Row(subreddit=u'funkopop'),\n",
       " Row(subreddit=u'food'),\n",
       " Row(subreddit=u'streetwear'),\n",
       " Row(subreddit=u'fakeid'),\n",
       " Row(subreddit=u'EliteDangerous'),\n",
       " Row(subreddit=u'teenmom'),\n",
       " Row(subreddit=u'playrust'),\n",
       " Row(subreddit=u'askgaybros'),\n",
       " Row(subreddit=u'FantasyPL'),\n",
       " Row(subreddit=u'Warhammer40k'),\n",
       " Row(subreddit=u'jailbreak'),\n",
       " Row(subreddit=u'boardgames'),\n",
       " Row(subreddit=u'CrappyDesign'),\n",
       " Row(subreddit=u'NASCAR'),\n",
       " Row(subreddit=u'italy'),\n",
       " Row(subreddit=u'Competitiveoverwatch'),\n",
       " Row(subreddit=u'dbz'),\n",
       " Row(subreddit=u'pcgaming'),\n",
       " Row(subreddit=u'opiates'),\n",
       " Row(subreddit=u'battlefield_one'),\n",
       " Row(subreddit=u'Music'),\n",
       " Row(subreddit=u'summonerschool'),\n",
       " Row(subreddit=u'nintendo'),\n",
       " Row(subreddit=u'Random_Acts_Of_Amazon'),\n",
       " Row(subreddit=u'AskTrumpSupporters'),\n",
       " Row(subreddit=u'Paladins'),\n",
       " Row(subreddit=u'StarWars'),\n",
       " Row(subreddit=u'redsox'),\n",
       " Row(subreddit=u'MakeupAddiction'),\n",
       " Row(subreddit=u'singapore'),\n",
       " Row(subreddit=u'ImGoingToHellForThis'),\n",
       " Row(subreddit=u'DuelLinks'),\n",
       " Row(subreddit=u'RotMG'),\n",
       " Row(subreddit=u'BitcoinMarkets'),\n",
       " Row(subreddit=u'PublicFreakout'),\n",
       " Row(subreddit=u'BleachBraveSouls'),\n",
       " Row(subreddit=u'darksouls3'),\n",
       " Row(subreddit=u'SeattleWA'),\n",
       " Row(subreddit=u'Drama'),\n",
       " Row(subreddit=u'PurplePillDebate'),\n",
       " Row(subreddit=u'bodybuilding'),\n",
       " Row(subreddit=u'TwoXChromosomes'),\n",
       " Row(subreddit=u'stopdrinking'),\n",
       " Row(subreddit=u'Repsneakers'),\n",
       " Row(subreddit=u'fatlogic'),\n",
       " Row(subreddit=u'deadbydaylight'),\n",
       " Row(subreddit=u'TwoBestFriendsPlay'),\n",
       " Row(subreddit=u'PrequelMemes'),\n",
       " Row(subreddit=u'gtaonline'),\n",
       " Row(subreddit=u'CODZombies'),\n",
       " Row(subreddit=u'facepalm'),\n",
       " Row(subreddit=u'depression'),\n",
       " Row(subreddit=u'Portland'),\n",
       " Row(subreddit=u'kpop'),\n",
       " Row(subreddit=u'toronto'),\n",
       " Row(subreddit=u'totalwar'),\n",
       " Row(subreddit=u'Dodgers'),\n",
       " Row(subreddit=u'golf'),\n",
       " Row(subreddit=u'comicbooks'),\n",
       " Row(subreddit=u'CryptoCurrency'),\n",
       " Row(subreddit=u'ireland'),\n",
       " Row(subreddit=u'weddingplanning'),\n",
       " Row(subreddit=u'NoMansSkyTheGame'),\n",
       " Row(subreddit=u'Conservative'),\n",
       " Row(subreddit=u'LateStageCapitalism'),\n",
       " Row(subreddit=u'relationship_advice'),\n",
       " Row(subreddit=u'Political_Revolution'),\n",
       " Row(subreddit=u'stevenuniverse'),\n",
       " Row(subreddit=u'vancouver'),\n",
       " Row(subreddit=u'4chan'),\n",
       " Row(subreddit=u'RWBY'),\n",
       " Row(subreddit=u'pokemon'),\n",
       " Row(subreddit=u'WritingPrompts'),\n",
       " Row(subreddit=u'fivenightsatfreddys'),\n",
       " Row(subreddit=u'eu4'),\n",
       " Row(subreddit=u'history'),\n",
       " Row(subreddit=u'malefashionadvice'),\n",
       " Row(subreddit=u'DC_Cinematic'),\n",
       " Row(subreddit=u'CasualUK'),\n",
       " Row(subreddit=u'melbourne'),\n",
       " Row(subreddit=u'OnePieceTC'),\n",
       " Row(subreddit=u'IAmA'),\n",
       " Row(subreddit=u'Minecraft'),\n",
       " Row(subreddit=u'Whatcouldgowrong'),\n",
       " Row(subreddit=u'fireemblem'),\n",
       " Row(subreddit=u'milliondollarextreme'),\n",
       " Row(subreddit=u'DarkNetMarkets'),\n",
       " Row(subreddit=u'whowouldwin'),\n",
       " Row(subreddit=u'bjj'),\n",
       " Row(subreddit=u'DIY'),\n",
       " Row(subreddit=u'Warthunder'),\n",
       " Row(subreddit=u'sweden'),\n",
       " Row(subreddit=u'portugal'),\n",
       " Row(subreddit=u'IncelTears'),\n",
       " Row(subreddit=u'watchpeopledie'),\n",
       " Row(subreddit=u'asktransgender'),\n",
       " Row(subreddit=u'Vive'),\n",
       " Row(subreddit=u'Romania'),\n",
       " Row(subreddit=u'gwent'),\n",
       " Row(subreddit=u'osugame'),\n",
       " Row(subreddit=u'thebachelor'),\n",
       " Row(subreddit=u'manga'),\n",
       " Row(subreddit=u'chelseafc'),\n",
       " Row(subreddit=u'skyrim'),\n",
       " Row(subreddit=u'ShingekiNoKyojin'),\n",
       " Row(subreddit=u'WorldOfWarships'),\n",
       " Row(subreddit=u'UpliftingNews'),\n",
       " Row(subreddit=u'survivor'),\n",
       " Row(subreddit=u'Cardinals'),\n",
       " Row(subreddit=u'AirForce'),\n",
       " Row(subreddit=u'mechmarket'),\n",
       " Row(subreddit=u'BravoRealHousewives'),\n",
       " Row(subreddit=u'niceguys'),\n",
       " Row(subreddit=u'quityourbullshit'),\n",
       " Row(subreddit=u'Guitar'),\n",
       " Row(subreddit=u'ProgrammerHumor'),\n",
       " Row(subreddit=u'travel'),\n",
       " Row(subreddit=u'Barca'),\n",
       " Row(subreddit=u'TrollXChromosomes'),\n",
       " Row(subreddit=u'F13thegame'),\n",
       " Row(subreddit=u'Justrolledintotheshop'),\n",
       " Row(subreddit=u'JoeRogan'),\n",
       " Row(subreddit=u'EDH'),\n",
       " Row(subreddit=u'photoshopbattles'),\n",
       " Row(subreddit=u'Naruto'),\n",
       " Row(subreddit=u'tipofmytongue'),\n",
       " Row(subreddit=u'justneckbeardthings'),\n",
       " Row(subreddit=u'dirtykikpals'),\n",
       " Row(subreddit=u'buildapcsales'),\n",
       " Row(subreddit=u'indieheads'),\n",
       " Row(subreddit=u'elderscrollsonline'),\n",
       " Row(subreddit=u'Denmark'),\n",
       " Row(subreddit=u'whatisthisthing'),\n",
       " Row(subreddit=u'programming'),\n",
       " Row(subreddit=u'EscapefromTarkov'),\n",
       " Row(subreddit=u'dndnext'),\n",
       " Row(subreddit=u'Fantasy'),\n",
       " Row(subreddit=u'SkincareAddiction'),\n",
       " Row(subreddit=u'chicago'),\n",
       " Row(subreddit=u'financialindependence'),\n",
       " Row(subreddit=u'running'),\n",
       " Row(subreddit=u'EnoughTrumpSpam'),\n",
       " Row(subreddit=u'WayOfTheBern'),\n",
       " Row(subreddit=u'lego'),\n",
       " Row(subreddit=u'raisedbynarcissists'),\n",
       " Row(subreddit=u'MobiusFF'),\n",
       " Row(subreddit=u'thatHappened'),\n",
       " Row(subreddit=u'techsupport'),\n",
       " Row(subreddit=u'PSVR'),\n",
       " Row(subreddit=u'Torontobluejays'),\n",
       " Row(subreddit=u'Documentaries'),\n",
       " Row(subreddit=u'sydney'),\n",
       " Row(subreddit=u'INJUSTICE'),\n",
       " Row(subreddit=u'worldbuilding'),\n",
       " Row(subreddit=u'photography'),\n",
       " Row(subreddit=u'askscience'),\n",
       " Row(subreddit=u'cringepics'),\n",
       " Row(subreddit=u'femalefashionadvice'),\n",
       " Row(subreddit=u'KCRoyals'),\n",
       " Row(subreddit=u'fullmoviesonanything'),\n",
       " Row(subreddit=u'Art'),\n",
       " Row(subreddit=u'kotk'),\n",
       " Row(subreddit=u'iamverysmart'),\n",
       " Row(subreddit=u'popheads'),\n",
       " Row(subreddit=u'Advice'),\n",
       " Row(subreddit=u'army'),\n",
       " Row(subreddit=u'cscareerquestions'),\n",
       " Row(subreddit=u'AskAnAmerican'),\n",
       " Row(subreddit=u'LosAngeles'),\n",
       " Row(subreddit=u'Braves'),\n",
       " Row(subreddit=u'PoliticalDiscussion'),\n",
       " Row(subreddit=u'Infinitewarfare'),\n",
       " Row(subreddit=u'FFRecordKeeper'),\n",
       " Row(subreddit=u'LivestreamFail'),\n",
       " Row(subreddit=u'GetMotivated'),\n",
       " Row(subreddit=u'thenetherlands'),\n",
       " Row(subreddit=u'future_fight'),\n",
       " Row(subreddit=u'Calgary'),\n",
       " Row(subreddit=u'youtubehaiku'),\n",
       " Row(subreddit=u'NBA2k'),\n",
       " Row(subreddit=u'ContestOfChampions'),\n",
       " Row(subreddit=u'AMA'),\n",
       " Row(subreddit=u'esist'),\n",
       " Row(subreddit=u'casualiama'),\n",
       " Row(subreddit=u'insanepeoplefacebook'),\n",
       " Row(subreddit=u'MapPorn'),\n",
       " Row(subreddit=u'EarthPorn'),\n",
       " Row(subreddit=u'JusticeServed'),\n",
       " Row(subreddit=u'BabyBumps'),\n",
       " Row(subreddit=u'exjw'),\n",
       " Row(subreddit=u'space'),\n",
       " Row(subreddit=u'Austin'),\n",
       " Row(subreddit=u'FreeKarma4You'),\n",
       " Row(subreddit=u'Astros'),\n",
       " Row(subreddit=u'amiugly'),\n",
       " Row(subreddit=u'syriancivilwar'),\n",
       " Row(subreddit=u'Boxing'),\n",
       " Row(subreddit=u'MensRights'),\n",
       " Row(subreddit=u'mildlyinfuriating'),\n",
       " Row(subreddit=u'Lollapalooza'),\n",
       " Row(subreddit=u'sadcringe'),\n",
       " Row(subreddit=u'steroids'),\n",
       " Row(subreddit=u'yugioh'),\n",
       " Row(subreddit=u'Incels'),\n",
       " Row(subreddit=u'WahoosTipi'),\n",
       " Row(subreddit=u'kratom'),\n",
       " Row(subreddit=u'StarVStheForcesofEvil'),\n",
       " Row(subreddit=u'Persona5'),\n",
       " Row(subreddit=u'bestof'),\n",
       " Row(subreddit=u'headphones'),\n",
       " Row(subreddit=u'thelongdark'),\n",
       " Row(subreddit=u'starcraft'),\n",
       " Row(subreddit=u'Fallout'),\n",
       " Row(subreddit=u'Steam'),\n",
       " Row(subreddit=u'oddlysatisfying'),\n",
       " Row(subreddit=u'NewYorkMets'),\n",
       " Row(subreddit=u'tennis'),\n",
       " Row(subreddit=u'unpopularopinion'),\n",
       " Row(subreddit=u'AskEurope'),\n",
       " Row(subreddit=u'nosleep'),\n",
       " Row(subreddit=u'Watches'),\n",
       " Row(subreddit=u'Suomi'),\n",
       " Row(subreddit=u'AskThe_Donald'),\n",
       " Row(subreddit=u'NatureIsFuckingLit'),\n",
       " Row(subreddit=u'houston'),\n",
       " Row(subreddit=u'investing'),\n",
       " Row(subreddit=u'Tekken'),\n",
       " Row(subreddit=u'WorldofTanks'),\n",
       " Row(subreddit=u'cigars'),\n",
       " Row(subreddit=u'DCcomics'),\n",
       " Row(subreddit=u'Granblue_en'),\n",
       " Row(subreddit=u'SecretWorldLegends'),\n",
       " Row(subreddit=u'witcher'),\n",
       " Row(subreddit=u'DunderMifflin'),\n",
       " Row(subreddit=u'CapitalismVSocialism'),\n",
       " Row(subreddit=u'bicycling'),\n",
       " Row(subreddit=u'boston'),\n",
       " Row(subreddit=u'3Dprinting'),\n",
       " Row(subreddit=u'BitcoinAll'),\n",
       " Row(subreddit=u'harrypotter'),\n",
       " Row(subreddit=u'ClashOfClans'),\n",
       " Row(subreddit=u'thedivision'),\n",
       " Row(subreddit=u'uncensorednews'),\n",
       " Row(subreddit=u'Marvel'),\n",
       " Row(subreddit=u'Cricket'),\n",
       " Row(subreddit=u'Aquariums'),\n",
       " Row(subreddit=u'gatekeeping'),\n",
       " Row(subreddit=u'Pathfinder_RPG'),\n",
       " Row(subreddit=u'BokuNoHeroAcademia'),\n",
       " Row(subreddit=u'TheRedPill'),\n",
       " Row(subreddit=u'Pokemongiveaway'),\n",
       " Row(subreddit=u'airsoft'),\n",
       " Row(subreddit=u'forwardsfromgrandma'),\n",
       " Row(subreddit=u'MtvChallenge'),\n",
       " Row(subreddit=u'China'),\n",
       " Row(subreddit=u'NHLHUT'),\n",
       " Row(subreddit=u'preztest2'),\n",
       " Row(subreddit=u'StreetFighter'),\n",
       " Row(subreddit=u'horror'),\n",
       " Row(subreddit=u'factorio'),\n",
       " Row(subreddit=u'beyondthebump'),\n",
       " Row(subreddit=u'Shadowverse'),\n",
       " Row(subreddit=u'xxfitness'),\n",
       " Row(subreddit=u'Roadcam'),\n",
       " Row(subreddit=u'blogsnark'),\n",
       " Row(subreddit=u'ApplyingToCollege'),\n",
       " Row(subreddit=u'indonesia'),\n",
       " Row(subreddit=u'woahdude'),\n",
       " Row(subreddit=u'confession'),\n",
       " Row(subreddit=u'gadgets'),\n",
       " Row(subreddit=u'Atlanta'),\n",
       " Row(subreddit=u'playark'),\n",
       " Row(subreddit=u'uwaterloo'),\n",
       " Row(subreddit=u'h3h3productions'),\n",
       " Row(subreddit=u'premed'),\n",
       " Row(subreddit=u'mexico'),\n",
       " Row(subreddit=u'gardening'),\n",
       " Row(subreddit=u'NarutoBlazing'),\n",
       " Row(subreddit=u'Parenting'),\n",
       " Row(subreddit=u'UnresolvedMysteries'),\n",
       " Row(subreddit=u'dogs'),\n",
       " Row(subreddit=u'dating_advice'),\n",
       " Row(subreddit=u'Twitch'),\n",
       " Row(subreddit=u'discgolf'),\n",
       " Row(subreddit=u'startrek'),\n",
       " Row(subreddit=u'flying'),\n",
       " Row(subreddit=u'GalaxyS8'),\n",
       " Row(subreddit=u'writing'),\n",
       " Row(subreddit=u'linux'),\n",
       " Row(subreddit=u'Catholicism'),\n",
       " Row(subreddit=u'Brawlstars'),\n",
       " Row(subreddit=u'skyrimmods'),\n",
       " Row(subreddit=u'nyc'),\n",
       " Row(subreddit=u'cats'),\n",
       " Row(subreddit=u'jobs'),\n",
       " Row(subreddit=u'DNMUK'),\n",
       " Row(subreddit=u'Animemes'),\n",
       " Row(subreddit=u'Diablo'),\n",
       " Row(subreddit=u'Vaping'),\n",
       " Row(subreddit=u'fo4'),\n",
       " Row(subreddit=u'diablo3'),\n",
       " Row(subreddit=u'MonsterHunter'),\n",
       " Row(subreddit=u'elderscrollslegends'),\n",
       " Row(subreddit=u'talesfromtechsupport'),\n",
       " Row(subreddit=u'asktrp'),\n",
       " Row(subreddit=u'Entrepreneur'),\n",
       " Row(subreddit=u'halifax'),\n",
       " Row(subreddit=u'OverwatchUniversity'),\n",
       " Row(subreddit=u'roosterteeth'),\n",
       " Row(subreddit=u'Megaten'),\n",
       " Row(subreddit=u'Mcat'),\n",
       " Row(subreddit=u'Frugal'),\n",
       " Row(subreddit=u'britishproblems'),\n",
       " Row(subreddit=u'patientgamers'),\n",
       " Row(subreddit=u'FUTMobile')]"
      ]
     },
     "execution_count": 66,
     "metadata": {},
     "output_type": "execute_result"
    }
   ],
   "source": [
    "sqlContext.sql(\"\"\"select\n",
    "distinct subreddit\n",
    "from most_active\"\"\").collect()"
   ]
  },
  {
   "cell_type": "code",
   "execution_count": 16,
   "metadata": {
    "collapsed": false
   },
   "outputs": [
    {
     "data": {
      "text/plain": [
       "1"
      ]
     },
     "execution_count": 16,
     "metadata": {},
     "output_type": "execute_result"
    }
   ],
   "source": [
    "r.getNumPartitions()"
   ]
  },
  {
   "cell_type": "code",
   "execution_count": 43,
   "metadata": {
    "collapsed": false
   },
   "outputs": [
    {
     "data": {
      "text/html": [
       "<div style=\"max-height:1000px;max-width:1500px;overflow:auto;\">\n",
       "<table border=\"1\" class=\"dataframe\">\n",
       "  <thead>\n",
       "    <tr style=\"text-align: right;\">\n",
       "      <th></th>\n",
       "      <th>key</th>\n",
       "      <th>value</th>\n",
       "    </tr>\n",
       "  </thead>\n",
       "  <tbody>\n",
       "    <tr>\n",
       "      <th>0</th>\n",
       "      <td> spark.sql.shuffle.partitions</td>\n",
       "      <td> 4</td>\n",
       "    </tr>\n",
       "  </tbody>\n",
       "</table>\n",
       "<p>1 rows × 2 columns</p>\n",
       "</div>"
      ],
      "text/plain": [
       "                            key value\n",
       "0  spark.sql.shuffle.partitions     4\n",
       "\n",
       "[1 rows x 2 columns]"
      ]
     },
     "execution_count": 43,
     "metadata": {},
     "output_type": "execute_result"
    }
   ],
   "source": [
    "#sqlContext.sql(\"set spark.sql.shuffle.partitions=4\").toPandas()"
   ]
  },
  {
   "cell_type": "markdown",
   "metadata": {},
   "source": [
    "### Now initialize stuff"
   ]
  },
  {
   "cell_type": "code",
   "execution_count": 7,
   "metadata": {
    "collapsed": false
   },
   "outputs": [],
   "source": [
    "#json_uri = \"s3a://insight-ohoidn/sample3.json\"\n",
    "#json_uri = \"s3a://insight-ohoidn/sample10M.json\"\n",
    "json_uri = \"s3a://insight-ohoidn/RC_2017-08\"\n",
    "hdfs_prefix = \"hdfs://ip-10-0-0-4:9000\"\n",
    "numreddits = 5000\n",
    "user_min_active_subreddits = 8\n",
    "user_max_active_subreddits = 100\n",
    "default_partitions = 6"
   ]
  },
  {
   "cell_type": "code",
   "execution_count": 320,
   "metadata": {
    "collapsed": true
   },
   "outputs": [],
   "source": [
    "def datasource_hash():\n",
    "    return json_uri + str(numreddits) + str(user_min_active_subreddits) + str(user_max_active_subreddits)"
   ]
  },
  {
   "cell_type": "code",
   "execution_count": 8,
   "metadata": {
    "collapsed": false
   },
   "outputs": [],
   "source": [
    "load_and_preprocess(json_uri, numreddits,\n",
    "                    user_min_active_subreddits = user_min_active_subreddits,\n",
    "                    user_max_active_subreddits = user_max_active_subreddits)\n",
    "\n",
    "subreddit_mapper = dict(df_most_active_subreddits(numreddits)\\\n",
    "                        .rdd.map(lambda entry: (entry.ordered_id, entry.subreddit)).sortByKey().collect())\n",
    "idx_mapper = {v: k for k, v in subreddit_mapper.iteritems()}\n",
    "\n",
    "def idx_to_subreddit(idx):\n",
    "    return subreddit_mapper[idx + 1]\n",
    "\n",
    "def subreddit_to_idx(sub):\n",
    "    return idx_mapper[sub] - 1\n",
    "\n",
    "subreddit_to_idx.inverse = idx_to_subreddit\n",
    "idx_to_subreddit.inverse = subreddit_to_idx\n",
    "\n",
    "rows, tf_ij = gen_frequency_matrix()"
   ]
  },
  {
   "cell_type": "code",
   "execution_count": 52,
   "metadata": {
    "collapsed": false
   },
   "outputs": [
    {
     "data": {
      "text/plain": [
       "5472178"
      ]
     },
     "execution_count": 52,
     "metadata": {},
     "output_type": "execute_result"
    }
   ],
   "source": [
    "tf_ij.entries.count()"
   ]
  },
  {
   "cell_type": "code",
   "execution_count": 14,
   "metadata": {
    "collapsed": true
   },
   "outputs": [],
   "source": []
  },
  {
   "cell_type": "code",
   "execution_count": 38,
   "metadata": {
    "collapsed": false
   },
   "outputs": [
    {
     "data": {
      "text/plain": [
       "u'/home/ubuntu'"
      ]
     },
     "execution_count": 38,
     "metadata": {},
     "output_type": "execute_result"
    }
   ],
   "source": [
    "pwd"
   ]
  },
  {
   "cell_type": "code",
   "execution_count": 54,
   "metadata": {
    "collapsed": false,
    "scrolled": true
   },
   "outputs": [
    {
     "data": {
      "text/plain": [
       "2000L"
      ]
     },
     "execution_count": 54,
     "metadata": {},
     "output_type": "execute_result"
    }
   ],
   "source": [
    "tf_ij.numRows()"
   ]
  },
  {
   "cell_type": "code",
   "execution_count": 46,
   "metadata": {
    "collapsed": false
   },
   "outputs": [
    {
     "data": {
      "text/plain": [
       "2098083L"
      ]
     },
     "execution_count": 46,
     "metadata": {},
     "output_type": "execute_result"
    }
   ],
   "source": [
    "size"
   ]
  },
  {
   "cell_type": "code",
   "execution_count": 73,
   "metadata": {
    "collapsed": false
   },
   "outputs": [],
   "source": [
    "%run svd.py"
   ]
  },
  {
   "cell_type": "code",
   "execution_count": 93,
   "metadata": {
    "collapsed": true
   },
   "outputs": [],
   "source": [
    "from sparsesvd import sparsesvd as svd2"
   ]
  },
  {
   "cell_type": "code",
   "execution_count": 54,
   "metadata": {
    "collapsed": true
   },
   "outputs": [],
   "source": [
    "tups = list(enumerate(enumerate(range(20)))) +  list(enumerate(enumerate(range(20))))"
   ]
  },
  {
   "cell_type": "code",
   "execution_count": 57,
   "metadata": {
    "collapsed": false
   },
   "outputs": [],
   "source": [
    "tp = sc.parallelize(tups)"
   ]
  },
  {
   "cell_type": "code",
   "execution_count": 66,
   "metadata": {
    "collapsed": false
   },
   "outputs": [
    {
     "data": {
      "text/plain": [
       "[(0, 0), (0, 0)]"
      ]
     },
     "execution_count": 66,
     "metadata": {},
     "output_type": "execute_result"
    }
   ],
   "source": [
    "list(tp.groupByKey().collect()[0][1])"
   ]
  },
  {
   "cell_type": "code",
   "execution_count": 69,
   "metadata": {
    "collapsed": false
   },
   "outputs": [
    {
     "data": {
      "text/plain": [
       "[(1, (266, 3)), (1, (313, 2))]"
      ]
     },
     "execution_count": 69,
     "metadata": {},
     "output_type": "execute_result"
    }
   ],
   "source": [
    "rows.take(2)"
   ]
  },
  {
   "cell_type": "code",
   "execution_count": 74,
   "metadata": {
    "collapsed": true
   },
   "outputs": [],
   "source": [
    "size = tf_ij.numCols()\n",
    "vectors = rows.groupByKey().map(lambda tup: Vectors.sparse(size, list(tup[1])))"
   ]
  },
  {
   "cell_type": "code",
   "execution_count": 85,
   "metadata": {
    "collapsed": true
   },
   "outputs": [],
   "source": [
    "vectors = rows.groupByKey().map(lambda tup: Vectors(size, list(tup[1])))"
   ]
  },
  {
   "cell_type": "code",
   "execution_count": 86,
   "metadata": {
    "collapsed": false
   },
   "outputs": [],
   "source": [
    "mat = RowMatrix(vectors)"
   ]
  },
  {
   "cell_type": "code",
   "execution_count": 87,
   "metadata": {
    "collapsed": false
   },
   "outputs": [
    {
     "ename": "AttributeError",
     "evalue": "'RowMatrix' object has no attribute 'computeSVD'",
     "output_type": "error",
     "traceback": [
      "\u001b[1;31m---------------------------------------------------------------------------\u001b[0m",
      "\u001b[1;31mAttributeError\u001b[0m                            Traceback (most recent call last)",
      "\u001b[1;32m<ipython-input-87-f91e3d5cd2b6>\u001b[0m in \u001b[0;36m<module>\u001b[1;34m()\u001b[0m\n\u001b[1;32m----> 1\u001b[1;33m \u001b[0mdsvd\u001b[0m \u001b[1;33m=\u001b[0m \u001b[0mmat\u001b[0m\u001b[1;33m.\u001b[0m\u001b[0mcomputeSVD\u001b[0m\u001b[1;33m(\u001b[0m\u001b[1;36m500\u001b[0m\u001b[1;33m,\u001b[0m \u001b[0mcomputeU\u001b[0m\u001b[1;33m=\u001b[0m\u001b[0mTrue\u001b[0m\u001b[1;33m)\u001b[0m\u001b[1;33m\u001b[0m\u001b[0m\n\u001b[0m",
      "\u001b[1;31mAttributeError\u001b[0m: 'RowMatrix' object has no attribute 'computeSVD'"
     ]
    }
   ],
   "source": [
    "dsvd = mat.computeSVD(500, computeU=True)"
   ]
  },
  {
   "cell_type": "code",
   "execution_count": 293,
   "metadata": {
    "collapsed": false
   },
   "outputs": [],
   "source": [
    "bare_occurrences.write?"
   ]
  },
  {
   "cell_type": "code",
   "execution_count": 84,
   "metadata": {
    "collapsed": false
   },
   "outputs": [
    {
     "data": {
      "text/plain": [
       "'2.1.1+hadoop2.7'"
      ]
     },
     "execution_count": 84,
     "metadata": {},
     "output_type": "execute_result"
    }
   ],
   "source": [
    "pyspark.__version__"
   ]
  },
  {
   "cell_type": "code",
   "execution_count": 82,
   "metadata": {
    "collapsed": false
   },
   "outputs": [
    {
     "data": {
      "text/plain": [
       "4824L"
      ]
     },
     "execution_count": 82,
     "metadata": {},
     "output_type": "execute_result"
    }
   ],
   "source": [
    "mat.numRows()"
   ]
  },
  {
   "cell_type": "code",
   "execution_count": null,
   "metadata": {
    "collapsed": false
   },
   "outputs": [],
   "source": [
    "vectors = rows.map(lambda tup: (tup[0], [tup[1]])).reduceByKey(add).collect()"
   ]
  },
  {
   "cell_type": "code",
   "execution_count": 18,
   "metadata": {
    "collapsed": false
   },
   "outputs": [
    {
     "data": {
      "text/plain": [
       "4825L"
      ]
     },
     "execution_count": 18,
     "metadata": {},
     "output_type": "execute_result"
    }
   ],
   "source": [
    "tf_ij.numRows()"
   ]
  },
  {
   "cell_type": "code",
   "execution_count": 19,
   "metadata": {
    "collapsed": false
   },
   "outputs": [
    {
     "data": {
      "text/plain": [
       "833254L"
      ]
     },
     "execution_count": 19,
     "metadata": {},
     "output_type": "execute_result"
    }
   ],
   "source": [
    "tf_ij.numCols()"
   ]
  },
  {
   "cell_type": "code",
   "execution_count": 38,
   "metadata": {
    "collapsed": false
   },
   "outputs": [
    {
     "data": {
      "text/plain": [
       "4"
      ]
     },
     "execution_count": 38,
     "metadata": {},
     "output_type": "execute_result"
    }
   ],
   "source": [
    "tf_ij.entries.getNumPartitions()"
   ]
  },
  {
   "cell_type": "markdown",
   "metadata": {},
   "source": [
    "### Subreddit activity:"
   ]
  },
  {
   "cell_type": "code",
   "execution_count": 9,
   "metadata": {
    "collapsed": false
   },
   "outputs": [],
   "source": [
    "import linalg"
   ]
  },
  {
   "cell_type": "code",
   "execution_count": 10,
   "metadata": {
    "collapsed": false
   },
   "outputs": [],
   "source": [
    "bare_occurrences = sqlContext.sql(\"\"\"select * from bare_occurrences\"\"\").repartition(default_partitions)\n",
    "i_sumtally_tuples = bare_occurrences.rdd.map(lambda row: (row.ordered_id, abs(row.tally))).sortByKey()\\\n",
    ".reduceByKey(add)\n",
    "gf_i = CoordinateMatrix(i_sumtally_tuples.map(lambda entry: (entry[0] - 1, 0, entry[1])))\n",
    "\n",
    "\n",
    "nusers = tf_ij.numCols()\n",
    "\n",
    "p_ij = linalg.coordinate_matrix_elementwise_vector_division(tf_ij, gf_i)"
   ]
  },
  {
   "cell_type": "code",
   "execution_count": 13,
   "metadata": {
    "collapsed": false
   },
   "outputs": [],
   "source": [
    "# TODO figure out nan issues\n",
    "#p_ij_logp_ij = linalg.coordinateMatrixElementwise(p_ij, lambda elt: np.abs(elt) * np.log(np.abs(elt))/np.log(nusers))\n",
    "\n",
    "#g_i = linalg.coordinateMatrixAddConstant(linalg.coordinate_matrix_sumj(p_ij_logp_ij), 1.)\n",
    "\n",
    "#log_tf_ij = linalg.coordinateMatrixElementwise(tf_ij, lambda elt: elt * np.log(1 + np.abs(elt)))\n",
    "\n",
    "#a_ij = linalg.coordinatematrix_multiply_vector_elementwise(log_tf_ij, g_i)\n",
    "#entropy_i = coordinateMatrixElementwise(coordinate_matrix_sumj(logp_ij), lambda elt: elt + 1) # + 1, but this has to be handled separately to conserve matrix sparsity"
   ]
  },
  {
   "cell_type": "code",
   "execution_count": 28,
   "metadata": {
    "collapsed": false
   },
   "outputs": [],
   "source": [
    "an = np.array(a_ij.entries.map(lambda entry: entry.value).collect())"
   ]
  },
  {
   "cell_type": "code",
   "execution_count": 33,
   "metadata": {
    "collapsed": false
   },
   "outputs": [
    {
     "data": {
      "text/plain": [
       "7631400"
      ]
     },
     "execution_count": 33,
     "metadata": {},
     "output_type": "execute_result"
    }
   ],
   "source": [
    "a_ij.entries.count()"
   ]
  },
  {
   "cell_type": "code",
   "execution_count": 12,
   "metadata": {
    "collapsed": false
   },
   "outputs": [
    {
     "data": {
      "text/plain": [
       "0"
      ]
     },
     "execution_count": 12,
     "metadata": {},
     "output_type": "execute_result"
    }
   ],
   "source": [
    "np.sum(np.isnan(np.array(a_ij.entries.map(lambda entry: entry.value).collect())))"
   ]
  },
  {
   "cell_type": "markdown",
   "metadata": {},
   "source": [
    "### TODO: try entropy"
   ]
  },
  {
   "cell_type": "code",
   "execution_count": null,
   "metadata": {
    "collapsed": true
   },
   "outputs": [],
   "source": [
    "#p_ij_logp_ij = linalg.coordinateMatrixElementwise(p_ij, lambda elt: np.abs(elt) * np.log(np.abs(elt))/np.log(nusers))\n",
    "\n",
    "weight_i_sqrt = linalg.coordinateMatrixElementwise(\n",
    "    linalg.coordinate_matrix_sumj(\n",
    "        linalg.coordinateMatrixElementwise(tf_ij, lambda elt: elt * elt)),\n",
    "    lambda elt: 1./np.sqrt(elt))"
   ]
  },
  {
   "cell_type": "code",
   "execution_count": 23,
   "metadata": {
    "collapsed": false
   },
   "outputs": [],
   "source": [
    "weight_i = linalg.coordinateMatrixElementwise(\n",
    "    linalg.coordinate_matrix_sumj(\n",
    "        linalg.coordinateMatrixElementwise(p_ij, lambda elt: -abs(elt) * np.log(abs(elt)) / np.log(nusers))),\n",
    "    lambda elt: 1. + elt)\n",
    "\n",
    "#g_i = linalg.coordinateMatrixAddConstant(linalg.coordinate_matrix_sumj(p_ij_logp_ij), 1.)\n",
    "\n",
    "log_tf_ij = linalg.coordinateMatrixElementwise(tf_ij, lambda elt: np.log(1 + abs(elt)))\n",
    "\n",
    "a_ij = linalg.coordinatematrix_multiply_vector_elementwise(log_tf_ij, weight_i)\n",
    "#entropy_i = coordinateMatrixElementwise(coordinate_matrix_sumj(logp_ij), lambda elt: elt + 1) # + 1, but this has to be handled separately to conserve matrix sparsity"
   ]
  },
  {
   "cell_type": "code",
   "execution_count": 171,
   "metadata": {
    "collapsed": true
   },
   "outputs": [],
   "source": [
    "t_entries = sc.parallelize([MatrixEntry(0, 0, 1), MatrixEntry(2, 0, 1)])"
   ]
  },
  {
   "cell_type": "code",
   "execution_count": 172,
   "metadata": {
    "collapsed": true
   },
   "outputs": [],
   "source": [
    "cm = CoordinateMatrix(t_entries)"
   ]
  },
  {
   "cell_type": "code",
   "execution_count": 174,
   "metadata": {
    "collapsed": false
   },
   "outputs": [
    {
     "data": {
      "text/plain": [
       "1L"
      ]
     },
     "execution_count": 174,
     "metadata": {},
     "output_type": "execute_result"
    }
   ],
   "source": [
    "cm.numCols()"
   ]
  },
  {
   "cell_type": "code",
   "execution_count": 178,
   "metadata": {
    "collapsed": false,
    "scrolled": true
   },
   "outputs": [
    {
     "data": {
      "text/plain": [
       "2000L"
      ]
     },
     "execution_count": 178,
     "metadata": {},
     "output_type": "execute_result"
    }
   ],
   "source": [
    "tf_ij.numRows()"
   ]
  },
  {
   "cell_type": "code",
   "execution_count": 186,
   "metadata": {
    "collapsed": false
   },
   "outputs": [],
   "source": [
    "set2 = set(g_i.entries.map(lambda entry: entry.i).distinct().collect())"
   ]
  },
  {
   "cell_type": "code",
   "execution_count": 184,
   "metadata": {
    "collapsed": true
   },
   "outputs": [],
   "source": [
    "set1 = set(tf_ij.entries.map(lambda entry: entry.i).distinct().collect())"
   ]
  },
  {
   "cell_type": "code",
   "execution_count": 189,
   "metadata": {
    "collapsed": false
   },
   "outputs": [
    {
     "data": {
      "text/plain": [
       "1999"
      ]
     },
     "execution_count": 189,
     "metadata": {},
     "output_type": "execute_result"
    }
   ],
   "source": [
    "a_ij.entries.map(lambda entry: entry.i).distinct().count()"
   ]
  },
  {
   "cell_type": "code",
   "execution_count": 161,
   "metadata": {
    "collapsed": false
   },
   "outputs": [
    {
     "data": {
      "text/plain": [
       "354598L"
      ]
     },
     "execution_count": 161,
     "metadata": {},
     "output_type": "execute_result"
    }
   ],
   "source": [
    "tf_ij.numCols()"
   ]
  },
  {
   "cell_type": "code",
   "execution_count": 152,
   "metadata": {
    "collapsed": false
   },
   "outputs": [
    {
     "data": {
      "text/plain": [
       "[MatrixEntry(0, 14, -1.03349869227e-06),\n",
       " MatrixEntry(0, 30, -3.33088877597e-07),\n",
       " MatrixEntry(0, 66, -1.62489458268e-06),\n",
       " MatrixEntry(0, 89, -2.54582275764e-07),\n",
       " MatrixEntry(0, 95, -2.46455142761e-08),\n",
       " MatrixEntry(0, 140, -1.5221000875e-06),\n",
       " MatrixEntry(0, 189, -4.73772988391e-08),\n",
       " MatrixEntry(0, 209, nan),\n",
       " MatrixEntry(0, 226, -6.93867580806e-08),\n",
       " MatrixEntry(0, 258, -2.46455142761e-08)]"
      ]
     },
     "execution_count": 152,
     "metadata": {},
     "output_type": "execute_result"
    }
   ],
   "source": [
    "p_ij_logp_ij.entries.take(10)"
   ]
  },
  {
   "cell_type": "code",
   "execution_count": 15,
   "metadata": {
    "collapsed": true
   },
   "outputs": [],
   "source": [
    "%run cf_spark.py\n",
    "%run cf_numpy.py"
   ]
  },
  {
   "cell_type": "code",
   "execution_count": 122,
   "metadata": {
    "collapsed": true
   },
   "outputs": [],
   "source": [
    "import linalg"
   ]
  },
  {
   "cell_type": "code",
   "execution_count": 132,
   "metadata": {
    "collapsed": false
   },
   "outputs": [
    {
     "data": {
      "text/plain": [
       "<module 'linalg' from 'linalg.py'>"
      ]
     },
     "execution_count": 132,
     "metadata": {},
     "output_type": "execute_result"
    }
   ],
   "source": [
    "reload(linalg)"
   ]
  },
  {
   "cell_type": "code",
   "execution_count": 24,
   "metadata": {
    "collapsed": false,
    "scrolled": true
   },
   "outputs": [],
   "source": [
    "nda = linalg.coordinate_matrix_to_ndarr(tf_ij)"
   ]
  },
  {
   "cell_type": "code",
   "execution_count": 19,
   "metadata": {
    "collapsed": false
   },
   "outputs": [],
   "source": [
    "%run svd.py"
   ]
  },
  {
   "cell_type": "code",
   "execution_count": 47,
   "metadata": {
    "collapsed": false
   },
   "outputs": [
    {
     "data": {
      "text/plain": [
       "(4826, 2098083)"
      ]
     },
     "execution_count": 47,
     "metadata": {},
     "output_type": "execute_result"
    }
   ],
   "source": [
    "sparse_arr.shape"
   ]
  },
  {
   "cell_type": "code",
   "execution_count": 77,
   "metadata": {
    "collapsed": true
   },
   "outputs": [],
   "source": [
    "from pyspark.mllib.linalg.distributed import RowMatrix"
   ]
  },
  {
   "cell_type": "code",
   "execution_count": null,
   "metadata": {
    "collapsed": false
   },
   "outputs": [],
   "source": [
    "rows = tf_ij.entries.map(lambda entry: (entry.i, [(entry.j, entry.value)])).reduceByKey(add).collect()"
   ]
  },
  {
   "cell_type": "code",
   "execution_count": 14,
   "metadata": {
    "collapsed": false
   },
   "outputs": [],
   "source": [
    "%run svd.py"
   ]
  },
  {
   "cell_type": "code",
   "execution_count": 17,
   "metadata": {
    "collapsed": false
   },
   "outputs": [
    {
     "data": {
      "text/plain": [
       "4825L"
      ]
     },
     "execution_count": 17,
     "metadata": {},
     "output_type": "execute_result"
    }
   ],
   "source": [
    "a_ij.numRows()"
   ]
  },
  {
   "cell_type": "code",
   "execution_count": 24,
   "metadata": {
    "collapsed": false
   },
   "outputs": [],
   "source": [
    "#bare_occurrences = sqlContext.sql(\"\"\"select * from bare_occurrences\"\"\").repartition(default_partitions)\n",
    "#flat_coords = np.array(bare_occurrences.rdd.map(lambda row: (row.ordered_id, row.uid, row.tally)).collect())\n",
    "flat_coords = np.array(a_ij.entries.map(lambda row: (row.i, row.j, row.value)).collect())\n",
    "row_ind, col_ind, data = flat_coords.T\n",
    "sparse_arr = csr_matrix((data.astype('float32'), (row_ind, col_ind)))"
   ]
  },
  {
   "cell_type": "code",
   "execution_count": 270,
   "metadata": {
    "collapsed": true
   },
   "outputs": [
    {
     "ename": "MemoryError",
     "evalue": "",
     "output_type": "error",
     "traceback": [
      "\u001b[1;31m---------------------------------------------------------------------------\u001b[0m",
      "\u001b[1;31mMemoryError\u001b[0m                               Traceback (most recent call last)",
      "\u001b[1;32m<ipython-input-270-f05c97a7063f>\u001b[0m in \u001b[0;36m<module>\u001b[1;34m()\u001b[0m\n\u001b[1;32m----> 1\u001b[1;33m \u001b[0mvals\u001b[0m\u001b[1;33m,\u001b[0m \u001b[0msvc\u001b[0m \u001b[1;33m=\u001b[0m \u001b[0msvd_correlation_matrix\u001b[0m\u001b[1;33m(\u001b[0m\u001b[0msparse_arr\u001b[0m\u001b[1;33m,\u001b[0m \u001b[1;36m170\u001b[0m\u001b[1;33m,\u001b[0m \u001b[0mnormalize\u001b[0m\u001b[1;33m=\u001b[0m\u001b[0mFalse\u001b[0m\u001b[1;33m)\u001b[0m\u001b[1;33m\u001b[0m\u001b[0m\n\u001b[0m",
      "\u001b[1;32m/home/ubuntu/svd.py\u001b[0m in \u001b[0;36msvd_correlation_matrix\u001b[1;34m(arr, k, epsilon, normalize)\u001b[0m\n\u001b[0;32m     99\u001b[0m \u001b[1;33m\u001b[0m\u001b[0m\n\u001b[0;32m    100\u001b[0m \u001b[1;32mdef\u001b[0m \u001b[0msvd_correlation_matrix\u001b[0m\u001b[1;33m(\u001b[0m\u001b[0marr\u001b[0m\u001b[1;33m,\u001b[0m \u001b[0mk\u001b[0m \u001b[1;33m=\u001b[0m \u001b[1;36m100\u001b[0m\u001b[1;33m,\u001b[0m \u001b[0mepsilon\u001b[0m\u001b[1;33m=\u001b[0m\u001b[1;36m1e-9\u001b[0m\u001b[1;33m,\u001b[0m \u001b[0mnormalize\u001b[0m \u001b[1;33m=\u001b[0m \u001b[0mTrue\u001b[0m\u001b[1;33m)\u001b[0m\u001b[1;33m:\u001b[0m\u001b[1;33m\u001b[0m\u001b[0m\n\u001b[1;32m--> 101\u001b[1;33m     \u001b[0mU\u001b[0m\u001b[1;33m,\u001b[0m \u001b[0mS\u001b[0m\u001b[1;33m,\u001b[0m \u001b[0mVt\u001b[0m \u001b[1;33m=\u001b[0m \u001b[0mcomputeSVD\u001b[0m\u001b[1;33m(\u001b[0m\u001b[0mcsr_matrix\u001b[0m\u001b[1;33m(\u001b[0m\u001b[0marr\u001b[0m\u001b[1;33m)\u001b[0m\u001b[1;33m,\u001b[0m \u001b[0mk\u001b[0m\u001b[1;33m)\u001b[0m\u001b[1;33m\u001b[0m\u001b[0m\n\u001b[0m\u001b[0;32m    102\u001b[0m     \u001b[1;31m#lowrank_subs = np.dot(S, U.T)\u001b[0m\u001b[1;33m\u001b[0m\u001b[1;33m\u001b[0m\u001b[0m\n\u001b[0;32m    103\u001b[0m     \u001b[0mlowrank_subs\u001b[0m \u001b[1;33m=\u001b[0m \u001b[0mnp\u001b[0m\u001b[1;33m.\u001b[0m\u001b[0mdot\u001b[0m\u001b[1;33m(\u001b[0m\u001b[0mU\u001b[0m\u001b[1;33m,\u001b[0m \u001b[0mS\u001b[0m\u001b[1;33m)\u001b[0m\u001b[1;33m\u001b[0m\u001b[0m\n",
      "\u001b[1;32m/home/ubuntu/linalg.py\u001b[0m in \u001b[0;36mnew_f\u001b[1;34m(*args, **kwargs)\u001b[0m\n\u001b[0;32m     15\u001b[0m         \u001b[0mids\u001b[0m \u001b[1;33m=\u001b[0m \u001b[0mtuple\u001b[0m\u001b[1;33m(\u001b[0m\u001b[0mmap\u001b[0m\u001b[1;33m(\u001b[0m\u001b[0mid\u001b[0m\u001b[1;33m,\u001b[0m \u001b[0margs\u001b[0m\u001b[1;33m)\u001b[0m\u001b[1;33m)\u001b[0m \u001b[1;33m+\u001b[0m \u001b[0mtuple\u001b[0m\u001b[1;33m(\u001b[0m\u001b[0mmap\u001b[0m\u001b[1;33m(\u001b[0m\u001b[0mid\u001b[0m\u001b[1;33m,\u001b[0m \u001b[0mkwargs\u001b[0m\u001b[1;33m)\u001b[0m\u001b[1;33m)\u001b[0m\u001b[1;33m\u001b[0m\u001b[0m\n\u001b[0;32m     16\u001b[0m         \u001b[1;32mif\u001b[0m \u001b[0mids\u001b[0m \u001b[1;32mnot\u001b[0m \u001b[1;32min\u001b[0m \u001b[0mcache\u001b[0m\u001b[1;33m:\u001b[0m\u001b[1;33m\u001b[0m\u001b[0m\n\u001b[1;32m---> 17\u001b[1;33m             \u001b[0mcache\u001b[0m\u001b[1;33m[\u001b[0m\u001b[0mids\u001b[0m\u001b[1;33m]\u001b[0m \u001b[1;33m=\u001b[0m \u001b[0mf\u001b[0m\u001b[1;33m(\u001b[0m\u001b[1;33m*\u001b[0m\u001b[0margs\u001b[0m\u001b[1;33m,\u001b[0m \u001b[1;33m**\u001b[0m\u001b[0mkwargs\u001b[0m\u001b[1;33m)\u001b[0m\u001b[1;33m\u001b[0m\u001b[0m\n\u001b[0m\u001b[0;32m     18\u001b[0m         \u001b[1;32mreturn\u001b[0m \u001b[0mcache\u001b[0m\u001b[1;33m[\u001b[0m\u001b[0mids\u001b[0m\u001b[1;33m]\u001b[0m\u001b[1;33m\u001b[0m\u001b[0m\n\u001b[0;32m     19\u001b[0m     \u001b[1;32mreturn\u001b[0m \u001b[0mnew_f\u001b[0m\u001b[1;33m\u001b[0m\u001b[0m\n",
      "\u001b[1;32m/home/ubuntu/svd.py\u001b[0m in \u001b[0;36mcomputeSVD\u001b[1;34m(urm, K)\u001b[0m\n\u001b[0;32m     49\u001b[0m \u001b[1;33m@\u001b[0m\u001b[0mlinalg\u001b[0m\u001b[1;33m.\u001b[0m\u001b[0mmemo\u001b[0m\u001b[1;33m\u001b[0m\u001b[0m\n\u001b[0;32m     50\u001b[0m \u001b[1;32mdef\u001b[0m \u001b[0mcomputeSVD\u001b[0m\u001b[1;33m(\u001b[0m\u001b[0murm\u001b[0m\u001b[1;33m,\u001b[0m \u001b[0mK\u001b[0m\u001b[1;33m)\u001b[0m\u001b[1;33m:\u001b[0m\u001b[1;33m\u001b[0m\u001b[0m\n\u001b[1;32m---> 51\u001b[1;33m     \u001b[0mU\u001b[0m\u001b[1;33m,\u001b[0m \u001b[0ms\u001b[0m\u001b[1;33m,\u001b[0m \u001b[0mVt\u001b[0m \u001b[1;33m=\u001b[0m \u001b[0msparsesvd\u001b[0m\u001b[1;33m(\u001b[0m\u001b[0murm\u001b[0m\u001b[1;33m,\u001b[0m \u001b[0mK\u001b[0m\u001b[1;33m)\u001b[0m\u001b[1;33m\u001b[0m\u001b[0m\n\u001b[0m\u001b[0;32m     52\u001b[0m \u001b[1;33m\u001b[0m\u001b[0m\n\u001b[0;32m     53\u001b[0m     \u001b[0mdim\u001b[0m \u001b[1;33m=\u001b[0m \u001b[1;33m(\u001b[0m\u001b[0mlen\u001b[0m\u001b[1;33m(\u001b[0m\u001b[0ms\u001b[0m\u001b[1;33m)\u001b[0m\u001b[1;33m,\u001b[0m \u001b[0mlen\u001b[0m\u001b[1;33m(\u001b[0m\u001b[0ms\u001b[0m\u001b[1;33m)\u001b[0m\u001b[1;33m)\u001b[0m\u001b[1;33m\u001b[0m\u001b[0m\n",
      "\u001b[1;32m/usr/lib/python2.7/dist-packages/scipy/sparse/linalg/eigen/arpack/arpack.pyc\u001b[0m in \u001b[0;36msvds\u001b[1;34m(A, k, ncv, tol, which, v0, maxiter, return_singular_vectors)\u001b[0m\n\u001b[0;32m   1664\u001b[0m     \u001b[1;32melse\u001b[0m\u001b[1;33m:\u001b[0m\u001b[1;33m\u001b[0m\u001b[0m\n\u001b[0;32m   1665\u001b[0m         \u001b[0mu\u001b[0m \u001b[1;33m=\u001b[0m \u001b[0meigvec\u001b[0m\u001b[1;33m\u001b[0m\u001b[0m\n\u001b[1;32m-> 1666\u001b[1;33m         \u001b[0mvh\u001b[0m \u001b[1;33m=\u001b[0m \u001b[0mherm\u001b[0m\u001b[1;33m(\u001b[0m\u001b[0mX\u001b[0m\u001b[1;33m.\u001b[0m\u001b[0mdot\u001b[0m\u001b[1;33m(\u001b[0m\u001b[0mu\u001b[0m\u001b[1;33m)\u001b[0m \u001b[1;33m/\u001b[0m \u001b[0ms\u001b[0m\u001b[1;33m)\u001b[0m\u001b[1;33m\u001b[0m\u001b[0m\n\u001b[0m\u001b[0;32m   1667\u001b[0m \u001b[1;33m\u001b[0m\u001b[0m\n\u001b[0;32m   1668\u001b[0m     \u001b[1;32mreturn\u001b[0m \u001b[0mu\u001b[0m\u001b[1;33m,\u001b[0m \u001b[0ms\u001b[0m\u001b[1;33m,\u001b[0m \u001b[0mvh\u001b[0m\u001b[1;33m\u001b[0m\u001b[0m\n",
      "\u001b[1;31mMemoryError\u001b[0m: "
     ]
    }
   ],
   "source": [
    "vals, svc = svd_correlation_matrix(sparse_arr, 170, normalize=False)"
   ]
  },
  {
   "cell_type": "code",
   "execution_count": 21,
   "metadata": {
    "collapsed": false
   },
   "outputs": [],
   "source": [
    "vals2, svc2 = svd_correlation_matrix(sparse_arr, 500, normalize = True)"
   ]
  },
  {
   "cell_type": "code",
   "execution_count": 16,
   "metadata": {
    "collapsed": true
   },
   "outputs": [],
   "source": [
    "vals3, svc3 = svd_correlation_matrix(sparse_arr, 300, normalize = True)"
   ]
  },
  {
   "cell_type": "code",
   "execution_count": 31,
   "metadata": {
    "collapsed": true
   },
   "outputs": [],
   "source": [
    "vals4, svc4 = svd_correlation_matrix(sparse_arr, 150, normalize = True)"
   ]
  },
  {
   "cell_type": "code",
   "execution_count": 39,
   "metadata": {
    "collapsed": true
   },
   "outputs": [],
   "source": [
    "vals5, svc5 = svd_correlation_matrix(sparse_arr,300, normalize = False)"
   ]
  },
  {
   "cell_type": "code",
   "execution_count": 41,
   "metadata": {
    "collapsed": true
   },
   "outputs": [],
   "source": [
    "vals6, svc6 = svd_correlation_matrix(sparse_arr, 3, normalize = True)"
   ]
  },
  {
   "cell_type": "code",
   "execution_count": 25,
   "metadata": {
    "collapsed": true
   },
   "outputs": [],
   "source": [
    "vals7, svc7 = svd_correlation_matrix(sparse_arr, 300, normalize = True)"
   ]
  },
  {
   "cell_type": "code",
   "execution_count": 27,
   "metadata": {
    "collapsed": false
   },
   "outputs": [],
   "source": [
    "vals, svc = svd_correlation_matrix(sparse_arr, 75)"
   ]
  },
  {
   "cell_type": "code",
   "execution_count": 119,
   "metadata": {
    "collapsed": true
   },
   "outputs": [],
   "source": [
    "test_matrix = csr_matrix(np.array(\n",
    "                       [[0, 1, 0, 0, 0],\n",
    "                       [0, 0, 1, 1, 0],\n",
    "                       [0, 0, 1, 1, 0],\n",
    "                       [0, 2, .5, 0, 0]]), dtype = 'float32')"
   ]
  },
  {
   "cell_type": "code",
   "execution_count": 120,
   "metadata": {
    "collapsed": false
   },
   "outputs": [],
   "source": [
    "a, b = svd_correlation_matrix(test_matrix, 2)"
   ]
  },
  {
   "cell_type": "code",
   "execution_count": 121,
   "metadata": {
    "collapsed": false
   },
   "outputs": [
    {
     "name": "stdout",
     "output_type": "stream",
     "text": [
      "[[ 1.         -0.07949956 -0.07949942  0.98295999]\n",
      " [-0.07949957  1.          0.99999994  0.10509278]\n",
      " [-0.07949942  0.99999994  1.          0.10509291]\n",
      " [ 0.98295999  0.10509279  0.10509291  1.        ]]\n"
     ]
    }
   ],
   "source": [
    "print b"
   ]
  },
  {
   "cell_type": "code",
   "execution_count": 46,
   "metadata": {
    "collapsed": false
   },
   "outputs": [
    {
     "data": {
      "text/plain": [
       "[u'LinkinPark',\n",
       " u'leagueoflegends',\n",
       " u'IdiotsFightingThings',\n",
       " u'SupersRP',\n",
       " u'NBASpurs',\n",
       " u'UniversityOfHouston',\n",
       " u'panthers',\n",
       " u'ROCD',\n",
       " u'ChildrenFallingOver',\n",
       " u'SuicideWatch']"
      ]
     },
     "execution_count": 46,
     "metadata": {},
     "output_type": "execute_result"
    }
   ],
   "source": [
    "[idx_to_subreddit(x) for x in np.argsort(svc[subreddit_to_idx(''),:])[:-10-1:-1]]"
   ]
  },
  {
   "cell_type": "code",
   "execution_count": 291,
   "metadata": {
    "collapsed": false
   },
   "outputs": [
    {
     "data": {
      "text/plain": [
       "[u'anime',\n",
       " u'Animemes',\n",
       " u'manga',\n",
       " u'anime_irl',\n",
       " u'Overwatch',\n",
       " u'OnePiece',\n",
       " u'ftfanime',\n",
       " u'polandball',\n",
       " u'gameofthrones',\n",
       " u'AskReddit',\n",
       " u'FireEmblemHeroes',\n",
       " u'grandorder',\n",
       " u'worldnews',\n",
       " u'facepalm',\n",
       " u'Naruto',\n",
       " u'nfl',\n",
       " u'eu4',\n",
       " u'DotA2',\n",
       " u'leagueoflegends',\n",
       " u'BokuNoHeroAcademia']"
      ]
     },
     "execution_count": 291,
     "metadata": {},
     "output_type": "execute_result"
    }
   ],
   "source": [
    "[idx_to_subreddit(x) for x in np.argsort(svc[subreddit_to_idx('anime'),:])[:-20-1:-1]]"
   ]
  },
  {
   "cell_type": "code",
   "execution_count": 38,
   "metadata": {
    "collapsed": false
   },
   "outputs": [
    {
     "data": {
      "text/plain": [
       "[u'ForeverAlone',\n",
       " u'RightwingLGBT',\n",
       " u'cormacmccarthy',\n",
       " u'farcry',\n",
       " u'BreakUps',\n",
       " u'GalaxyS7',\n",
       " u'Audi',\n",
       " u'socialanxiety',\n",
       " u'OtogiSSA',\n",
       " u'discordapp',\n",
       " u'ImagesOfCalifornia',\n",
       " u'Skullgirls',\n",
       " u'FreeKarma4You',\n",
       " u'DebateAltRight',\n",
       " u'PeopleBeingJerks',\n",
       " u'arresteddevelopment',\n",
       " u'IncelReddit',\n",
       " u'CSURams',\n",
       " u'LazyMan',\n",
       " u'Miitopia']"
      ]
     },
     "execution_count": 38,
     "metadata": {},
     "output_type": "execute_result"
    }
   ],
   "source": [
    "[idx_to_subreddit(x) for x in np.argsort(svc2[subreddit_to_idx('ForeverAlone'),:])[:-20-1:-1]]"
   ]
  },
  {
   "cell_type": "code",
   "execution_count": 22,
   "metadata": {
    "collapsed": false
   },
   "outputs": [
    {
     "data": {
      "text/plain": [
       "[u'Showerthoughts',\n",
       " u'sissyhypno',\n",
       " u'MurderedByWords',\n",
       " u'Roast_Me',\n",
       " u'HelloInternet',\n",
       " u'cincinnati',\n",
       " u'ESOGuilds',\n",
       " u'ToolBand',\n",
       " u'Presetbay',\n",
       " u'Starcitizen_trades',\n",
       " u'Infinitewarfare',\n",
       " u'PickUpTorrents',\n",
       " u'EverythingScience',\n",
       " u'civ5',\n",
       " u'shittyadvice',\n",
       " u'sips',\n",
       " u'TryingForABaby',\n",
       " u'2healthbars',\n",
       " u'LofiHipHop',\n",
       " u'vainglorygame']"
      ]
     },
     "execution_count": 22,
     "metadata": {},
     "output_type": "execute_result"
    }
   ],
   "source": [
    "[idx_to_subreddit(x) for x in np.argsort(svc3[subreddit_to_idx('Showerthoughts'),:])[:-20-1:-1]]"
   ]
  },
  {
   "cell_type": "code",
   "execution_count": 73,
   "metadata": {
    "collapsed": false
   },
   "outputs": [
    {
     "data": {
      "text/plain": [
       "[u'MDMA',\n",
       " u'researchchemicals',\n",
       " u'RCSources',\n",
       " u'DankNation',\n",
       " u'Drugs',\n",
       " u'DarkNetMarkets',\n",
       " u'AsiaTripper',\n",
       " u'drugscirclejerk',\n",
       " u'phenibut',\n",
       " u'Dream_Market',\n",
       " u'1P_LSD',\n",
       " u'shrooms',\n",
       " u'DrugStashes',\n",
       " u'EU_RCSources',\n",
       " u'Angular2',\n",
       " u'moomooio',\n",
       " u'FinalFantasyXII',\n",
       " u'benzodiazepines',\n",
       " u'Fraudnet2',\n",
       " u'Etizolam']"
      ]
     },
     "execution_count": 73,
     "metadata": {},
     "output_type": "execute_result"
    }
   ],
   "source": [
    "[idx_to_subreddit(x) for x in np.argsort(svc3[subreddit_to_idx('MDMA'),:])[:-20-1:-1]]"
   ]
  },
  {
   "cell_type": "code",
   "execution_count": 36,
   "metadata": {
    "collapsed": false
   },
   "outputs": [
    {
     "data": {
      "text/plain": [
       "[u'ForeverAlone',\n",
       " u'RightwingLGBT',\n",
       " u'JordanPeterson',\n",
       " u'AskThe_Donald',\n",
       " u'The_Donald',\n",
       " u'tucker_carlson',\n",
       " u'IncelReddit',\n",
       " u'BPDlovedones',\n",
       " u'CSURams',\n",
       " u'nflstreams',\n",
       " u'DebateAltRight',\n",
       " u'POLITIC',\n",
       " u'metacanada',\n",
       " u'marriedredpill',\n",
       " u'privacy',\n",
       " u'MiniDayZ',\n",
       " u'ElitePS',\n",
       " u'Narcolepsy',\n",
       " u'Incels',\n",
       " u'CastleClash']"
      ]
     },
     "execution_count": 36,
     "metadata": {},
     "output_type": "execute_result"
    }
   ],
   "source": [
    "[idx_to_subreddit(x) for x in np.argsort(svc4[subreddit_to_idx('ForeverAlone'),:])[:-20-1:-1]]"
   ]
  },
  {
   "cell_type": "code",
   "execution_count": 40,
   "metadata": {
    "collapsed": false
   },
   "outputs": [
    {
     "data": {
      "text/plain": [
       "[u'ForeverAlone',\n",
       " u'Incels',\n",
       " u'RightwingLGBT',\n",
       " u'IncelTears',\n",
       " u'IncelReddit',\n",
       " u'truerateme',\n",
       " u'The_Donald',\n",
       " u'arresteddevelopment',\n",
       " u'dbz',\n",
       " u'childfree',\n",
       " u'MEIOUandTaxes',\n",
       " u'badwomensanatomy',\n",
       " u'askgaybros',\n",
       " u'PurplePillDebate',\n",
       " u'GalaxyS7',\n",
       " u'ProtectAndServe',\n",
       " u'amiugly',\n",
       " u'DotA2',\n",
       " u'AskMen',\n",
       " u'coys']"
      ]
     },
     "execution_count": 40,
     "metadata": {},
     "output_type": "execute_result"
    }
   ],
   "source": [
    "[idx_to_subreddit(x) for x in np.argsort(svc5[subreddit_to_idx('ForeverAlone'),:])[:-20-1:-1]]"
   ]
  },
  {
   "cell_type": "code",
   "execution_count": 65,
   "metadata": {
    "collapsed": false
   },
   "outputs": [
    {
     "data": {
      "text/plain": [
       "[u'aww',\n",
       " u'funny',\n",
       " u'todayilearned',\n",
       " u'watchpeopledie',\n",
       " u'GetMotivated',\n",
       " u'mildlyinteresting',\n",
       " u'pics',\n",
       " u'news',\n",
       " u'OldSchoolCool',\n",
       " u'Futurology',\n",
       " u'Jokes',\n",
       " u'science',\n",
       " u'ImagesOfNewYork',\n",
       " u'TwoXChromosomes',\n",
       " u'videos',\n",
       " u'sports',\n",
       " u'ants',\n",
       " u'UpliftingNews',\n",
       " u'gaming',\n",
       " u'nottheonion']"
      ]
     },
     "execution_count": 65,
     "metadata": {},
     "output_type": "execute_result"
    }
   ],
   "source": [
    "[idx_to_subreddit(x) for x in np.argsort(svc6[subreddit_to_idx('aww'),:])[:-20-1:-1]]"
   ]
  },
  {
   "cell_type": "code",
   "execution_count": 33,
   "metadata": {
    "collapsed": false
   },
   "outputs": [
    {
     "data": {
      "text/plain": [
       "[u'electronicmusic',\n",
       " u'edmproduction',\n",
       " u'WeAreTheMusicMakers',\n",
       " u'vinyl',\n",
       " u'trap',\n",
       " u'audioengineering',\n",
       " u'ableton',\n",
       " u'Jazz',\n",
       " u'DJs',\n",
       " u'synthesizers',\n",
       " u'LetsTalkMusic',\n",
       " u'HVAC',\n",
       " u'baltimore',\n",
       " u'ContestOfChampionsLFG',\n",
       " u'spotify',\n",
       " u'Psychonaut',\n",
       " u'musictheory',\n",
       " u'KGATLW',\n",
       " u'Meditation',\n",
       " u'FL_Studio']"
      ]
     },
     "execution_count": 33,
     "metadata": {},
     "output_type": "execute_result"
    }
   ],
   "source": [
    "[idx_to_subreddit(x) for x in np.argsort(svc7[subreddit_to_idx('electronicmusic'),:])[:-20-1:-1]]"
   ]
  },
  {
   "cell_type": "code",
   "execution_count": 28,
   "metadata": {
    "collapsed": false
   },
   "outputs": [
    {
     "data": {
      "text/plain": [
       "[u'wow',\n",
       " u'CompetitiveWoW',\n",
       " u'SubaruForester',\n",
       " u'AirBnB',\n",
       " u'TrueSTL',\n",
       " u'fakehistoryporn',\n",
       " u'behindthegifs',\n",
       " u'copypasta',\n",
       " u'asianminivans',\n",
       " u'ImaginaryBehemoths',\n",
       " u'EngageMetv',\n",
       " u'rccars',\n",
       " u'heroesofthestorm',\n",
       " u'coaxedintoasnafu',\n",
       " u'Awesomenauts',\n",
       " u'ColoradoAvalanche',\n",
       " u'trebuchetmemes',\n",
       " u'Hydroponics',\n",
       " u'MicrosoftBand',\n",
       " u'AnimalsWithoutNecks']"
      ]
     },
     "execution_count": 28,
     "metadata": {},
     "output_type": "execute_result"
    }
   ],
   "source": [
    "[idx_to_subreddit(x) for x in np.argsort(svc2[subreddit_to_idx('wow'),:])[:-20-1:-1]]"
   ]
  },
  {
   "cell_type": "code",
   "execution_count": 297,
   "metadata": {
    "collapsed": false
   },
   "outputs": [
    {
     "data": {
      "text/plain": [
       "100"
      ]
     },
     "execution_count": 297,
     "metadata": {},
     "output_type": "execute_result"
    }
   ],
   "source": [
    "len(vals2)"
   ]
  },
  {
   "cell_type": "code",
   "execution_count": 298,
   "metadata": {
    "collapsed": false
   },
   "outputs": [
    {
     "data": {
      "text/plain": [
       "[u'anime',\n",
       " u'Animemes',\n",
       " u'manga',\n",
       " u'anime_irl',\n",
       " u'Overwatch',\n",
       " u'OnePiece',\n",
       " u'ftfanime',\n",
       " u'polandball',\n",
       " u'gameofthrones',\n",
       " u'AskReddit',\n",
       " u'FireEmblemHeroes',\n",
       " u'grandorder',\n",
       " u'worldnews',\n",
       " u'facepalm',\n",
       " u'Naruto',\n",
       " u'nfl',\n",
       " u'eu4',\n",
       " u'DotA2',\n",
       " u'leagueoflegends',\n",
       " u'BokuNoHeroAcademia']"
      ]
     },
     "execution_count": 298,
     "metadata": {},
     "output_type": "execute_result"
    }
   ],
   "source": [
    "[idx_to_subreddit(x) for x in np.argsort(svc[subreddit_to_idx('anime'),:])[:-20-1:-1]]"
   ]
  },
  {
   "cell_type": "code",
   "execution_count": 285,
   "metadata": {
    "collapsed": false
   },
   "outputs": [
    {
     "name": "stdout",
     "output_type": "stream",
     "text": [
      "26 391\n"
     ]
    }
   ],
   "source": [
    "print subreddit_to_idx('anime'), subreddit_to_idx('boston')"
   ]
  },
  {
   "cell_type": "code",
   "execution_count": 286,
   "metadata": {
    "collapsed": false
   },
   "outputs": [
    {
     "data": {
      "text/plain": [
       "[u'anime',\n",
       " u'ftfanime',\n",
       " u'fatestaynight',\n",
       " u'visualnovels',\n",
       " u'swordartonline',\n",
       " u'RPGStuck',\n",
       " u'Animesuggest',\n",
       " u'Animemes',\n",
       " u'MemoryDefrag',\n",
       " u'anime_irl',\n",
       " u'grandorder',\n",
       " u'OnePiece',\n",
       " u'kancolle',\n",
       " u'Naruto',\n",
       " u'SchoolIdolFestival',\n",
       " u'Persona5',\n",
       " u'manga',\n",
       " u'Gundam',\n",
       " u'BokuNoHeroAcademia',\n",
       " u'PvZHeroes']"
      ]
     },
     "execution_count": 286,
     "metadata": {},
     "output_type": "execute_result"
    }
   ],
   "source": [
    "[idx_to_subreddit(x) for x in np.argsort(svc2[subreddit_to_idx('anime'),:])[:-20-1:-1]]"
   ]
  },
  {
   "cell_type": "code",
   "execution_count": 284,
   "metadata": {
    "collapsed": false
   },
   "outputs": [
    {
     "data": {
      "text/plain": [
       "[u'boston',\n",
       " u'TrumpCriticizesTrump',\n",
       " u'Nexus6P',\n",
       " u'politics',\n",
       " u'LosAngeles',\n",
       " u'photocritique',\n",
       " u'Judaism',\n",
       " u'TickTockManitowoc',\n",
       " u'NorthCarolina',\n",
       " u'leafs',\n",
       " u'BitcoinMarkets',\n",
       " u'mattcolville',\n",
       " u'ipad',\n",
       " u'baltimore',\n",
       " u'CarAV',\n",
       " u'homestuck',\n",
       " u'ShinyPokemon',\n",
       " u'FanTheories',\n",
       " u'friendsafari',\n",
       " u'StLouis']"
      ]
     },
     "execution_count": 284,
     "metadata": {},
     "output_type": "execute_result"
    }
   ],
   "source": [
    "[idx_to_subreddit(x) for x in np.argsort(svc2[subreddit_to_idx('boston'),:])[:-20-1:-1]]"
   ]
  },
  {
   "cell_type": "code",
   "execution_count": 272,
   "metadata": {
    "collapsed": false
   },
   "outputs": [
    {
     "data": {
      "text/plain": [
       "[u'politics',\n",
       " u'Dream_Market',\n",
       " u'friendsafari',\n",
       " u'CarAV',\n",
       " u'BitcoinMarkets',\n",
       " u'PuzzleAndDragons',\n",
       " u'Glocks',\n",
       " u'sanfrancisco',\n",
       " u'thelongdark',\n",
       " u'learnmath',\n",
       " u'Kanye',\n",
       " u'AskNYC',\n",
       " u'Nexus6P',\n",
       " u'California',\n",
       " u'medicalschool',\n",
       " u'aznidentity',\n",
       " u'MrRobot',\n",
       " u'TheNewRight',\n",
       " u'Lollapalooza',\n",
       " u'boston']"
      ]
     },
     "execution_count": 272,
     "metadata": {},
     "output_type": "execute_result"
    }
   ],
   "source": [
    "[idx_to_subreddit(x) for x in np.argsort(svc2[subreddit_to_idx('politics'),:])[:-20-1:-1]]"
   ]
  },
  {
   "cell_type": "code",
   "execution_count": 104,
   "metadata": {
    "collapsed": false
   },
   "outputs": [
    {
     "data": {
      "text/plain": [
       "[u'Games',\n",
       " u'motorcycles',\n",
       " u'funkopop',\n",
       " u'Mariners',\n",
       " u'oculus',\n",
       " u'AFL',\n",
       " u'churning',\n",
       " u'keto',\n",
       " u'Sneakers',\n",
       " u'opiates']"
      ]
     },
     "execution_count": 104,
     "metadata": {},
     "output_type": "execute_result"
    }
   ],
   "source": [
    "[idx_to_subreddit(x) for x in np.argsort(svc[subreddit_to_idx('Games'),:])[:-10-1:-1]]"
   ]
  },
  {
   "cell_type": "code",
   "execution_count": 122,
   "metadata": {
    "collapsed": true
   },
   "outputs": [
    {
     "data": {
      "text/plain": [
       "[u'The_Donald',\n",
       " u'AskThe_Donald',\n",
       " u'milliondollarextreme',\n",
       " u'AskTrumpSupporters',\n",
       " u'Warhammer40k',\n",
       " u'ContestOfChampions',\n",
       " u'uncensorednews',\n",
       " u'albiononline',\n",
       " u'asktrp',\n",
       " u'Tekken']"
      ]
     },
     "execution_count": 122,
     "metadata": {},
     "output_type": "execute_result"
    }
   ],
   "source": [
    "vals, svc = svd_correlation_matrix(nda, 500)\n",
    "[idx_to_subreddit(x) for x in np.argsort(svc[subreddit_to_idx('The_Donald'),:])[:-10-1:-1]]"
   ]
  },
  {
   "cell_type": "code",
   "execution_count": 117,
   "metadata": {
    "collapsed": false
   },
   "outputs": [
    {
     "data": {
      "text/plain": [
       "[u'The_Donald',\n",
       " u'AskTrumpSupporters',\n",
       " u'AskThe_Donald',\n",
       " u'milliondollarextreme',\n",
       " u'Warhammer40k',\n",
       " u'bjj',\n",
       " u'btc',\n",
       " u'ethtrader',\n",
       " u'Libertarian',\n",
       " u'Conservative']"
      ]
     },
     "execution_count": 117,
     "metadata": {},
     "output_type": "execute_result"
    }
   ],
   "source": [
    "vals, svc = svd_correlation_matrix(nda, 100)\n",
    "[idx_to_subreddit(x) for x in np.argsort(svc[subreddit_to_idx('The_Donald'),:])[:-10-1:-1]]"
   ]
  },
  {
   "cell_type": "code",
   "execution_count": 118,
   "metadata": {
    "collapsed": false
   },
   "outputs": [
    {
     "data": {
      "text/plain": [
       "[u'The_Donald',\n",
       " u'AskTrumpSupporters',\n",
       " u'AskThe_Donald',\n",
       " u'Warhammer40k',\n",
       " u'uncensorednews',\n",
       " u'milliondollarextreme',\n",
       " u'ContestOfChampions',\n",
       " u'TheRedPill',\n",
       " u'bjj',\n",
       " u'Advice']"
      ]
     },
     "execution_count": 118,
     "metadata": {},
     "output_type": "execute_result"
    }
   ],
   "source": [
    "vals, svc = svd_correlation_matrix(nda, 200)\n",
    "[idx_to_subreddit(x) for x in np.argsort(svc[subreddit_to_idx('The_Donald'),:])[:-10-1:-1]]"
   ]
  },
  {
   "cell_type": "code",
   "execution_count": 119,
   "metadata": {
    "collapsed": false
   },
   "outputs": [
    {
     "data": {
      "text/plain": [
       "[u'The_Donald',\n",
       " u'AskTrumpSupporters',\n",
       " u'AskThe_Donald',\n",
       " u'ContestOfChampions',\n",
       " u'4chan4trump',\n",
       " u'Watches',\n",
       " u'albiononline',\n",
       " u'Warhammer40k',\n",
       " u'NoMansSkyTheGame',\n",
       " u'Advice']"
      ]
     },
     "execution_count": 119,
     "metadata": {},
     "output_type": "execute_result"
    }
   ],
   "source": [
    "vals, svc = svd_correlation_matrix(nda, 300)\n",
    "[idx_to_subreddit(x) for x in np.argsort(svc[subreddit_to_idx('The_Donald'),:])[:-10-1:-1]]"
   ]
  },
  {
   "cell_type": "code",
   "execution_count": 130,
   "metadata": {
    "collapsed": false
   },
   "outputs": [
    {
     "data": {
      "text/plain": [
       "[u'The_Donald',\n",
       " u'thedivision',\n",
       " u'Whatcouldgowrong',\n",
       " u'CringeAnarchy',\n",
       " u'AskThe_Donald',\n",
       " u'AskTrumpSupporters',\n",
       " u'sadcringe',\n",
       " u'FreeKarma4You',\n",
       " u'conspiracy',\n",
       " u'SquaredCircle']"
      ]
     },
     "execution_count": 130,
     "metadata": {},
     "output_type": "execute_result"
    }
   ],
   "source": [
    "vals, svc = svd_correlation_matrix(nda, 470)\n",
    "[idx_to_subreddit(x) for x in np.argsort(svc[subreddit_to_idx('The_Donald'),:])[:-10-1:-1]]"
   ]
  },
  {
   "cell_type": "code",
   "execution_count": 78,
   "metadata": {
    "collapsed": false
   },
   "outputs": [
    {
     "data": {
      "text/plain": [
       "[u'The_Donald',\n",
       " u'funkopop',\n",
       " u'fakeid',\n",
       " u'blackdesertonline',\n",
       " u'streetwear',\n",
       " u'oculus',\n",
       " u'sysadmin',\n",
       " u'funny',\n",
       " u'Mariners',\n",
       " u'worldnews']"
      ]
     },
     "execution_count": 78,
     "metadata": {},
     "output_type": "execute_result"
    }
   ],
   "source": [
    "[idx_to_subreddit(x) for x in np.argsort(svc[subreddit_to_idx('The_Donald'),:])[:-10-1:-1]]"
   ]
  },
  {
   "cell_type": "markdown",
   "metadata": {},
   "source": [
    "### numpy implementation:"
   ]
  },
  {
   "cell_type": "code",
   "execution_count": 17,
   "metadata": {
    "collapsed": true
   },
   "outputs": [
    {
     "ename": "Py4JJavaError",
     "evalue": "An error occurred while calling z:org.apache.spark.api.python.PythonRDD.runJob.\n: org.apache.spark.SparkException: Job aborted due to stage failure: Task 17 in stage 259.0 failed 4 times, most recent failure: Lost task 17.3 in stage 259.0 (TID 3030, 10.0.0.11, executor 1): java.net.SocketException: Connection reset\n\tat java.net.SocketInputStream.read(SocketInputStream.java:209)\n\tat java.net.SocketInputStream.read(SocketInputStream.java:141)\n\tat java.io.BufferedInputStream.fill(BufferedInputStream.java:246)\n\tat java.io.BufferedInputStream.read(BufferedInputStream.java:265)\n\tat java.io.DataInputStream.readInt(DataInputStream.java:387)\n\tat org.apache.spark.api.python.PythonRunner$$anon$1.read(PythonRDD.scala:166)\n\tat org.apache.spark.api.python.PythonRunner$$anon$1.<init>(PythonRDD.scala:234)\n\tat org.apache.spark.api.python.PythonRunner.compute(PythonRDD.scala:152)\n\tat org.apache.spark.api.python.PythonRDD.compute(PythonRDD.scala:63)\n\tat org.apache.spark.rdd.RDD.computeOrReadCheckpoint(RDD.scala:323)\n\tat org.apache.spark.rdd.RDD.iterator(RDD.scala:287)\n\tat org.apache.spark.rdd.MapPartitionsRDD.compute(MapPartitionsRDD.scala:38)\n\tat org.apache.spark.rdd.RDD.computeOrReadCheckpoint(RDD.scala:323)\n\tat org.apache.spark.rdd.RDD.iterator(RDD.scala:287)\n\tat org.apache.spark.rdd.MapPartitionsRDD.compute(MapPartitionsRDD.scala:38)\n\tat org.apache.spark.rdd.RDD.computeOrReadCheckpoint(RDD.scala:323)\n\tat org.apache.spark.rdd.RDD.iterator(RDD.scala:287)\n\tat org.apache.spark.rdd.MapPartitionsRDD.compute(MapPartitionsRDD.scala:38)\n\tat org.apache.spark.rdd.RDD.computeOrReadCheckpoint(RDD.scala:323)\n\tat org.apache.spark.rdd.RDD.iterator(RDD.scala:287)\n\tat org.apache.spark.rdd.MapPartitionsRDD.compute(MapPartitionsRDD.scala:38)\n\tat org.apache.spark.rdd.RDD.computeOrReadCheckpoint(RDD.scala:323)\n\tat org.apache.spark.rdd.RDD.iterator(RDD.scala:287)\n\tat org.apache.spark.rdd.MapPartitionsRDD.compute(MapPartitionsRDD.scala:38)\n\tat org.apache.spark.rdd.RDD.computeOrReadCheckpoint(RDD.scala:323)\n\tat org.apache.spark.rdd.RDD.iterator(RDD.scala:287)\n\tat org.apache.spark.rdd.MapPartitionsRDD.compute(MapPartitionsRDD.scala:38)\n\tat org.apache.spark.rdd.RDD.computeOrReadCheckpoint(RDD.scala:323)\n\tat org.apache.spark.rdd.RDD.iterator(RDD.scala:287)\n\tat org.apache.spark.rdd.MapPartitionsRDD.compute(MapPartitionsRDD.scala:38)\n\tat org.apache.spark.rdd.RDD.computeOrReadCheckpoint(RDD.scala:323)\n\tat org.apache.spark.rdd.RDD.iterator(RDD.scala:287)\n\tat org.apache.spark.rdd.MapPartitionsRDD.compute(MapPartitionsRDD.scala:38)\n\tat org.apache.spark.rdd.RDD.computeOrReadCheckpoint(RDD.scala:323)\n\tat org.apache.spark.rdd.RDD.iterator(RDD.scala:287)\n\tat org.apache.spark.rdd.MapPartitionsRDD.compute(MapPartitionsRDD.scala:38)\n\tat org.apache.spark.rdd.RDD.computeOrReadCheckpoint(RDD.scala:323)\n\tat org.apache.spark.rdd.RDD.iterator(RDD.scala:287)\n\tat org.apache.spark.rdd.MapPartitionsRDD.compute(MapPartitionsRDD.scala:38)\n\tat org.apache.spark.rdd.RDD.computeOrReadCheckpoint(RDD.scala:323)\n\tat org.apache.spark.rdd.RDD.iterator(RDD.scala:287)\n\tat org.apache.spark.rdd.MapPartitionsRDD.compute(MapPartitionsRDD.scala:38)\n\tat org.apache.spark.rdd.RDD.computeOrReadCheckpoint(RDD.scala:323)\n\tat org.apache.spark.rdd.RDD.iterator(RDD.scala:287)\n\tat org.apache.spark.api.python.PythonRDD.compute(PythonRDD.scala:63)\n\tat org.apache.spark.rdd.RDD.computeOrReadCheckpoint(RDD.scala:323)\n\tat org.apache.spark.rdd.RDD.iterator(RDD.scala:287)\n\tat org.apache.spark.rdd.UnionRDD.compute(UnionRDD.scala:105)\n\tat org.apache.spark.rdd.RDD.computeOrReadCheckpoint(RDD.scala:323)\n\tat org.apache.spark.rdd.RDD.iterator(RDD.scala:287)\n\tat org.apache.spark.api.python.PythonRDD.compute(PythonRDD.scala:63)\n\tat org.apache.spark.rdd.RDD.computeOrReadCheckpoint(RDD.scala:323)\n\tat org.apache.spark.rdd.RDD.iterator(RDD.scala:287)\n\tat org.apache.spark.api.python.PairwiseRDD.compute(PythonRDD.scala:390)\n\tat org.apache.spark.rdd.RDD.computeOrReadCheckpoint(RDD.scala:323)\n\tat org.apache.spark.rdd.RDD.iterator(RDD.scala:287)\n\tat org.apache.spark.scheduler.ShuffleMapTask.runTask(ShuffleMapTask.scala:96)\n\tat org.apache.spark.scheduler.ShuffleMapTask.runTask(ShuffleMapTask.scala:53)\n\tat org.apache.spark.scheduler.Task.run(Task.scala:99)\n\tat org.apache.spark.executor.Executor$TaskRunner.run(Executor.scala:322)\n\tat java.util.concurrent.ThreadPoolExecutor.runWorker(ThreadPoolExecutor.java:1142)\n\tat java.util.concurrent.ThreadPoolExecutor$Worker.run(ThreadPoolExecutor.java:617)\n\tat java.lang.Thread.run(Thread.java:745)\n\nDriver stacktrace:\n\tat org.apache.spark.scheduler.DAGScheduler.org$apache$spark$scheduler$DAGScheduler$$failJobAndIndependentStages(DAGScheduler.scala:1435)\n\tat org.apache.spark.scheduler.DAGScheduler$$anonfun$abortStage$1.apply(DAGScheduler.scala:1423)\n\tat org.apache.spark.scheduler.DAGScheduler$$anonfun$abortStage$1.apply(DAGScheduler.scala:1422)\n\tat scala.collection.mutable.ResizableArray$class.foreach(ResizableArray.scala:59)\n\tat scala.collection.mutable.ArrayBuffer.foreach(ArrayBuffer.scala:48)\n\tat org.apache.spark.scheduler.DAGScheduler.abortStage(DAGScheduler.scala:1422)\n\tat org.apache.spark.scheduler.DAGScheduler$$anonfun$handleTaskSetFailed$1.apply(DAGScheduler.scala:802)\n\tat org.apache.spark.scheduler.DAGScheduler$$anonfun$handleTaskSetFailed$1.apply(DAGScheduler.scala:802)\n\tat scala.Option.foreach(Option.scala:257)\n\tat org.apache.spark.scheduler.DAGScheduler.handleTaskSetFailed(DAGScheduler.scala:802)\n\tat org.apache.spark.scheduler.DAGSchedulerEventProcessLoop.doOnReceive(DAGScheduler.scala:1650)\n\tat org.apache.spark.scheduler.DAGSchedulerEventProcessLoop.onReceive(DAGScheduler.scala:1605)\n\tat org.apache.spark.scheduler.DAGSchedulerEventProcessLoop.onReceive(DAGScheduler.scala:1594)\n\tat org.apache.spark.util.EventLoop$$anon$1.run(EventLoop.scala:48)\n\tat org.apache.spark.scheduler.DAGScheduler.runJob(DAGScheduler.scala:628)\n\tat org.apache.spark.SparkContext.runJob(SparkContext.scala:1925)\n\tat org.apache.spark.SparkContext.runJob(SparkContext.scala:1938)\n\tat org.apache.spark.SparkContext.runJob(SparkContext.scala:1951)\n\tat org.apache.spark.api.python.PythonRDD$.runJob(PythonRDD.scala:441)\n\tat org.apache.spark.api.python.PythonRDD.runJob(PythonRDD.scala)\n\tat sun.reflect.GeneratedMethodAccessor84.invoke(Unknown Source)\n\tat sun.reflect.DelegatingMethodAccessorImpl.invoke(DelegatingMethodAccessorImpl.java:43)\n\tat java.lang.reflect.Method.invoke(Method.java:498)\n\tat py4j.reflection.MethodInvoker.invoke(MethodInvoker.java:244)\n\tat py4j.reflection.ReflectionEngine.invoke(ReflectionEngine.java:357)\n\tat py4j.Gateway.invoke(Gateway.java:280)\n\tat py4j.commands.AbstractCommand.invokeMethod(AbstractCommand.java:132)\n\tat py4j.commands.CallCommand.execute(CallCommand.java:79)\n\tat py4j.GatewayConnection.run(GatewayConnection.java:214)\n\tat java.lang.Thread.run(Thread.java:748)\nCaused by: java.net.SocketException: Connection reset\n\tat java.net.SocketInputStream.read(SocketInputStream.java:209)\n\tat java.net.SocketInputStream.read(SocketInputStream.java:141)\n\tat java.io.BufferedInputStream.fill(BufferedInputStream.java:246)\n\tat java.io.BufferedInputStream.read(BufferedInputStream.java:265)\n\tat java.io.DataInputStream.readInt(DataInputStream.java:387)\n\tat org.apache.spark.api.python.PythonRunner$$anon$1.read(PythonRDD.scala:166)\n\tat org.apache.spark.api.python.PythonRunner$$anon$1.<init>(PythonRDD.scala:234)\n\tat org.apache.spark.api.python.PythonRunner.compute(PythonRDD.scala:152)\n\tat org.apache.spark.api.python.PythonRDD.compute(PythonRDD.scala:63)\n\tat org.apache.spark.rdd.RDD.computeOrReadCheckpoint(RDD.scala:323)\n\tat org.apache.spark.rdd.RDD.iterator(RDD.scala:287)\n\tat org.apache.spark.rdd.MapPartitionsRDD.compute(MapPartitionsRDD.scala:38)\n\tat org.apache.spark.rdd.RDD.computeOrReadCheckpoint(RDD.scala:323)\n\tat org.apache.spark.rdd.RDD.iterator(RDD.scala:287)\n\tat org.apache.spark.rdd.MapPartitionsRDD.compute(MapPartitionsRDD.scala:38)\n\tat org.apache.spark.rdd.RDD.computeOrReadCheckpoint(RDD.scala:323)\n\tat org.apache.spark.rdd.RDD.iterator(RDD.scala:287)\n\tat org.apache.spark.rdd.MapPartitionsRDD.compute(MapPartitionsRDD.scala:38)\n\tat org.apache.spark.rdd.RDD.computeOrReadCheckpoint(RDD.scala:323)\n\tat org.apache.spark.rdd.RDD.iterator(RDD.scala:287)\n\tat org.apache.spark.rdd.MapPartitionsRDD.compute(MapPartitionsRDD.scala:38)\n\tat org.apache.spark.rdd.RDD.computeOrReadCheckpoint(RDD.scala:323)\n\tat org.apache.spark.rdd.RDD.iterator(RDD.scala:287)\n\tat org.apache.spark.rdd.MapPartitionsRDD.compute(MapPartitionsRDD.scala:38)\n\tat org.apache.spark.rdd.RDD.computeOrReadCheckpoint(RDD.scala:323)\n\tat org.apache.spark.rdd.RDD.iterator(RDD.scala:287)\n\tat org.apache.spark.rdd.MapPartitionsRDD.compute(MapPartitionsRDD.scala:38)\n\tat org.apache.spark.rdd.RDD.computeOrReadCheckpoint(RDD.scala:323)\n\tat org.apache.spark.rdd.RDD.iterator(RDD.scala:287)\n\tat org.apache.spark.rdd.MapPartitionsRDD.compute(MapPartitionsRDD.scala:38)\n\tat org.apache.spark.rdd.RDD.computeOrReadCheckpoint(RDD.scala:323)\n\tat org.apache.spark.rdd.RDD.iterator(RDD.scala:287)\n\tat org.apache.spark.rdd.MapPartitionsRDD.compute(MapPartitionsRDD.scala:38)\n\tat org.apache.spark.rdd.RDD.computeOrReadCheckpoint(RDD.scala:323)\n\tat org.apache.spark.rdd.RDD.iterator(RDD.scala:287)\n\tat org.apache.spark.rdd.MapPartitionsRDD.compute(MapPartitionsRDD.scala:38)\n\tat org.apache.spark.rdd.RDD.computeOrReadCheckpoint(RDD.scala:323)\n\tat org.apache.spark.rdd.RDD.iterator(RDD.scala:287)\n\tat org.apache.spark.rdd.MapPartitionsRDD.compute(MapPartitionsRDD.scala:38)\n\tat org.apache.spark.rdd.RDD.computeOrReadCheckpoint(RDD.scala:323)\n\tat org.apache.spark.rdd.RDD.iterator(RDD.scala:287)\n\tat org.apache.spark.rdd.MapPartitionsRDD.compute(MapPartitionsRDD.scala:38)\n\tat org.apache.spark.rdd.RDD.computeOrReadCheckpoint(RDD.scala:323)\n\tat org.apache.spark.rdd.RDD.iterator(RDD.scala:287)\n\tat org.apache.spark.api.python.PythonRDD.compute(PythonRDD.scala:63)\n\tat org.apache.spark.rdd.RDD.computeOrReadCheckpoint(RDD.scala:323)\n\tat org.apache.spark.rdd.RDD.iterator(RDD.scala:287)\n\tat org.apache.spark.rdd.UnionRDD.compute(UnionRDD.scala:105)\n\tat org.apache.spark.rdd.RDD.computeOrReadCheckpoint(RDD.scala:323)\n\tat org.apache.spark.rdd.RDD.iterator(RDD.scala:287)\n\tat org.apache.spark.api.python.PythonRDD.compute(PythonRDD.scala:63)\n\tat org.apache.spark.rdd.RDD.computeOrReadCheckpoint(RDD.scala:323)\n\tat org.apache.spark.rdd.RDD.iterator(RDD.scala:287)\n\tat org.apache.spark.api.python.PairwiseRDD.compute(PythonRDD.scala:390)\n\tat org.apache.spark.rdd.RDD.computeOrReadCheckpoint(RDD.scala:323)\n\tat org.apache.spark.rdd.RDD.iterator(RDD.scala:287)\n\tat org.apache.spark.scheduler.ShuffleMapTask.runTask(ShuffleMapTask.scala:96)\n\tat org.apache.spark.scheduler.ShuffleMapTask.runTask(ShuffleMapTask.scala:53)\n\tat org.apache.spark.scheduler.Task.run(Task.scala:99)\n\tat org.apache.spark.executor.Executor$TaskRunner.run(Executor.scala:322)\n\tat java.util.concurrent.ThreadPoolExecutor.runWorker(ThreadPoolExecutor.java:1142)\n\tat java.util.concurrent.ThreadPoolExecutor$Worker.run(ThreadPoolExecutor.java:617)\n\tat java.lang.Thread.run(Thread.java:745)\n",
     "output_type": "error",
     "traceback": [
      "\u001b[1;31m---------------------------------------------------------------------------\u001b[0m",
      "\u001b[1;31mPy4JJavaError\u001b[0m                             Traceback (most recent call last)",
      "\u001b[1;32m<ipython-input-17-b9099d415e3c>\u001b[0m in \u001b[0;36m<module>\u001b[1;34m()\u001b[0m\n\u001b[1;32m----> 1\u001b[1;33m \u001b[0mspark_top_k_subs\u001b[0m\u001b[1;33m(\u001b[0m\u001b[0mtf_ij\u001b[0m\u001b[1;33m,\u001b[0m \u001b[1;34m'The_Donald'\u001b[0m\u001b[1;33m,\u001b[0m \u001b[0msubreddit_to_idx\u001b[0m\u001b[1;33m,\u001b[0m \u001b[0mk\u001b[0m \u001b[1;33m=\u001b[0m \u001b[1;36m20\u001b[0m\u001b[1;33m)\u001b[0m\u001b[1;33m\u001b[0m\u001b[0m\n\u001b[0m",
      "\u001b[1;32m/home/ubuntu/cf_spark.py\u001b[0m in \u001b[0;36mspark_top_k_subs\u001b[1;34m(activity, subreddit, subreddit_to_idx, k)\u001b[0m\n\u001b[0;32m     48\u001b[0m \u001b[1;33m\u001b[0m\u001b[0m\n\u001b[0;32m     49\u001b[0m \u001b[1;32mdef\u001b[0m \u001b[0mspark_top_k_subs\u001b[0m\u001b[1;33m(\u001b[0m\u001b[0mactivity\u001b[0m\u001b[1;33m,\u001b[0m \u001b[0msubreddit\u001b[0m\u001b[1;33m,\u001b[0m \u001b[0msubreddit_to_idx\u001b[0m\u001b[1;33m,\u001b[0m \u001b[0mk\u001b[0m \u001b[1;33m=\u001b[0m \u001b[1;36m5\u001b[0m\u001b[1;33m)\u001b[0m\u001b[1;33m:\u001b[0m\u001b[1;33m\u001b[0m\u001b[0m\n\u001b[1;32m---> 50\u001b[1;33m     \u001b[0msim\u001b[0m \u001b[1;33m=\u001b[0m \u001b[0msimilarity_matrix\u001b[0m\u001b[1;33m(\u001b[0m\u001b[0mactivity\u001b[0m\u001b[1;33m)\u001b[0m\u001b[1;33m\u001b[0m\u001b[0m\n\u001b[0m\u001b[0;32m     51\u001b[0m     \u001b[1;32mtry\u001b[0m\u001b[1;33m:\u001b[0m\u001b[1;33m\u001b[0m\u001b[0m\n\u001b[0;32m     52\u001b[0m         \u001b[0mrow\u001b[0m \u001b[1;33m=\u001b[0m \u001b[0mla\u001b[0m\u001b[1;33m.\u001b[0m\u001b[0mcoordinatematrix_sort_rows\u001b[0m\u001b[1;33m(\u001b[0m\u001b[0msim\u001b[0m\u001b[1;33m,\u001b[0m \u001b[0mk\u001b[0m\u001b[1;33m)\u001b[0m\u001b[1;33m[\u001b[0m\u001b[0msubreddit_to_idx\u001b[0m\u001b[1;33m(\u001b[0m\u001b[0msubreddit\u001b[0m\u001b[1;33m)\u001b[0m\u001b[1;33m]\u001b[0m\u001b[1;33m\u001b[0m\u001b[0m\n",
      "\u001b[1;32m/home/ubuntu/linalg.pyc\u001b[0m in \u001b[0;36mnew_f\u001b[1;34m(*args, **kwargs)\u001b[0m\n\u001b[0;32m     15\u001b[0m         \u001b[0mids\u001b[0m \u001b[1;33m=\u001b[0m \u001b[0mtuple\u001b[0m\u001b[1;33m(\u001b[0m\u001b[0mmap\u001b[0m\u001b[1;33m(\u001b[0m\u001b[0mid\u001b[0m\u001b[1;33m,\u001b[0m \u001b[0margs\u001b[0m\u001b[1;33m)\u001b[0m\u001b[1;33m)\u001b[0m \u001b[1;33m+\u001b[0m \u001b[0mtuple\u001b[0m\u001b[1;33m(\u001b[0m\u001b[0mmap\u001b[0m\u001b[1;33m(\u001b[0m\u001b[0mid\u001b[0m\u001b[1;33m,\u001b[0m \u001b[0mkwargs\u001b[0m\u001b[1;33m)\u001b[0m\u001b[1;33m)\u001b[0m\u001b[1;33m\u001b[0m\u001b[0m\n\u001b[0;32m     16\u001b[0m         \u001b[1;32mif\u001b[0m \u001b[0mids\u001b[0m \u001b[1;32mnot\u001b[0m \u001b[1;32min\u001b[0m \u001b[0mcache\u001b[0m\u001b[1;33m:\u001b[0m\u001b[1;33m\u001b[0m\u001b[0m\n\u001b[1;32m---> 17\u001b[1;33m             \u001b[0mcache\u001b[0m\u001b[1;33m[\u001b[0m\u001b[0mids\u001b[0m\u001b[1;33m]\u001b[0m \u001b[1;33m=\u001b[0m \u001b[0mf\u001b[0m\u001b[1;33m(\u001b[0m\u001b[1;33m*\u001b[0m\u001b[0margs\u001b[0m\u001b[1;33m,\u001b[0m \u001b[1;33m**\u001b[0m\u001b[0mkwargs\u001b[0m\u001b[1;33m)\u001b[0m\u001b[1;33m\u001b[0m\u001b[0m\n\u001b[0m\u001b[0;32m     18\u001b[0m         \u001b[1;32mreturn\u001b[0m \u001b[0mcache\u001b[0m\u001b[1;33m[\u001b[0m\u001b[0mids\u001b[0m\u001b[1;33m]\u001b[0m\u001b[1;33m\u001b[0m\u001b[0m\n\u001b[0;32m     19\u001b[0m     \u001b[1;32mreturn\u001b[0m \u001b[0mnew_f\u001b[0m\u001b[1;33m\u001b[0m\u001b[0m\n",
      "\u001b[1;32m/home/ubuntu/cf_spark.py\u001b[0m in \u001b[0;36msimilarity_matrix\u001b[1;34m(activity)\u001b[0m\n\u001b[0;32m     10\u001b[0m     sim = la.coordinateMatrixMultiply(\n\u001b[0;32m     11\u001b[0m         \u001b[0mactivity\u001b[0m\u001b[1;33m,\u001b[0m\u001b[1;33m\u001b[0m\u001b[0m\n\u001b[1;32m---> 12\u001b[1;33m         la.transpose_coordinatematrix(activity))\n\u001b[0m\u001b[0;32m     13\u001b[0m     \u001b[0mdiag\u001b[0m \u001b[1;33m=\u001b[0m  \u001b[0mla\u001b[0m\u001b[1;33m.\u001b[0m\u001b[0mcoordinate_matrix_diagonal\u001b[0m\u001b[1;33m(\u001b[0m\u001b[0msim\u001b[0m\u001b[1;33m)\u001b[0m\u001b[1;33m\u001b[0m\u001b[0m\n\u001b[0;32m     14\u001b[0m     \u001b[0mnorms\u001b[0m \u001b[1;33m=\u001b[0m \u001b[0mla\u001b[0m\u001b[1;33m.\u001b[0m\u001b[0msparse_vector_elementwise\u001b[0m\u001b[1;33m(\u001b[0m\u001b[0mdiag\u001b[0m\u001b[1;33m,\u001b[0m \u001b[1;32mlambda\u001b[0m \u001b[0mnum\u001b[0m\u001b[1;33m:\u001b[0m \u001b[0mnp\u001b[0m\u001b[1;33m.\u001b[0m\u001b[0msqrt\u001b[0m\u001b[1;33m(\u001b[0m\u001b[0mnum\u001b[0m\u001b[1;33m)\u001b[0m\u001b[1;33m)\u001b[0m\u001b[1;33m\u001b[0m\u001b[0m\n",
      "\u001b[1;32m/home/ubuntu/linalg.pyc\u001b[0m in \u001b[0;36mcoordinateMatrixMultiply\u001b[1;34m(leftmat, rightmat, zero_threshold)\u001b[0m\n\u001b[0;32m     49\u001b[0m     \u001b[1;33m.\u001b[0m\u001b[0mmap\u001b[0m\u001b[1;33m(\u001b[0m\u001b[1;32mlambda\u001b[0m \u001b[0mrecord\u001b[0m\u001b[1;33m:\u001b[0m \u001b[0mMatrixEntry\u001b[0m\u001b[1;33m(\u001b[0m\u001b[0mrecord\u001b[0m\u001b[1;33m[\u001b[0m\u001b[1;36m0\u001b[0m\u001b[1;33m]\u001b[0m\u001b[1;33m[\u001b[0m\u001b[1;36m0\u001b[0m\u001b[1;33m]\u001b[0m\u001b[1;33m,\u001b[0m \u001b[0mrecord\u001b[0m\u001b[1;33m[\u001b[0m\u001b[1;36m0\u001b[0m\u001b[1;33m]\u001b[0m\u001b[1;33m[\u001b[0m\u001b[1;36m1\u001b[0m\u001b[1;33m]\u001b[0m\u001b[1;33m,\u001b[0m \u001b[0mrecord\u001b[0m\u001b[1;33m[\u001b[0m\u001b[1;36m1\u001b[0m\u001b[1;33m]\u001b[0m\u001b[1;33m)\u001b[0m\u001b[1;33m)\u001b[0m\u001b[1;33m\u001b[0m\u001b[0m\n\u001b[0;32m     50\u001b[0m \u001b[1;33m\u001b[0m\u001b[0m\n\u001b[1;32m---> 51\u001b[1;33m     \u001b[1;32mreturn\u001b[0m \u001b[0mpyspark\u001b[0m\u001b[1;33m.\u001b[0m\u001b[0mmllib\u001b[0m\u001b[1;33m.\u001b[0m\u001b[0mlinalg\u001b[0m\u001b[1;33m.\u001b[0m\u001b[0mdistributed\u001b[0m\u001b[1;33m.\u001b[0m\u001b[0mCoordinateMatrix\u001b[0m\u001b[1;33m(\u001b[0m\u001b[0mproduct_entries\u001b[0m\u001b[1;33m)\u001b[0m\u001b[1;33m\u001b[0m\u001b[0m\n\u001b[0m\u001b[0;32m     52\u001b[0m \u001b[1;33m\u001b[0m\u001b[0m\n\u001b[0;32m     53\u001b[0m \u001b[1;32mdef\u001b[0m \u001b[0meval_matrix_binop\u001b[0m\u001b[1;33m(\u001b[0m\u001b[0mndarr1\u001b[0m\u001b[1;33m,\u001b[0m \u001b[0mndarr2\u001b[0m\u001b[1;33m,\u001b[0m \u001b[0mop\u001b[0m\u001b[1;33m,\u001b[0m \u001b[1;33m**\u001b[0m\u001b[0mkwargs\u001b[0m\u001b[1;33m)\u001b[0m\u001b[1;33m:\u001b[0m\u001b[1;33m\u001b[0m\u001b[0m\n",
      "\u001b[1;32m/usr/local/spark/python/pyspark/mllib/linalg/distributed.pyc\u001b[0m in \u001b[0;36m__init__\u001b[1;34m(self, entries, numRows, numCols)\u001b[0m\n\u001b[0;32m    606\u001b[0m             \u001b[1;31m# each be easily serialized. We will convert back to\u001b[0m\u001b[1;33m\u001b[0m\u001b[1;33m\u001b[0m\u001b[0m\n\u001b[0;32m    607\u001b[0m             \u001b[1;31m# MatrixEntry inputs on the Scala side.\u001b[0m\u001b[1;33m\u001b[0m\u001b[1;33m\u001b[0m\u001b[0m\n\u001b[1;32m--> 608\u001b[1;33m             java_matrix = callMLlibFunc(\"createCoordinateMatrix\", entries.toDF(),\n\u001b[0m\u001b[0;32m    609\u001b[0m                                         long(numRows), long(numCols))\n\u001b[0;32m    610\u001b[0m         elif (isinstance(entries, JavaObject)\n",
      "\u001b[1;32m/usr/local/spark/python/pyspark/sql/session.pyc\u001b[0m in \u001b[0;36mtoDF\u001b[1;34m(self, schema, sampleRatio)\u001b[0m\n\u001b[0;32m     55\u001b[0m         \u001b[1;33m[\u001b[0m\u001b[0mRow\u001b[0m\u001b[1;33m(\u001b[0m\u001b[0mname\u001b[0m\u001b[1;33m=\u001b[0m\u001b[1;34mu'Alice'\u001b[0m\u001b[1;33m,\u001b[0m \u001b[0mage\u001b[0m\u001b[1;33m=\u001b[0m\u001b[1;36m1\u001b[0m\u001b[1;33m)\u001b[0m\u001b[1;33m]\u001b[0m\u001b[1;33m\u001b[0m\u001b[0m\n\u001b[0;32m     56\u001b[0m         \"\"\"\n\u001b[1;32m---> 57\u001b[1;33m         \u001b[1;32mreturn\u001b[0m \u001b[0msparkSession\u001b[0m\u001b[1;33m.\u001b[0m\u001b[0mcreateDataFrame\u001b[0m\u001b[1;33m(\u001b[0m\u001b[0mself\u001b[0m\u001b[1;33m,\u001b[0m \u001b[0mschema\u001b[0m\u001b[1;33m,\u001b[0m \u001b[0msampleRatio\u001b[0m\u001b[1;33m)\u001b[0m\u001b[1;33m\u001b[0m\u001b[0m\n\u001b[0m\u001b[0;32m     58\u001b[0m \u001b[1;33m\u001b[0m\u001b[0m\n\u001b[0;32m     59\u001b[0m     \u001b[0mRDD\u001b[0m\u001b[1;33m.\u001b[0m\u001b[0mtoDF\u001b[0m \u001b[1;33m=\u001b[0m \u001b[0mtoDF\u001b[0m\u001b[1;33m\u001b[0m\u001b[0m\n",
      "\u001b[1;32m/usr/local/spark/python/pyspark/sql/session.pyc\u001b[0m in \u001b[0;36mcreateDataFrame\u001b[1;34m(self, data, schema, samplingRatio, verifySchema)\u001b[0m\n\u001b[0;32m    522\u001b[0m \u001b[1;33m\u001b[0m\u001b[0m\n\u001b[0;32m    523\u001b[0m         \u001b[1;32mif\u001b[0m \u001b[0misinstance\u001b[0m\u001b[1;33m(\u001b[0m\u001b[0mdata\u001b[0m\u001b[1;33m,\u001b[0m \u001b[0mRDD\u001b[0m\u001b[1;33m)\u001b[0m\u001b[1;33m:\u001b[0m\u001b[1;33m\u001b[0m\u001b[0m\n\u001b[1;32m--> 524\u001b[1;33m             \u001b[0mrdd\u001b[0m\u001b[1;33m,\u001b[0m \u001b[0mschema\u001b[0m \u001b[1;33m=\u001b[0m \u001b[0mself\u001b[0m\u001b[1;33m.\u001b[0m\u001b[0m_createFromRDD\u001b[0m\u001b[1;33m(\u001b[0m\u001b[0mdata\u001b[0m\u001b[1;33m.\u001b[0m\u001b[0mmap\u001b[0m\u001b[1;33m(\u001b[0m\u001b[0mprepare\u001b[0m\u001b[1;33m)\u001b[0m\u001b[1;33m,\u001b[0m \u001b[0mschema\u001b[0m\u001b[1;33m,\u001b[0m \u001b[0msamplingRatio\u001b[0m\u001b[1;33m)\u001b[0m\u001b[1;33m\u001b[0m\u001b[0m\n\u001b[0m\u001b[0;32m    525\u001b[0m         \u001b[1;32melse\u001b[0m\u001b[1;33m:\u001b[0m\u001b[1;33m\u001b[0m\u001b[0m\n\u001b[0;32m    526\u001b[0m             \u001b[0mrdd\u001b[0m\u001b[1;33m,\u001b[0m \u001b[0mschema\u001b[0m \u001b[1;33m=\u001b[0m \u001b[0mself\u001b[0m\u001b[1;33m.\u001b[0m\u001b[0m_createFromLocal\u001b[0m\u001b[1;33m(\u001b[0m\u001b[0mmap\u001b[0m\u001b[1;33m(\u001b[0m\u001b[0mprepare\u001b[0m\u001b[1;33m,\u001b[0m \u001b[0mdata\u001b[0m\u001b[1;33m)\u001b[0m\u001b[1;33m,\u001b[0m \u001b[0mschema\u001b[0m\u001b[1;33m)\u001b[0m\u001b[1;33m\u001b[0m\u001b[0m\n",
      "\u001b[1;32m/usr/local/spark/python/pyspark/sql/session.pyc\u001b[0m in \u001b[0;36m_createFromRDD\u001b[1;34m(self, rdd, schema, samplingRatio)\u001b[0m\n\u001b[0;32m    362\u001b[0m         \"\"\"\n\u001b[0;32m    363\u001b[0m         \u001b[1;32mif\u001b[0m \u001b[0mschema\u001b[0m \u001b[1;32mis\u001b[0m \u001b[0mNone\u001b[0m \u001b[1;32mor\u001b[0m \u001b[0misinstance\u001b[0m\u001b[1;33m(\u001b[0m\u001b[0mschema\u001b[0m\u001b[1;33m,\u001b[0m \u001b[1;33m(\u001b[0m\u001b[0mlist\u001b[0m\u001b[1;33m,\u001b[0m \u001b[0mtuple\u001b[0m\u001b[1;33m)\u001b[0m\u001b[1;33m)\u001b[0m\u001b[1;33m:\u001b[0m\u001b[1;33m\u001b[0m\u001b[0m\n\u001b[1;32m--> 364\u001b[1;33m             \u001b[0mstruct\u001b[0m \u001b[1;33m=\u001b[0m \u001b[0mself\u001b[0m\u001b[1;33m.\u001b[0m\u001b[0m_inferSchema\u001b[0m\u001b[1;33m(\u001b[0m\u001b[0mrdd\u001b[0m\u001b[1;33m,\u001b[0m \u001b[0msamplingRatio\u001b[0m\u001b[1;33m)\u001b[0m\u001b[1;33m\u001b[0m\u001b[0m\n\u001b[0m\u001b[0;32m    365\u001b[0m             \u001b[0mconverter\u001b[0m \u001b[1;33m=\u001b[0m \u001b[0m_create_converter\u001b[0m\u001b[1;33m(\u001b[0m\u001b[0mstruct\u001b[0m\u001b[1;33m)\u001b[0m\u001b[1;33m\u001b[0m\u001b[0m\n\u001b[0;32m    366\u001b[0m             \u001b[0mrdd\u001b[0m \u001b[1;33m=\u001b[0m \u001b[0mrdd\u001b[0m\u001b[1;33m.\u001b[0m\u001b[0mmap\u001b[0m\u001b[1;33m(\u001b[0m\u001b[0mconverter\u001b[0m\u001b[1;33m)\u001b[0m\u001b[1;33m\u001b[0m\u001b[0m\n",
      "\u001b[1;32m/usr/local/spark/python/pyspark/sql/session.pyc\u001b[0m in \u001b[0;36m_inferSchema\u001b[1;34m(self, rdd, samplingRatio)\u001b[0m\n\u001b[0;32m    333\u001b[0m         \u001b[1;33m:\u001b[0m\u001b[1;32mreturn\u001b[0m\u001b[1;33m:\u001b[0m \u001b[1;33m:\u001b[0m\u001b[1;32mclass\u001b[0m\u001b[1;33m:\u001b[0m\u001b[1;33m`\u001b[0m\u001b[0mpyspark\u001b[0m\u001b[1;33m.\u001b[0m\u001b[0msql\u001b[0m\u001b[1;33m.\u001b[0m\u001b[0mtypes\u001b[0m\u001b[1;33m.\u001b[0m\u001b[0mStructType\u001b[0m\u001b[1;33m`\u001b[0m\u001b[1;33m\u001b[0m\u001b[0m\n\u001b[0;32m    334\u001b[0m         \"\"\"\n\u001b[1;32m--> 335\u001b[1;33m         \u001b[0mfirst\u001b[0m \u001b[1;33m=\u001b[0m \u001b[0mrdd\u001b[0m\u001b[1;33m.\u001b[0m\u001b[0mfirst\u001b[0m\u001b[1;33m(\u001b[0m\u001b[1;33m)\u001b[0m\u001b[1;33m\u001b[0m\u001b[0m\n\u001b[0m\u001b[0;32m    336\u001b[0m         \u001b[1;32mif\u001b[0m \u001b[1;32mnot\u001b[0m \u001b[0mfirst\u001b[0m\u001b[1;33m:\u001b[0m\u001b[1;33m\u001b[0m\u001b[0m\n\u001b[0;32m    337\u001b[0m             raise ValueError(\"The first row in RDD is empty, \"\n",
      "\u001b[1;32m/usr/local/spark/python/pyspark/rdd.pyc\u001b[0m in \u001b[0;36mfirst\u001b[1;34m(self)\u001b[0m\n\u001b[0;32m   1358\u001b[0m         \u001b[0mValueError\u001b[0m\u001b[1;33m:\u001b[0m \u001b[0mRDD\u001b[0m \u001b[1;32mis\u001b[0m \u001b[0mempty\u001b[0m\u001b[1;33m\u001b[0m\u001b[0m\n\u001b[0;32m   1359\u001b[0m         \"\"\"\n\u001b[1;32m-> 1360\u001b[1;33m         \u001b[0mrs\u001b[0m \u001b[1;33m=\u001b[0m \u001b[0mself\u001b[0m\u001b[1;33m.\u001b[0m\u001b[0mtake\u001b[0m\u001b[1;33m(\u001b[0m\u001b[1;36m1\u001b[0m\u001b[1;33m)\u001b[0m\u001b[1;33m\u001b[0m\u001b[0m\n\u001b[0m\u001b[0;32m   1361\u001b[0m         \u001b[1;32mif\u001b[0m \u001b[0mrs\u001b[0m\u001b[1;33m:\u001b[0m\u001b[1;33m\u001b[0m\u001b[0m\n\u001b[0;32m   1362\u001b[0m             \u001b[1;32mreturn\u001b[0m \u001b[0mrs\u001b[0m\u001b[1;33m[\u001b[0m\u001b[1;36m0\u001b[0m\u001b[1;33m]\u001b[0m\u001b[1;33m\u001b[0m\u001b[0m\n",
      "\u001b[1;32m/usr/local/spark/python/pyspark/rdd.pyc\u001b[0m in \u001b[0;36mtake\u001b[1;34m(self, num)\u001b[0m\n\u001b[0;32m   1340\u001b[0m \u001b[1;33m\u001b[0m\u001b[0m\n\u001b[0;32m   1341\u001b[0m             \u001b[0mp\u001b[0m \u001b[1;33m=\u001b[0m \u001b[0mrange\u001b[0m\u001b[1;33m(\u001b[0m\u001b[0mpartsScanned\u001b[0m\u001b[1;33m,\u001b[0m \u001b[0mmin\u001b[0m\u001b[1;33m(\u001b[0m\u001b[0mpartsScanned\u001b[0m \u001b[1;33m+\u001b[0m \u001b[0mnumPartsToTry\u001b[0m\u001b[1;33m,\u001b[0m \u001b[0mtotalParts\u001b[0m\u001b[1;33m)\u001b[0m\u001b[1;33m)\u001b[0m\u001b[1;33m\u001b[0m\u001b[0m\n\u001b[1;32m-> 1342\u001b[1;33m             \u001b[0mres\u001b[0m \u001b[1;33m=\u001b[0m \u001b[0mself\u001b[0m\u001b[1;33m.\u001b[0m\u001b[0mcontext\u001b[0m\u001b[1;33m.\u001b[0m\u001b[0mrunJob\u001b[0m\u001b[1;33m(\u001b[0m\u001b[0mself\u001b[0m\u001b[1;33m,\u001b[0m \u001b[0mtakeUpToNumLeft\u001b[0m\u001b[1;33m,\u001b[0m \u001b[0mp\u001b[0m\u001b[1;33m)\u001b[0m\u001b[1;33m\u001b[0m\u001b[0m\n\u001b[0m\u001b[0;32m   1343\u001b[0m \u001b[1;33m\u001b[0m\u001b[0m\n\u001b[0;32m   1344\u001b[0m             \u001b[0mitems\u001b[0m \u001b[1;33m+=\u001b[0m \u001b[0mres\u001b[0m\u001b[1;33m\u001b[0m\u001b[0m\n",
      "\u001b[1;32m/usr/local/spark/python/pyspark/context.pyc\u001b[0m in \u001b[0;36mrunJob\u001b[1;34m(self, rdd, partitionFunc, partitions, allowLocal)\u001b[0m\n\u001b[0;32m    966\u001b[0m         \u001b[1;31m# SparkContext#runJob.\u001b[0m\u001b[1;33m\u001b[0m\u001b[1;33m\u001b[0m\u001b[0m\n\u001b[0;32m    967\u001b[0m         \u001b[0mmappedRDD\u001b[0m \u001b[1;33m=\u001b[0m \u001b[0mrdd\u001b[0m\u001b[1;33m.\u001b[0m\u001b[0mmapPartitions\u001b[0m\u001b[1;33m(\u001b[0m\u001b[0mpartitionFunc\u001b[0m\u001b[1;33m)\u001b[0m\u001b[1;33m\u001b[0m\u001b[0m\n\u001b[1;32m--> 968\u001b[1;33m         \u001b[0mport\u001b[0m \u001b[1;33m=\u001b[0m \u001b[0mself\u001b[0m\u001b[1;33m.\u001b[0m\u001b[0m_jvm\u001b[0m\u001b[1;33m.\u001b[0m\u001b[0mPythonRDD\u001b[0m\u001b[1;33m.\u001b[0m\u001b[0mrunJob\u001b[0m\u001b[1;33m(\u001b[0m\u001b[0mself\u001b[0m\u001b[1;33m.\u001b[0m\u001b[0m_jsc\u001b[0m\u001b[1;33m.\u001b[0m\u001b[0msc\u001b[0m\u001b[1;33m(\u001b[0m\u001b[1;33m)\u001b[0m\u001b[1;33m,\u001b[0m \u001b[0mmappedRDD\u001b[0m\u001b[1;33m.\u001b[0m\u001b[0m_jrdd\u001b[0m\u001b[1;33m,\u001b[0m \u001b[0mpartitions\u001b[0m\u001b[1;33m)\u001b[0m\u001b[1;33m\u001b[0m\u001b[0m\n\u001b[0m\u001b[0;32m    969\u001b[0m         \u001b[1;32mreturn\u001b[0m \u001b[0mlist\u001b[0m\u001b[1;33m(\u001b[0m\u001b[0m_load_from_socket\u001b[0m\u001b[1;33m(\u001b[0m\u001b[0mport\u001b[0m\u001b[1;33m,\u001b[0m \u001b[0mmappedRDD\u001b[0m\u001b[1;33m.\u001b[0m\u001b[0m_jrdd_deserializer\u001b[0m\u001b[1;33m)\u001b[0m\u001b[1;33m)\u001b[0m\u001b[1;33m\u001b[0m\u001b[0m\n\u001b[0;32m    970\u001b[0m \u001b[1;33m\u001b[0m\u001b[0m\n",
      "\u001b[1;32m/usr/local/spark/python/lib/py4j-0.10.4-src.zip/py4j/java_gateway.py\u001b[0m in \u001b[0;36m__call__\u001b[1;34m(self, *args)\u001b[0m\n\u001b[0;32m   1131\u001b[0m         \u001b[0manswer\u001b[0m \u001b[1;33m=\u001b[0m \u001b[0mself\u001b[0m\u001b[1;33m.\u001b[0m\u001b[0mgateway_client\u001b[0m\u001b[1;33m.\u001b[0m\u001b[0msend_command\u001b[0m\u001b[1;33m(\u001b[0m\u001b[0mcommand\u001b[0m\u001b[1;33m)\u001b[0m\u001b[1;33m\u001b[0m\u001b[0m\n\u001b[0;32m   1132\u001b[0m         return_value = get_return_value(\n\u001b[1;32m-> 1133\u001b[1;33m             answer, self.gateway_client, self.target_id, self.name)\n\u001b[0m\u001b[0;32m   1134\u001b[0m \u001b[1;33m\u001b[0m\u001b[0m\n\u001b[0;32m   1135\u001b[0m         \u001b[1;32mfor\u001b[0m \u001b[0mtemp_arg\u001b[0m \u001b[1;32min\u001b[0m \u001b[0mtemp_args\u001b[0m\u001b[1;33m:\u001b[0m\u001b[1;33m\u001b[0m\u001b[0m\n",
      "\u001b[1;32m/usr/local/spark/python/pyspark/sql/utils.pyc\u001b[0m in \u001b[0;36mdeco\u001b[1;34m(*a, **kw)\u001b[0m\n\u001b[0;32m     61\u001b[0m     \u001b[1;32mdef\u001b[0m \u001b[0mdeco\u001b[0m\u001b[1;33m(\u001b[0m\u001b[1;33m*\u001b[0m\u001b[0ma\u001b[0m\u001b[1;33m,\u001b[0m \u001b[1;33m**\u001b[0m\u001b[0mkw\u001b[0m\u001b[1;33m)\u001b[0m\u001b[1;33m:\u001b[0m\u001b[1;33m\u001b[0m\u001b[0m\n\u001b[0;32m     62\u001b[0m         \u001b[1;32mtry\u001b[0m\u001b[1;33m:\u001b[0m\u001b[1;33m\u001b[0m\u001b[0m\n\u001b[1;32m---> 63\u001b[1;33m             \u001b[1;32mreturn\u001b[0m \u001b[0mf\u001b[0m\u001b[1;33m(\u001b[0m\u001b[1;33m*\u001b[0m\u001b[0ma\u001b[0m\u001b[1;33m,\u001b[0m \u001b[1;33m**\u001b[0m\u001b[0mkw\u001b[0m\u001b[1;33m)\u001b[0m\u001b[1;33m\u001b[0m\u001b[0m\n\u001b[0m\u001b[0;32m     64\u001b[0m         \u001b[1;32mexcept\u001b[0m \u001b[0mpy4j\u001b[0m\u001b[1;33m.\u001b[0m\u001b[0mprotocol\u001b[0m\u001b[1;33m.\u001b[0m\u001b[0mPy4JJavaError\u001b[0m \u001b[1;32mas\u001b[0m \u001b[0me\u001b[0m\u001b[1;33m:\u001b[0m\u001b[1;33m\u001b[0m\u001b[0m\n\u001b[0;32m     65\u001b[0m             \u001b[0ms\u001b[0m \u001b[1;33m=\u001b[0m \u001b[0me\u001b[0m\u001b[1;33m.\u001b[0m\u001b[0mjava_exception\u001b[0m\u001b[1;33m.\u001b[0m\u001b[0mtoString\u001b[0m\u001b[1;33m(\u001b[0m\u001b[1;33m)\u001b[0m\u001b[1;33m\u001b[0m\u001b[0m\n",
      "\u001b[1;32m/usr/local/spark/python/lib/py4j-0.10.4-src.zip/py4j/protocol.py\u001b[0m in \u001b[0;36mget_return_value\u001b[1;34m(answer, gateway_client, target_id, name)\u001b[0m\n\u001b[0;32m    317\u001b[0m                 raise Py4JJavaError(\n\u001b[0;32m    318\u001b[0m                     \u001b[1;34m\"An error occurred while calling {0}{1}{2}.\\n\"\u001b[0m\u001b[1;33m.\u001b[0m\u001b[1;33m\u001b[0m\u001b[0m\n\u001b[1;32m--> 319\u001b[1;33m                     format(target_id, \".\", name), value)\n\u001b[0m\u001b[0;32m    320\u001b[0m             \u001b[1;32melse\u001b[0m\u001b[1;33m:\u001b[0m\u001b[1;33m\u001b[0m\u001b[0m\n\u001b[0;32m    321\u001b[0m                 raise Py4JError(\n",
      "\u001b[1;31mPy4JJavaError\u001b[0m: An error occurred while calling z:org.apache.spark.api.python.PythonRDD.runJob.\n: org.apache.spark.SparkException: Job aborted due to stage failure: Task 17 in stage 259.0 failed 4 times, most recent failure: Lost task 17.3 in stage 259.0 (TID 3030, 10.0.0.11, executor 1): java.net.SocketException: Connection reset\n\tat java.net.SocketInputStream.read(SocketInputStream.java:209)\n\tat java.net.SocketInputStream.read(SocketInputStream.java:141)\n\tat java.io.BufferedInputStream.fill(BufferedInputStream.java:246)\n\tat java.io.BufferedInputStream.read(BufferedInputStream.java:265)\n\tat java.io.DataInputStream.readInt(DataInputStream.java:387)\n\tat org.apache.spark.api.python.PythonRunner$$anon$1.read(PythonRDD.scala:166)\n\tat org.apache.spark.api.python.PythonRunner$$anon$1.<init>(PythonRDD.scala:234)\n\tat org.apache.spark.api.python.PythonRunner.compute(PythonRDD.scala:152)\n\tat org.apache.spark.api.python.PythonRDD.compute(PythonRDD.scala:63)\n\tat org.apache.spark.rdd.RDD.computeOrReadCheckpoint(RDD.scala:323)\n\tat org.apache.spark.rdd.RDD.iterator(RDD.scala:287)\n\tat org.apache.spark.rdd.MapPartitionsRDD.compute(MapPartitionsRDD.scala:38)\n\tat org.apache.spark.rdd.RDD.computeOrReadCheckpoint(RDD.scala:323)\n\tat org.apache.spark.rdd.RDD.iterator(RDD.scala:287)\n\tat org.apache.spark.rdd.MapPartitionsRDD.compute(MapPartitionsRDD.scala:38)\n\tat org.apache.spark.rdd.RDD.computeOrReadCheckpoint(RDD.scala:323)\n\tat org.apache.spark.rdd.RDD.iterator(RDD.scala:287)\n\tat org.apache.spark.rdd.MapPartitionsRDD.compute(MapPartitionsRDD.scala:38)\n\tat org.apache.spark.rdd.RDD.computeOrReadCheckpoint(RDD.scala:323)\n\tat org.apache.spark.rdd.RDD.iterator(RDD.scala:287)\n\tat org.apache.spark.rdd.MapPartitionsRDD.compute(MapPartitionsRDD.scala:38)\n\tat org.apache.spark.rdd.RDD.computeOrReadCheckpoint(RDD.scala:323)\n\tat org.apache.spark.rdd.RDD.iterator(RDD.scala:287)\n\tat org.apache.spark.rdd.MapPartitionsRDD.compute(MapPartitionsRDD.scala:38)\n\tat org.apache.spark.rdd.RDD.computeOrReadCheckpoint(RDD.scala:323)\n\tat org.apache.spark.rdd.RDD.iterator(RDD.scala:287)\n\tat org.apache.spark.rdd.MapPartitionsRDD.compute(MapPartitionsRDD.scala:38)\n\tat org.apache.spark.rdd.RDD.computeOrReadCheckpoint(RDD.scala:323)\n\tat org.apache.spark.rdd.RDD.iterator(RDD.scala:287)\n\tat org.apache.spark.rdd.MapPartitionsRDD.compute(MapPartitionsRDD.scala:38)\n\tat org.apache.spark.rdd.RDD.computeOrReadCheckpoint(RDD.scala:323)\n\tat org.apache.spark.rdd.RDD.iterator(RDD.scala:287)\n\tat org.apache.spark.rdd.MapPartitionsRDD.compute(MapPartitionsRDD.scala:38)\n\tat org.apache.spark.rdd.RDD.computeOrReadCheckpoint(RDD.scala:323)\n\tat org.apache.spark.rdd.RDD.iterator(RDD.scala:287)\n\tat org.apache.spark.rdd.MapPartitionsRDD.compute(MapPartitionsRDD.scala:38)\n\tat org.apache.spark.rdd.RDD.computeOrReadCheckpoint(RDD.scala:323)\n\tat org.apache.spark.rdd.RDD.iterator(RDD.scala:287)\n\tat org.apache.spark.rdd.MapPartitionsRDD.compute(MapPartitionsRDD.scala:38)\n\tat org.apache.spark.rdd.RDD.computeOrReadCheckpoint(RDD.scala:323)\n\tat org.apache.spark.rdd.RDD.iterator(RDD.scala:287)\n\tat org.apache.spark.rdd.MapPartitionsRDD.compute(MapPartitionsRDD.scala:38)\n\tat org.apache.spark.rdd.RDD.computeOrReadCheckpoint(RDD.scala:323)\n\tat org.apache.spark.rdd.RDD.iterator(RDD.scala:287)\n\tat org.apache.spark.api.python.PythonRDD.compute(PythonRDD.scala:63)\n\tat org.apache.spark.rdd.RDD.computeOrReadCheckpoint(RDD.scala:323)\n\tat org.apache.spark.rdd.RDD.iterator(RDD.scala:287)\n\tat org.apache.spark.rdd.UnionRDD.compute(UnionRDD.scala:105)\n\tat org.apache.spark.rdd.RDD.computeOrReadCheckpoint(RDD.scala:323)\n\tat org.apache.spark.rdd.RDD.iterator(RDD.scala:287)\n\tat org.apache.spark.api.python.PythonRDD.compute(PythonRDD.scala:63)\n\tat org.apache.spark.rdd.RDD.computeOrReadCheckpoint(RDD.scala:323)\n\tat org.apache.spark.rdd.RDD.iterator(RDD.scala:287)\n\tat org.apache.spark.api.python.PairwiseRDD.compute(PythonRDD.scala:390)\n\tat org.apache.spark.rdd.RDD.computeOrReadCheckpoint(RDD.scala:323)\n\tat org.apache.spark.rdd.RDD.iterator(RDD.scala:287)\n\tat org.apache.spark.scheduler.ShuffleMapTask.runTask(ShuffleMapTask.scala:96)\n\tat org.apache.spark.scheduler.ShuffleMapTask.runTask(ShuffleMapTask.scala:53)\n\tat org.apache.spark.scheduler.Task.run(Task.scala:99)\n\tat org.apache.spark.executor.Executor$TaskRunner.run(Executor.scala:322)\n\tat java.util.concurrent.ThreadPoolExecutor.runWorker(ThreadPoolExecutor.java:1142)\n\tat java.util.concurrent.ThreadPoolExecutor$Worker.run(ThreadPoolExecutor.java:617)\n\tat java.lang.Thread.run(Thread.java:745)\n\nDriver stacktrace:\n\tat org.apache.spark.scheduler.DAGScheduler.org$apache$spark$scheduler$DAGScheduler$$failJobAndIndependentStages(DAGScheduler.scala:1435)\n\tat org.apache.spark.scheduler.DAGScheduler$$anonfun$abortStage$1.apply(DAGScheduler.scala:1423)\n\tat org.apache.spark.scheduler.DAGScheduler$$anonfun$abortStage$1.apply(DAGScheduler.scala:1422)\n\tat scala.collection.mutable.ResizableArray$class.foreach(ResizableArray.scala:59)\n\tat scala.collection.mutable.ArrayBuffer.foreach(ArrayBuffer.scala:48)\n\tat org.apache.spark.scheduler.DAGScheduler.abortStage(DAGScheduler.scala:1422)\n\tat org.apache.spark.scheduler.DAGScheduler$$anonfun$handleTaskSetFailed$1.apply(DAGScheduler.scala:802)\n\tat org.apache.spark.scheduler.DAGScheduler$$anonfun$handleTaskSetFailed$1.apply(DAGScheduler.scala:802)\n\tat scala.Option.foreach(Option.scala:257)\n\tat org.apache.spark.scheduler.DAGScheduler.handleTaskSetFailed(DAGScheduler.scala:802)\n\tat org.apache.spark.scheduler.DAGSchedulerEventProcessLoop.doOnReceive(DAGScheduler.scala:1650)\n\tat org.apache.spark.scheduler.DAGSchedulerEventProcessLoop.onReceive(DAGScheduler.scala:1605)\n\tat org.apache.spark.scheduler.DAGSchedulerEventProcessLoop.onReceive(DAGScheduler.scala:1594)\n\tat org.apache.spark.util.EventLoop$$anon$1.run(EventLoop.scala:48)\n\tat org.apache.spark.scheduler.DAGScheduler.runJob(DAGScheduler.scala:628)\n\tat org.apache.spark.SparkContext.runJob(SparkContext.scala:1925)\n\tat org.apache.spark.SparkContext.runJob(SparkContext.scala:1938)\n\tat org.apache.spark.SparkContext.runJob(SparkContext.scala:1951)\n\tat org.apache.spark.api.python.PythonRDD$.runJob(PythonRDD.scala:441)\n\tat org.apache.spark.api.python.PythonRDD.runJob(PythonRDD.scala)\n\tat sun.reflect.GeneratedMethodAccessor84.invoke(Unknown Source)\n\tat sun.reflect.DelegatingMethodAccessorImpl.invoke(DelegatingMethodAccessorImpl.java:43)\n\tat java.lang.reflect.Method.invoke(Method.java:498)\n\tat py4j.reflection.MethodInvoker.invoke(MethodInvoker.java:244)\n\tat py4j.reflection.ReflectionEngine.invoke(ReflectionEngine.java:357)\n\tat py4j.Gateway.invoke(Gateway.java:280)\n\tat py4j.commands.AbstractCommand.invokeMethod(AbstractCommand.java:132)\n\tat py4j.commands.CallCommand.execute(CallCommand.java:79)\n\tat py4j.GatewayConnection.run(GatewayConnection.java:214)\n\tat java.lang.Thread.run(Thread.java:748)\nCaused by: java.net.SocketException: Connection reset\n\tat java.net.SocketInputStream.read(SocketInputStream.java:209)\n\tat java.net.SocketInputStream.read(SocketInputStream.java:141)\n\tat java.io.BufferedInputStream.fill(BufferedInputStream.java:246)\n\tat java.io.BufferedInputStream.read(BufferedInputStream.java:265)\n\tat java.io.DataInputStream.readInt(DataInputStream.java:387)\n\tat org.apache.spark.api.python.PythonRunner$$anon$1.read(PythonRDD.scala:166)\n\tat org.apache.spark.api.python.PythonRunner$$anon$1.<init>(PythonRDD.scala:234)\n\tat org.apache.spark.api.python.PythonRunner.compute(PythonRDD.scala:152)\n\tat org.apache.spark.api.python.PythonRDD.compute(PythonRDD.scala:63)\n\tat org.apache.spark.rdd.RDD.computeOrReadCheckpoint(RDD.scala:323)\n\tat org.apache.spark.rdd.RDD.iterator(RDD.scala:287)\n\tat org.apache.spark.rdd.MapPartitionsRDD.compute(MapPartitionsRDD.scala:38)\n\tat org.apache.spark.rdd.RDD.computeOrReadCheckpoint(RDD.scala:323)\n\tat org.apache.spark.rdd.RDD.iterator(RDD.scala:287)\n\tat org.apache.spark.rdd.MapPartitionsRDD.compute(MapPartitionsRDD.scala:38)\n\tat org.apache.spark.rdd.RDD.computeOrReadCheckpoint(RDD.scala:323)\n\tat org.apache.spark.rdd.RDD.iterator(RDD.scala:287)\n\tat org.apache.spark.rdd.MapPartitionsRDD.compute(MapPartitionsRDD.scala:38)\n\tat org.apache.spark.rdd.RDD.computeOrReadCheckpoint(RDD.scala:323)\n\tat org.apache.spark.rdd.RDD.iterator(RDD.scala:287)\n\tat org.apache.spark.rdd.MapPartitionsRDD.compute(MapPartitionsRDD.scala:38)\n\tat org.apache.spark.rdd.RDD.computeOrReadCheckpoint(RDD.scala:323)\n\tat org.apache.spark.rdd.RDD.iterator(RDD.scala:287)\n\tat org.apache.spark.rdd.MapPartitionsRDD.compute(MapPartitionsRDD.scala:38)\n\tat org.apache.spark.rdd.RDD.computeOrReadCheckpoint(RDD.scala:323)\n\tat org.apache.spark.rdd.RDD.iterator(RDD.scala:287)\n\tat org.apache.spark.rdd.MapPartitionsRDD.compute(MapPartitionsRDD.scala:38)\n\tat org.apache.spark.rdd.RDD.computeOrReadCheckpoint(RDD.scala:323)\n\tat org.apache.spark.rdd.RDD.iterator(RDD.scala:287)\n\tat org.apache.spark.rdd.MapPartitionsRDD.compute(MapPartitionsRDD.scala:38)\n\tat org.apache.spark.rdd.RDD.computeOrReadCheckpoint(RDD.scala:323)\n\tat org.apache.spark.rdd.RDD.iterator(RDD.scala:287)\n\tat org.apache.spark.rdd.MapPartitionsRDD.compute(MapPartitionsRDD.scala:38)\n\tat org.apache.spark.rdd.RDD.computeOrReadCheckpoint(RDD.scala:323)\n\tat org.apache.spark.rdd.RDD.iterator(RDD.scala:287)\n\tat org.apache.spark.rdd.MapPartitionsRDD.compute(MapPartitionsRDD.scala:38)\n\tat org.apache.spark.rdd.RDD.computeOrReadCheckpoint(RDD.scala:323)\n\tat org.apache.spark.rdd.RDD.iterator(RDD.scala:287)\n\tat org.apache.spark.rdd.MapPartitionsRDD.compute(MapPartitionsRDD.scala:38)\n\tat org.apache.spark.rdd.RDD.computeOrReadCheckpoint(RDD.scala:323)\n\tat org.apache.spark.rdd.RDD.iterator(RDD.scala:287)\n\tat org.apache.spark.rdd.MapPartitionsRDD.compute(MapPartitionsRDD.scala:38)\n\tat org.apache.spark.rdd.RDD.computeOrReadCheckpoint(RDD.scala:323)\n\tat org.apache.spark.rdd.RDD.iterator(RDD.scala:287)\n\tat org.apache.spark.api.python.PythonRDD.compute(PythonRDD.scala:63)\n\tat org.apache.spark.rdd.RDD.computeOrReadCheckpoint(RDD.scala:323)\n\tat org.apache.spark.rdd.RDD.iterator(RDD.scala:287)\n\tat org.apache.spark.rdd.UnionRDD.compute(UnionRDD.scala:105)\n\tat org.apache.spark.rdd.RDD.computeOrReadCheckpoint(RDD.scala:323)\n\tat org.apache.spark.rdd.RDD.iterator(RDD.scala:287)\n\tat org.apache.spark.api.python.PythonRDD.compute(PythonRDD.scala:63)\n\tat org.apache.spark.rdd.RDD.computeOrReadCheckpoint(RDD.scala:323)\n\tat org.apache.spark.rdd.RDD.iterator(RDD.scala:287)\n\tat org.apache.spark.api.python.PairwiseRDD.compute(PythonRDD.scala:390)\n\tat org.apache.spark.rdd.RDD.computeOrReadCheckpoint(RDD.scala:323)\n\tat org.apache.spark.rdd.RDD.iterator(RDD.scala:287)\n\tat org.apache.spark.scheduler.ShuffleMapTask.runTask(ShuffleMapTask.scala:96)\n\tat org.apache.spark.scheduler.ShuffleMapTask.runTask(ShuffleMapTask.scala:53)\n\tat org.apache.spark.scheduler.Task.run(Task.scala:99)\n\tat org.apache.spark.executor.Executor$TaskRunner.run(Executor.scala:322)\n\tat java.util.concurrent.ThreadPoolExecutor.runWorker(ThreadPoolExecutor.java:1142)\n\tat java.util.concurrent.ThreadPoolExecutor$Worker.run(ThreadPoolExecutor.java:617)\n\tat java.lang.Thread.run(Thread.java:745)\n"
     ]
    }
   ],
   "source": [
    "spark_top_k_subs(tf_ij, 'The_Donald', subreddit_to_idx, k = 10)"
   ]
  },
  {
   "cell_type": "code",
   "execution_count": 18,
   "metadata": {
    "collapsed": false
   },
   "outputs": [
    {
     "data": {
      "text/plain": [
       "[u'The_Donald',\n",
       " u'AskThe_Donald',\n",
       " u'AskTrumpSupporters',\n",
       " u'Whatcouldgowrong',\n",
       " u'CringeAnarchy',\n",
       " u'uncensorednews',\n",
       " u'milliondollarextreme',\n",
       " u'sadcringe',\n",
       " u'conspiracy',\n",
       " u'Conservative',\n",
       " u'Warhammer40k',\n",
       " u'SquaredCircle',\n",
       " u'KotakuInAction',\n",
       " u'AdviceAnimals',\n",
       " u'Watches',\n",
       " u'Mcat',\n",
       " u'Libertarian',\n",
       " u'ImGoingToHellForThis',\n",
       " u'Tekken',\n",
       " u'Advice']"
      ]
     },
     "execution_count": 18,
     "metadata": {},
     "output_type": "execute_result"
    }
   ],
   "source": [
    "spark_top_k_subs(tf_ij2, 'The_Donald', subreddit_to_idx, k = 20)"
   ]
  },
  {
   "cell_type": "code",
   "execution_count": 136,
   "metadata": {
    "collapsed": false
   },
   "outputs": [
    {
     "data": {
      "text/plain": [
       "[u'baseball',\n",
       " u'WahoosTipi',\n",
       " u'redsox',\n",
       " u'CHICubs',\n",
       " u'NYYankees',\n",
       " u'nfl',\n",
       " u'Dodgers',\n",
       " u'fantasybaseball',\n",
       " u'nba',\n",
       " u'magicTCG']"
      ]
     },
     "execution_count": 136,
     "metadata": {},
     "output_type": "execute_result"
    }
   ],
   "source": [
    "spark_top_k_subs(tf_ij, 'baseball', subreddit_to_idx, k = 10)"
   ]
  },
  {
   "cell_type": "code",
   "execution_count": 1243,
   "metadata": {
    "collapsed": false
   },
   "outputs": [
    {
     "data": {
      "text/plain": [
       "[u'Games', u'xboxone', u'RocketLeagueExchange', u'movies', u'FFBraveExvius']"
      ]
     },
     "execution_count": 1243,
     "metadata": {},
     "output_type": "execute_result"
    }
   ],
   "source": [
    "spark_top_k_subs(p_ij, 'Games', subreddit_to_idx, k = 5)"
   ]
  },
  {
   "cell_type": "code",
   "execution_count": 26,
   "metadata": {
    "collapsed": false
   },
   "outputs": [
    {
     "data": {
      "text/plain": [
       "[u'DotA2', u'learndota2', u'pawg', u'bravefrontier', u'forwardsfromgrandma']"
      ]
     },
     "execution_count": 26,
     "metadata": {},
     "output_type": "execute_result"
    },
    {
     "name": "stdout",
     "output_type": "stream",
     "text": [
      "\n"
     ]
    }
   ],
   "source": [
    "spark_top_k_subs(tf_ij, 'DotA2', subreddit_to_idx, k = 5)"
   ]
  },
  {
   "cell_type": "code",
   "execution_count": 11,
   "metadata": {
    "collapsed": false
   },
   "outputs": [
    {
     "ename": "Py4JJavaError",
     "evalue": "An error occurred while calling z:org.apache.spark.api.python.PythonRDD.runJob.\n: org.apache.spark.SparkException: Job aborted due to stage failure: Task 3 in stage 62.0 failed 4 times, most recent failure: Lost task 3.3 in stage 62.0 (TID 1438, 10.0.0.11, executor 1): java.net.SocketException: Connection reset\n\tat java.net.SocketInputStream.read(SocketInputStream.java:209)\n\tat java.net.SocketInputStream.read(SocketInputStream.java:141)\n\tat java.io.BufferedInputStream.fill(BufferedInputStream.java:246)\n\tat java.io.BufferedInputStream.read1(BufferedInputStream.java:286)\n\tat java.io.BufferedInputStream.read(BufferedInputStream.java:345)\n\tat java.io.DataInputStream.readFully(DataInputStream.java:195)\n\tat java.io.DataInputStream.readFully(DataInputStream.java:169)\n\tat org.apache.spark.api.python.PythonRunner$$anon$1.read(PythonRDD.scala:169)\n\tat org.apache.spark.api.python.PythonRunner$$anon$1.next(PythonRDD.scala:156)\n\tat org.apache.spark.api.python.PythonRunner$$anon$1.next(PythonRDD.scala:152)\n\tat org.apache.spark.InterruptibleIterator.next(InterruptibleIterator.scala:43)\n\tat scala.collection.Iterator$class.foreach(Iterator.scala:893)\n\tat org.apache.spark.InterruptibleIterator.foreach(InterruptibleIterator.scala:28)\n\tat org.apache.spark.api.python.PythonRDD$.writeIteratorToStream(PythonRDD.scala:504)\n\tat org.apache.spark.api.python.PythonRunner$WriterThread$$anonfun$run$3.apply(PythonRDD.scala:328)\n\tat org.apache.spark.util.Utils$.logUncaughtExceptions(Utils.scala:1951)\n\tat org.apache.spark.api.python.PythonRunner$WriterThread.run(PythonRDD.scala:269)\n\nDriver stacktrace:\n\tat org.apache.spark.scheduler.DAGScheduler.org$apache$spark$scheduler$DAGScheduler$$failJobAndIndependentStages(DAGScheduler.scala:1435)\n\tat org.apache.spark.scheduler.DAGScheduler$$anonfun$abortStage$1.apply(DAGScheduler.scala:1423)\n\tat org.apache.spark.scheduler.DAGScheduler$$anonfun$abortStage$1.apply(DAGScheduler.scala:1422)\n\tat scala.collection.mutable.ResizableArray$class.foreach(ResizableArray.scala:59)\n\tat scala.collection.mutable.ArrayBuffer.foreach(ArrayBuffer.scala:48)\n\tat org.apache.spark.scheduler.DAGScheduler.abortStage(DAGScheduler.scala:1422)\n\tat org.apache.spark.scheduler.DAGScheduler$$anonfun$handleTaskSetFailed$1.apply(DAGScheduler.scala:802)\n\tat org.apache.spark.scheduler.DAGScheduler$$anonfun$handleTaskSetFailed$1.apply(DAGScheduler.scala:802)\n\tat scala.Option.foreach(Option.scala:257)\n\tat org.apache.spark.scheduler.DAGScheduler.handleTaskSetFailed(DAGScheduler.scala:802)\n\tat org.apache.spark.scheduler.DAGSchedulerEventProcessLoop.doOnReceive(DAGScheduler.scala:1650)\n\tat org.apache.spark.scheduler.DAGSchedulerEventProcessLoop.onReceive(DAGScheduler.scala:1605)\n\tat org.apache.spark.scheduler.DAGSchedulerEventProcessLoop.onReceive(DAGScheduler.scala:1594)\n\tat org.apache.spark.util.EventLoop$$anon$1.run(EventLoop.scala:48)\n\tat org.apache.spark.scheduler.DAGScheduler.runJob(DAGScheduler.scala:628)\n\tat org.apache.spark.SparkContext.runJob(SparkContext.scala:1925)\n\tat org.apache.spark.SparkContext.runJob(SparkContext.scala:1938)\n\tat org.apache.spark.SparkContext.runJob(SparkContext.scala:1951)\n\tat org.apache.spark.api.python.PythonRDD$.runJob(PythonRDD.scala:441)\n\tat org.apache.spark.api.python.PythonRDD.runJob(PythonRDD.scala)\n\tat sun.reflect.NativeMethodAccessorImpl.invoke0(Native Method)\n\tat sun.reflect.NativeMethodAccessorImpl.invoke(NativeMethodAccessorImpl.java:62)\n\tat sun.reflect.DelegatingMethodAccessorImpl.invoke(DelegatingMethodAccessorImpl.java:43)\n\tat java.lang.reflect.Method.invoke(Method.java:498)\n\tat py4j.reflection.MethodInvoker.invoke(MethodInvoker.java:244)\n\tat py4j.reflection.ReflectionEngine.invoke(ReflectionEngine.java:357)\n\tat py4j.Gateway.invoke(Gateway.java:280)\n\tat py4j.commands.AbstractCommand.invokeMethod(AbstractCommand.java:132)\n\tat py4j.commands.CallCommand.execute(CallCommand.java:79)\n\tat py4j.GatewayConnection.run(GatewayConnection.java:214)\n\tat java.lang.Thread.run(Thread.java:748)\nCaused by: java.net.SocketException: Connection reset\n\tat java.net.SocketInputStream.read(SocketInputStream.java:209)\n\tat java.net.SocketInputStream.read(SocketInputStream.java:141)\n\tat java.io.BufferedInputStream.fill(BufferedInputStream.java:246)\n\tat java.io.BufferedInputStream.read1(BufferedInputStream.java:286)\n\tat java.io.BufferedInputStream.read(BufferedInputStream.java:345)\n\tat java.io.DataInputStream.readFully(DataInputStream.java:195)\n\tat java.io.DataInputStream.readFully(DataInputStream.java:169)\n\tat org.apache.spark.api.python.PythonRunner$$anon$1.read(PythonRDD.scala:169)\n\tat org.apache.spark.api.python.PythonRunner$$anon$1.next(PythonRDD.scala:156)\n\tat org.apache.spark.api.python.PythonRunner$$anon$1.next(PythonRDD.scala:152)\n\tat org.apache.spark.InterruptibleIterator.next(InterruptibleIterator.scala:43)\n\tat scala.collection.Iterator$class.foreach(Iterator.scala:893)\n\tat org.apache.spark.InterruptibleIterator.foreach(InterruptibleIterator.scala:28)\n\tat org.apache.spark.api.python.PythonRDD$.writeIteratorToStream(PythonRDD.scala:504)\n\tat org.apache.spark.api.python.PythonRunner$WriterThread$$anonfun$run$3.apply(PythonRDD.scala:328)\n\tat org.apache.spark.util.Utils$.logUncaughtExceptions(Utils.scala:1951)\n\tat org.apache.spark.api.python.PythonRunner$WriterThread.run(PythonRDD.scala:269)\n",
     "output_type": "error",
     "traceback": [
      "\u001b[1;31m---------------------------------------------------------------------------\u001b[0m",
      "\u001b[1;31mPy4JJavaError\u001b[0m                             Traceback (most recent call last)",
      "\u001b[1;32m<ipython-input-11-b9b1b90a22b3>\u001b[0m in \u001b[0;36m<module>\u001b[1;34m()\u001b[0m\n\u001b[1;32m----> 1\u001b[1;33m \u001b[0mspark_top_k_subs\u001b[0m\u001b[1;33m(\u001b[0m\u001b[0mtf_ij\u001b[0m\u001b[1;33m,\u001b[0m \u001b[1;34m'DotA2'\u001b[0m\u001b[1;33m,\u001b[0m \u001b[0msubreddit_to_idx\u001b[0m\u001b[1;33m,\u001b[0m \u001b[0mk\u001b[0m \u001b[1;33m=\u001b[0m \u001b[1;36m5\u001b[0m\u001b[1;33m)\u001b[0m\u001b[1;33m\u001b[0m\u001b[0m\n\u001b[0m",
      "\u001b[1;32m/home/ubuntu/cf_spark.py\u001b[0m in \u001b[0;36mspark_top_k_subs\u001b[1;34m(activity, subreddit, subreddit_to_idx, k)\u001b[0m\n\u001b[0;32m     48\u001b[0m \u001b[1;33m\u001b[0m\u001b[0m\n\u001b[0;32m     49\u001b[0m \u001b[1;32mdef\u001b[0m \u001b[0mspark_top_k_subs\u001b[0m\u001b[1;33m(\u001b[0m\u001b[0mactivity\u001b[0m\u001b[1;33m,\u001b[0m \u001b[0msubreddit\u001b[0m\u001b[1;33m,\u001b[0m \u001b[0msubreddit_to_idx\u001b[0m\u001b[1;33m,\u001b[0m \u001b[0mk\u001b[0m \u001b[1;33m=\u001b[0m \u001b[1;36m5\u001b[0m\u001b[1;33m)\u001b[0m\u001b[1;33m:\u001b[0m\u001b[1;33m\u001b[0m\u001b[0m\n\u001b[1;32m---> 50\u001b[1;33m     \u001b[0msim\u001b[0m \u001b[1;33m=\u001b[0m \u001b[0msimilarity_matrix\u001b[0m\u001b[1;33m(\u001b[0m\u001b[0mactivity\u001b[0m\u001b[1;33m)\u001b[0m\u001b[1;33m\u001b[0m\u001b[0m\n\u001b[0m\u001b[0;32m     51\u001b[0m     \u001b[1;32mtry\u001b[0m\u001b[1;33m:\u001b[0m\u001b[1;33m\u001b[0m\u001b[0m\n\u001b[0;32m     52\u001b[0m         \u001b[0mrow\u001b[0m \u001b[1;33m=\u001b[0m \u001b[0mla\u001b[0m\u001b[1;33m.\u001b[0m\u001b[0mcoordinatematrix_sort_rows\u001b[0m\u001b[1;33m(\u001b[0m\u001b[0msim\u001b[0m\u001b[1;33m,\u001b[0m \u001b[0mk\u001b[0m\u001b[1;33m)\u001b[0m\u001b[1;33m[\u001b[0m\u001b[0msubreddit_to_idx\u001b[0m\u001b[1;33m(\u001b[0m\u001b[0msubreddit\u001b[0m\u001b[1;33m)\u001b[0m\u001b[1;33m]\u001b[0m\u001b[1;33m\u001b[0m\u001b[0m\n",
      "\u001b[1;32m/home/ubuntu/linalg.pyc\u001b[0m in \u001b[0;36mnew_f\u001b[1;34m(*args, **kwargs)\u001b[0m\n\u001b[0;32m     15\u001b[0m         \u001b[0mids\u001b[0m \u001b[1;33m=\u001b[0m \u001b[0mtuple\u001b[0m\u001b[1;33m(\u001b[0m\u001b[0mmap\u001b[0m\u001b[1;33m(\u001b[0m\u001b[0mid\u001b[0m\u001b[1;33m,\u001b[0m \u001b[0margs\u001b[0m\u001b[1;33m)\u001b[0m\u001b[1;33m)\u001b[0m \u001b[1;33m+\u001b[0m \u001b[0mtuple\u001b[0m\u001b[1;33m(\u001b[0m\u001b[0mmap\u001b[0m\u001b[1;33m(\u001b[0m\u001b[0mid\u001b[0m\u001b[1;33m,\u001b[0m \u001b[0mkwargs\u001b[0m\u001b[1;33m)\u001b[0m\u001b[1;33m)\u001b[0m\u001b[1;33m\u001b[0m\u001b[0m\n\u001b[0;32m     16\u001b[0m         \u001b[1;32mif\u001b[0m \u001b[0mids\u001b[0m \u001b[1;32mnot\u001b[0m \u001b[1;32min\u001b[0m \u001b[0mcache\u001b[0m\u001b[1;33m:\u001b[0m\u001b[1;33m\u001b[0m\u001b[0m\n\u001b[1;32m---> 17\u001b[1;33m             \u001b[0mcache\u001b[0m\u001b[1;33m[\u001b[0m\u001b[0mids\u001b[0m\u001b[1;33m]\u001b[0m \u001b[1;33m=\u001b[0m \u001b[0mf\u001b[0m\u001b[1;33m(\u001b[0m\u001b[1;33m*\u001b[0m\u001b[0margs\u001b[0m\u001b[1;33m,\u001b[0m \u001b[1;33m**\u001b[0m\u001b[0mkwargs\u001b[0m\u001b[1;33m)\u001b[0m\u001b[1;33m\u001b[0m\u001b[0m\n\u001b[0m\u001b[0;32m     18\u001b[0m         \u001b[1;32mreturn\u001b[0m \u001b[0mcache\u001b[0m\u001b[1;33m[\u001b[0m\u001b[0mids\u001b[0m\u001b[1;33m]\u001b[0m\u001b[1;33m\u001b[0m\u001b[0m\n\u001b[0;32m     19\u001b[0m     \u001b[1;32mreturn\u001b[0m \u001b[0mnew_f\u001b[0m\u001b[1;33m\u001b[0m\u001b[0m\n",
      "\u001b[1;32m/home/ubuntu/cf_spark.py\u001b[0m in \u001b[0;36msimilarity_matrix\u001b[1;34m(activity)\u001b[0m\n\u001b[0;32m     10\u001b[0m     sim = la.coordinateMatrixMultiply(\n\u001b[0;32m     11\u001b[0m         \u001b[0mactivity\u001b[0m\u001b[1;33m,\u001b[0m\u001b[1;33m\u001b[0m\u001b[0m\n\u001b[1;32m---> 12\u001b[1;33m         la.transpose_coordinatematrix(activity))\n\u001b[0m\u001b[0;32m     13\u001b[0m     \u001b[0mdiag\u001b[0m \u001b[1;33m=\u001b[0m  \u001b[0mla\u001b[0m\u001b[1;33m.\u001b[0m\u001b[0mcoordinate_matrix_diagonal\u001b[0m\u001b[1;33m(\u001b[0m\u001b[0msim\u001b[0m\u001b[1;33m)\u001b[0m\u001b[1;33m\u001b[0m\u001b[0m\n\u001b[0;32m     14\u001b[0m     \u001b[0mnorms\u001b[0m \u001b[1;33m=\u001b[0m \u001b[0mla\u001b[0m\u001b[1;33m.\u001b[0m\u001b[0msparse_vector_elementwise\u001b[0m\u001b[1;33m(\u001b[0m\u001b[0mdiag\u001b[0m\u001b[1;33m,\u001b[0m \u001b[1;32mlambda\u001b[0m \u001b[0mnum\u001b[0m\u001b[1;33m:\u001b[0m \u001b[0mnp\u001b[0m\u001b[1;33m.\u001b[0m\u001b[0msqrt\u001b[0m\u001b[1;33m(\u001b[0m\u001b[0mnum\u001b[0m\u001b[1;33m)\u001b[0m\u001b[1;33m)\u001b[0m\u001b[1;33m\u001b[0m\u001b[0m\n",
      "\u001b[1;32m/home/ubuntu/linalg.pyc\u001b[0m in \u001b[0;36mcoordinateMatrixMultiply\u001b[1;34m(leftmat, rightmat, zero_threshold)\u001b[0m\n\u001b[0;32m     51\u001b[0m     \u001b[1;33m.\u001b[0m\u001b[0mpersist\u001b[0m\u001b[1;33m(\u001b[0m\u001b[0mpyspark\u001b[0m\u001b[1;33m.\u001b[0m\u001b[0mstoragelevel\u001b[0m\u001b[1;33m.\u001b[0m\u001b[0mStorageLevel\u001b[0m\u001b[1;33m.\u001b[0m\u001b[0mMEMORY_AND_DISK_SER\u001b[0m\u001b[1;33m)\u001b[0m\u001b[1;33m\u001b[0m\u001b[0m\n\u001b[0;32m     52\u001b[0m \u001b[1;33m\u001b[0m\u001b[0m\n\u001b[1;32m---> 53\u001b[1;33m     \u001b[1;32mreturn\u001b[0m \u001b[0mpyspark\u001b[0m\u001b[1;33m.\u001b[0m\u001b[0mmllib\u001b[0m\u001b[1;33m.\u001b[0m\u001b[0mlinalg\u001b[0m\u001b[1;33m.\u001b[0m\u001b[0mdistributed\u001b[0m\u001b[1;33m.\u001b[0m\u001b[0mCoordinateMatrix\u001b[0m\u001b[1;33m(\u001b[0m\u001b[0mproduct_entries\u001b[0m\u001b[1;33m)\u001b[0m\u001b[1;33m\u001b[0m\u001b[0m\n\u001b[0m\u001b[0;32m     54\u001b[0m \u001b[1;33m\u001b[0m\u001b[0m\n\u001b[0;32m     55\u001b[0m \u001b[1;32mdef\u001b[0m \u001b[0meval_matrix_binop\u001b[0m\u001b[1;33m(\u001b[0m\u001b[0mndarr1\u001b[0m\u001b[1;33m,\u001b[0m \u001b[0mndarr2\u001b[0m\u001b[1;33m,\u001b[0m \u001b[0mop\u001b[0m\u001b[1;33m,\u001b[0m \u001b[1;33m**\u001b[0m\u001b[0mkwargs\u001b[0m\u001b[1;33m)\u001b[0m\u001b[1;33m:\u001b[0m\u001b[1;33m\u001b[0m\u001b[0m\n",
      "\u001b[1;32m/usr/local/spark/python/pyspark/mllib/linalg/distributed.pyc\u001b[0m in \u001b[0;36m__init__\u001b[1;34m(self, entries, numRows, numCols)\u001b[0m\n\u001b[0;32m    606\u001b[0m             \u001b[1;31m# each be easily serialized. We will convert back to\u001b[0m\u001b[1;33m\u001b[0m\u001b[1;33m\u001b[0m\u001b[0m\n\u001b[0;32m    607\u001b[0m             \u001b[1;31m# MatrixEntry inputs on the Scala side.\u001b[0m\u001b[1;33m\u001b[0m\u001b[1;33m\u001b[0m\u001b[0m\n\u001b[1;32m--> 608\u001b[1;33m             java_matrix = callMLlibFunc(\"createCoordinateMatrix\", entries.toDF(),\n\u001b[0m\u001b[0;32m    609\u001b[0m                                         long(numRows), long(numCols))\n\u001b[0;32m    610\u001b[0m         elif (isinstance(entries, JavaObject)\n",
      "\u001b[1;32m/usr/local/spark/python/pyspark/sql/session.pyc\u001b[0m in \u001b[0;36mtoDF\u001b[1;34m(self, schema, sampleRatio)\u001b[0m\n\u001b[0;32m     55\u001b[0m         \u001b[1;33m[\u001b[0m\u001b[0mRow\u001b[0m\u001b[1;33m(\u001b[0m\u001b[0mname\u001b[0m\u001b[1;33m=\u001b[0m\u001b[1;34mu'Alice'\u001b[0m\u001b[1;33m,\u001b[0m \u001b[0mage\u001b[0m\u001b[1;33m=\u001b[0m\u001b[1;36m1\u001b[0m\u001b[1;33m)\u001b[0m\u001b[1;33m]\u001b[0m\u001b[1;33m\u001b[0m\u001b[0m\n\u001b[0;32m     56\u001b[0m         \"\"\"\n\u001b[1;32m---> 57\u001b[1;33m         \u001b[1;32mreturn\u001b[0m \u001b[0msparkSession\u001b[0m\u001b[1;33m.\u001b[0m\u001b[0mcreateDataFrame\u001b[0m\u001b[1;33m(\u001b[0m\u001b[0mself\u001b[0m\u001b[1;33m,\u001b[0m \u001b[0mschema\u001b[0m\u001b[1;33m,\u001b[0m \u001b[0msampleRatio\u001b[0m\u001b[1;33m)\u001b[0m\u001b[1;33m\u001b[0m\u001b[0m\n\u001b[0m\u001b[0;32m     58\u001b[0m \u001b[1;33m\u001b[0m\u001b[0m\n\u001b[0;32m     59\u001b[0m     \u001b[0mRDD\u001b[0m\u001b[1;33m.\u001b[0m\u001b[0mtoDF\u001b[0m \u001b[1;33m=\u001b[0m \u001b[0mtoDF\u001b[0m\u001b[1;33m\u001b[0m\u001b[0m\n",
      "\u001b[1;32m/usr/local/spark/python/pyspark/sql/session.pyc\u001b[0m in \u001b[0;36mcreateDataFrame\u001b[1;34m(self, data, schema, samplingRatio, verifySchema)\u001b[0m\n\u001b[0;32m    522\u001b[0m \u001b[1;33m\u001b[0m\u001b[0m\n\u001b[0;32m    523\u001b[0m         \u001b[1;32mif\u001b[0m \u001b[0misinstance\u001b[0m\u001b[1;33m(\u001b[0m\u001b[0mdata\u001b[0m\u001b[1;33m,\u001b[0m \u001b[0mRDD\u001b[0m\u001b[1;33m)\u001b[0m\u001b[1;33m:\u001b[0m\u001b[1;33m\u001b[0m\u001b[0m\n\u001b[1;32m--> 524\u001b[1;33m             \u001b[0mrdd\u001b[0m\u001b[1;33m,\u001b[0m \u001b[0mschema\u001b[0m \u001b[1;33m=\u001b[0m \u001b[0mself\u001b[0m\u001b[1;33m.\u001b[0m\u001b[0m_createFromRDD\u001b[0m\u001b[1;33m(\u001b[0m\u001b[0mdata\u001b[0m\u001b[1;33m.\u001b[0m\u001b[0mmap\u001b[0m\u001b[1;33m(\u001b[0m\u001b[0mprepare\u001b[0m\u001b[1;33m)\u001b[0m\u001b[1;33m,\u001b[0m \u001b[0mschema\u001b[0m\u001b[1;33m,\u001b[0m \u001b[0msamplingRatio\u001b[0m\u001b[1;33m)\u001b[0m\u001b[1;33m\u001b[0m\u001b[0m\n\u001b[0m\u001b[0;32m    525\u001b[0m         \u001b[1;32melse\u001b[0m\u001b[1;33m:\u001b[0m\u001b[1;33m\u001b[0m\u001b[0m\n\u001b[0;32m    526\u001b[0m             \u001b[0mrdd\u001b[0m\u001b[1;33m,\u001b[0m \u001b[0mschema\u001b[0m \u001b[1;33m=\u001b[0m \u001b[0mself\u001b[0m\u001b[1;33m.\u001b[0m\u001b[0m_createFromLocal\u001b[0m\u001b[1;33m(\u001b[0m\u001b[0mmap\u001b[0m\u001b[1;33m(\u001b[0m\u001b[0mprepare\u001b[0m\u001b[1;33m,\u001b[0m \u001b[0mdata\u001b[0m\u001b[1;33m)\u001b[0m\u001b[1;33m,\u001b[0m \u001b[0mschema\u001b[0m\u001b[1;33m)\u001b[0m\u001b[1;33m\u001b[0m\u001b[0m\n",
      "\u001b[1;32m/usr/local/spark/python/pyspark/sql/session.pyc\u001b[0m in \u001b[0;36m_createFromRDD\u001b[1;34m(self, rdd, schema, samplingRatio)\u001b[0m\n\u001b[0;32m    362\u001b[0m         \"\"\"\n\u001b[0;32m    363\u001b[0m         \u001b[1;32mif\u001b[0m \u001b[0mschema\u001b[0m \u001b[1;32mis\u001b[0m \u001b[0mNone\u001b[0m \u001b[1;32mor\u001b[0m \u001b[0misinstance\u001b[0m\u001b[1;33m(\u001b[0m\u001b[0mschema\u001b[0m\u001b[1;33m,\u001b[0m \u001b[1;33m(\u001b[0m\u001b[0mlist\u001b[0m\u001b[1;33m,\u001b[0m \u001b[0mtuple\u001b[0m\u001b[1;33m)\u001b[0m\u001b[1;33m)\u001b[0m\u001b[1;33m:\u001b[0m\u001b[1;33m\u001b[0m\u001b[0m\n\u001b[1;32m--> 364\u001b[1;33m             \u001b[0mstruct\u001b[0m \u001b[1;33m=\u001b[0m \u001b[0mself\u001b[0m\u001b[1;33m.\u001b[0m\u001b[0m_inferSchema\u001b[0m\u001b[1;33m(\u001b[0m\u001b[0mrdd\u001b[0m\u001b[1;33m,\u001b[0m \u001b[0msamplingRatio\u001b[0m\u001b[1;33m)\u001b[0m\u001b[1;33m\u001b[0m\u001b[0m\n\u001b[0m\u001b[0;32m    365\u001b[0m             \u001b[0mconverter\u001b[0m \u001b[1;33m=\u001b[0m \u001b[0m_create_converter\u001b[0m\u001b[1;33m(\u001b[0m\u001b[0mstruct\u001b[0m\u001b[1;33m)\u001b[0m\u001b[1;33m\u001b[0m\u001b[0m\n\u001b[0;32m    366\u001b[0m             \u001b[0mrdd\u001b[0m \u001b[1;33m=\u001b[0m \u001b[0mrdd\u001b[0m\u001b[1;33m.\u001b[0m\u001b[0mmap\u001b[0m\u001b[1;33m(\u001b[0m\u001b[0mconverter\u001b[0m\u001b[1;33m)\u001b[0m\u001b[1;33m\u001b[0m\u001b[0m\n",
      "\u001b[1;32m/usr/local/spark/python/pyspark/sql/session.pyc\u001b[0m in \u001b[0;36m_inferSchema\u001b[1;34m(self, rdd, samplingRatio)\u001b[0m\n\u001b[0;32m    333\u001b[0m         \u001b[1;33m:\u001b[0m\u001b[1;32mreturn\u001b[0m\u001b[1;33m:\u001b[0m \u001b[1;33m:\u001b[0m\u001b[1;32mclass\u001b[0m\u001b[1;33m:\u001b[0m\u001b[1;33m`\u001b[0m\u001b[0mpyspark\u001b[0m\u001b[1;33m.\u001b[0m\u001b[0msql\u001b[0m\u001b[1;33m.\u001b[0m\u001b[0mtypes\u001b[0m\u001b[1;33m.\u001b[0m\u001b[0mStructType\u001b[0m\u001b[1;33m`\u001b[0m\u001b[1;33m\u001b[0m\u001b[0m\n\u001b[0;32m    334\u001b[0m         \"\"\"\n\u001b[1;32m--> 335\u001b[1;33m         \u001b[0mfirst\u001b[0m \u001b[1;33m=\u001b[0m \u001b[0mrdd\u001b[0m\u001b[1;33m.\u001b[0m\u001b[0mfirst\u001b[0m\u001b[1;33m(\u001b[0m\u001b[1;33m)\u001b[0m\u001b[1;33m\u001b[0m\u001b[0m\n\u001b[0m\u001b[0;32m    336\u001b[0m         \u001b[1;32mif\u001b[0m \u001b[1;32mnot\u001b[0m \u001b[0mfirst\u001b[0m\u001b[1;33m:\u001b[0m\u001b[1;33m\u001b[0m\u001b[0m\n\u001b[0;32m    337\u001b[0m             raise ValueError(\"The first row in RDD is empty, \"\n",
      "\u001b[1;32m/usr/local/spark/python/pyspark/rdd.pyc\u001b[0m in \u001b[0;36mfirst\u001b[1;34m(self)\u001b[0m\n\u001b[0;32m   1358\u001b[0m         \u001b[0mValueError\u001b[0m\u001b[1;33m:\u001b[0m \u001b[0mRDD\u001b[0m \u001b[1;32mis\u001b[0m \u001b[0mempty\u001b[0m\u001b[1;33m\u001b[0m\u001b[0m\n\u001b[0;32m   1359\u001b[0m         \"\"\"\n\u001b[1;32m-> 1360\u001b[1;33m         \u001b[0mrs\u001b[0m \u001b[1;33m=\u001b[0m \u001b[0mself\u001b[0m\u001b[1;33m.\u001b[0m\u001b[0mtake\u001b[0m\u001b[1;33m(\u001b[0m\u001b[1;36m1\u001b[0m\u001b[1;33m)\u001b[0m\u001b[1;33m\u001b[0m\u001b[0m\n\u001b[0m\u001b[0;32m   1361\u001b[0m         \u001b[1;32mif\u001b[0m \u001b[0mrs\u001b[0m\u001b[1;33m:\u001b[0m\u001b[1;33m\u001b[0m\u001b[0m\n\u001b[0;32m   1362\u001b[0m             \u001b[1;32mreturn\u001b[0m \u001b[0mrs\u001b[0m\u001b[1;33m[\u001b[0m\u001b[1;36m0\u001b[0m\u001b[1;33m]\u001b[0m\u001b[1;33m\u001b[0m\u001b[0m\n",
      "\u001b[1;32m/usr/local/spark/python/pyspark/rdd.pyc\u001b[0m in \u001b[0;36mtake\u001b[1;34m(self, num)\u001b[0m\n\u001b[0;32m   1340\u001b[0m \u001b[1;33m\u001b[0m\u001b[0m\n\u001b[0;32m   1341\u001b[0m             \u001b[0mp\u001b[0m \u001b[1;33m=\u001b[0m \u001b[0mrange\u001b[0m\u001b[1;33m(\u001b[0m\u001b[0mpartsScanned\u001b[0m\u001b[1;33m,\u001b[0m \u001b[0mmin\u001b[0m\u001b[1;33m(\u001b[0m\u001b[0mpartsScanned\u001b[0m \u001b[1;33m+\u001b[0m \u001b[0mnumPartsToTry\u001b[0m\u001b[1;33m,\u001b[0m \u001b[0mtotalParts\u001b[0m\u001b[1;33m)\u001b[0m\u001b[1;33m)\u001b[0m\u001b[1;33m\u001b[0m\u001b[0m\n\u001b[1;32m-> 1342\u001b[1;33m             \u001b[0mres\u001b[0m \u001b[1;33m=\u001b[0m \u001b[0mself\u001b[0m\u001b[1;33m.\u001b[0m\u001b[0mcontext\u001b[0m\u001b[1;33m.\u001b[0m\u001b[0mrunJob\u001b[0m\u001b[1;33m(\u001b[0m\u001b[0mself\u001b[0m\u001b[1;33m,\u001b[0m \u001b[0mtakeUpToNumLeft\u001b[0m\u001b[1;33m,\u001b[0m \u001b[0mp\u001b[0m\u001b[1;33m)\u001b[0m\u001b[1;33m\u001b[0m\u001b[0m\n\u001b[0m\u001b[0;32m   1343\u001b[0m \u001b[1;33m\u001b[0m\u001b[0m\n\u001b[0;32m   1344\u001b[0m             \u001b[0mitems\u001b[0m \u001b[1;33m+=\u001b[0m \u001b[0mres\u001b[0m\u001b[1;33m\u001b[0m\u001b[0m\n",
      "\u001b[1;32m/usr/local/spark/python/pyspark/context.pyc\u001b[0m in \u001b[0;36mrunJob\u001b[1;34m(self, rdd, partitionFunc, partitions, allowLocal)\u001b[0m\n\u001b[0;32m    966\u001b[0m         \u001b[1;31m# SparkContext#runJob.\u001b[0m\u001b[1;33m\u001b[0m\u001b[1;33m\u001b[0m\u001b[0m\n\u001b[0;32m    967\u001b[0m         \u001b[0mmappedRDD\u001b[0m \u001b[1;33m=\u001b[0m \u001b[0mrdd\u001b[0m\u001b[1;33m.\u001b[0m\u001b[0mmapPartitions\u001b[0m\u001b[1;33m(\u001b[0m\u001b[0mpartitionFunc\u001b[0m\u001b[1;33m)\u001b[0m\u001b[1;33m\u001b[0m\u001b[0m\n\u001b[1;32m--> 968\u001b[1;33m         \u001b[0mport\u001b[0m \u001b[1;33m=\u001b[0m \u001b[0mself\u001b[0m\u001b[1;33m.\u001b[0m\u001b[0m_jvm\u001b[0m\u001b[1;33m.\u001b[0m\u001b[0mPythonRDD\u001b[0m\u001b[1;33m.\u001b[0m\u001b[0mrunJob\u001b[0m\u001b[1;33m(\u001b[0m\u001b[0mself\u001b[0m\u001b[1;33m.\u001b[0m\u001b[0m_jsc\u001b[0m\u001b[1;33m.\u001b[0m\u001b[0msc\u001b[0m\u001b[1;33m(\u001b[0m\u001b[1;33m)\u001b[0m\u001b[1;33m,\u001b[0m \u001b[0mmappedRDD\u001b[0m\u001b[1;33m.\u001b[0m\u001b[0m_jrdd\u001b[0m\u001b[1;33m,\u001b[0m \u001b[0mpartitions\u001b[0m\u001b[1;33m)\u001b[0m\u001b[1;33m\u001b[0m\u001b[0m\n\u001b[0m\u001b[0;32m    969\u001b[0m         \u001b[1;32mreturn\u001b[0m \u001b[0mlist\u001b[0m\u001b[1;33m(\u001b[0m\u001b[0m_load_from_socket\u001b[0m\u001b[1;33m(\u001b[0m\u001b[0mport\u001b[0m\u001b[1;33m,\u001b[0m \u001b[0mmappedRDD\u001b[0m\u001b[1;33m.\u001b[0m\u001b[0m_jrdd_deserializer\u001b[0m\u001b[1;33m)\u001b[0m\u001b[1;33m)\u001b[0m\u001b[1;33m\u001b[0m\u001b[0m\n\u001b[0;32m    970\u001b[0m \u001b[1;33m\u001b[0m\u001b[0m\n",
      "\u001b[1;32m/usr/local/spark/python/lib/py4j-0.10.4-src.zip/py4j/java_gateway.py\u001b[0m in \u001b[0;36m__call__\u001b[1;34m(self, *args)\u001b[0m\n\u001b[0;32m   1131\u001b[0m         \u001b[0manswer\u001b[0m \u001b[1;33m=\u001b[0m \u001b[0mself\u001b[0m\u001b[1;33m.\u001b[0m\u001b[0mgateway_client\u001b[0m\u001b[1;33m.\u001b[0m\u001b[0msend_command\u001b[0m\u001b[1;33m(\u001b[0m\u001b[0mcommand\u001b[0m\u001b[1;33m)\u001b[0m\u001b[1;33m\u001b[0m\u001b[0m\n\u001b[0;32m   1132\u001b[0m         return_value = get_return_value(\n\u001b[1;32m-> 1133\u001b[1;33m             answer, self.gateway_client, self.target_id, self.name)\n\u001b[0m\u001b[0;32m   1134\u001b[0m \u001b[1;33m\u001b[0m\u001b[0m\n\u001b[0;32m   1135\u001b[0m         \u001b[1;32mfor\u001b[0m \u001b[0mtemp_arg\u001b[0m \u001b[1;32min\u001b[0m \u001b[0mtemp_args\u001b[0m\u001b[1;33m:\u001b[0m\u001b[1;33m\u001b[0m\u001b[0m\n",
      "\u001b[1;32m/usr/local/spark/python/pyspark/sql/utils.pyc\u001b[0m in \u001b[0;36mdeco\u001b[1;34m(*a, **kw)\u001b[0m\n\u001b[0;32m     61\u001b[0m     \u001b[1;32mdef\u001b[0m \u001b[0mdeco\u001b[0m\u001b[1;33m(\u001b[0m\u001b[1;33m*\u001b[0m\u001b[0ma\u001b[0m\u001b[1;33m,\u001b[0m \u001b[1;33m**\u001b[0m\u001b[0mkw\u001b[0m\u001b[1;33m)\u001b[0m\u001b[1;33m:\u001b[0m\u001b[1;33m\u001b[0m\u001b[0m\n\u001b[0;32m     62\u001b[0m         \u001b[1;32mtry\u001b[0m\u001b[1;33m:\u001b[0m\u001b[1;33m\u001b[0m\u001b[0m\n\u001b[1;32m---> 63\u001b[1;33m             \u001b[1;32mreturn\u001b[0m \u001b[0mf\u001b[0m\u001b[1;33m(\u001b[0m\u001b[1;33m*\u001b[0m\u001b[0ma\u001b[0m\u001b[1;33m,\u001b[0m \u001b[1;33m**\u001b[0m\u001b[0mkw\u001b[0m\u001b[1;33m)\u001b[0m\u001b[1;33m\u001b[0m\u001b[0m\n\u001b[0m\u001b[0;32m     64\u001b[0m         \u001b[1;32mexcept\u001b[0m \u001b[0mpy4j\u001b[0m\u001b[1;33m.\u001b[0m\u001b[0mprotocol\u001b[0m\u001b[1;33m.\u001b[0m\u001b[0mPy4JJavaError\u001b[0m \u001b[1;32mas\u001b[0m \u001b[0me\u001b[0m\u001b[1;33m:\u001b[0m\u001b[1;33m\u001b[0m\u001b[0m\n\u001b[0;32m     65\u001b[0m             \u001b[0ms\u001b[0m \u001b[1;33m=\u001b[0m \u001b[0me\u001b[0m\u001b[1;33m.\u001b[0m\u001b[0mjava_exception\u001b[0m\u001b[1;33m.\u001b[0m\u001b[0mtoString\u001b[0m\u001b[1;33m(\u001b[0m\u001b[1;33m)\u001b[0m\u001b[1;33m\u001b[0m\u001b[0m\n",
      "\u001b[1;32m/usr/local/spark/python/lib/py4j-0.10.4-src.zip/py4j/protocol.py\u001b[0m in \u001b[0;36mget_return_value\u001b[1;34m(answer, gateway_client, target_id, name)\u001b[0m\n\u001b[0;32m    317\u001b[0m                 raise Py4JJavaError(\n\u001b[0;32m    318\u001b[0m                     \u001b[1;34m\"An error occurred while calling {0}{1}{2}.\\n\"\u001b[0m\u001b[1;33m.\u001b[0m\u001b[1;33m\u001b[0m\u001b[0m\n\u001b[1;32m--> 319\u001b[1;33m                     format(target_id, \".\", name), value)\n\u001b[0m\u001b[0;32m    320\u001b[0m             \u001b[1;32melse\u001b[0m\u001b[1;33m:\u001b[0m\u001b[1;33m\u001b[0m\u001b[0m\n\u001b[0;32m    321\u001b[0m                 raise Py4JError(\n",
      "\u001b[1;31mPy4JJavaError\u001b[0m: An error occurred while calling z:org.apache.spark.api.python.PythonRDD.runJob.\n: org.apache.spark.SparkException: Job aborted due to stage failure: Task 3 in stage 62.0 failed 4 times, most recent failure: Lost task 3.3 in stage 62.0 (TID 1438, 10.0.0.11, executor 1): java.net.SocketException: Connection reset\n\tat java.net.SocketInputStream.read(SocketInputStream.java:209)\n\tat java.net.SocketInputStream.read(SocketInputStream.java:141)\n\tat java.io.BufferedInputStream.fill(BufferedInputStream.java:246)\n\tat java.io.BufferedInputStream.read1(BufferedInputStream.java:286)\n\tat java.io.BufferedInputStream.read(BufferedInputStream.java:345)\n\tat java.io.DataInputStream.readFully(DataInputStream.java:195)\n\tat java.io.DataInputStream.readFully(DataInputStream.java:169)\n\tat org.apache.spark.api.python.PythonRunner$$anon$1.read(PythonRDD.scala:169)\n\tat org.apache.spark.api.python.PythonRunner$$anon$1.next(PythonRDD.scala:156)\n\tat org.apache.spark.api.python.PythonRunner$$anon$1.next(PythonRDD.scala:152)\n\tat org.apache.spark.InterruptibleIterator.next(InterruptibleIterator.scala:43)\n\tat scala.collection.Iterator$class.foreach(Iterator.scala:893)\n\tat org.apache.spark.InterruptibleIterator.foreach(InterruptibleIterator.scala:28)\n\tat org.apache.spark.api.python.PythonRDD$.writeIteratorToStream(PythonRDD.scala:504)\n\tat org.apache.spark.api.python.PythonRunner$WriterThread$$anonfun$run$3.apply(PythonRDD.scala:328)\n\tat org.apache.spark.util.Utils$.logUncaughtExceptions(Utils.scala:1951)\n\tat org.apache.spark.api.python.PythonRunner$WriterThread.run(PythonRDD.scala:269)\n\nDriver stacktrace:\n\tat org.apache.spark.scheduler.DAGScheduler.org$apache$spark$scheduler$DAGScheduler$$failJobAndIndependentStages(DAGScheduler.scala:1435)\n\tat org.apache.spark.scheduler.DAGScheduler$$anonfun$abortStage$1.apply(DAGScheduler.scala:1423)\n\tat org.apache.spark.scheduler.DAGScheduler$$anonfun$abortStage$1.apply(DAGScheduler.scala:1422)\n\tat scala.collection.mutable.ResizableArray$class.foreach(ResizableArray.scala:59)\n\tat scala.collection.mutable.ArrayBuffer.foreach(ArrayBuffer.scala:48)\n\tat org.apache.spark.scheduler.DAGScheduler.abortStage(DAGScheduler.scala:1422)\n\tat org.apache.spark.scheduler.DAGScheduler$$anonfun$handleTaskSetFailed$1.apply(DAGScheduler.scala:802)\n\tat org.apache.spark.scheduler.DAGScheduler$$anonfun$handleTaskSetFailed$1.apply(DAGScheduler.scala:802)\n\tat scala.Option.foreach(Option.scala:257)\n\tat org.apache.spark.scheduler.DAGScheduler.handleTaskSetFailed(DAGScheduler.scala:802)\n\tat org.apache.spark.scheduler.DAGSchedulerEventProcessLoop.doOnReceive(DAGScheduler.scala:1650)\n\tat org.apache.spark.scheduler.DAGSchedulerEventProcessLoop.onReceive(DAGScheduler.scala:1605)\n\tat org.apache.spark.scheduler.DAGSchedulerEventProcessLoop.onReceive(DAGScheduler.scala:1594)\n\tat org.apache.spark.util.EventLoop$$anon$1.run(EventLoop.scala:48)\n\tat org.apache.spark.scheduler.DAGScheduler.runJob(DAGScheduler.scala:628)\n\tat org.apache.spark.SparkContext.runJob(SparkContext.scala:1925)\n\tat org.apache.spark.SparkContext.runJob(SparkContext.scala:1938)\n\tat org.apache.spark.SparkContext.runJob(SparkContext.scala:1951)\n\tat org.apache.spark.api.python.PythonRDD$.runJob(PythonRDD.scala:441)\n\tat org.apache.spark.api.python.PythonRDD.runJob(PythonRDD.scala)\n\tat sun.reflect.NativeMethodAccessorImpl.invoke0(Native Method)\n\tat sun.reflect.NativeMethodAccessorImpl.invoke(NativeMethodAccessorImpl.java:62)\n\tat sun.reflect.DelegatingMethodAccessorImpl.invoke(DelegatingMethodAccessorImpl.java:43)\n\tat java.lang.reflect.Method.invoke(Method.java:498)\n\tat py4j.reflection.MethodInvoker.invoke(MethodInvoker.java:244)\n\tat py4j.reflection.ReflectionEngine.invoke(ReflectionEngine.java:357)\n\tat py4j.Gateway.invoke(Gateway.java:280)\n\tat py4j.commands.AbstractCommand.invokeMethod(AbstractCommand.java:132)\n\tat py4j.commands.CallCommand.execute(CallCommand.java:79)\n\tat py4j.GatewayConnection.run(GatewayConnection.java:214)\n\tat java.lang.Thread.run(Thread.java:748)\nCaused by: java.net.SocketException: Connection reset\n\tat java.net.SocketInputStream.read(SocketInputStream.java:209)\n\tat java.net.SocketInputStream.read(SocketInputStream.java:141)\n\tat java.io.BufferedInputStream.fill(BufferedInputStream.java:246)\n\tat java.io.BufferedInputStream.read1(BufferedInputStream.java:286)\n\tat java.io.BufferedInputStream.read(BufferedInputStream.java:345)\n\tat java.io.DataInputStream.readFully(DataInputStream.java:195)\n\tat java.io.DataInputStream.readFully(DataInputStream.java:169)\n\tat org.apache.spark.api.python.PythonRunner$$anon$1.read(PythonRDD.scala:169)\n\tat org.apache.spark.api.python.PythonRunner$$anon$1.next(PythonRDD.scala:156)\n\tat org.apache.spark.api.python.PythonRunner$$anon$1.next(PythonRDD.scala:152)\n\tat org.apache.spark.InterruptibleIterator.next(InterruptibleIterator.scala:43)\n\tat scala.collection.Iterator$class.foreach(Iterator.scala:893)\n\tat org.apache.spark.InterruptibleIterator.foreach(InterruptibleIterator.scala:28)\n\tat org.apache.spark.api.python.PythonRDD$.writeIteratorToStream(PythonRDD.scala:504)\n\tat org.apache.spark.api.python.PythonRunner$WriterThread$$anonfun$run$3.apply(PythonRDD.scala:328)\n\tat org.apache.spark.util.Utils$.logUncaughtExceptions(Utils.scala:1951)\n\tat org.apache.spark.api.python.PythonRunner$WriterThread.run(PythonRDD.scala:269)\n"
     ]
    }
   ],
   "source": [
    "spark_top_k_subs(tf_ij, 'DotA2', subreddit_to_idx, k = 5)"
   ]
  },
  {
   "cell_type": "code",
   "execution_count": 9,
   "metadata": {
    "collapsed": false
   },
   "outputs": [],
   "source": [
    "spark_top_k_subs(tf_ij, 'technology', subreddit_to_idx, k = 5)"
   ]
  },
  {
   "cell_type": "code",
   "execution_count": 10,
   "metadata": {
    "collapsed": false
   },
   "outputs": [
    {
     "data": {
      "text/plain": [
       "[u'DaftPunk', u'gorillaz', u'baltimore', u'INDYCAR', u'cowboys']"
      ]
     },
     "execution_count": 10,
     "metadata": {},
     "output_type": "execute_result"
    }
   ],
   "source": [
    "lst"
   ]
  },
  {
   "cell_type": "code",
   "execution_count": 34,
   "metadata": {
    "collapsed": true
   },
   "outputs": [],
   "source": [
    "import sqlite3"
   ]
  },
  {
   "cell_type": "code",
   "execution_count": 35,
   "metadata": {
    "collapsed": true
   },
   "outputs": [],
   "source": [
    "connection = sqlite3.connect(\"redicommend5.db\")\n",
    "cursor = connection.cursor()"
   ]
  },
  {
   "cell_type": "code",
   "execution_count": 36,
   "metadata": {
    "collapsed": true
   },
   "outputs": [],
   "source": [
    "sql_command = \"\"\"\n",
    "CREATE TABLE reddit ( \n",
    "key VARCHAR(30), \n",
    "related VARCHAR(150));\"\"\""
   ]
  },
  {
   "cell_type": "code",
   "execution_count": 16,
   "metadata": {
    "collapsed": false
   },
   "outputs": [],
   "source": [
    "#cursor.execute(sql_command)"
   ]
  },
  {
   "cell_type": "code",
   "execution_count": 37,
   "metadata": {
    "collapsed": false
   },
   "outputs": [
    {
     "data": {
      "text/plain": [
       "<sqlite3.Cursor at 0x7f81924656c0>"
      ]
     },
     "execution_count": 37,
     "metadata": {},
     "output_type": "execute_result"
    }
   ],
   "source": [
    "cursor.execute(sql_command)"
   ]
  },
  {
   "cell_type": "code",
   "execution_count": 27,
   "metadata": {
    "collapsed": false
   },
   "outputs": [
    {
     "ename": "OperationalError",
     "evalue": "no such table: reddit",
     "output_type": "error",
     "traceback": [
      "\u001b[1;31m---------------------------------------------------------------------------\u001b[0m",
      "\u001b[1;31mOperationalError\u001b[0m                          Traceback (most recent call last)",
      "\u001b[1;32m<ipython-input-27-a9fe18714d81>\u001b[0m in \u001b[0;36m<module>\u001b[1;34m()\u001b[0m\n\u001b[1;32m----> 1\u001b[1;33m \u001b[0mcursor\u001b[0m\u001b[1;33m.\u001b[0m\u001b[0mexecute\u001b[0m\u001b[1;33m(\u001b[0m\u001b[1;34m\"delete FROM reddit\"\u001b[0m\u001b[1;33m)\u001b[0m\u001b[1;33m\u001b[0m\u001b[0m\n\u001b[0m",
      "\u001b[1;31mOperationalError\u001b[0m: no such table: reddit"
     ]
    }
   ],
   "source": [
    "cursor.execute(\"delete FROM reddit\")"
   ]
  },
  {
   "cell_type": "code",
   "execution_count": 38,
   "metadata": {
    "collapsed": true
   },
   "outputs": [],
   "source": [
    "def insert_one_svd(sim, subreddit, k = 20):\n",
    "    related = [idx_to_subreddit(x) for x in np.argsort(sim[subreddit_to_idx(subreddit),:])[:-k-1:-1]]\n",
    "    if related is None:\n",
    "        return\n",
    "    val = ', '.join(related[1:])\n",
    "    \n",
    "    sql_command = \"\"\"INSERT INTO reddit (key, related)\n",
    "    VALUES (\"%s\", \"%s\");\"\"\" % (subreddit, val)\n",
    "    cursor.execute(sql_command)"
   ]
  },
  {
   "cell_type": "code",
   "execution_count": 35,
   "metadata": {
    "collapsed": false
   },
   "outputs": [],
   "source": [
    "def insert_one(subreddit):\n",
    "    related = spark_top_k_subs(tf_ij2, subreddit, subreddit_to_idx, k = 20)\n",
    "    if related is None:\n",
    "        return\n",
    "    val = ', '.join(related[1:])\n",
    "    \n",
    "    sql_command = \"\"\"INSERT INTO reddit (key, related)\n",
    "    VALUES (\"%s\", \"%s\");\"\"\" % (subreddit, val)\n",
    "    cursor.execute(sql_command)"
   ]
  },
  {
   "cell_type": "code",
   "execution_count": 19,
   "metadata": {
    "collapsed": true
   },
   "outputs": [
    {
     "data": {
      "text/plain": [
       "[1,\n",
       " 2,\n",
       " 3,\n",
       " 4,\n",
       " 5,\n",
       " 6,\n",
       " 7,\n",
       " 8,\n",
       " 9,\n",
       " 10,\n",
       " 11,\n",
       " 12,\n",
       " 13,\n",
       " 14,\n",
       " 15,\n",
       " 16,\n",
       " 17,\n",
       " 18,\n",
       " 19,\n",
       " 20,\n",
       " 21,\n",
       " 22,\n",
       " 23,\n",
       " 24,\n",
       " 25,\n",
       " 26,\n",
       " 27,\n",
       " 28,\n",
       " 29,\n",
       " 30,\n",
       " 31,\n",
       " 32,\n",
       " 33,\n",
       " 34,\n",
       " 35,\n",
       " 36,\n",
       " 37,\n",
       " 38,\n",
       " 39,\n",
       " 40,\n",
       " 41,\n",
       " 42,\n",
       " 43,\n",
       " 44,\n",
       " 45,\n",
       " 46,\n",
       " 47,\n",
       " 48,\n",
       " 49,\n",
       " 50,\n",
       " 51,\n",
       " 52,\n",
       " 53,\n",
       " 54,\n",
       " 55,\n",
       " 56,\n",
       " 57,\n",
       " 58,\n",
       " 59,\n",
       " 60,\n",
       " 61,\n",
       " 62,\n",
       " 63,\n",
       " 64,\n",
       " 65,\n",
       " 66,\n",
       " 67,\n",
       " 68,\n",
       " 69,\n",
       " 70,\n",
       " 71,\n",
       " 72,\n",
       " 73,\n",
       " 74,\n",
       " 75,\n",
       " 76,\n",
       " 77,\n",
       " 78,\n",
       " 79,\n",
       " 80,\n",
       " 81,\n",
       " 82,\n",
       " 83,\n",
       " 84,\n",
       " 85,\n",
       " 86,\n",
       " 87,\n",
       " 88,\n",
       " 89,\n",
       " 90,\n",
       " 91,\n",
       " 92,\n",
       " 93,\n",
       " 94,\n",
       " 95,\n",
       " 96,\n",
       " 97,\n",
       " 98,\n",
       " 99,\n",
       " 100,\n",
       " 101,\n",
       " 102,\n",
       " 103,\n",
       " 104,\n",
       " 105,\n",
       " 106,\n",
       " 107,\n",
       " 108,\n",
       " 109,\n",
       " 110,\n",
       " 111,\n",
       " 112,\n",
       " 113,\n",
       " 114,\n",
       " 115,\n",
       " 116,\n",
       " 117,\n",
       " 118,\n",
       " 119,\n",
       " 120,\n",
       " 121,\n",
       " 122,\n",
       " 123,\n",
       " 124,\n",
       " 125,\n",
       " 126,\n",
       " 127,\n",
       " 128,\n",
       " 129,\n",
       " 130,\n",
       " 131,\n",
       " 132,\n",
       " 133,\n",
       " 134,\n",
       " 135,\n",
       " 136,\n",
       " 137,\n",
       " 138,\n",
       " 139,\n",
       " 140,\n",
       " 141,\n",
       " 142,\n",
       " 143,\n",
       " 144,\n",
       " 145,\n",
       " 146,\n",
       " 147,\n",
       " 148,\n",
       " 149,\n",
       " 150,\n",
       " 151,\n",
       " 152,\n",
       " 153,\n",
       " 154,\n",
       " 155,\n",
       " 156,\n",
       " 157,\n",
       " 158,\n",
       " 159,\n",
       " 160,\n",
       " 161,\n",
       " 162,\n",
       " 163,\n",
       " 164,\n",
       " 165,\n",
       " 166,\n",
       " 167,\n",
       " 168,\n",
       " 169,\n",
       " 170,\n",
       " 171,\n",
       " 172,\n",
       " 173,\n",
       " 174,\n",
       " 175,\n",
       " 176,\n",
       " 177,\n",
       " 178,\n",
       " 179,\n",
       " 180,\n",
       " 181,\n",
       " 182,\n",
       " 183,\n",
       " 184,\n",
       " 185,\n",
       " 186,\n",
       " 187,\n",
       " 188,\n",
       " 189,\n",
       " 190,\n",
       " 191,\n",
       " 192,\n",
       " 193,\n",
       " 194,\n",
       " 195,\n",
       " 196,\n",
       " 197,\n",
       " 198,\n",
       " 199,\n",
       " 200,\n",
       " 201,\n",
       " 202,\n",
       " 203,\n",
       " 204,\n",
       " 205,\n",
       " 206,\n",
       " 207,\n",
       " 208,\n",
       " 209,\n",
       " 210,\n",
       " 211,\n",
       " 212,\n",
       " 213,\n",
       " 214,\n",
       " 215,\n",
       " 216,\n",
       " 217,\n",
       " 218,\n",
       " 219,\n",
       " 220,\n",
       " 221,\n",
       " 222,\n",
       " 223,\n",
       " 224,\n",
       " 225,\n",
       " 226,\n",
       " 227,\n",
       " 228,\n",
       " 229,\n",
       " 230,\n",
       " 231,\n",
       " 232,\n",
       " 233,\n",
       " 234,\n",
       " 235,\n",
       " 236,\n",
       " 237,\n",
       " 238,\n",
       " 239,\n",
       " 240,\n",
       " 241,\n",
       " 242,\n",
       " 243,\n",
       " 244,\n",
       " 245,\n",
       " 246,\n",
       " 247,\n",
       " 248,\n",
       " 249,\n",
       " 250,\n",
       " 251,\n",
       " 252,\n",
       " 253,\n",
       " 254,\n",
       " 255,\n",
       " 256,\n",
       " 257,\n",
       " 258,\n",
       " 259,\n",
       " 260,\n",
       " 261,\n",
       " 262,\n",
       " 263,\n",
       " 264,\n",
       " 265,\n",
       " 266,\n",
       " 267,\n",
       " 268,\n",
       " 269,\n",
       " 270,\n",
       " 271,\n",
       " 272,\n",
       " 273,\n",
       " 274,\n",
       " 275,\n",
       " 276,\n",
       " 277,\n",
       " 278,\n",
       " 279,\n",
       " 280,\n",
       " 281,\n",
       " 282,\n",
       " 283,\n",
       " 284,\n",
       " 285,\n",
       " 286,\n",
       " 287,\n",
       " 288,\n",
       " 289,\n",
       " 290,\n",
       " 291,\n",
       " 292,\n",
       " 293,\n",
       " 294,\n",
       " 295,\n",
       " 296,\n",
       " 297,\n",
       " 298,\n",
       " 299,\n",
       " 300,\n",
       " 301,\n",
       " 302,\n",
       " 303,\n",
       " 304,\n",
       " 305,\n",
       " 306,\n",
       " 307,\n",
       " 308,\n",
       " 309,\n",
       " 310,\n",
       " 311,\n",
       " 312,\n",
       " 313,\n",
       " 314,\n",
       " 315,\n",
       " 316,\n",
       " 317,\n",
       " 318,\n",
       " 319,\n",
       " 320,\n",
       " 321,\n",
       " 322,\n",
       " 323,\n",
       " 324,\n",
       " 325,\n",
       " 326,\n",
       " 327,\n",
       " 328,\n",
       " 329,\n",
       " 330,\n",
       " 331,\n",
       " 332,\n",
       " 333,\n",
       " 334,\n",
       " 335,\n",
       " 336,\n",
       " 337,\n",
       " 338,\n",
       " 339,\n",
       " 340,\n",
       " 341,\n",
       " 342,\n",
       " 343,\n",
       " 344,\n",
       " 345,\n",
       " 346,\n",
       " 347,\n",
       " 348,\n",
       " 349,\n",
       " 350,\n",
       " 351,\n",
       " 352,\n",
       " 353,\n",
       " 354,\n",
       " 355,\n",
       " 356,\n",
       " 357,\n",
       " 358,\n",
       " 359,\n",
       " 360,\n",
       " 361,\n",
       " 362,\n",
       " 363,\n",
       " 364,\n",
       " 365,\n",
       " 366,\n",
       " 367,\n",
       " 368,\n",
       " 369,\n",
       " 370,\n",
       " 371,\n",
       " 372,\n",
       " 373,\n",
       " 374,\n",
       " 375,\n",
       " 376,\n",
       " 377,\n",
       " 378,\n",
       " 379,\n",
       " 380,\n",
       " 381,\n",
       " 382,\n",
       " 383,\n",
       " 384,\n",
       " 385,\n",
       " 386,\n",
       " 387,\n",
       " 388,\n",
       " 389,\n",
       " 390,\n",
       " 391,\n",
       " 392,\n",
       " 393,\n",
       " 394,\n",
       " 395,\n",
       " 396,\n",
       " 397,\n",
       " 398,\n",
       " 399,\n",
       " 400,\n",
       " 401,\n",
       " 402,\n",
       " 403,\n",
       " 404,\n",
       " 405,\n",
       " 406,\n",
       " 407,\n",
       " 408,\n",
       " 409,\n",
       " 410,\n",
       " 411,\n",
       " 412,\n",
       " 413,\n",
       " 414,\n",
       " 415,\n",
       " 416,\n",
       " 417,\n",
       " 418,\n",
       " 419,\n",
       " 420,\n",
       " 421,\n",
       " 422,\n",
       " 423,\n",
       " 424,\n",
       " 425,\n",
       " 426,\n",
       " 427,\n",
       " 428,\n",
       " 429,\n",
       " 430,\n",
       " 431,\n",
       " 432,\n",
       " 433,\n",
       " 434,\n",
       " 435,\n",
       " 436,\n",
       " 437,\n",
       " 438,\n",
       " 439,\n",
       " 440,\n",
       " 441,\n",
       " 442,\n",
       " 443,\n",
       " 444,\n",
       " 445,\n",
       " 446,\n",
       " 447,\n",
       " 448,\n",
       " 449,\n",
       " 450,\n",
       " 451,\n",
       " 452,\n",
       " 453,\n",
       " 454,\n",
       " 455,\n",
       " 456,\n",
       " 457,\n",
       " 458,\n",
       " 459,\n",
       " 460,\n",
       " 461,\n",
       " 462,\n",
       " 463,\n",
       " 464,\n",
       " 465,\n",
       " 466,\n",
       " 467,\n",
       " 468,\n",
       " 469,\n",
       " 470,\n",
       " 471,\n",
       " 472,\n",
       " 473,\n",
       " 474,\n",
       " 475,\n",
       " 476,\n",
       " 477,\n",
       " 478,\n",
       " 479,\n",
       " 480,\n",
       " 481,\n",
       " 482,\n",
       " 483,\n",
       " 484,\n",
       " 485,\n",
       " 486,\n",
       " 487,\n",
       " 488,\n",
       " 489,\n",
       " 490,\n",
       " 491,\n",
       " 492,\n",
       " 493,\n",
       " 494,\n",
       " 495,\n",
       " 496,\n",
       " 497,\n",
       " 498,\n",
       " 499,\n",
       " 500,\n",
       " 501,\n",
       " 502,\n",
       " 503,\n",
       " 504,\n",
       " 505,\n",
       " 506,\n",
       " 507,\n",
       " 508,\n",
       " 509,\n",
       " 510,\n",
       " 511,\n",
       " 512,\n",
       " 513,\n",
       " 514,\n",
       " 515,\n",
       " 516,\n",
       " 517,\n",
       " 518,\n",
       " 519,\n",
       " 520,\n",
       " 521,\n",
       " 522,\n",
       " 523,\n",
       " 524,\n",
       " 525,\n",
       " 526,\n",
       " 527,\n",
       " 528,\n",
       " 529,\n",
       " 530,\n",
       " 531,\n",
       " 532,\n",
       " 533,\n",
       " 534,\n",
       " 535,\n",
       " 536,\n",
       " 537,\n",
       " 538,\n",
       " 539,\n",
       " 540,\n",
       " 541,\n",
       " 542,\n",
       " 543,\n",
       " 544,\n",
       " 545,\n",
       " 546,\n",
       " 547,\n",
       " 548,\n",
       " 549,\n",
       " 550,\n",
       " 551,\n",
       " 552,\n",
       " 553,\n",
       " 554,\n",
       " 555,\n",
       " 556,\n",
       " 557,\n",
       " 558,\n",
       " 559,\n",
       " 560,\n",
       " 561,\n",
       " 562,\n",
       " 563,\n",
       " 564,\n",
       " 565,\n",
       " 566,\n",
       " 567,\n",
       " 568,\n",
       " 569,\n",
       " 570,\n",
       " 571,\n",
       " 572,\n",
       " 573,\n",
       " 574,\n",
       " 575,\n",
       " 576,\n",
       " 577,\n",
       " 578,\n",
       " 579,\n",
       " 580,\n",
       " 581,\n",
       " 582,\n",
       " 583,\n",
       " 584,\n",
       " 585,\n",
       " 586,\n",
       " 587,\n",
       " 588,\n",
       " 589,\n",
       " 590,\n",
       " 591,\n",
       " 592,\n",
       " 593,\n",
       " 594,\n",
       " 595,\n",
       " 596,\n",
       " 597,\n",
       " 598,\n",
       " 599,\n",
       " 600,\n",
       " 601,\n",
       " 602,\n",
       " 603,\n",
       " 604,\n",
       " 605,\n",
       " 606,\n",
       " 607,\n",
       " 608,\n",
       " 609,\n",
       " 610,\n",
       " 611,\n",
       " 612,\n",
       " 613,\n",
       " 614,\n",
       " 615,\n",
       " 616,\n",
       " 617,\n",
       " 618,\n",
       " 619,\n",
       " 620,\n",
       " 621,\n",
       " 622,\n",
       " 623,\n",
       " 624,\n",
       " 625,\n",
       " 626,\n",
       " 627,\n",
       " 628,\n",
       " 629,\n",
       " 630,\n",
       " 631,\n",
       " 632,\n",
       " 633,\n",
       " 634,\n",
       " 635,\n",
       " 636,\n",
       " 637,\n",
       " 638,\n",
       " 639,\n",
       " 640,\n",
       " 641,\n",
       " 642,\n",
       " 643,\n",
       " 644,\n",
       " 645,\n",
       " 646,\n",
       " 647,\n",
       " 648,\n",
       " 649,\n",
       " 650,\n",
       " 651,\n",
       " 652,\n",
       " 653,\n",
       " 654,\n",
       " 655,\n",
       " 656,\n",
       " 657,\n",
       " 658,\n",
       " 659,\n",
       " 660,\n",
       " 661,\n",
       " 662,\n",
       " 663,\n",
       " 664,\n",
       " 665,\n",
       " 666,\n",
       " 667,\n",
       " 668,\n",
       " 669,\n",
       " 670,\n",
       " 671,\n",
       " 672,\n",
       " 673,\n",
       " 674,\n",
       " 675,\n",
       " 676,\n",
       " 677,\n",
       " 678,\n",
       " 679,\n",
       " 680,\n",
       " 681,\n",
       " 682,\n",
       " 683,\n",
       " 684,\n",
       " 685,\n",
       " 686,\n",
       " 687,\n",
       " 688,\n",
       " 689,\n",
       " 690,\n",
       " 691,\n",
       " 692,\n",
       " 693,\n",
       " 694,\n",
       " 695,\n",
       " 696,\n",
       " 697,\n",
       " 698,\n",
       " 699,\n",
       " 700,\n",
       " 701,\n",
       " 702,\n",
       " 703,\n",
       " 704,\n",
       " 705,\n",
       " 706,\n",
       " 707,\n",
       " 708,\n",
       " 709,\n",
       " 710,\n",
       " 711,\n",
       " 712,\n",
       " 713,\n",
       " 714,\n",
       " 715,\n",
       " 716,\n",
       " 717,\n",
       " 718,\n",
       " 719,\n",
       " 720,\n",
       " 721,\n",
       " 722,\n",
       " 723,\n",
       " 724,\n",
       " 725,\n",
       " 726,\n",
       " 727,\n",
       " 728,\n",
       " 729,\n",
       " 730,\n",
       " 731,\n",
       " 732,\n",
       " 733,\n",
       " 734,\n",
       " 735,\n",
       " 736,\n",
       " 737,\n",
       " 738,\n",
       " 739,\n",
       " 740,\n",
       " 741,\n",
       " 742,\n",
       " 743,\n",
       " 744,\n",
       " 745,\n",
       " 746,\n",
       " 747,\n",
       " 748,\n",
       " 749,\n",
       " 750,\n",
       " 751,\n",
       " 752,\n",
       " 753,\n",
       " 754,\n",
       " 755,\n",
       " 756,\n",
       " 757,\n",
       " 758,\n",
       " 759,\n",
       " 760,\n",
       " 761,\n",
       " 762,\n",
       " 763,\n",
       " 764,\n",
       " 765,\n",
       " 766,\n",
       " 767,\n",
       " 768,\n",
       " 769,\n",
       " 770,\n",
       " 771,\n",
       " 772,\n",
       " 773,\n",
       " 774,\n",
       " 775,\n",
       " 776,\n",
       " 777,\n",
       " 778,\n",
       " 779,\n",
       " 780,\n",
       " 781,\n",
       " 782,\n",
       " 783,\n",
       " 784,\n",
       " 785,\n",
       " 786,\n",
       " 787,\n",
       " 788,\n",
       " 789,\n",
       " 790,\n",
       " 791,\n",
       " 792,\n",
       " 793,\n",
       " 794,\n",
       " 795,\n",
       " 796,\n",
       " 797,\n",
       " 798,\n",
       " 799,\n",
       " 800,\n",
       " 801,\n",
       " 802,\n",
       " 803,\n",
       " 804,\n",
       " 805,\n",
       " 806,\n",
       " 807,\n",
       " 808,\n",
       " 809,\n",
       " 810,\n",
       " 811,\n",
       " 812,\n",
       " 813,\n",
       " 814,\n",
       " 815,\n",
       " 816,\n",
       " 817,\n",
       " 818,\n",
       " 819,\n",
       " 820,\n",
       " 821,\n",
       " 822,\n",
       " 823,\n",
       " 824,\n",
       " 825,\n",
       " 826,\n",
       " 827,\n",
       " 828,\n",
       " 829,\n",
       " 830,\n",
       " 831,\n",
       " 832,\n",
       " 833,\n",
       " 834,\n",
       " 835,\n",
       " 836,\n",
       " 837,\n",
       " 838,\n",
       " 839,\n",
       " 840,\n",
       " 841,\n",
       " 842,\n",
       " 843,\n",
       " 844,\n",
       " 845,\n",
       " 846,\n",
       " 847,\n",
       " 848,\n",
       " 849,\n",
       " 850,\n",
       " 851,\n",
       " 852,\n",
       " 853,\n",
       " 854,\n",
       " 855,\n",
       " 856,\n",
       " 857,\n",
       " 858,\n",
       " 859,\n",
       " 860,\n",
       " 861,\n",
       " 862,\n",
       " 863,\n",
       " 864,\n",
       " 865,\n",
       " 866,\n",
       " 867,\n",
       " 868,\n",
       " 869,\n",
       " 870,\n",
       " 871,\n",
       " 872,\n",
       " 873,\n",
       " 874,\n",
       " 875,\n",
       " 876,\n",
       " 877,\n",
       " 878,\n",
       " 879,\n",
       " 880,\n",
       " 881,\n",
       " 882,\n",
       " 883,\n",
       " 884,\n",
       " 885,\n",
       " 886,\n",
       " 887,\n",
       " 888,\n",
       " 889,\n",
       " 890,\n",
       " 891,\n",
       " 892,\n",
       " 893,\n",
       " 894,\n",
       " 895,\n",
       " 896,\n",
       " 897,\n",
       " 898,\n",
       " 899,\n",
       " 900,\n",
       " 901,\n",
       " 902,\n",
       " 903,\n",
       " 904,\n",
       " 905,\n",
       " 906,\n",
       " 907,\n",
       " 908,\n",
       " 909,\n",
       " 910,\n",
       " 911,\n",
       " 912,\n",
       " 913,\n",
       " 914,\n",
       " 915,\n",
       " 916,\n",
       " 917,\n",
       " 918,\n",
       " 919,\n",
       " 920,\n",
       " 921,\n",
       " 922,\n",
       " 923,\n",
       " 924,\n",
       " 925,\n",
       " 926,\n",
       " 927,\n",
       " 928,\n",
       " 929,\n",
       " 930,\n",
       " 931,\n",
       " 932,\n",
       " 933,\n",
       " 934,\n",
       " 935,\n",
       " 936,\n",
       " 937,\n",
       " 938,\n",
       " 939,\n",
       " 940,\n",
       " 941,\n",
       " 942,\n",
       " 943,\n",
       " 944,\n",
       " 945,\n",
       " 946,\n",
       " 947,\n",
       " 948,\n",
       " 949,\n",
       " 950,\n",
       " 951,\n",
       " 952,\n",
       " 953,\n",
       " 954,\n",
       " 955,\n",
       " 956,\n",
       " 957,\n",
       " 958,\n",
       " 959,\n",
       " 960,\n",
       " 961,\n",
       " 962,\n",
       " 963,\n",
       " 964,\n",
       " 965,\n",
       " 966,\n",
       " 967,\n",
       " 968,\n",
       " 969,\n",
       " 970,\n",
       " 971,\n",
       " 972,\n",
       " 973,\n",
       " 974,\n",
       " 975,\n",
       " 976,\n",
       " 977,\n",
       " 978,\n",
       " 979,\n",
       " 980,\n",
       " 981,\n",
       " 982,\n",
       " 983,\n",
       " 984,\n",
       " 985,\n",
       " 986,\n",
       " 987,\n",
       " 988,\n",
       " 989,\n",
       " 990,\n",
       " 991,\n",
       " 992,\n",
       " 993,\n",
       " 994,\n",
       " 995,\n",
       " 996,\n",
       " 997,\n",
       " 998,\n",
       " 999,\n",
       " 1000,\n",
       " ...]"
      ]
     },
     "execution_count": 19,
     "metadata": {},
     "output_type": "execute_result"
    }
   ],
   "source": [
    "subreddit_mapper.keys()"
   ]
  },
  {
   "cell_type": "code",
   "execution_count": 39,
   "metadata": {
    "collapsed": false,
    "scrolled": true
   },
   "outputs": [],
   "source": [
    "for sub in idx_mapper.keys():\n",
    "    insert_one_svd(svc7, sub)"
   ]
  },
  {
   "cell_type": "code",
   "execution_count": 40,
   "metadata": {
    "collapsed": true
   },
   "outputs": [],
   "source": [
    "connection.commit()\n",
    "connection.close()"
   ]
  },
  {
   "cell_type": "code",
   "execution_count": 74,
   "metadata": {
    "collapsed": true
   },
   "outputs": [
    {
     "data": {
      "text/plain": [
       "[u'danganronpa',\n",
       " u'Roofing',\n",
       " u'AsianBeautyAdvice',\n",
       " u'AppleWatch',\n",
       " u'relationships',\n",
       " u'instant_regret',\n",
       " u'SteamKiwi',\n",
       " u'SamandTolki',\n",
       " u'USMCboot',\n",
       " u'PRLegacyWars',\n",
       " u'Honda',\n",
       " u'datingoverthirty',\n",
       " u'HistoryPorn',\n",
       " u'detroitlions',\n",
       " u'2007scape',\n",
       " u'fountainpens',\n",
       " u'skyrimmods',\n",
       " u'PokemonShuffle',\n",
       " u'ofcoursethatsathing',\n",
       " u'KaynMains',\n",
       " u'bestoflegaladvice',\n",
       " u'Steam',\n",
       " u'Pokemongiveaway',\n",
       " u'Freeclams',\n",
       " u'HollowKnight',\n",
       " u'askgaybros',\n",
       " u'SteamGameSwap',\n",
       " u'BiggerThanYouThought',\n",
       " u'Bayonetta',\n",
       " u'starcitizen',\n",
       " u'polyamory',\n",
       " u'BackYardChickens',\n",
       " u'fixit',\n",
       " u'totalwar',\n",
       " u'entp',\n",
       " u'electricians',\n",
       " u'AskAcademia',\n",
       " u'MechanicAdvice',\n",
       " u'kratom',\n",
       " u'LongDistance',\n",
       " u'Hammers',\n",
       " u'razer',\n",
       " u'LSD',\n",
       " u'AdventureCapitalist',\n",
       " u'PlaceNostalgia',\n",
       " u'HaloStory',\n",
       " u'GCdebatesQT',\n",
       " u'bipolar',\n",
       " u'gamedev',\n",
       " u'Nioh',\n",
       " u'Addons4Kodi',\n",
       " u'90sAlternative',\n",
       " u'Beatmatch',\n",
       " u'titanfall',\n",
       " u'3DMark',\n",
       " u'ModelUSHouse',\n",
       " u'AskThe_Donald',\n",
       " u'melbourne',\n",
       " u'HaggardGarage',\n",
       " u'Shoplifting',\n",
       " u'Dream_Market',\n",
       " u'bravefrontier',\n",
       " u'OnePiece',\n",
       " u'personalfinance',\n",
       " u'EverythingScience',\n",
       " u'BobsBurgers',\n",
       " u'Dexter',\n",
       " u'TranscribersOfReddit',\n",
       " u'gorillaz',\n",
       " u'EggsInc',\n",
       " u'Health',\n",
       " u'Browns',\n",
       " u'cocaine',\n",
       " u'ffxiv',\n",
       " u'stopdrinking',\n",
       " u'army',\n",
       " u'Drugs',\n",
       " u'dnl',\n",
       " u'ScotchSwap',\n",
       " u'nintendo',\n",
       " u'Dentistry',\n",
       " u'POTUSWatch',\n",
       " u'Testosterone',\n",
       " u'CallOfDuty',\n",
       " u'pkmntcgcollections',\n",
       " u'Shitty_Car_Mods',\n",
       " u'DankMemeArchive',\n",
       " u'QuakeChampions',\n",
       " u'EDC',\n",
       " u'hardwareswap',\n",
       " u'dankmemes',\n",
       " u'EDH',\n",
       " u'EDM',\n",
       " u'DMAcademy',\n",
       " u'movies',\n",
       " u'standupshots',\n",
       " u'BravoRealHousewives',\n",
       " u'OaklandAthletics',\n",
       " u'NiceHash',\n",
       " u'punk',\n",
       " u'india',\n",
       " u'DecidingToBeBetter',\n",
       " u'ar15',\n",
       " u'gadgets',\n",
       " u'UofT',\n",
       " u'DankNation',\n",
       " u'Dirtybomb',\n",
       " u'AnnArbor',\n",
       " u'splatoon',\n",
       " u'pumparum',\n",
       " u'travel',\n",
       " u'RealGirls',\n",
       " u'ShittyTechDeals',\n",
       " u'AVexchange',\n",
       " u'Fixxit',\n",
       " u'crashbandicoot',\n",
       " u'911truth',\n",
       " u'vandwellers',\n",
       " u'gaming',\n",
       " u'poker',\n",
       " u'askscience',\n",
       " u'NarutoBlazing',\n",
       " u'LigaMX',\n",
       " u'WouldYouFuckMyWife',\n",
       " u'law',\n",
       " u'CFL',\n",
       " u'CringeAnarchy',\n",
       " u'Cuckold',\n",
       " u'CFB',\n",
       " u'CFA',\n",
       " u'RPGStuck_C4S10_2',\n",
       " u'HaloWars',\n",
       " u'TittyDrop',\n",
       " u'CityPorn',\n",
       " u'zen',\n",
       " u'london',\n",
       " u'Military',\n",
       " u'japan',\n",
       " u'vita',\n",
       " u'Watchexchange',\n",
       " u'GlobalOffensive',\n",
       " u'GlobalPowers',\n",
       " u'Zoomies',\n",
       " u'writing',\n",
       " u'BusinessHub',\n",
       " u'Screenwriting',\n",
       " u'Fireteams',\n",
       " u'Judaism',\n",
       " u'CherokeeXJ',\n",
       " u'hockeyplayers',\n",
       " u'BDSMcommunity',\n",
       " u'IWantToLearn',\n",
       " u'40k',\n",
       " u'arrow',\n",
       " u'MCFC',\n",
       " u'TIL_Uncensored',\n",
       " u'Destiny',\n",
       " u'15thMEURealismUnit',\n",
       " u'NoMansSkyTheGame',\n",
       " u'BlueMidterm2018',\n",
       " u'Rateme',\n",
       " u'30daysit',\n",
       " u'Feminism',\n",
       " u'anime_irl',\n",
       " u'Blowjobs',\n",
       " u'shittyfoodporn',\n",
       " u'Muse',\n",
       " u'ClashRoyale',\n",
       " u'BABYMETAL',\n",
       " u'KCRoyals',\n",
       " u'medicine',\n",
       " u'LabourUK',\n",
       " u'AFL',\n",
       " u'NSFW411',\n",
       " u'bestof',\n",
       " u'Blackfellas',\n",
       " u'factorio',\n",
       " u'Metal',\n",
       " u'knifeclub',\n",
       " u'Morrowind',\n",
       " u'CanadaPolitics',\n",
       " u'CodeGeass',\n",
       " u'Pauper',\n",
       " u'LawSchool',\n",
       " u'Ripple',\n",
       " u'podemos',\n",
       " u'steroids',\n",
       " u'rant',\n",
       " u'Buddhism',\n",
       " u'EARONS',\n",
       " u'solotravel',\n",
       " u'TheLastAirbender',\n",
       " u'lego',\n",
       " u'ANormalDayInRussia',\n",
       " u'MGTOW',\n",
       " u'AusFinance',\n",
       " u'twinpeaks',\n",
       " u'PenmanshipPorn',\n",
       " u'thesims',\n",
       " u'AmericasArmyPS4',\n",
       " u'dogs',\n",
       " u'asktransgender',\n",
       " u'MECoOp',\n",
       " u'CombatFootage',\n",
       " u'makinghiphop',\n",
       " u'collapse',\n",
       " u'Genealogy',\n",
       " u'Broduce101',\n",
       " u'mildlyinfuriating',\n",
       " u'Cloud9',\n",
       " u'Psychonaut',\n",
       " u'BBW',\n",
       " u'northernireland',\n",
       " u'BBQ',\n",
       " u'toronto',\n",
       " u'EndlessSpace',\n",
       " u'POLITIC',\n",
       " u'VictoriaBC',\n",
       " u'newzealand',\n",
       " u'MMORPG',\n",
       " u'KerbalSpaceProgram',\n",
       " u'darksouls3',\n",
       " u'FashionRepsBST',\n",
       " u'boston',\n",
       " u'BestOfStreamingVideo',\n",
       " u'Gamingcirclejerk',\n",
       " u'4x4',\n",
       " u'rarepuppers',\n",
       " u'ElitePS',\n",
       " u'Parenting',\n",
       " u'Jaguars',\n",
       " u'chess',\n",
       " u'BakaNewsJP',\n",
       " u'TexasRangers',\n",
       " u'brexit',\n",
       " u'germany',\n",
       " u'IndiaNonPolitical',\n",
       " u'CowChop',\n",
       " u'crappyoffbrands',\n",
       " u'GamerGhazi',\n",
       " u'Minecraft',\n",
       " u'23andme',\n",
       " u'Canadian_ecigarette',\n",
       " u'customhearthstone',\n",
       " u'Borderlands2',\n",
       " u'Wetshaving',\n",
       " u'MadeMeSmile',\n",
       " u'Sneks',\n",
       " u'hungary',\n",
       " u'HumansBeingBros',\n",
       " u'crossfit',\n",
       " u'Ardor',\n",
       " u'ReBBRL',\n",
       " u'LofiHipHop',\n",
       " u'mopeio',\n",
       " u'GrandTheftAutoV',\n",
       " u'Cinema4D',\n",
       " u'NLSSCircleJerk',\n",
       " u'Hamilton',\n",
       " u'FrankOcean',\n",
       " u'PublicFreakout',\n",
       " u'Reds',\n",
       " u'Anxiety',\n",
       " u'Agnarr',\n",
       " u'MouseReview',\n",
       " u'de',\n",
       " u'CastleClash',\n",
       " u'DokkanBattleCommunity',\n",
       " u'DerekSmart',\n",
       " u'AIFCentral',\n",
       " u'megalinks',\n",
       " u'HuntsvilleAlabama',\n",
       " u'ImagesOfTexas',\n",
       " u'CatastrophicFailure',\n",
       " u'Incels',\n",
       " u'JUSTNOMIL',\n",
       " u'SwagBucks',\n",
       " u'OzoneOfftopic',\n",
       " u'WayfarersPub',\n",
       " u'pokemongo',\n",
       " u'INDYCAR',\n",
       " u'Alienware',\n",
       " u'EngineeringStudents',\n",
       " u'Christianity',\n",
       " u'RotMG',\n",
       " u'DMT',\n",
       " u'changemyview',\n",
       " u'SupersRP',\n",
       " u'Android',\n",
       " u'PS4',\n",
       " u'Dodgers',\n",
       " u'artificial',\n",
       " u'AskRedditAfterDark',\n",
       " u'Honor8',\n",
       " u'RetroFuturism',\n",
       " u'pcmasterrace',\n",
       " u'magicTCG',\n",
       " u'RoCirclejerk',\n",
       " u'LeedsUnited',\n",
       " u'casualiama',\n",
       " u'JohnMayer',\n",
       " u'avengersacademygame',\n",
       " u'LV426',\n",
       " u'AskElectronics',\n",
       " u'AndroidTV',\n",
       " u'news',\n",
       " u'ConspiracyII',\n",
       " u'OWConsole',\n",
       " u'BigBoobsGonewild',\n",
       " u'letstradepedals',\n",
       " u'TREZOR',\n",
       " u'WWII',\n",
       " u'WouldYouRather',\n",
       " u'guitarpedals',\n",
       " u'ukpolitics',\n",
       " u'LegalAdviceUK',\n",
       " u'MigrantFleet',\n",
       " u'StarVStheForcesofEvil',\n",
       " u'formula1',\n",
       " u'exmuslim',\n",
       " u'Roleplaykik',\n",
       " u'NormMacdonald',\n",
       " u'BPD',\n",
       " u'sportsbook',\n",
       " u'100movies365days',\n",
       " u'EliteOne',\n",
       " u'Gunners',\n",
       " u'Granblue_en',\n",
       " u'goodyearwelt',\n",
       " u'fatlogic',\n",
       " u'MkeBucks',\n",
       " u'sydney',\n",
       " u'AliensAmongUs',\n",
       " u'teenagers',\n",
       " u'oddlysatisfying',\n",
       " u'Wellthatsucks',\n",
       " u'stevenuniverse',\n",
       " u'kotk',\n",
       " u'r4r',\n",
       " u'AntiAntiJokes',\n",
       " u'PUBATTLEGROUNDS',\n",
       " u'EarthFans',\n",
       " u'Nationals',\n",
       " u'Huskers',\n",
       " u'darksouls',\n",
       " u'Winnipeg',\n",
       " u'DotA2',\n",
       " u'Cleveland',\n",
       " u'EthereumClassic',\n",
       " u'motorcitykitties',\n",
       " u'Bikeporn',\n",
       " u'windowsphone',\n",
       " u'discordapp',\n",
       " u'AsiaGrower',\n",
       " u'mexico',\n",
       " u'DaveAndBusters',\n",
       " u'SWGalaxyOfHeroes',\n",
       " u'gamecollecting',\n",
       " u'australia',\n",
       " u'ApocalypseRising',\n",
       " u'ShitRedditSays',\n",
       " u'sugarlifestyleforum',\n",
       " u'Cinemagraphs',\n",
       " u'Leathercraft',\n",
       " u'Python',\n",
       " u'Business_Ideas',\n",
       " u'ArtefactPorn',\n",
       " u'TheDarkTower',\n",
       " u'talesfromtechsupport',\n",
       " u'SugarPine7',\n",
       " u'AntiJokes',\n",
       " u'playrust',\n",
       " u'Kaiserreich',\n",
       " u'ShitLiberalsSay',\n",
       " u'BeAmazed',\n",
       " u'fireemblem',\n",
       " u'BitcoinABC',\n",
       " u'Portland',\n",
       " u'oneplus',\n",
       " u'kpop',\n",
       " u'angelsbaseball',\n",
       " u'Bitcoin',\n",
       " u'rickandmorty',\n",
       " u'DJISpark',\n",
       " u'CommercialAV',\n",
       " u'Pets',\n",
       " u'mechmarket',\n",
       " u'furry',\n",
       " u'Connery',\n",
       " u'CampHalfBloodRP',\n",
       " u'gamindustri',\n",
       " u'AsianParentStories',\n",
       " u'Connecticut',\n",
       " u'GhostRecon',\n",
       " u'woahdude',\n",
       " u'AnimalsBeingDerps',\n",
       " u'AskMenOver30',\n",
       " u'gifs',\n",
       " u'BetterEveryLoop',\n",
       " u'UNBGBBIIVCHIDCTIICBG',\n",
       " u'amateurradio',\n",
       " u'DenverBroncos',\n",
       " u'Art',\n",
       " u'F13thegame',\n",
       " u'Ifyouhadtopickone',\n",
       " u'Septemberbumpers2017',\n",
       " u'BigBrotherNSFW',\n",
       " u'Eyebleach',\n",
       " u'OopsDidntMeanTo',\n",
       " u'ArcherFX',\n",
       " u'Comcast_Xfinity',\n",
       " u'whatisthisthing',\n",
       " u'NetflixBestOf',\n",
       " u'NewYorkMets',\n",
       " u'1984isreality',\n",
       " u'malaysia',\n",
       " u'NoFapChristians',\n",
       " u'radiohead',\n",
       " u'Edinburgh',\n",
       " u'mountandblade',\n",
       " u'AskNYC',\n",
       " u'ExpectationVsReality',\n",
       " u'BOINC',\n",
       " u'edmproduction',\n",
       " u'upandvanished',\n",
       " u'420',\n",
       " u'marketing',\n",
       " u'OkCupid',\n",
       " u'Frugal',\n",
       " u'shittyaskscience',\n",
       " u'minipainting',\n",
       " u'dndnext',\n",
       " u'fo4',\n",
       " u'newtothenavy',\n",
       " u'crusadersquest',\n",
       " u'Blep',\n",
       " u'RocketLeague',\n",
       " u'uncensorednews',\n",
       " u'Austria',\n",
       " u'anime',\n",
       " u'horizon',\n",
       " u'AskPhysics',\n",
       " u'AnimalTextGifs',\n",
       " u'ems',\n",
       " u'applehelp',\n",
       " u'BGCCircleJerk',\n",
       " u'Scotland',\n",
       " u'miamidolphins',\n",
       " u'FORTnITE',\n",
       " u'ADHD',\n",
       " u'AdvancedRunning',\n",
       " u'greentext',\n",
       " u'GunsAreCool',\n",
       " u'Bad_Cop_No_Donut',\n",
       " u'flying',\n",
       " u'nova',\n",
       " u'niceguys',\n",
       " u'MotoUK',\n",
       " u'PrequelMemes',\n",
       " u'ExplainBothSides',\n",
       " u'Ubuntu',\n",
       " u'BannedFromThe_Donald',\n",
       " u'ChildrenFallingOver',\n",
       " u'sneakermarket',\n",
       " u'Fuckthealtright',\n",
       " u'awfuleyebrows',\n",
       " u'Bestbuy',\n",
       " u'bengals',\n",
       " u'Roast_Me',\n",
       " u'StreetFighter',\n",
       " u'MoonriseMusicFestival',\n",
       " u'INJUSTICE',\n",
       " u'BlackPeopleTwitter',\n",
       " u'NintendoSwitch',\n",
       " u'Hedgehog',\n",
       " u'AFROTC',\n",
       " u'MobiusFF',\n",
       " u'MinersHaven',\n",
       " u'OfficialDP',\n",
       " u'TryingForABaby',\n",
       " u'CryptoMarkets',\n",
       " u'AppNana',\n",
       " u'3DPorncraft',\n",
       " u'copypasta',\n",
       " u'Repsneakers',\n",
       " u'Ice_Poseidon',\n",
       " u'AmiiboCanada',\n",
       " u'webdev',\n",
       " u'BPDlovedones',\n",
       " u'Bumble',\n",
       " u'excel',\n",
       " u'test',\n",
       " u'Vaping',\n",
       " u'OregonEclipse',\n",
       " u'Trucks',\n",
       " u'Blazblue',\n",
       " u'kindafunny',\n",
       " u'Persona5',\n",
       " u'IDontWorkHereLady',\n",
       " u'StopGaming',\n",
       " u'comicbooks',\n",
       " u'DadReflexes',\n",
       " u'AirForce',\n",
       " u'peloton',\n",
       " u'RetroPie',\n",
       " u'BatmanArkham',\n",
       " u'CalamariRaceTeam',\n",
       " u'OttawaSenators',\n",
       " u'AskVet',\n",
       " u'cincinnati',\n",
       " u'StrangerThings',\n",
       " u'ABraThatFits',\n",
       " u'TheGirlSurvivalGuide',\n",
       " u'Albuquerque',\n",
       " u'MakeupRehab',\n",
       " u'quilting',\n",
       " u'FapDeciders',\n",
       " u'Monero',\n",
       " u'HatsuVault',\n",
       " u'Showerthoughts',\n",
       " u'environment',\n",
       " u'offmychest',\n",
       " u'Redskins',\n",
       " u'Atlanta',\n",
       " u'HighschoolDxD',\n",
       " u'NewOrleans',\n",
       " u'benzodiazepines',\n",
       " u'Gonewild18',\n",
       " u'vegan',\n",
       " u'Jokes',\n",
       " u'vegas',\n",
       " u'fivenightsatfreddys',\n",
       " u'SyrianCirclejerkWar',\n",
       " u'litecoin',\n",
       " u'Celebs',\n",
       " u'ChapoTrapHouse',\n",
       " u'Brawlstars',\n",
       " u'techsupport',\n",
       " u'FirstWorldConformists',\n",
       " u'Diepio',\n",
       " u'pcgaming',\n",
       " u'FalloutMods',\n",
       " u'GetEmployed',\n",
       " u'DCcomics',\n",
       " u'ArcaneAdventures',\n",
       " u'Stims',\n",
       " u'Polska',\n",
       " u'boardgames',\n",
       " u'JumpChain',\n",
       " u'worldnews',\n",
       " u'vexillology',\n",
       " u'EngorgedVeinyBreasts',\n",
       " u'AskTechnology',\n",
       " u'baseball',\n",
       " u'Competitiveoverwatch',\n",
       " u'Meditation',\n",
       " u'thedivision',\n",
       " u'ThriftStoreHauls',\n",
       " u'lakers',\n",
       " u'AMD_Stock',\n",
       " u'evangelion',\n",
       " u'whatsthisbug',\n",
       " u'TrueReddit',\n",
       " u'Catholicism',\n",
       " u'ElderScrolls',\n",
       " u'paragon',\n",
       " u'IncelTears',\n",
       " u'FinalFantasy',\n",
       " u'Multicopter',\n",
       " u'CatSlaps',\n",
       " u'gonewildaudio',\n",
       " u'HIMYM',\n",
       " u'AskHistorians',\n",
       " u'OutOfTheLoop',\n",
       " u'Glocks',\n",
       " u'sports',\n",
       " u'DBZDokkanMarketplace',\n",
       " u'iphone',\n",
       " u'FindingFennsGold',\n",
       " u'ArenaHS',\n",
       " u'CapitalismVSocialism',\n",
       " u'hapas',\n",
       " u'SecretWorldLegends',\n",
       " u'DnDGreentext',\n",
       " u'Eve',\n",
       " u'cordcutters',\n",
       " u'ladybonersgw',\n",
       " u'linuxmasterrace',\n",
       " u'JUSTNOFAMILY',\n",
       " u'PrettyLittleLiars',\n",
       " u'trackers',\n",
       " u'German',\n",
       " u'Epilepsy',\n",
       " u'DNMUK',\n",
       " u'Entrepreneur',\n",
       " u'sexover30',\n",
       " u'WaltDisneyWorld',\n",
       " u'MMA',\n",
       " u'nursing',\n",
       " u'audiophile',\n",
       " u'MPSelectMiniOwners',\n",
       " u'Pathfinder_RPG',\n",
       " u'supremeclothing',\n",
       " u'counting',\n",
       " u'PersonalFinanceCanada',\n",
       " u'GearsOfWar',\n",
       " u'NBA2k',\n",
       " u'Coachella',\n",
       " u'CrazyDictatorIdeas',\n",
       " u'WayOfTheBern',\n",
       " u'criterion',\n",
       " u'reddevils',\n",
       " u'photography',\n",
       " u'Lovecraft',\n",
       " u'kulchasimulator',\n",
       " u'GameSale',\n",
       " u'evilbuildings',\n",
       " u'AnimalsBeingBros',\n",
       " u'RedLetterMedia',\n",
       " u'mac',\n",
       " u'GradSchool',\n",
       " u'BitcoinMarkets',\n",
       " u'Drizzy',\n",
       " u'oculus',\n",
       " u'drumcorps',\n",
       " u'LipsThatGrip',\n",
       " u'JordanPeterson',\n",
       " u'StardewValley',\n",
       " u'BGASL',\n",
       " u'Blink182',\n",
       " u'tall',\n",
       " u'ImGoingToHellForThis',\n",
       " u'manga',\n",
       " u'Hunting',\n",
       " u'JizzedToThis',\n",
       " u'Guildwars2',\n",
       " u'diablo3',\n",
       " u'PurplePillDebate',\n",
       " u'dataisbeautiful',\n",
       " u'researchchemicals',\n",
       " u'LucidDreaming',\n",
       " u'azirmains',\n",
       " u'arduino',\n",
       " u'satanism',\n",
       " u'startrek',\n",
       " u'AndroidQuestions',\n",
       " u'Bioshock',\n",
       " u'WTF',\n",
       " u'fakehistoryporn',\n",
       " u'texas',\n",
       " u'BikiniBottomTwitter',\n",
       " u'MilitaryPorn',\n",
       " u'childfree',\n",
       " u'Asexual',\n",
       " u'TeenWolf',\n",
       " u'NSFWIAMA',\n",
       " u'YouEnterADungeon',\n",
       " u'ExNoContact',\n",
       " u'halo',\n",
       " u'occult',\n",
       " u'Patriots',\n",
       " u'creepyPMs',\n",
       " u'GolfGTI',\n",
       " u'Watches',\n",
       " u'AdviceAnimals',\n",
       " u'starwarsspeculation',\n",
       " u'aspergers',\n",
       " u'FFXV',\n",
       " u'mildlyinteresting',\n",
       " u'lanadelrey',\n",
       " u'BeautyGuruChatter',\n",
       " u'starterpacks',\n",
       " u'CAguns',\n",
       " u'CryptoCurrency',\n",
       " u'canada',\n",
       " u'ChemicalEngineering',\n",
       " u'space',\n",
       " u'Michigan',\n",
       " u'ACTrade',\n",
       " u'malefashionadvice',\n",
       " u'Argentinacirclejerk',\n",
       " u'CSRRacing2',\n",
       " u'AutoDetailing',\n",
       " u'GaybrosGoneWild',\n",
       " u'GOtrades',\n",
       " u'StLouis',\n",
       " u'cars',\n",
       " u'loseit',\n",
       " u'TheNewRight',\n",
       " u'vinyl',\n",
       " u'CompTIA',\n",
       " u'CrystalGemRP',\n",
       " u'youtubehaiku',\n",
       " u'brasil',\n",
       " u'simracing',\n",
       " u'G101SafeHaven',\n",
       " u'ABCDesis',\n",
       " u'CasualConversation',\n",
       " u'headphones',\n",
       " u'programming',\n",
       " u'Adelaide',\n",
       " u'grandorder',\n",
       " u'tennis',\n",
       " u'CanadianHardwareSwap',\n",
       " u'ATT',\n",
       " u'pokemon',\n",
       " u'JRPG',\n",
       " u'modelmakers',\n",
       " u'TrumpCriticizesTrump',\n",
       " u'SEO',\n",
       " u'explainlikeimfive',\n",
       " u'nutrition',\n",
       " u'HVAC',\n",
       " u'3DS',\n",
       " u'ForHonorVikings',\n",
       " u'RPDRDRAMA',\n",
       " u'Trumpgret',\n",
       " u'Lyft',\n",
       " u'indieheads',\n",
       " u'CompetitiveCR',\n",
       " u'Battlefield',\n",
       " u'television',\n",
       " u'BBW_Chubby',\n",
       " u'TheRedPill',\n",
       " u'MemeEconomy',\n",
       " u'gigantic',\n",
       " u'russia',\n",
       " u'ShingekiNoKyojin',\n",
       " u'btc',\n",
       " u'PhantomForces',\n",
       " u'greece',\n",
       " u'wifesharing',\n",
       " u'Ultralight',\n",
       " u'conspiracy',\n",
       " u'IndiaInvestments',\n",
       " u'Welding',\n",
       " u'PewdiepieSubmissions',\n",
       " u'AskEurope',\n",
       " u'DrumkitTrading',\n",
       " u'DaftPunk',\n",
       " u'britishproblems',\n",
       " u'DirecTVNow',\n",
       " u'AsianMasculinity',\n",
       " u'FSAE',\n",
       " u'Futurology',\n",
       " u'MLS',\n",
       " u'INTP',\n",
       " u'crochet',\n",
       " u'HeistTeams',\n",
       " u'Stellaris',\n",
       " u'LowTierTradingRL',\n",
       " u'Overwatch',\n",
       " u'CitiesSkylines',\n",
       " u'mattcolville',\n",
       " u'Defcon',\n",
       " u'SVExchange',\n",
       " u'PS4Planetside2',\n",
       " u'ArtCrit',\n",
       " u'Accounting',\n",
       " u'rule34',\n",
       " u'malefashion',\n",
       " u'IndiaSpeaks',\n",
       " u'Accutane',\n",
       " u'Blacksmith',\n",
       " u'AcademicBiblical',\n",
       " u'spacex',\n",
       " u'PuzzleAndDragons',\n",
       " u'deadbydaylight',\n",
       " u'KenM',\n",
       " u'whowouldwin',\n",
       " u'hockey',\n",
       " u'Biloxi',\n",
       " u'CoDCompetitive',\n",
       " u'beatles',\n",
       " u'Kappa',\n",
       " u'Random_Acts_Of_Amazon',\n",
       " u'KerbalAcademy',\n",
       " u'elderscrollsonline',\n",
       " u'Brink_of_War',\n",
       " u'CODModernWarfare',\n",
       " u'HongKong',\n",
       " u'SonicTheHedgehog',\n",
       " u'WeAreTheMusicMakers',\n",
       " u'AsiaTripper',\n",
       " u'Anger',\n",
       " u'thesopranos',\n",
       " u'AskWomen',\n",
       " u'TheSimpsons',\n",
       " u'osugame',\n",
       " u'college',\n",
       " u'pebble',\n",
       " u'MLPLounge',\n",
       " u'Buffalo',\n",
       " u'camping',\n",
       " u'QidianUnderground',\n",
       " u'cringepics',\n",
       " u'BreakUps',\n",
       " u'AtlantaHawks',\n",
       " u'2b2t',\n",
       " u'awardtravel',\n",
       " u'AVoid5',\n",
       " u'jobs',\n",
       " u'Fantasy_Football',\n",
       " u'NYYankees',\n",
       " u'cscareerquestions',\n",
       " u'AccidentalRacism',\n",
       " u'DuelLinks',\n",
       " u'OSHA',\n",
       " u'Landlord',\n",
       " u'summonerswar',\n",
       " u'giftcardexchange',\n",
       " u'gamingsuggestions',\n",
       " u'SteamTradingCards',\n",
       " u'3dsFCswap',\n",
       " u'PSVR',\n",
       " u'relationship_advice',\n",
       " u'WWE',\n",
       " u'blackmirror',\n",
       " u'GetMotivated',\n",
       " u'pakistan',\n",
       " u'1200isplenty',\n",
       " u'Divorce',\n",
       " u'MovieDetails',\n",
       " u'reactiongifs',\n",
       " u'MandelaEffect',\n",
       " u'Cardinals',\n",
       " u'EarthPorn',\n",
       " u'TrueCrimeDiscussion',\n",
       " u'ProRevenge',\n",
       " u'Bonsai',\n",
       " u'peacecorps',\n",
       " u'Heroclix',\n",
       " u'cycling',\n",
       " u'DimensionalJumping',\n",
       " u'artc',\n",
       " u'confessions',\n",
       " u'h3h3productions',\n",
       " u'GalaxyS8',\n",
       " u'HunterXHunter',\n",
       " u'PoppyTea',\n",
       " u'MakeupAddiction',\n",
       " u'freefolk',\n",
       " u'androidapps',\n",
       " u'unturned',\n",
       " u'marvelstudios',\n",
       " u'Kikpals',\n",
       " u'Scotch',\n",
       " u'ABDL',\n",
       " u'wallstreetbets',\n",
       " u'KingkillerChronicle',\n",
       " u'ListeningHeads',\n",
       " u'TheAdventureZone',\n",
       " u'offbeat',\n",
       " u'BrasildoB',\n",
       " u'RAOfCSGO',\n",
       " u'AstralProjection',\n",
       " u'ExploreFiction',\n",
       " u'ICanDrawThat',\n",
       " u'gonewild30plus',\n",
       " u'IASIP',\n",
       " u'WredditCountryClub',\n",
       " u'DebateCommunism',\n",
       " u'DIY',\n",
       " u'assassinscreed',\n",
       " u'technology',\n",
       " u'BadBunny',\n",
       " u'FIFA17UT',\n",
       " u'Knife_Swap',\n",
       " u'Jazz',\n",
       " u'amiibo',\n",
       " u'singapore',\n",
       " u'buccaneers',\n",
       " u'YouTalkTrash',\n",
       " u'running',\n",
       " u'BCore',\n",
       " u'Physics',\n",
       " u'PipeTobacco',\n",
       " u'abdiscussion',\n",
       " u'WorldOfWarships',\n",
       " u'traps',\n",
       " u'unpopularopinion',\n",
       " u'OverwatchUniversity',\n",
       " u'CNNauto',\n",
       " u'AskEngineers',\n",
       " u'DragonsDogma',\n",
       " u'Barca',\n",
       " u'brisbane',\n",
       " u'Boxing',\n",
       " u'rupaulsdragrace',\n",
       " u'Conservative',\n",
       " u'woodworking',\n",
       " u'RocketLeagueExchange',\n",
       " u'FreeKarma4You',\n",
       " u'Miata',\n",
       " u'UIUC',\n",
       " u'Advice',\n",
       " u'AsianLadyboners',\n",
       " u'Animemes',\n",
       " u'Fraudnet2',\n",
       " u'perth',\n",
       " u'CanadianMOMs',\n",
       " u'theydidthemath',\n",
       " u'Skookum',\n",
       " u'nottheonion',\n",
       " u'Shadowrun',\n",
       " u'JkyTor',\n",
       " u'AgainstHateSubreddits',\n",
       " u'bodyweightfitness',\n",
       " u'Bellingham',\n",
       " u'intel',\n",
       " u'TalesFromTheFrontDesk',\n",
       " u'3dspiracy',\n",
       " u'TheVoiceOfSeren',\n",
       " u'Idubbbz',\n",
       " u'AskReddit',\n",
       " u'mtgfinance',\n",
       " u'cowboys',\n",
       " u'BubbleButts',\n",
       " u'Berserk',\n",
       " u'gameofthrones',\n",
       " u'phoenix',\n",
       " u'3Dprinting',\n",
       " u'ARKbuyandsell',\n",
       " u'CozyPlaces',\n",
       " u'SyrianRebels',\n",
       " u'transformers',\n",
       " u'AutoHotkey',\n",
       " u'business',\n",
       " u'D3PS4',\n",
       " u'Retconned',\n",
       " u'JonTron',\n",
       " u'InfamousSecondRP',\n",
       " u'BeforeNAfterAdoption',\n",
       " u'2007oneclan',\n",
       " u'kancolle',\n",
       " u'AndroidPreviews',\n",
       " u'whatsthisplant',\n",
       " u'custommagic',\n",
       " u'ArtOfConquest',\n",
       " u'GoRVing',\n",
       " u'PickAnAndroidForMe',\n",
       " u'classic4chan',\n",
       " u'JurassicPark',\n",
       " u'rocket_league_trading',\n",
       " u'NSFWFunny',\n",
       " u'Gunpla',\n",
       " u'Schizoid',\n",
       " u'GGFreeForAll',\n",
       " u'Shadowverse',\n",
       " u'Fallout',\n",
       " u'bjj',\n",
       " u'albiononline',\n",
       " u'FireEmblemHeroes',\n",
       " u'Warhammer40k',\n",
       " u'EntExchange',\n",
       " u'snakes',\n",
       " u'DnD',\n",
       " u'DnB',\n",
       " u'philadelphia',\n",
       " u'cats',\n",
       " u'tacobell',\n",
       " u'ImagesOfThe2010s',\n",
       " u'raisedbynarcissists',\n",
       " u'CarMechanicSimulator',\n",
       " u'FoWtcg',\n",
       " u'Lollapalooza',\n",
       " u'FierceFlow',\n",
       " u'gamegrumps',\n",
       " u'bindingofisaac',\n",
       " u'JusticeServed',\n",
       " u'rugbyunion',\n",
       " u'blunderyears',\n",
       " u'Marvel',\n",
       " u'SeattleWA',\n",
       " u'BnHASmashTap',\n",
       " u'rage',\n",
       " u'comics',\n",
       " u'Apartment_Gardening',\n",
       " u'forhonor',\n",
       " u'USGSimHouse',\n",
       " u'rust',\n",
       " u'BankBallExchange',\n",
       " u'videos',\n",
       " u'FL_Studio',\n",
       " u'ottawa',\n",
       " u'AhriMains',\n",
       " u'politics',\n",
       " u'ForeverAlone',\n",
       " u'SSBPM',\n",
       " u'2meirl4meirl',\n",
       " u'Undertale',\n",
       " u'OctoberBumpers2017',\n",
       " u'RLFashionAdvice',\n",
       " u'zelda',\n",
       " u'OrthodoxChristianity',\n",
       " u'aoe2',\n",
       " u'Darts',\n",
       " u'Alonetv',\n",
       " u'announcements',\n",
       " u'MSLGame',\n",
       " ...]"
      ]
     },
     "execution_count": 74,
     "metadata": {},
     "output_type": "execute_result"
    }
   ],
   "source": [
    "idx_mapper.keys()"
   ]
  },
  {
   "cell_type": "code",
   "execution_count": 1249,
   "metadata": {
    "collapsed": false
   },
   "outputs": [
    {
     "data": {
      "text/plain": [
       "[u'DotA2', u'DestinyTheGame', u'aww', u'funny', u'Rainbow6']"
      ]
     },
     "execution_count": 1249,
     "metadata": {},
     "output_type": "execute_result"
    }
   ],
   "source": [
    "#related_subs(tf_ij, 'DotA2', subreddit_to_idx)"
   ]
  },
  {
   "cell_type": "code",
   "execution_count": null,
   "metadata": {
    "collapsed": true
   },
   "outputs": [],
   "source": [
    "related_subs(tf_ij, 'DotA2', subreddit_to_idx)"
   ]
  },
  {
   "cell_type": "code",
   "execution_count": 1143,
   "metadata": {
    "collapsed": false
   },
   "outputs": [
    {
     "data": {
      "text/plain": [
       "1370L"
      ]
     },
     "execution_count": 1143,
     "metadata": {},
     "output_type": "execute_result"
    }
   ],
   "source": [
    "tf_ij.numCols()"
   ]
  },
  {
   "cell_type": "code",
   "execution_count": 504,
   "metadata": {
    "collapsed": false
   },
   "outputs": [],
   "source": [
    "def transform_tf_if(val):\n",
    "    newval = np.log(np.abs(val) + 1)\n",
    "    if val < 0:\n",
    "        return -newval\n",
    "    else:\n",
    "        return newval\n",
    "\n",
    "# TODO: maybe save this for later, when noise can be reduced via dimensionality reduction\n",
    "log_tf_ij = coordinateMatrixElementwise(tf_ij, transform_tf_if)\n",
    "\n",
    "a_ij = coordinatematrix_multiply_vector_elementwise(log_tf_ij, entropy_i)"
   ]
  },
  {
   "cell_type": "code",
   "execution_count": 37,
   "metadata": {
    "collapsed": true
   },
   "outputs": [],
   "source": [
    "def predict_nobias(ratings, similarity, kind='user'):\n",
    "    if kind == 'user':\n",
    "        user_bias = ratings.mean(axis=1)\n",
    "        ratings = (ratings - user_bias[:, np.newaxis]).copy()\n",
    "        pred = similarity.dot(ratings) / np.array([np.abs(similarity).sum(axis=1)]).T\n",
    "        pred += user_bias[:, np.newaxis]\n",
    "    elif kind == 'item':\n",
    "        item_bias = ratings.mean(axis=0)\n",
    "        ratings = (ratings - item_bias[np.newaxis, :]).copy()\n",
    "        pred = ratings.dot(similarity) / np.array([np.abs(similarity).sum(axis=1)])\n",
    "        pred += item_bias[np.newaxis, :]\n",
    "        \n",
    "    return pred"
   ]
  },
  {
   "cell_type": "code",
   "execution_count": 93,
   "metadata": {
    "collapsed": true
   },
   "outputs": [],
   "source": [
    "def predict_topk(ratings, similarity, kind='user', k=40):\n",
    "    pred = np.zeros(ratings.shape)\n",
    "    if kind == 'user':\n",
    "        for i in xrange(ratings.shape[0]):\n",
    "            top_k_users = [np.argsort(similarity[:,i])[:-k-1:-1]]\n",
    "            for j in xrange(ratings.shape[1]):\n",
    "                pred[i, j] = similarity[i, :][top_k_users].dot(ratings[:, j][top_k_users]) \n",
    "                pred[i, j] /= np.sum(np.abs(similarity[i, :][top_k_users]))\n",
    "    if kind == 'item':\n",
    "        for j in xrange(ratings.shape[1]):\n",
    "            top_k_items = [np.argsort(similarity[:,j])[:-k-1:-1]]\n",
    "            for i in xrange(ratings.shape[0]):\n",
    "                pred[i, j] = similarity[j, :][top_k_items].dot(ratings[i, :][top_k_items].T) \n",
    "                pred[i, j] /= np.sum(np.abs(similarity[j, :][top_k_items]))        \n",
    "    \n",
    "    return pred"
   ]
  },
  {
   "cell_type": "code",
   "execution_count": 38,
   "metadata": {
    "collapsed": true
   },
   "outputs": [],
   "source": [
    "from sklearn.metrics import mean_squared_error\n",
    "\n",
    "def get_mse(pred, actual):\n",
    "    # Ignore nonzero terms.\n",
    "    pred = pred[actual.nonzero()].flatten()\n",
    "    actual = actual[actual.nonzero()].flatten()\n",
    "    return mean_squared_error(pred, actual)"
   ]
  },
  {
   "cell_type": "code",
   "execution_count": 903,
   "metadata": {
    "collapsed": true
   },
   "outputs": [],
   "source": []
  },
  {
   "cell_type": "code",
   "execution_count": 901,
   "metadata": {
    "collapsed": true
   },
   "outputs": [],
   "source": [
    "def top_k_movies(similarity, movie_idx, k=6):\n",
    "    return [notebook_idx_to_subreddit(x) for x in np.argsort(similarity[movie_idx,:])[:-k-1:-1]]"
   ]
  },
  {
   "cell_type": "code",
   "execution_count": 1206,
   "metadata": {
    "collapsed": false,
    "scrolled": true
   },
   "outputs": [],
   "source": [
    "#get_mse(predict_nobias, test)"
   ]
  },
  {
   "cell_type": "code",
   "execution_count": 756,
   "metadata": {
    "collapsed": true
   },
   "outputs": [
    {
     "data": {
      "text/html": [
       "<div style=\"max-height:1000px;max-width:1500px;overflow:auto;\">\n",
       "<table border=\"1\" class=\"dataframe\">\n",
       "  <thead>\n",
       "    <tr style=\"text-align: right;\">\n",
       "      <th></th>\n",
       "      <th>rid</th>\n",
       "      <th>uid</th>\n",
       "      <th>tally</th>\n",
       "    </tr>\n",
       "  </thead>\n",
       "  <tbody>\n",
       "    <tr>\n",
       "      <th>0 </th>\n",
       "      <td>  1</td>\n",
       "      <td> 173573</td>\n",
       "      <td>  1</td>\n",
       "    </tr>\n",
       "    <tr>\n",
       "      <th>1 </th>\n",
       "      <td>  2</td>\n",
       "      <td>   2510</td>\n",
       "      <td>  1</td>\n",
       "    </tr>\n",
       "    <tr>\n",
       "      <th>2 </th>\n",
       "      <td>  3</td>\n",
       "      <td> 202843</td>\n",
       "      <td>  1</td>\n",
       "    </tr>\n",
       "    <tr>\n",
       "      <th>3 </th>\n",
       "      <td>  4</td>\n",
       "      <td>  71343</td>\n",
       "      <td>  2</td>\n",
       "    </tr>\n",
       "    <tr>\n",
       "      <th>4 </th>\n",
       "      <td>  5</td>\n",
       "      <td> 157008</td>\n",
       "      <td>  1</td>\n",
       "    </tr>\n",
       "    <tr>\n",
       "      <th>5 </th>\n",
       "      <td>  6</td>\n",
       "      <td>  22113</td>\n",
       "      <td>  2</td>\n",
       "    </tr>\n",
       "    <tr>\n",
       "      <th>6 </th>\n",
       "      <td>  6</td>\n",
       "      <td>  29476</td>\n",
       "      <td> 11</td>\n",
       "    </tr>\n",
       "    <tr>\n",
       "      <th>7 </th>\n",
       "      <td>  6</td>\n",
       "      <td>  41712</td>\n",
       "      <td>  6</td>\n",
       "    </tr>\n",
       "    <tr>\n",
       "      <th>8 </th>\n",
       "      <td>  6</td>\n",
       "      <td>  52207</td>\n",
       "      <td>  4</td>\n",
       "    </tr>\n",
       "    <tr>\n",
       "      <th>9 </th>\n",
       "      <td>  6</td>\n",
       "      <td>  68993</td>\n",
       "      <td>  9</td>\n",
       "    </tr>\n",
       "    <tr>\n",
       "      <th>10</th>\n",
       "      <td>  6</td>\n",
       "      <td>  72151</td>\n",
       "      <td>  2</td>\n",
       "    </tr>\n",
       "    <tr>\n",
       "      <th>11</th>\n",
       "      <td>  6</td>\n",
       "      <td>  73394</td>\n",
       "      <td>  1</td>\n",
       "    </tr>\n",
       "    <tr>\n",
       "      <th>12</th>\n",
       "      <td>  6</td>\n",
       "      <td>  99328</td>\n",
       "      <td>  2</td>\n",
       "    </tr>\n",
       "    <tr>\n",
       "      <th>13</th>\n",
       "      <td>  6</td>\n",
       "      <td> 107223</td>\n",
       "      <td>  1</td>\n",
       "    </tr>\n",
       "    <tr>\n",
       "      <th>14</th>\n",
       "      <td>  6</td>\n",
       "      <td> 157950</td>\n",
       "      <td> 13</td>\n",
       "    </tr>\n",
       "    <tr>\n",
       "      <th>15</th>\n",
       "      <td>  6</td>\n",
       "      <td> 158256</td>\n",
       "      <td>  6</td>\n",
       "    </tr>\n",
       "    <tr>\n",
       "      <th>16</th>\n",
       "      <td>  6</td>\n",
       "      <td> 161058</td>\n",
       "      <td> 14</td>\n",
       "    </tr>\n",
       "    <tr>\n",
       "      <th>17</th>\n",
       "      <td>  6</td>\n",
       "      <td> 164299</td>\n",
       "      <td>  9</td>\n",
       "    </tr>\n",
       "    <tr>\n",
       "      <th>18</th>\n",
       "      <td>  6</td>\n",
       "      <td> 167056</td>\n",
       "      <td> 57</td>\n",
       "    </tr>\n",
       "    <tr>\n",
       "      <th>19</th>\n",
       "      <td>  6</td>\n",
       "      <td> 170651</td>\n",
       "      <td>  4</td>\n",
       "    </tr>\n",
       "    <tr>\n",
       "      <th>20</th>\n",
       "      <td>  6</td>\n",
       "      <td> 182984</td>\n",
       "      <td> 14</td>\n",
       "    </tr>\n",
       "    <tr>\n",
       "      <th>21</th>\n",
       "      <td>  6</td>\n",
       "      <td> 190719</td>\n",
       "      <td>  5</td>\n",
       "    </tr>\n",
       "    <tr>\n",
       "      <th>22</th>\n",
       "      <td>  6</td>\n",
       "      <td> 204970</td>\n",
       "      <td>  1</td>\n",
       "    </tr>\n",
       "    <tr>\n",
       "      <th>23</th>\n",
       "      <td>  6</td>\n",
       "      <td> 212901</td>\n",
       "      <td>  4</td>\n",
       "    </tr>\n",
       "    <tr>\n",
       "      <th>24</th>\n",
       "      <td>  6</td>\n",
       "      <td> 219743</td>\n",
       "      <td>  5</td>\n",
       "    </tr>\n",
       "    <tr>\n",
       "      <th>25</th>\n",
       "      <td>  6</td>\n",
       "      <td> 224240</td>\n",
       "      <td>  1</td>\n",
       "    </tr>\n",
       "    <tr>\n",
       "      <th>26</th>\n",
       "      <td>  6</td>\n",
       "      <td> 245974</td>\n",
       "      <td> 10</td>\n",
       "    </tr>\n",
       "    <tr>\n",
       "      <th>27</th>\n",
       "      <td>  6</td>\n",
       "      <td> 247719</td>\n",
       "      <td>  9</td>\n",
       "    </tr>\n",
       "    <tr>\n",
       "      <th>28</th>\n",
       "      <td>  6</td>\n",
       "      <td> 250489</td>\n",
       "      <td>  5</td>\n",
       "    </tr>\n",
       "    <tr>\n",
       "      <th>29</th>\n",
       "      <td>  6</td>\n",
       "      <td> 263115</td>\n",
       "      <td> 17</td>\n",
       "    </tr>\n",
       "    <tr>\n",
       "      <th>30</th>\n",
       "      <td>  6</td>\n",
       "      <td> 269211</td>\n",
       "      <td>  4</td>\n",
       "    </tr>\n",
       "    <tr>\n",
       "      <th>31</th>\n",
       "      <td>  6</td>\n",
       "      <td> 270545</td>\n",
       "      <td>  6</td>\n",
       "    </tr>\n",
       "    <tr>\n",
       "      <th>32</th>\n",
       "      <td>  6</td>\n",
       "      <td> 281333</td>\n",
       "      <td> 25</td>\n",
       "    </tr>\n",
       "    <tr>\n",
       "      <th>33</th>\n",
       "      <td>  6</td>\n",
       "      <td> 281404</td>\n",
       "      <td> 19</td>\n",
       "    </tr>\n",
       "    <tr>\n",
       "      <th>34</th>\n",
       "      <td>  6</td>\n",
       "      <td> 282960</td>\n",
       "      <td>  3</td>\n",
       "    </tr>\n",
       "    <tr>\n",
       "      <th>35</th>\n",
       "      <td>  6</td>\n",
       "      <td> 289078</td>\n",
       "      <td>  1</td>\n",
       "    </tr>\n",
       "    <tr>\n",
       "      <th>36</th>\n",
       "      <td>  6</td>\n",
       "      <td> 294241</td>\n",
       "      <td>  1</td>\n",
       "    </tr>\n",
       "    <tr>\n",
       "      <th>37</th>\n",
       "      <td>  6</td>\n",
       "      <td> 303966</td>\n",
       "      <td>  5</td>\n",
       "    </tr>\n",
       "    <tr>\n",
       "      <th>38</th>\n",
       "      <td>  6</td>\n",
       "      <td> 309368</td>\n",
       "      <td>  3</td>\n",
       "    </tr>\n",
       "    <tr>\n",
       "      <th>39</th>\n",
       "      <td>  6</td>\n",
       "      <td> 312009</td>\n",
       "      <td>  5</td>\n",
       "    </tr>\n",
       "    <tr>\n",
       "      <th>40</th>\n",
       "      <td>  6</td>\n",
       "      <td> 312679</td>\n",
       "      <td>  8</td>\n",
       "    </tr>\n",
       "    <tr>\n",
       "      <th>41</th>\n",
       "      <td>  6</td>\n",
       "      <td> 316296</td>\n",
       "      <td>  2</td>\n",
       "    </tr>\n",
       "    <tr>\n",
       "      <th>42</th>\n",
       "      <td>  6</td>\n",
       "      <td> 335521</td>\n",
       "      <td>  1</td>\n",
       "    </tr>\n",
       "    <tr>\n",
       "      <th>43</th>\n",
       "      <td>  7</td>\n",
       "      <td>  21702</td>\n",
       "      <td>  4</td>\n",
       "    </tr>\n",
       "    <tr>\n",
       "      <th>44</th>\n",
       "      <td>  7</td>\n",
       "      <td> 116855</td>\n",
       "      <td>  4</td>\n",
       "    </tr>\n",
       "    <tr>\n",
       "      <th>45</th>\n",
       "      <td>  7</td>\n",
       "      <td> 131891</td>\n",
       "      <td>  3</td>\n",
       "    </tr>\n",
       "    <tr>\n",
       "      <th>46</th>\n",
       "      <td>  7</td>\n",
       "      <td> 136727</td>\n",
       "      <td>  5</td>\n",
       "    </tr>\n",
       "    <tr>\n",
       "      <th>47</th>\n",
       "      <td>  7</td>\n",
       "      <td> 157950</td>\n",
       "      <td>  2</td>\n",
       "    </tr>\n",
       "    <tr>\n",
       "      <th>48</th>\n",
       "      <td>  7</td>\n",
       "      <td> 326961</td>\n",
       "      <td>  1</td>\n",
       "    </tr>\n",
       "    <tr>\n",
       "      <th>49</th>\n",
       "      <td>  7</td>\n",
       "      <td> 331361</td>\n",
       "      <td> 12</td>\n",
       "    </tr>\n",
       "    <tr>\n",
       "      <th>50</th>\n",
       "      <td>  7</td>\n",
       "      <td> 338770</td>\n",
       "      <td>  1</td>\n",
       "    </tr>\n",
       "    <tr>\n",
       "      <th>51</th>\n",
       "      <td>  8</td>\n",
       "      <td>    671</td>\n",
       "      <td>  6</td>\n",
       "    </tr>\n",
       "    <tr>\n",
       "      <th>52</th>\n",
       "      <td>  8</td>\n",
       "      <td> 125324</td>\n",
       "      <td>  3</td>\n",
       "    </tr>\n",
       "    <tr>\n",
       "      <th>53</th>\n",
       "      <td>  9</td>\n",
       "      <td>   4123</td>\n",
       "      <td>  3</td>\n",
       "    </tr>\n",
       "    <tr>\n",
       "      <th>54</th>\n",
       "      <td>  9</td>\n",
       "      <td> 157950</td>\n",
       "      <td>  1</td>\n",
       "    </tr>\n",
       "    <tr>\n",
       "      <th>55</th>\n",
       "      <td> 10</td>\n",
       "      <td> 189373</td>\n",
       "      <td>  3</td>\n",
       "    </tr>\n",
       "    <tr>\n",
       "      <th>56</th>\n",
       "      <td> 11</td>\n",
       "      <td>  90933</td>\n",
       "      <td>  1</td>\n",
       "    </tr>\n",
       "    <tr>\n",
       "      <th>57</th>\n",
       "      <td> 11</td>\n",
       "      <td> 223242</td>\n",
       "      <td>  3</td>\n",
       "    </tr>\n",
       "    <tr>\n",
       "      <th>58</th>\n",
       "      <td> 11</td>\n",
       "      <td> 243839</td>\n",
       "      <td>  1</td>\n",
       "    </tr>\n",
       "    <tr>\n",
       "      <th>59</th>\n",
       "      <td> 12</td>\n",
       "      <td>  22678</td>\n",
       "      <td>  3</td>\n",
       "    </tr>\n",
       "    <tr>\n",
       "      <th></th>\n",
       "      <td>...</td>\n",
       "      <td>...</td>\n",
       "      <td>...</td>\n",
       "    </tr>\n",
       "  </tbody>\n",
       "</table>\n",
       "<p>465503 rows × 3 columns</p>\n",
       "</div>"
      ],
      "text/plain": [
       "    rid     uid  tally\n",
       "0     1  173573      1\n",
       "1     2    2510      1\n",
       "2     3  202843      1\n",
       "3     4   71343      2\n",
       "4     5  157008      1\n",
       "5     6   22113      2\n",
       "6     6   29476     11\n",
       "7     6   41712      6\n",
       "8     6   52207      4\n",
       "9     6   68993      9\n",
       "10    6   72151      2\n",
       "11    6   73394      1\n",
       "12    6   99328      2\n",
       "13    6  107223      1\n",
       "14    6  157950     13\n",
       "15    6  158256      6\n",
       "16    6  161058     14\n",
       "17    6  164299      9\n",
       "18    6  167056     57\n",
       "19    6  170651      4\n",
       "20    6  182984     14\n",
       "21    6  190719      5\n",
       "22    6  204970      1\n",
       "23    6  212901      4\n",
       "24    6  219743      5\n",
       "25    6  224240      1\n",
       "26    6  245974     10\n",
       "27    6  247719      9\n",
       "28    6  250489      5\n",
       "29    6  263115     17\n",
       "30    6  269211      4\n",
       "31    6  270545      6\n",
       "32    6  281333     25\n",
       "33    6  281404     19\n",
       "34    6  282960      3\n",
       "35    6  289078      1\n",
       "36    6  294241      1\n",
       "37    6  303966      5\n",
       "38    6  309368      3\n",
       "39    6  312009      5\n",
       "40    6  312679      8\n",
       "41    6  316296      2\n",
       "42    6  335521      1\n",
       "43    7   21702      4\n",
       "44    7  116855      4\n",
       "45    7  131891      3\n",
       "46    7  136727      5\n",
       "47    7  157950      2\n",
       "48    7  326961      1\n",
       "49    7  331361     12\n",
       "50    7  338770      1\n",
       "51    8     671      6\n",
       "52    8  125324      3\n",
       "53    9    4123      3\n",
       "54    9  157950      1\n",
       "55   10  189373      3\n",
       "56   11   90933      1\n",
       "57   11  223242      3\n",
       "58   11  243839      1\n",
       "59   12   22678      3\n",
       "    ...     ...    ...\n",
       "\n",
       "[465503 rows x 3 columns]"
      ]
     },
     "execution_count": 756,
     "metadata": {},
     "output_type": "execute_result"
    }
   ],
   "source": [
    "bare_occurrences.toPandas()"
   ]
  },
  {
   "cell_type": "code",
   "execution_count": 799,
   "metadata": {
    "collapsed": false,
    "scrolled": true
   },
   "outputs": [
    {
     "name": "stdout",
     "output_type": "stream",
     "text": [
      "sim [[  1.00000000e+00   1.00000000e-09   1.50000000e+01 ...,   1.00000000e-09\n",
      "    1.00000000e-09   1.00000000e-09]\n",
      " [  1.00000000e-09   4.90000000e+01   1.00000000e-09 ...,   1.00000000e-09\n",
      "    1.00000000e-09   1.00000000e-09]\n",
      " [  1.50000000e+01   1.00000000e-09   2.25000000e+02 ...,   1.00000000e-09\n",
      "    1.00000000e-09   1.00000000e-09]\n",
      " ..., \n",
      " [  1.00000000e-09   1.00000000e-09   1.00000000e-09 ...,   1.00000000e+00\n",
      "    1.00000000e-09   1.00000000e-09]\n",
      " [  1.00000000e-09   1.00000000e-09   1.00000000e-09 ...,   1.00000000e-09\n",
      "    1.00000000e+00   1.00000000e-09]\n",
      " [  1.00000000e-09   1.00000000e-09   1.00000000e-09 ...,   1.00000000e-09\n",
      "    1.00000000e-09   4.90000000e+01]]\n",
      "diag [   1.   49.  225. ...,    1.    1.   49.]\n",
      "[[  1.   7.  15. ...,   1.   1.   7.]]\n"
     ]
    }
   ],
   "source": [
    "ndmat = coordinate_matrix_to_ndarr(tf_ij)\n",
    "#ndmat/=np.mean(ndmat)\n",
    "ndmat = ndmat.T\n",
    "ndmat = ndmat[1:, 1:]\n",
    "train, test = train_test_split(ndmat)\n",
    "similarity = fast_similarity(train)"
   ]
  },
  {
   "cell_type": "code",
   "execution_count": 880,
   "metadata": {
    "collapsed": true
   },
   "outputs": [],
   "source": [
    "def run_spark_ndarray(ndmat, subreddit):\n",
    "    \"\"\"\n",
    "    ndmat : np.ndarray\n",
    "    \n",
    "    row indices: users\n",
    "    column indices: subreddits\n",
    "    \"\"\"\n",
    "    sim = similarity_matrix(ndarr_to_coord_array(ndmat.T))\n",
    "    return spark_top_k_subs(sim, subreddit_to_idx(subreddit, idx_mapper), subreddit_mapper)"
   ]
  },
  {
   "cell_type": "code",
   "execution_count": 408,
   "metadata": {
    "collapsed": true
   },
   "outputs": [],
   "source": [
    "def func1(ndmat):\n",
    "    ndmat = ndmat.copy()\n",
    "    ndmat /= (epsilon + np.std(ndmat, axis = 0))\n",
    "    ndmat /= (epsilon + np.std(ndmat.T, axis = 1).T)\n",
    "    return ndmat"
   ]
  },
  {
   "cell_type": "code",
   "execution_count": 411,
   "metadata": {
    "collapsed": false
   },
   "outputs": [],
   "source": [
    "matfuncs = [func1]\n",
    "def findtop_allmodels(sub_name):\n",
    "    ndmat = coordinate_matrix_to_ndarr(tf_ij)\n",
    "    ndmat = ndmat.T\n",
    "    ndmat = ndmat[1:, 1:]\n",
    "    \n",
    "    def do_one(func, ndmat):\n",
    "        ndmat = func(ndmat)\n",
    "        train, test = train_test_split(ndmat)\n",
    "        similarity = fast_similarity(train)\n",
    "\n",
    "        item_similarity = fast_similarity(train, kind = 'item')\n",
    "        print top_k_movies(item_similarity, subreddit_to_idx(sub_name), k = 10)\n",
    "    [do_one(f, ndmat) for f in matfuncs]"
   ]
  },
  {
   "cell_type": "code",
   "execution_count": 873,
   "metadata": {
    "collapsed": true
   },
   "outputs": [],
   "source": [
    "def generate_ndmat():\n",
    "    epsilon = 1e-9\n",
    "    ndmat = coordinate_matrix_to_ndarr(tf_ij)\n",
    "    ndmat = ndmat.T\n",
    "    ndmat = ndmat[1:, 1:]\n",
    "\n",
    "    #ndmat = np.mean(ndmat, axis = 0)\n",
    "    ndmat /= (epsilon + np.std(ndmat, axis = 0))\n",
    "    ndmat /= (epsilon + np.std(ndmat.T, axis = 1).T)\n",
    "    \n",
    "    print md5.md5(pickle.dumps(train)).digest()\n",
    "    return ndmat"
   ]
  },
  {
   "cell_type": "code",
   "execution_count": 1009,
   "metadata": {
    "collapsed": false
   },
   "outputs": [
    {
     "data": {
      "text/plain": [
       "'\\x1b\\xbb\\xc46 O\\xe3\\xdb\\x83\\xb2\\x15\\x84Rt\\x00\\x06'"
      ]
     },
     "execution_count": 1009,
     "metadata": {},
     "output_type": "execute_result"
    }
   ],
   "source": [
    "epsilon = 1e-9\n",
    "ndmat = coordinate_matrix_to_ndarr(tf_ij)\n",
    "ndmat = ndmat.T\n",
    "ndmat = ndmat[1:, 1:]\n",
    "\n",
    "#ndmat = np.mean(ndmat, axis = 0)\n",
    "ndmat /= (epsilon + np.std(ndmat, axis = 0))\n",
    "ndmat /= (epsilon + np.std(ndmat.T, axis = 1).T)\n",
    "\n",
    "train, test = train_test_split(ndmat)\n",
    "similarity = fast_similarity(ndmat)\n",
    "\n",
    "item_similarity = fast_similarity(ndmat, kind = 'item')\n",
    "\n",
    "md5.md5(pickle.dumps(train)).digest()"
   ]
  },
  {
   "cell_type": "code",
   "execution_count": 52,
   "metadata": {
    "collapsed": false
   },
   "outputs": [
    {
     "ename": "NameError",
     "evalue": "name 'coordinate_matrix_to_ndarr' is not defined",
     "output_type": "error",
     "traceback": [
      "\u001b[1;31m---------------------------------------------------------------------------\u001b[0m",
      "\u001b[1;31mNameError\u001b[0m                                 Traceback (most recent call last)",
      "\u001b[1;32m<ipython-input-52-13e29f500d80>\u001b[0m in \u001b[0;36m<module>\u001b[1;34m()\u001b[0m\n\u001b[0;32m      1\u001b[0m \u001b[1;32mimport\u001b[0m \u001b[0mcf_numpy\u001b[0m\u001b[1;33m\u001b[0m\u001b[0m\n\u001b[1;32m----> 2\u001b[1;33m \u001b[0mndmat\u001b[0m \u001b[1;33m=\u001b[0m \u001b[0mcoordinate_matrix_to_ndarr\u001b[0m\u001b[1;33m(\u001b[0m\u001b[0mtf_ij\u001b[0m\u001b[1;33m)\u001b[0m\u001b[1;33m\u001b[0m\u001b[0m\n\u001b[0m\u001b[0;32m      3\u001b[0m \u001b[0mndmat\u001b[0m \u001b[1;33m=\u001b[0m \u001b[0mndmat\u001b[0m\u001b[1;33m.\u001b[0m\u001b[0mT\u001b[0m\u001b[1;33m\u001b[0m\u001b[0m\n\u001b[0;32m      4\u001b[0m \u001b[0mndmat\u001b[0m \u001b[1;33m=\u001b[0m \u001b[0mndmat\u001b[0m\u001b[1;33m[\u001b[0m\u001b[1;36m1\u001b[0m\u001b[1;33m:\u001b[0m\u001b[1;33m,\u001b[0m \u001b[1;36m1\u001b[0m\u001b[1;33m:\u001b[0m\u001b[1;33m]\u001b[0m\u001b[1;33m\u001b[0m\u001b[0m\n\u001b[0;32m      5\u001b[0m \u001b[0msubreddit_mapper\u001b[0m \u001b[1;33m=\u001b[0m \u001b[0mdict\u001b[0m\u001b[1;33m(\u001b[0m\u001b[0mact\u001b[0m\u001b[1;33m.\u001b[0m\u001b[0mrdd\u001b[0m\u001b[1;33m.\u001b[0m\u001b[0mmap\u001b[0m\u001b[1;33m(\u001b[0m\u001b[1;32mlambda\u001b[0m \u001b[0mentry\u001b[0m\u001b[1;33m:\u001b[0m \u001b[1;33m(\u001b[0m\u001b[0mentry\u001b[0m\u001b[1;33m.\u001b[0m\u001b[0mordered_id\u001b[0m\u001b[1;33m,\u001b[0m \u001b[0mentry\u001b[0m\u001b[1;33m.\u001b[0m\u001b[0msubreddit\u001b[0m\u001b[1;33m)\u001b[0m\u001b[1;33m)\u001b[0m\u001b[1;33m.\u001b[0m\u001b[0mcollect\u001b[0m\u001b[1;33m(\u001b[0m\u001b[1;33m)\u001b[0m\u001b[1;33m)\u001b[0m\u001b[1;33m\u001b[0m\u001b[0m\n",
      "\u001b[1;31mNameError\u001b[0m: name 'coordinate_matrix_to_ndarr' is not defined"
     ]
    }
   ],
   "source": [
    "import cf_numpy\n",
    "ndmat = coordinate_matrix_to_ndarr(tf_ij)\n",
    "ndmat = ndmat.T\n",
    "ndmat = ndmat[1:, 1:]\n",
    "subreddit_mapper = dict(act.rdd.map(lambda entry: (entry.ordered_id, entry.subreddit)).collect())"
   ]
  },
  {
   "cell_type": "code",
   "execution_count": 51,
   "metadata": {
    "collapsed": true
   },
   "outputs": [],
   "source": [
    "subreddit_mapper1 = subreddit_mapper"
   ]
  },
  {
   "cell_type": "code",
   "execution_count": 537,
   "metadata": {
    "collapsed": false,
    "scrolled": true
   },
   "outputs": [
    {
     "ename": "ValueError",
     "evalue": "Cannot take a larger sample than population when 'replace=False'",
     "output_type": "error",
     "traceback": [
      "\u001b[1;31m---------------------------------------------------------------------------\u001b[0m",
      "\u001b[1;31mValueError\u001b[0m                                Traceback (most recent call last)",
      "\u001b[1;32m<ipython-input-537-da2bdbdb0ef6>\u001b[0m in \u001b[0;36m<module>\u001b[1;34m()\u001b[0m\n\u001b[0;32m      7\u001b[0m \u001b[0mndmat\u001b[0m \u001b[1;33m/=\u001b[0m \u001b[1;33m(\u001b[0m\u001b[0mepsilon\u001b[0m \u001b[1;33m+\u001b[0m \u001b[0mnp\u001b[0m\u001b[1;33m.\u001b[0m\u001b[0mstd\u001b[0m\u001b[1;33m(\u001b[0m\u001b[0mndmat\u001b[0m\u001b[1;33m.\u001b[0m\u001b[0mT\u001b[0m\u001b[1;33m,\u001b[0m \u001b[0maxis\u001b[0m \u001b[1;33m=\u001b[0m \u001b[1;36m1\u001b[0m\u001b[1;33m)\u001b[0m\u001b[1;33m.\u001b[0m\u001b[0mT\u001b[0m\u001b[1;33m)\u001b[0m\u001b[1;33m\u001b[0m\u001b[0m\n\u001b[0;32m      8\u001b[0m \u001b[1;33m\u001b[0m\u001b[0m\n\u001b[1;32m----> 9\u001b[1;33m \u001b[0mtrain\u001b[0m\u001b[1;33m,\u001b[0m \u001b[0mtest\u001b[0m \u001b[1;33m=\u001b[0m \u001b[0mtrain_test_split\u001b[0m\u001b[1;33m(\u001b[0m\u001b[0mndmat\u001b[0m\u001b[1;33m)\u001b[0m\u001b[1;33m\u001b[0m\u001b[0m\n\u001b[0m\u001b[0;32m     10\u001b[0m \u001b[0mstate\u001b[0m\u001b[1;33m[\u001b[0m\u001b[1;34m'item_similarity_full'\u001b[0m\u001b[1;33m]\u001b[0m \u001b[1;33m=\u001b[0m \u001b[0mfast_similarity\u001b[0m\u001b[1;33m(\u001b[0m\u001b[0mndmat\u001b[0m\u001b[1;33m,\u001b[0m \u001b[0mkind\u001b[0m \u001b[1;33m=\u001b[0m \u001b[1;34m'item'\u001b[0m\u001b[1;33m)\u001b[0m\u001b[1;33m\u001b[0m\u001b[0m\n\u001b[0;32m     11\u001b[0m \u001b[0mstate\u001b[0m\u001b[1;33m[\u001b[0m\u001b[1;34m'item_similarity_sampled'\u001b[0m\u001b[1;33m]\u001b[0m \u001b[1;33m=\u001b[0m \u001b[0mfast_similarity\u001b[0m\u001b[1;33m(\u001b[0m\u001b[0mtrain\u001b[0m\u001b[1;33m,\u001b[0m \u001b[0mkind\u001b[0m \u001b[1;33m=\u001b[0m \u001b[1;34m'item'\u001b[0m\u001b[1;33m)\u001b[0m\u001b[1;33m\u001b[0m\u001b[0m\n",
      "\u001b[1;32m<ipython-input-53-bd588dcd758c>\u001b[0m in \u001b[0;36mtrain_test_split\u001b[1;34m(ratings)\u001b[0m\n\u001b[0;32m      5\u001b[0m         test_ratings = np.random.choice(ratings[user, :].nonzero()[0], \n\u001b[0;32m      6\u001b[0m                                         \u001b[0msize\u001b[0m\u001b[1;33m=\u001b[0m\u001b[1;36m3\u001b[0m\u001b[1;33m,\u001b[0m\u001b[1;33m\u001b[0m\u001b[0m\n\u001b[1;32m----> 7\u001b[1;33m                                         replace=False)\n\u001b[0m\u001b[0;32m      8\u001b[0m         \u001b[0mtrain\u001b[0m\u001b[1;33m[\u001b[0m\u001b[0muser\u001b[0m\u001b[1;33m,\u001b[0m \u001b[0mtest_ratings\u001b[0m\u001b[1;33m]\u001b[0m \u001b[1;33m=\u001b[0m \u001b[1;36m0.\u001b[0m\u001b[1;33m\u001b[0m\u001b[0m\n\u001b[0;32m      9\u001b[0m         \u001b[0mtest\u001b[0m\u001b[1;33m[\u001b[0m\u001b[0muser\u001b[0m\u001b[1;33m,\u001b[0m \u001b[0mtest_ratings\u001b[0m\u001b[1;33m]\u001b[0m \u001b[1;33m=\u001b[0m \u001b[0mratings\u001b[0m\u001b[1;33m[\u001b[0m\u001b[0muser\u001b[0m\u001b[1;33m,\u001b[0m \u001b[0mtest_ratings\u001b[0m\u001b[1;33m]\u001b[0m\u001b[1;33m\u001b[0m\u001b[0m\n",
      "\u001b[1;32mmtrand.pyx\u001b[0m in \u001b[0;36mmtrand.RandomState.choice (numpy/random/mtrand/mtrand.c:8348)\u001b[1;34m()\u001b[0m\n",
      "\u001b[1;31mValueError\u001b[0m: Cannot take a larger sample than population when 'replace=False'"
     ]
    }
   ],
   "source": [
    "epsilon = 1e-9\n",
    "ndmat = ndmat.T\n",
    "ndmat = ndmat[1:, 1:]\n",
    "\n",
    "# TODO: play with this\n",
    "ndmat /= (epsilon + np.std(ndmat, axis = 0))\n",
    "ndmat /= (epsilon + np.std(ndmat.T, axis = 1).T)\n",
    "\n",
    "train, test = train_test_split(ndmat)\n",
    "state['item_similarity_full'] = fast_similarity(ndmat, kind = 'item')\n",
    "state['item_similarity_sampled'] = fast_similarity(train, kind = 'item')\n",
    "state['subreddit_mapper'] = subreddit_mapper\n",
    "state['idx_mapper'] = {v: k for k, v in subreddit_mapper.iteritems()}"
   ]
  },
  {
   "cell_type": "code",
   "execution_count": 567,
   "metadata": {
    "collapsed": false
   },
   "outputs": [],
   "source": [
    "reload(cf_numpy)\n",
    "cf_numpy.init(ndmat, subreddit_mapper)"
   ]
  },
  {
   "cell_type": "code",
   "execution_count": 297,
   "metadata": {
    "collapsed": false
   },
   "outputs": [],
   "source": [
    "predictions = predict_nobias(train, item_similarity, kind = 'item')"
   ]
  },
  {
   "cell_type": "markdown",
   "metadata": {},
   "source": [
    "Implement LSA"
   ]
  },
  {
   "cell_type": "markdown",
   "metadata": {},
   "source": [
    "Test stuff"
   ]
  },
  {
   "cell_type": "code",
   "execution_count": 94,
   "metadata": {
    "collapsed": true
   },
   "outputs": [],
   "source": [
    "test_coordmat2 = ndarr_to_coord_array(test_array2)"
   ]
  },
  {
   "cell_type": "markdown",
   "metadata": {},
   "source": [
    "SVD implementation"
   ]
  },
  {
   "cell_type": "code",
   "execution_count": 80,
   "metadata": {
    "collapsed": true
   },
   "outputs": [],
   "source": [
    "from random import normalvariate"
   ]
  },
  {
   "cell_type": "code",
   "execution_count": 83,
   "metadata": {
    "collapsed": true
   },
   "outputs": [],
   "source": [
    "from random import normalvariate\n",
    "def random_unit(n):\n",
    "    vec = np.array([normalvariate(0, 1) for _ in range(n)])\n",
    "    return vec / np.linalg.norm(vec)\n",
    "\n",
    "def SVD_1D(A, threshold = 1e-10):\n",
    "    \"\"\"\n",
    "    A : CoordinateMatrix\n",
    "    \"\"\"\n",
    "    n, m = A.numRows(), A.numCols()\n",
    "    x = random_unit(m)\n",
    "    # TODO finish this"
   ]
  },
  {
   "cell_type": "code",
   "execution_count": null,
   "metadata": {
    "collapsed": true
   },
   "outputs": [],
   "source": [
    "import numpy as np\n",
    "from numpy.linalg import norm\n",
    "\n",
    "def svd_1d(A, epsilon=1e-10):\n",
    "    ''' The one-dimensional SVD '''\n",
    "    n, m = A.shape\n",
    "    x = randomUnitVector(m)\n",
    "    lastV = None\n",
    "    currentV = x\n",
    "    B = np.dot(A.T, A)\n",
    " \n",
    "    iterations = 0\n",
    "    while True:\n",
    "        iterations += 1\n",
    "        lastV = currentV\n",
    "        currentV = np.dot(B, lastV)\n",
    "        currentV = currentV / norm(currentV)\n",
    " \n",
    "        if abs(np.dot(currentV, lastV)) > 1 - epsilon:\n",
    "            print(\"converged in {} iterations!\".format(iterations))\n",
    "            return currentV"
   ]
  }
 ],
 "metadata": {
  "kernelspec": {
   "display_name": "Python 2",
   "language": "python",
   "name": "python2"
  },
  "language_info": {
   "codemirror_mode": {
    "name": "ipython",
    "version": 2
   },
   "file_extension": ".py",
   "mimetype": "text/x-python",
   "name": "python",
   "nbconvert_exporter": "python",
   "pygments_lexer": "ipython2",
   "version": "2.7.6"
  }
 },
 "nbformat": 4,
 "nbformat_minor": 0
}
