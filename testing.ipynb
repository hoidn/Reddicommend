{
 "cells": [
  {
   "cell_type": "code",
   "execution_count": 3,
   "metadata": {
    "collapsed": true
   },
   "outputs": [],
   "source": [
    "import pyspark"
   ]
  },
  {
   "cell_type": "code",
   "execution_count": 4,
   "metadata": {
    "collapsed": true
   },
   "outputs": [],
   "source": [
    "import numpy as np"
   ]
  },
  {
   "cell_type": "code",
   "execution_count": 5,
   "metadata": {
    "collapsed": true
   },
   "outputs": [],
   "source": [
    "from pyspark.mllib.linalg.distributed import CoordinateMatrix\n",
    "from pyspark.mllib.linalg.distributed import MatrixEntry\n",
    "from pyspark.sql.types import *\n",
    "from operator import add\n",
    "from pyspark.mllib.linalg import Vectors, ArrayType"
   ]
  },
  {
   "cell_type": "code",
   "execution_count": 6,
   "metadata": {
    "collapsed": true
   },
   "outputs": [],
   "source": [
    "minimal_fields = [ \n",
    "          StructField(\"author\", StringType(), True),\n",
    "          StructField(\"score\", LongType(), True),\n",
    "          StructField(\"subreddit\", StringType(), True)]"
   ]
  },
  {
   "cell_type": "code",
   "execution_count": 16,
   "metadata": {
    "collapsed": true
   },
   "outputs": [],
   "source": [
    "def df_most_active_subreddits(k = 1000):\n",
    "    most_active = sqlContext.sql(\"\"\"\n",
    "    select * from\n",
    "        (select *, dense_rank() over (order by activity desc) as ordered_id\n",
    "        from (select rid, subreddit, sum(activity) as activity\n",
    "            from occurrences\n",
    "            group by rid, subreddit))\n",
    "\"\"\").persist(StorageLevel.MEMORY_AND_DISK_SER)\n",
    "    most_active.registerTempTable('most_active')\n",
    "    return most_active\n",
    "\n",
    "def df_valid_users(min_subreddits = 2, max_subreddits = 20):\n",
    "    \"\"\"\n",
    "    filter users by the number of subreddits they've posted in, among the above-defined most active subreddits\n",
    "    \"\"\"\n",
    "    most_active_users = sqlContext.sql(\"\"\"\n",
    "    select * from\n",
    "        (select author, count(subreddit) as count\n",
    "        from \n",
    "            (select * from occurrences\n",
    "            where subreddit in (select subreddit from most_active))\n",
    "        group by author\n",
    "        order by count desc)\n",
    "    where count>=%d and count<=%d\"\"\" % (min_subreddits, max_subreddits)).persist(StorageLevel.MEMORY_AND_DISK_SER)\n",
    "    most_active_users.registerTempTable('most_active_users')\n",
    "    return most_active_users\n",
    "\n",
    "def load_and_preprocess(json_uri, num_subreddit, user_min_active_subreddits = 4, user_max_active_subreddits = 20):\n",
    "    \"\"\"\n",
    "    Load json and do preprocessing via some SQL queries\n",
    "    \"\"\"\n",
    "    sj = sqlContext.read.json(json_uri, StructType(minimal_fields))\n",
    "    sj.registerTempTable('test')\n",
    "    \n",
    "    occurrences = sqlContext.sql(\"\"\"\n",
    "    select *, dense_rank() over (order by subreddit desc) as rid \n",
    "    from  (SELECT subreddit, author, sum(sign(score)) as tally,\\\n",
    "        count(score) as activity, dense_rank() over (order by author desc) as uid\n",
    "    from test\n",
    "    group by subreddit, author)\n",
    "    where tally!=0\n",
    "    \"\"\").persist(StorageLevel.MEMORY_AND_DISK_SER)\n",
    "    occurrences.registerTempTable('occurrences')\n",
    "        \n",
    "    df_most_active_subreddits()\n",
    "    df_valid_users(user_min_active_subreddits, user_max_active_subreddits)\n",
    "    \n",
    "    test2 = sqlContext.sql(\"\"\"\n",
    "    select test.author, test.score, test.subreddit, most_active.ordered_id as ordered_id\n",
    "    from test\n",
    "    inner join most_active on most_active.subreddit=test.subreddit\"\"\")\n",
    "    test2.registerTempTable('test2')\n",
    "    \n",
    "    occurrences_pruned = sqlContext.sql(\"\"\"\n",
    "    select *\n",
    "    from  (SELECT test2.subreddit, author, test2.ordered_id, sum(score) as tally,\\\n",
    "        sum(abs(score)) as activity, dense_rank() over (order by author desc) as uid\n",
    "        from test2\n",
    "        where author in (select author from most_active_users)\n",
    "        group by test2.subreddit, test2.ordered_id, author)\n",
    "    where tally!=0\n",
    "    \"\"\").persist(StorageLevel.MEMORY_AND_DISK_SER)\n",
    "    occurrences_pruned.registerTempTable('occurrences_pruned')\n",
    "    \n",
    "    bare_occurrences = sqlContext.sql(\"\"\"\n",
    "    select ordered_id, uid, tally\n",
    "    from occurrences_pruned\n",
    "    \"\"\").persist(StorageLevel.MEMORY_AND_DISK_SER)\n",
    "    bare_occurrences.registerTempTable('bare_occurrences')\n",
    "    \n",
    "def gen_frequency_matrix():\n",
    "    # subreddit-activity matrix\n",
    "    bare_occurrences = sqlContext.sql(\"\"\"select * from bare_occurrences\"\"\")\n",
    "    tf_ij = CoordinateMatrix(bare_occurrences.rdd.map(\n",
    "            lambda row: (row.ordered_id, (row.uid, row.tally)))\\\n",
    "        .sortByKey().map(lambda entry: (entry[0] - 1, entry[1][0], entry[1][1])))\n",
    "    return tf_ij"
   ]
  },
  {
   "cell_type": "markdown",
   "metadata": {},
   "source": [
    "### Now initialize stuff"
   ]
  },
  {
   "cell_type": "code",
   "execution_count": 17,
   "metadata": {
    "collapsed": true
   },
   "outputs": [],
   "source": [
    "#json_uri = \"s3a://insight-ohoidn/sample3.json\"\n",
    "json_uri = \"s3a://insight-ohoidn/sample10M.json\"\n",
    "numreddits = 100\n",
    "user_min_active_subreddits = 5\n",
    "user_max_active_subreddits = 20"
   ]
  },
  {
   "cell_type": "code",
   "execution_count": 18,
   "metadata": {
    "collapsed": false
   },
   "outputs": [],
   "source": [
    "load_and_preprocess(json_uri, numreddits,\n",
    "                    user_min_active_subreddits = user_min_active_subreddits,\n",
    "                    user_max_active_subreddits = user_max_active_subreddits)\n",
    "\n",
    "subreddit_mapper = dict(df_most_active_subreddits(numreddits)\\\n",
    "                        .rdd.map(lambda entry: (entry.ordered_id, entry.subreddit)).collect())\n",
    "idx_mapper = {v: k for k, v in subreddit_mapper.iteritems()}\n",
    "\n",
    "def idx_to_subreddit(idx):\n",
    "    return subreddit_mapper[idx + 1]\n",
    "\n",
    "def subreddit_to_idx(sub):\n",
    "    return idx_mapper[sub] - 1\n",
    "\n",
    "subreddit_to_idx.inverse = idx_to_subreddit\n",
    "idx_to_subreddit.inverse = subreddit_to_idx\n",
    "\n",
    "tf_ij = gen_frequency_matrix()"
   ]
  },
  {
   "cell_type": "code",
   "execution_count": 19,
   "metadata": {
    "collapsed": false
   },
   "outputs": [
    {
     "data": {
      "text/plain": [
       "870869"
      ]
     },
     "execution_count": 19,
     "metadata": {},
     "output_type": "execute_result"
    }
   ],
   "source": [
    "tf_ij.entries.count()"
   ]
  },
  {
   "cell_type": "markdown",
   "metadata": {},
   "source": [
    "### Subreddit activity:"
   ]
  },
  {
   "cell_type": "code",
   "execution_count": 1247,
   "metadata": {
    "collapsed": false
   },
   "outputs": [],
   "source": [
    "i_sumtally_tuples = bare_occurrences.rdd.map(lambda row: (row.ordered_id, row.tally)).sortByKey()\\\n",
    ".reduceByKey(add)\n",
    "gf_i = CoordinateMatrix(i_sumtally_tuples.map(lambda entry: (entry[0] - 1, 0, entry[1])))\n",
    "\n",
    "\n",
    "nusers = tf_ij.numCols()\n",
    "\n",
    "p_ij = coordinate_matrix_elementwise_vector_division(tf_ij, gf_i)\n",
    "\n",
    "# TODO figure out nan issues\n",
    "logp_ij = coordinateMatrixElementwise(p_ij, lambda elt: np.log((abs(elt))/np.log(nusers)))\n",
    "\n",
    "entropy_i = coordinateMatrixElementwise(coordinate_matrix_sumj(logp_ij), lambda elt: elt + 1) # + 1, but this has to be handled separately to conserve matrix sparsity"
   ]
  },
  {
   "cell_type": "code",
   "execution_count": 28,
   "metadata": {
    "collapsed": true
   },
   "outputs": [],
   "source": [
    "%run cf_spark.py\n",
    "%run cf_numpy.py"
   ]
  },
  {
   "cell_type": "markdown",
   "metadata": {},
   "source": [
    "### numpy implementation:"
   ]
  },
  {
   "cell_type": "code",
   "execution_count": 1205,
   "metadata": {
    "collapsed": false
   },
   "outputs": [
    {
     "data": {
      "text/plain": [
       "[u'DotA2', u'2007scape', u'FireEmblemHeroes', u'leagueoflegends', u'ethtrader']"
      ]
     },
     "execution_count": 1205,
     "metadata": {},
     "output_type": "execute_result"
    }
   ],
   "source": [
    "related_subs(tf_ij, 'DotA2', subreddit_to_idx)"
   ]
  },
  {
   "cell_type": "code",
   "execution_count": 1202,
   "metadata": {
    "collapsed": false
   },
   "outputs": [
    {
     "data": {
      "text/plain": [
       "[u'DotA2', u'2007scape', u'FireEmblemHeroes', u'leagueoflegends', u'ethtrader']"
      ]
     },
     "execution_count": 1202,
     "metadata": {},
     "output_type": "execute_result"
    }
   ],
   "source": [
    "spark_top_k_subs(sim, 'DotA2', subreddit_to_idx, k = 5)"
   ]
  },
  {
   "cell_type": "code",
   "execution_count": 1236,
   "metadata": {
    "collapsed": false
   },
   "outputs": [
    {
     "data": {
      "text/plain": [
       "[u'DotA2', u'DestinyTheGame', u'aww', u'funny', u'Rainbow6']"
      ]
     },
     "execution_count": 1236,
     "metadata": {},
     "output_type": "execute_result"
    }
   ],
   "source": [
    "related_subs(tf_ij, 'DotA2', subreddit_to_idx)"
   ]
  },
  {
   "cell_type": "code",
   "execution_count": 1243,
   "metadata": {
    "collapsed": false
   },
   "outputs": [
    {
     "data": {
      "text/plain": [
       "[u'Games', u'xboxone', u'RocketLeagueExchange', u'movies', u'FFBraveExvius']"
      ]
     },
     "execution_count": 1243,
     "metadata": {},
     "output_type": "execute_result"
    }
   ],
   "source": [
    "spark_top_k_subs(p_ij, 'Games', subreddit_to_idx, k = 5)"
   ]
  },
  {
   "cell_type": "code",
   "execution_count": 1239,
   "metadata": {
    "collapsed": false
   },
   "outputs": [
    {
     "data": {
      "text/plain": [
       "[u'DotA2', u'aww', u'funny', u'Rainbow6', u'TheSilphRoad']"
      ]
     },
     "execution_count": 1239,
     "metadata": {},
     "output_type": "execute_result"
    }
   ],
   "source": [
    "spark_top_k_subs(p_ij, 'DotA2', subreddit_to_idx, k = 5)"
   ]
  },
  {
   "cell_type": "code",
   "execution_count": 1250,
   "metadata": {
    "collapsed": false
   },
   "outputs": [
    {
     "data": {
      "text/plain": [
       "[u'DotA2', u'DestinyTheGame', u'aww', u'funny', u'Rainbow6']"
      ]
     },
     "execution_count": 1250,
     "metadata": {},
     "output_type": "execute_result"
    }
   ],
   "source": [
    "spark_top_k_subs(tf_ij, 'DotA2', subreddit_to_idx, k = 5)"
   ]
  },
  {
   "cell_type": "code",
   "execution_count": 33,
   "metadata": {
    "collapsed": false
   },
   "outputs": [
    {
     "data": {
      "text/plain": [
       "[u'investing', u'stocks', u'RobinHood', u'wallstreetbets', u'pathofexile']"
      ]
     },
     "execution_count": 33,
     "metadata": {},
     "output_type": "execute_result"
    }
   ],
   "source": [
    "spark_top_k_subs(tf_ij, 'investing', subreddit_to_idx, k = 5)"
   ]
  },
  {
   "cell_type": "code",
   "execution_count": 1249,
   "metadata": {
    "collapsed": false
   },
   "outputs": [
    {
     "data": {
      "text/plain": [
       "[u'DotA2', u'DestinyTheGame', u'aww', u'funny', u'Rainbow6']"
      ]
     },
     "execution_count": 1249,
     "metadata": {},
     "output_type": "execute_result"
    }
   ],
   "source": [
    "related_subs(tf_ij, 'DotA2', subreddit_to_idx)"
   ]
  },
  {
   "cell_type": "code",
   "execution_count": 1143,
   "metadata": {
    "collapsed": false
   },
   "outputs": [
    {
     "data": {
      "text/plain": [
       "1370L"
      ]
     },
     "execution_count": 1143,
     "metadata": {},
     "output_type": "execute_result"
    }
   ],
   "source": [
    "tf_ij.numCols()"
   ]
  },
  {
   "cell_type": "code",
   "execution_count": 504,
   "metadata": {
    "collapsed": false
   },
   "outputs": [],
   "source": [
    "def transform_tf_if(val):\n",
    "    newval = np.log(np.abs(val) + 1)\n",
    "    if val < 0:\n",
    "        return -newval\n",
    "    else:\n",
    "        return newval\n",
    "\n",
    "# TODO: maybe save this for later, when noise can be reduced via dimensionality reduction\n",
    "log_tf_ij = coordinateMatrixElementwise(tf_ij, transform_tf_if)\n",
    "\n",
    "a_ij = coordinatematrix_multiply_vector_elementwise(log_tf_ij, entropy_i)"
   ]
  },
  {
   "cell_type": "code",
   "execution_count": 37,
   "metadata": {
    "collapsed": true
   },
   "outputs": [],
   "source": [
    "def predict_nobias(ratings, similarity, kind='user'):\n",
    "    if kind == 'user':\n",
    "        user_bias = ratings.mean(axis=1)\n",
    "        ratings = (ratings - user_bias[:, np.newaxis]).copy()\n",
    "        pred = similarity.dot(ratings) / np.array([np.abs(similarity).sum(axis=1)]).T\n",
    "        pred += user_bias[:, np.newaxis]\n",
    "    elif kind == 'item':\n",
    "        item_bias = ratings.mean(axis=0)\n",
    "        ratings = (ratings - item_bias[np.newaxis, :]).copy()\n",
    "        pred = ratings.dot(similarity) / np.array([np.abs(similarity).sum(axis=1)])\n",
    "        pred += item_bias[np.newaxis, :]\n",
    "        \n",
    "    return pred"
   ]
  },
  {
   "cell_type": "code",
   "execution_count": 93,
   "metadata": {
    "collapsed": true
   },
   "outputs": [],
   "source": [
    "def predict_topk(ratings, similarity, kind='user', k=40):\n",
    "    pred = np.zeros(ratings.shape)\n",
    "    if kind == 'user':\n",
    "        for i in xrange(ratings.shape[0]):\n",
    "            top_k_users = [np.argsort(similarity[:,i])[:-k-1:-1]]\n",
    "            for j in xrange(ratings.shape[1]):\n",
    "                pred[i, j] = similarity[i, :][top_k_users].dot(ratings[:, j][top_k_users]) \n",
    "                pred[i, j] /= np.sum(np.abs(similarity[i, :][top_k_users]))\n",
    "    if kind == 'item':\n",
    "        for j in xrange(ratings.shape[1]):\n",
    "            top_k_items = [np.argsort(similarity[:,j])[:-k-1:-1]]\n",
    "            for i in xrange(ratings.shape[0]):\n",
    "                pred[i, j] = similarity[j, :][top_k_items].dot(ratings[i, :][top_k_items].T) \n",
    "                pred[i, j] /= np.sum(np.abs(similarity[j, :][top_k_items]))        \n",
    "    \n",
    "    return pred"
   ]
  },
  {
   "cell_type": "code",
   "execution_count": 38,
   "metadata": {
    "collapsed": true
   },
   "outputs": [],
   "source": [
    "from sklearn.metrics import mean_squared_error\n",
    "\n",
    "def get_mse(pred, actual):\n",
    "    # Ignore nonzero terms.\n",
    "    pred = pred[actual.nonzero()].flatten()\n",
    "    actual = actual[actual.nonzero()].flatten()\n",
    "    return mean_squared_error(pred, actual)"
   ]
  },
  {
   "cell_type": "code",
   "execution_count": 903,
   "metadata": {
    "collapsed": true
   },
   "outputs": [],
   "source": []
  },
  {
   "cell_type": "code",
   "execution_count": 901,
   "metadata": {
    "collapsed": true
   },
   "outputs": [],
   "source": [
    "def top_k_movies(similarity, movie_idx, k=6):\n",
    "    return [notebook_idx_to_subreddit(x) for x in np.argsort(similarity[movie_idx,:])[:-k-1:-1]]"
   ]
  },
  {
   "cell_type": "code",
   "execution_count": 1206,
   "metadata": {
    "collapsed": false,
    "scrolled": true
   },
   "outputs": [],
   "source": [
    "#get_mse(predict_nobias, test)"
   ]
  },
  {
   "cell_type": "code",
   "execution_count": 756,
   "metadata": {
    "collapsed": true
   },
   "outputs": [
    {
     "data": {
      "text/html": [
       "<div style=\"max-height:1000px;max-width:1500px;overflow:auto;\">\n",
       "<table border=\"1\" class=\"dataframe\">\n",
       "  <thead>\n",
       "    <tr style=\"text-align: right;\">\n",
       "      <th></th>\n",
       "      <th>rid</th>\n",
       "      <th>uid</th>\n",
       "      <th>tally</th>\n",
       "    </tr>\n",
       "  </thead>\n",
       "  <tbody>\n",
       "    <tr>\n",
       "      <th>0 </th>\n",
       "      <td>  1</td>\n",
       "      <td> 173573</td>\n",
       "      <td>  1</td>\n",
       "    </tr>\n",
       "    <tr>\n",
       "      <th>1 </th>\n",
       "      <td>  2</td>\n",
       "      <td>   2510</td>\n",
       "      <td>  1</td>\n",
       "    </tr>\n",
       "    <tr>\n",
       "      <th>2 </th>\n",
       "      <td>  3</td>\n",
       "      <td> 202843</td>\n",
       "      <td>  1</td>\n",
       "    </tr>\n",
       "    <tr>\n",
       "      <th>3 </th>\n",
       "      <td>  4</td>\n",
       "      <td>  71343</td>\n",
       "      <td>  2</td>\n",
       "    </tr>\n",
       "    <tr>\n",
       "      <th>4 </th>\n",
       "      <td>  5</td>\n",
       "      <td> 157008</td>\n",
       "      <td>  1</td>\n",
       "    </tr>\n",
       "    <tr>\n",
       "      <th>5 </th>\n",
       "      <td>  6</td>\n",
       "      <td>  22113</td>\n",
       "      <td>  2</td>\n",
       "    </tr>\n",
       "    <tr>\n",
       "      <th>6 </th>\n",
       "      <td>  6</td>\n",
       "      <td>  29476</td>\n",
       "      <td> 11</td>\n",
       "    </tr>\n",
       "    <tr>\n",
       "      <th>7 </th>\n",
       "      <td>  6</td>\n",
       "      <td>  41712</td>\n",
       "      <td>  6</td>\n",
       "    </tr>\n",
       "    <tr>\n",
       "      <th>8 </th>\n",
       "      <td>  6</td>\n",
       "      <td>  52207</td>\n",
       "      <td>  4</td>\n",
       "    </tr>\n",
       "    <tr>\n",
       "      <th>9 </th>\n",
       "      <td>  6</td>\n",
       "      <td>  68993</td>\n",
       "      <td>  9</td>\n",
       "    </tr>\n",
       "    <tr>\n",
       "      <th>10</th>\n",
       "      <td>  6</td>\n",
       "      <td>  72151</td>\n",
       "      <td>  2</td>\n",
       "    </tr>\n",
       "    <tr>\n",
       "      <th>11</th>\n",
       "      <td>  6</td>\n",
       "      <td>  73394</td>\n",
       "      <td>  1</td>\n",
       "    </tr>\n",
       "    <tr>\n",
       "      <th>12</th>\n",
       "      <td>  6</td>\n",
       "      <td>  99328</td>\n",
       "      <td>  2</td>\n",
       "    </tr>\n",
       "    <tr>\n",
       "      <th>13</th>\n",
       "      <td>  6</td>\n",
       "      <td> 107223</td>\n",
       "      <td>  1</td>\n",
       "    </tr>\n",
       "    <tr>\n",
       "      <th>14</th>\n",
       "      <td>  6</td>\n",
       "      <td> 157950</td>\n",
       "      <td> 13</td>\n",
       "    </tr>\n",
       "    <tr>\n",
       "      <th>15</th>\n",
       "      <td>  6</td>\n",
       "      <td> 158256</td>\n",
       "      <td>  6</td>\n",
       "    </tr>\n",
       "    <tr>\n",
       "      <th>16</th>\n",
       "      <td>  6</td>\n",
       "      <td> 161058</td>\n",
       "      <td> 14</td>\n",
       "    </tr>\n",
       "    <tr>\n",
       "      <th>17</th>\n",
       "      <td>  6</td>\n",
       "      <td> 164299</td>\n",
       "      <td>  9</td>\n",
       "    </tr>\n",
       "    <tr>\n",
       "      <th>18</th>\n",
       "      <td>  6</td>\n",
       "      <td> 167056</td>\n",
       "      <td> 57</td>\n",
       "    </tr>\n",
       "    <tr>\n",
       "      <th>19</th>\n",
       "      <td>  6</td>\n",
       "      <td> 170651</td>\n",
       "      <td>  4</td>\n",
       "    </tr>\n",
       "    <tr>\n",
       "      <th>20</th>\n",
       "      <td>  6</td>\n",
       "      <td> 182984</td>\n",
       "      <td> 14</td>\n",
       "    </tr>\n",
       "    <tr>\n",
       "      <th>21</th>\n",
       "      <td>  6</td>\n",
       "      <td> 190719</td>\n",
       "      <td>  5</td>\n",
       "    </tr>\n",
       "    <tr>\n",
       "      <th>22</th>\n",
       "      <td>  6</td>\n",
       "      <td> 204970</td>\n",
       "      <td>  1</td>\n",
       "    </tr>\n",
       "    <tr>\n",
       "      <th>23</th>\n",
       "      <td>  6</td>\n",
       "      <td> 212901</td>\n",
       "      <td>  4</td>\n",
       "    </tr>\n",
       "    <tr>\n",
       "      <th>24</th>\n",
       "      <td>  6</td>\n",
       "      <td> 219743</td>\n",
       "      <td>  5</td>\n",
       "    </tr>\n",
       "    <tr>\n",
       "      <th>25</th>\n",
       "      <td>  6</td>\n",
       "      <td> 224240</td>\n",
       "      <td>  1</td>\n",
       "    </tr>\n",
       "    <tr>\n",
       "      <th>26</th>\n",
       "      <td>  6</td>\n",
       "      <td> 245974</td>\n",
       "      <td> 10</td>\n",
       "    </tr>\n",
       "    <tr>\n",
       "      <th>27</th>\n",
       "      <td>  6</td>\n",
       "      <td> 247719</td>\n",
       "      <td>  9</td>\n",
       "    </tr>\n",
       "    <tr>\n",
       "      <th>28</th>\n",
       "      <td>  6</td>\n",
       "      <td> 250489</td>\n",
       "      <td>  5</td>\n",
       "    </tr>\n",
       "    <tr>\n",
       "      <th>29</th>\n",
       "      <td>  6</td>\n",
       "      <td> 263115</td>\n",
       "      <td> 17</td>\n",
       "    </tr>\n",
       "    <tr>\n",
       "      <th>30</th>\n",
       "      <td>  6</td>\n",
       "      <td> 269211</td>\n",
       "      <td>  4</td>\n",
       "    </tr>\n",
       "    <tr>\n",
       "      <th>31</th>\n",
       "      <td>  6</td>\n",
       "      <td> 270545</td>\n",
       "      <td>  6</td>\n",
       "    </tr>\n",
       "    <tr>\n",
       "      <th>32</th>\n",
       "      <td>  6</td>\n",
       "      <td> 281333</td>\n",
       "      <td> 25</td>\n",
       "    </tr>\n",
       "    <tr>\n",
       "      <th>33</th>\n",
       "      <td>  6</td>\n",
       "      <td> 281404</td>\n",
       "      <td> 19</td>\n",
       "    </tr>\n",
       "    <tr>\n",
       "      <th>34</th>\n",
       "      <td>  6</td>\n",
       "      <td> 282960</td>\n",
       "      <td>  3</td>\n",
       "    </tr>\n",
       "    <tr>\n",
       "      <th>35</th>\n",
       "      <td>  6</td>\n",
       "      <td> 289078</td>\n",
       "      <td>  1</td>\n",
       "    </tr>\n",
       "    <tr>\n",
       "      <th>36</th>\n",
       "      <td>  6</td>\n",
       "      <td> 294241</td>\n",
       "      <td>  1</td>\n",
       "    </tr>\n",
       "    <tr>\n",
       "      <th>37</th>\n",
       "      <td>  6</td>\n",
       "      <td> 303966</td>\n",
       "      <td>  5</td>\n",
       "    </tr>\n",
       "    <tr>\n",
       "      <th>38</th>\n",
       "      <td>  6</td>\n",
       "      <td> 309368</td>\n",
       "      <td>  3</td>\n",
       "    </tr>\n",
       "    <tr>\n",
       "      <th>39</th>\n",
       "      <td>  6</td>\n",
       "      <td> 312009</td>\n",
       "      <td>  5</td>\n",
       "    </tr>\n",
       "    <tr>\n",
       "      <th>40</th>\n",
       "      <td>  6</td>\n",
       "      <td> 312679</td>\n",
       "      <td>  8</td>\n",
       "    </tr>\n",
       "    <tr>\n",
       "      <th>41</th>\n",
       "      <td>  6</td>\n",
       "      <td> 316296</td>\n",
       "      <td>  2</td>\n",
       "    </tr>\n",
       "    <tr>\n",
       "      <th>42</th>\n",
       "      <td>  6</td>\n",
       "      <td> 335521</td>\n",
       "      <td>  1</td>\n",
       "    </tr>\n",
       "    <tr>\n",
       "      <th>43</th>\n",
       "      <td>  7</td>\n",
       "      <td>  21702</td>\n",
       "      <td>  4</td>\n",
       "    </tr>\n",
       "    <tr>\n",
       "      <th>44</th>\n",
       "      <td>  7</td>\n",
       "      <td> 116855</td>\n",
       "      <td>  4</td>\n",
       "    </tr>\n",
       "    <tr>\n",
       "      <th>45</th>\n",
       "      <td>  7</td>\n",
       "      <td> 131891</td>\n",
       "      <td>  3</td>\n",
       "    </tr>\n",
       "    <tr>\n",
       "      <th>46</th>\n",
       "      <td>  7</td>\n",
       "      <td> 136727</td>\n",
       "      <td>  5</td>\n",
       "    </tr>\n",
       "    <tr>\n",
       "      <th>47</th>\n",
       "      <td>  7</td>\n",
       "      <td> 157950</td>\n",
       "      <td>  2</td>\n",
       "    </tr>\n",
       "    <tr>\n",
       "      <th>48</th>\n",
       "      <td>  7</td>\n",
       "      <td> 326961</td>\n",
       "      <td>  1</td>\n",
       "    </tr>\n",
       "    <tr>\n",
       "      <th>49</th>\n",
       "      <td>  7</td>\n",
       "      <td> 331361</td>\n",
       "      <td> 12</td>\n",
       "    </tr>\n",
       "    <tr>\n",
       "      <th>50</th>\n",
       "      <td>  7</td>\n",
       "      <td> 338770</td>\n",
       "      <td>  1</td>\n",
       "    </tr>\n",
       "    <tr>\n",
       "      <th>51</th>\n",
       "      <td>  8</td>\n",
       "      <td>    671</td>\n",
       "      <td>  6</td>\n",
       "    </tr>\n",
       "    <tr>\n",
       "      <th>52</th>\n",
       "      <td>  8</td>\n",
       "      <td> 125324</td>\n",
       "      <td>  3</td>\n",
       "    </tr>\n",
       "    <tr>\n",
       "      <th>53</th>\n",
       "      <td>  9</td>\n",
       "      <td>   4123</td>\n",
       "      <td>  3</td>\n",
       "    </tr>\n",
       "    <tr>\n",
       "      <th>54</th>\n",
       "      <td>  9</td>\n",
       "      <td> 157950</td>\n",
       "      <td>  1</td>\n",
       "    </tr>\n",
       "    <tr>\n",
       "      <th>55</th>\n",
       "      <td> 10</td>\n",
       "      <td> 189373</td>\n",
       "      <td>  3</td>\n",
       "    </tr>\n",
       "    <tr>\n",
       "      <th>56</th>\n",
       "      <td> 11</td>\n",
       "      <td>  90933</td>\n",
       "      <td>  1</td>\n",
       "    </tr>\n",
       "    <tr>\n",
       "      <th>57</th>\n",
       "      <td> 11</td>\n",
       "      <td> 223242</td>\n",
       "      <td>  3</td>\n",
       "    </tr>\n",
       "    <tr>\n",
       "      <th>58</th>\n",
       "      <td> 11</td>\n",
       "      <td> 243839</td>\n",
       "      <td>  1</td>\n",
       "    </tr>\n",
       "    <tr>\n",
       "      <th>59</th>\n",
       "      <td> 12</td>\n",
       "      <td>  22678</td>\n",
       "      <td>  3</td>\n",
       "    </tr>\n",
       "    <tr>\n",
       "      <th></th>\n",
       "      <td>...</td>\n",
       "      <td>...</td>\n",
       "      <td>...</td>\n",
       "    </tr>\n",
       "  </tbody>\n",
       "</table>\n",
       "<p>465503 rows × 3 columns</p>\n",
       "</div>"
      ],
      "text/plain": [
       "    rid     uid  tally\n",
       "0     1  173573      1\n",
       "1     2    2510      1\n",
       "2     3  202843      1\n",
       "3     4   71343      2\n",
       "4     5  157008      1\n",
       "5     6   22113      2\n",
       "6     6   29476     11\n",
       "7     6   41712      6\n",
       "8     6   52207      4\n",
       "9     6   68993      9\n",
       "10    6   72151      2\n",
       "11    6   73394      1\n",
       "12    6   99328      2\n",
       "13    6  107223      1\n",
       "14    6  157950     13\n",
       "15    6  158256      6\n",
       "16    6  161058     14\n",
       "17    6  164299      9\n",
       "18    6  167056     57\n",
       "19    6  170651      4\n",
       "20    6  182984     14\n",
       "21    6  190719      5\n",
       "22    6  204970      1\n",
       "23    6  212901      4\n",
       "24    6  219743      5\n",
       "25    6  224240      1\n",
       "26    6  245974     10\n",
       "27    6  247719      9\n",
       "28    6  250489      5\n",
       "29    6  263115     17\n",
       "30    6  269211      4\n",
       "31    6  270545      6\n",
       "32    6  281333     25\n",
       "33    6  281404     19\n",
       "34    6  282960      3\n",
       "35    6  289078      1\n",
       "36    6  294241      1\n",
       "37    6  303966      5\n",
       "38    6  309368      3\n",
       "39    6  312009      5\n",
       "40    6  312679      8\n",
       "41    6  316296      2\n",
       "42    6  335521      1\n",
       "43    7   21702      4\n",
       "44    7  116855      4\n",
       "45    7  131891      3\n",
       "46    7  136727      5\n",
       "47    7  157950      2\n",
       "48    7  326961      1\n",
       "49    7  331361     12\n",
       "50    7  338770      1\n",
       "51    8     671      6\n",
       "52    8  125324      3\n",
       "53    9    4123      3\n",
       "54    9  157950      1\n",
       "55   10  189373      3\n",
       "56   11   90933      1\n",
       "57   11  223242      3\n",
       "58   11  243839      1\n",
       "59   12   22678      3\n",
       "    ...     ...    ...\n",
       "\n",
       "[465503 rows x 3 columns]"
      ]
     },
     "execution_count": 756,
     "metadata": {},
     "output_type": "execute_result"
    }
   ],
   "source": [
    "bare_occurrences.toPandas()"
   ]
  },
  {
   "cell_type": "code",
   "execution_count": 796,
   "metadata": {
    "collapsed": false
   },
   "outputs": [
    {
     "data": {
      "text/plain": [
       "57010L"
      ]
     },
     "execution_count": 796,
     "metadata": {},
     "output_type": "execute_result"
    }
   ],
   "source": [
    "a_ij.numCols()"
   ]
  },
  {
   "cell_type": "code",
   "execution_count": 350,
   "metadata": {
    "collapsed": false
   },
   "outputs": [
    {
     "data": {
      "text/plain": [
       "(100,)"
      ]
     },
     "execution_count": 350,
     "metadata": {},
     "output_type": "execute_result"
    }
   ],
   "source": [
    "np.mean(ndmat, axis = 0).shape"
   ]
  },
  {
   "cell_type": "code",
   "execution_count": 799,
   "metadata": {
    "collapsed": false,
    "scrolled": true
   },
   "outputs": [
    {
     "name": "stdout",
     "output_type": "stream",
     "text": [
      "sim [[  1.00000000e+00   1.00000000e-09   1.50000000e+01 ...,   1.00000000e-09\n",
      "    1.00000000e-09   1.00000000e-09]\n",
      " [  1.00000000e-09   4.90000000e+01   1.00000000e-09 ...,   1.00000000e-09\n",
      "    1.00000000e-09   1.00000000e-09]\n",
      " [  1.50000000e+01   1.00000000e-09   2.25000000e+02 ...,   1.00000000e-09\n",
      "    1.00000000e-09   1.00000000e-09]\n",
      " ..., \n",
      " [  1.00000000e-09   1.00000000e-09   1.00000000e-09 ...,   1.00000000e+00\n",
      "    1.00000000e-09   1.00000000e-09]\n",
      " [  1.00000000e-09   1.00000000e-09   1.00000000e-09 ...,   1.00000000e-09\n",
      "    1.00000000e+00   1.00000000e-09]\n",
      " [  1.00000000e-09   1.00000000e-09   1.00000000e-09 ...,   1.00000000e-09\n",
      "    1.00000000e-09   4.90000000e+01]]\n",
      "diag [   1.   49.  225. ...,    1.    1.   49.]\n",
      "[[  1.   7.  15. ...,   1.   1.   7.]]\n"
     ]
    }
   ],
   "source": [
    "ndmat = coordinate_matrix_to_ndarr(tf_ij)\n",
    "#ndmat/=np.mean(ndmat)\n",
    "ndmat = ndmat.T\n",
    "ndmat = ndmat[1:, 1:]\n",
    "train, test = train_test_split(ndmat)\n",
    "similarity = fast_similarity(train)"
   ]
  },
  {
   "cell_type": "code",
   "execution_count": 919,
   "metadata": {
    "collapsed": true
   },
   "outputs": [],
   "source": [
    "import matplotlib.pyplot as plt"
   ]
  },
  {
   "cell_type": "code",
   "execution_count": 916,
   "metadata": {
    "collapsed": false
   },
   "outputs": [
    {
     "data": {
      "text/plain": [
       "4.1997201680174538e-13"
      ]
     },
     "execution_count": 916,
     "metadata": {},
     "output_type": "execute_result"
    }
   ],
   "source": [
    "np.min(np.abs(similarity))"
   ]
  },
  {
   "cell_type": "code",
   "execution_count": 932,
   "metadata": {
    "collapsed": true
   },
   "outputs": [],
   "source": [
    "%run linalg.py"
   ]
  },
  {
   "cell_type": "code",
   "execution_count": 931,
   "metadata": {
    "collapsed": false
   },
   "outputs": [],
   "source": [
    "test_multiply()"
   ]
  },
  {
   "cell_type": "code",
   "execution_count": 854,
   "metadata": {
    "collapsed": false
   },
   "outputs": [],
   "source": [
    "sim = similarity_matrix(ndarr_to_coord_array(ndmat.T))"
   ]
  },
  {
   "cell_type": "code",
   "execution_count": 948,
   "metadata": {
    "collapsed": false
   },
   "outputs": [
    {
     "ename": "AttributeError",
     "evalue": "'PipelinedRDD' object has no attribute 'partitions'",
     "output_type": "error",
     "traceback": [
      "\u001b[1;31m---------------------------------------------------------------------------\u001b[0m",
      "\u001b[1;31mAttributeError\u001b[0m                            Traceback (most recent call last)",
      "\u001b[1;32m<ipython-input-948-84c89dd98f54>\u001b[0m in \u001b[0;36m<module>\u001b[1;34m()\u001b[0m\n\u001b[1;32m----> 1\u001b[1;33m \u001b[0msim\u001b[0m\u001b[1;33m.\u001b[0m\u001b[0mentries\u001b[0m\u001b[1;33m.\u001b[0m\u001b[0mpartitions\u001b[0m\u001b[1;33m\u001b[0m\u001b[0m\n\u001b[0m",
      "\u001b[1;31mAttributeError\u001b[0m: 'PipelinedRDD' object has no attribute 'partitions'"
     ]
    }
   ],
   "source": [
    "sim.entries.partitions"
   ]
  },
  {
   "cell_type": "code",
   "execution_count": 977,
   "metadata": {
    "collapsed": false
   },
   "outputs": [],
   "source": [
    "simnd = coordinate_matrix_to_ndarr(sim)"
   ]
  },
  {
   "cell_type": "code",
   "execution_count": 983,
   "metadata": {
    "collapsed": true
   },
   "outputs": [],
   "source": [
    "test_arr = np.array([[1, 2, 3, 4, 5, -1, -2, -3, -4, -5], range(10)])"
   ]
  },
  {
   "cell_type": "code",
   "execution_count": 997,
   "metadata": {
    "collapsed": false
   },
   "outputs": [
    {
     "data": {
      "text/plain": [
       "array([[0L, 39L, 9L, 62L, 13L, 91L, 18L, 3L, 38L, 43L],\n",
       "       [72L, 6L, 27L, 7L, 25L, 94L, 18L, 35L, 1L, 10L],\n",
       "       [1L, 91L, 16L, 15L, 39L, 10L, 6L, 7L, 98L, 13L],\n",
       "       [73L, 38L, 70L, 29L, 25L, 96L, 9L, 0L, 84L, 43L],\n",
       "       [74L, 30L, 78L, 66L, 36L, 31L, 99L, 38L, 48L, 43L],\n",
       "       [2L, 49L, 97L, 27L, 54L, 6L, 58L, 99L, 71L, 25L],\n",
       "       [75L, 84L, 56L, 27L, 39L, 55L, 93L, 37L, 33L, 40L],\n",
       "       [3L, 97L, 41L, 28L, 91L, 85L, 11L, 71L, 4L, 56L],\n",
       "       [76L, 39L, 19L, 70L, 0L, 43L, 34L, 5L, 2L, 61L],\n",
       "       [4L, 62L, 65L, 96L, 3L, 10L, 51L, 91L, 26L, 13L],\n",
       "       [5L, 60L, 86L, 51L, 19L, 59L, 49L, 39L, 16L, 22L],\n",
       "       [77L, 87L, 23L, 86L, 46L, 90L, 60L, 3L, 65L, 47L],\n",
       "       [78L, 43L, 74L, 20L, 7L, 35L, 51L, 87L, 0L, 21L],\n",
       "       [6L, 39L, 27L, 85L, 72L, 11L, 82L, 54L, 12L, 33L],\n",
       "       [79L, 67L, 10L, 82L, 43L, 87L, 60L, 86L, 23L, 25L],\n",
       "       [7L, 38L, 43L, 17L, 64L, 72L, 9L, 96L, 66L, 44L],\n",
       "       [8L, 93L, 42L, 11L, 87L, 46L, 60L, 58L, 86L, 23L],\n",
       "       [80L, 33L, 22L, 48L, 60L, 54L, 71L, 31L, 28L, 1L],\n",
       "       [9L, 0L, 7L, 65L, 73L, 26L, 28L, 13L, 23L, 98L],\n",
       "       [81L, 40L, 64L, 28L, 87L, 71L, 69L, 23L, 55L, 84L],\n",
       "       [10L, 79L, 82L, 1L, 88L, 32L, 46L, 98L, 4L, 61L],\n",
       "       [82L, 54L, 10L, 6L, 88L, 79L, 3L, 51L, 91L, 46L],\n",
       "       [83L, 1L, 3L, 6L, 98L, 17L, 13L, 10L, 7L, 43L],\n",
       "       [11L, 33L, 6L, 14L, 3L, 67L, 8L, 54L, 51L, 46L],\n",
       "       [84L, 75L, 69L, 85L, 54L, 8L, 7L, 10L, 73L, 55L],\n",
       "       [12L, 27L, 29L, 6L, 19L, 88L, 18L, 54L, 0L, 61L],\n",
       "       [13L, 19L, 55L, 0L, 3L, 45L, 91L, 86L, 1L, 7L],\n",
       "       [85L, 97L, 27L, 6L, 3L, 84L, 54L, 98L, 24L, 7L],\n",
       "       [86L, 87L, 5L, 23L, 60L, 24L, 46L, 77L, 42L, 8L],\n",
       "       [14L, 67L, 33L, 11L, 46L, 51L, 3L, 19L, 54L, 48L],\n",
       "       [87L, 64L, 23L, 86L, 77L, 60L, 46L, 48L, 3L, 8L],\n",
       "       [15L, 39L, 22L, 26L, 1L, 38L, 21L, 43L, 74L, 0L],\n",
       "       [16L, 1L, 5L, 26L, 10L, 39L, 14L, 7L, 65L, 31L],\n",
       "       [88L, 82L, 12L, 10L, 41L, 54L, 5L, 6L, 70L, 1L],\n",
       "       [17L, 38L, 7L, 43L, 96L, 74L, 89L, 54L, 35L, 72L],\n",
       "       [89L, 65L, 44L, 94L, 17L, 0L, 43L, 7L, 66L, 73L],\n",
       "       [18L, 12L, 0L, 72L, 37L, 94L, 13L, 40L, 38L, 7L],\n",
       "       [90L, 68L, 77L, 43L, 29L, 70L, 14L, 39L, 46L, 3L],\n",
       "       [91L, 31L, 1L, 51L, 45L, 3L, 71L, 0L, 19L, 60L],\n",
       "       [19L, 59L, 22L, 13L, 62L, 12L, 5L, 60L, 6L, 14L],\n",
       "       [92L, 55L, 33L, 40L, 20L, 30L, 75L, 38L, 56L, 34L],\n",
       "       [20L, 70L, 65L, 55L, 33L, 40L, 92L, 95L, 78L, 68L],\n",
       "       [21L, 43L, 15L, 65L, 7L, 13L, 99L, 0L, 38L, 3L],\n",
       "       [93L, 8L, 39L, 57L, 42L, 75L, 43L, 58L, 7L, 46L],\n",
       "       [94L, 72L, 18L, 43L, 89L, 7L, 17L, 15L, 35L, 0L],\n",
       "       [22L, 26L, 15L, 80L, 19L, 48L, 23L, 5L, 0L, 34L],\n",
       "       [95L, 54L, 28L, 20L, 37L, 13L, 12L, 38L, 27L, 41L],\n",
       "       [23L, 87L, 86L, 39L, 77L, 60L, 46L, 64L, 22L, 3L],\n",
       "       [24L, 86L, 52L, 30L, 26L, 51L, 91L, 27L, 44L, 23L],\n",
       "       [96L, 4L, 39L, 57L, 37L, 6L, 7L, 73L, 48L, 38L],\n",
       "       [25L, 46L, 72L, 44L, 73L, 14L, 79L, 67L, 38L, 40L],\n",
       "       [97L, 85L, 3L, 2L, 49L, 27L, 55L, 98L, 54L, 6L],\n",
       "       [26L, 22L, 15L, 47L, 51L, 24L, 16L, 55L, 31L, 9L],\n",
       "       [98L, 10L, 1L, 87L, 13L, 54L, 27L, 42L, 5L, 23L],\n",
       "       [99L, 28L, 3L, 45L, 74L, 2L, 21L, 13L, 43L, 56L],\n",
       "       [27L, 29L, 85L, 6L, 12L, 75L, 54L, 72L, 28L, 2L],\n",
       "       [28L, 3L, 27L, 99L, 95L, 81L, 33L, 9L, 13L, 26L],\n",
       "       [29L, 27L, 12L, 49L, 39L, 73L, 90L, 10L, 1L, 28L],\n",
       "       [30L, 74L, 92L, 24L, 5L, 36L, 56L, 39L, 3L, 59L],\n",
       "       [31L, 91L, 74L, 1L, 26L, 10L, 16L, 0L, 80L, 33L],\n",
       "       [32L, 10L, 42L, 60L, 8L, 13L, 5L, 51L, 86L, 6L],\n",
       "       [33L, 55L, 80L, 40L, 58L, 92L, 11L, 14L, 20L, 6L],\n",
       "       [34L, 57L, 26L, 73L, 70L, 92L, 22L, 39L, 76L, 68L],\n",
       "       [35L, 36L, 72L, 38L, 43L, 7L, 17L, 0L, 37L, 68L],\n",
       "       [36L, 68L, 74L, 35L, 52L, 30L, 6L, 10L, 26L, 65L],\n",
       "       [37L, 96L, 75L, 27L, 95L, 18L, 13L, 4L, 54L, 38L],\n",
       "       [38L, 17L, 7L, 73L, 43L, 15L, 0L, 96L, 62L, 39L],\n",
       "       [39L, 6L, 15L, 75L, 76L, 42L, 0L, 93L, 1L, 57L],\n",
       "       [40L, 81L, 55L, 33L, 92L, 64L, 20L, 46L, 75L, 42L],\n",
       "       [41L, 42L, 3L, 39L, 59L, 19L, 88L, 6L, 5L, 56L],\n",
       "       [42L, 8L, 41L, 39L, 58L, 93L, 86L, 51L, 68L, 32L],\n",
       "       [43L, 78L, 7L, 65L, 38L, 21L, 79L, 67L, 48L, 0L],\n",
       "       [44L, 46L, 55L, 87L, 51L, 66L, 7L, 25L, 56L, 89L],\n",
       "       [45L, 91L, 13L, 99L, 56L, 1L, 10L, 71L, 88L, 38L],\n",
       "       [46L, 25L, 44L, 87L, 14L, 3L, 40L, 23L, 8L, 48L],\n",
       "       [47L, 50L, 26L, 66L, 51L, 46L, 23L, 77L, 48L, 25L],\n",
       "       [48L, 58L, 80L, 22L, 87L, 46L, 43L, 65L, 23L, 96L],\n",
       "       [49L, 2L, 97L, 29L, 27L, 5L, 6L, 3L, 95L, 13L],\n",
       "       [50L, 47L, 12L, 38L],\n",
       "       [51L, 91L, 60L, 5L, 14L, 44L, 68L, 67L, 47L, 26L],\n",
       "       [52L, 55L, 3L, 24L, 65L, 36L, 47L, 43L, 48L, 33L],\n",
       "       [54L, 82L, 27L, 6L, 2L, 95L, 84L, 80L, 12L, 14L],\n",
       "       [55L, 33L, 40L, 92L, 52L, 20L, 13L, 44L, 75L, 69L],\n",
       "       [56L, 75L, 3L, 45L, 62L, 55L, 7L, 5L, 44L, 39L],\n",
       "       [57L, 93L, 39L, 96L, 87L, 8L, 23L, 34L, 46L, 86L],\n",
       "       [58L, 48L, 33L, 42L, 87L, 8L, 2L, 64L, 43L, 39L],\n",
       "       [59L, 19L, 41L, 5L, 60L, 3L, 69L, 96L, 27L, 30L],\n",
       "       [60L, 5L, 51L, 87L, 71L, 80L, 23L, 19L, 8L, 59L],\n",
       "       [61L, 10L, 12L, 6L, 62L, 93L, 8L, 82L, 0L, 13L],\n",
       "       [62L, 65L, 4L, 0L, 19L, 3L, 7L, 68L, 38L, 56L],\n",
       "       [63L, 13L, 2L, 73L, 72L, 38L, 62L, 17L, 0L, 99L],\n",
       "       [64L, 87L, 81L, 40L, 7L, 23L, 43L, 58L, 44L, 9L],\n",
       "       [65L, 62L, 4L, 20L, 43L, 21L, 48L, 9L, 52L, 89L],\n",
       "       [66L, 74L, 47L, 44L, 7L, 10L, 26L, 31L, 89L, 16L],\n",
       "       [67L, 79L, 14L, 11L, 51L, 3L, 43L, 86L, 54L, 68L],\n",
       "       [68L, 90L, 70L, 36L, 51L, 42L, 7L, 67L, 62L, 27L],\n",
       "       [69L, 84L, 59L, 55L, 81L, 54L, 60L, 1L, 66L, 7L],\n",
       "       [70L, 68L, 20L, 73L, 76L, 34L, 90L, 0L, 88L, 8L],\n",
       "       [71L, 3L, 60L, 91L, 2L, 81L, 43L, 40L, 9L, 80L]], dtype=object)"
      ]
     },
     "execution_count": 997,
     "metadata": {},
     "output_type": "execute_result"
    }
   ],
   "source": [
    "np.array(sim.entries.map(lambda x: (x.i, [(x.j, x.value)]))\\\n",
    ".reduceByKey(add)\\\n",
    ".map(lambda row: map(lambda tup: tup[0], sorted(row[1], key = lambda tup: -tup[1]))[:10])\\\n",
    ".collect())"
   ]
  },
  {
   "cell_type": "code",
   "execution_count": 936,
   "metadata": {
    "collapsed": false
   },
   "outputs": [
    {
     "data": {
      "text/plain": [
       "1874161"
      ]
     },
     "execution_count": 936,
     "metadata": {},
     "output_type": "execute_result"
    }
   ],
   "source": [
    "np.sum(np.abs(similarity) > 0)"
   ]
  },
  {
   "cell_type": "code",
   "execution_count": 940,
   "metadata": {
    "collapsed": false
   },
   "outputs": [
    {
     "data": {
      "text/plain": [
       "800925"
      ]
     },
     "execution_count": 940,
     "metadata": {},
     "output_type": "execute_result"
    }
   ],
   "source": [
    "np.sum(np.abs(similarity) > 1e-5)"
   ]
  },
  {
   "cell_type": "code",
   "execution_count": 802,
   "metadata": {
    "collapsed": true
   },
   "outputs": [
    {
     "name": "stdout",
     "output_type": "stream",
     "text": [
      "sim [[  2.22000000e+02   1.00000000e-09   1.50000000e+01 ...,   7.00000000e+01\n",
      "    1.00000000e-09   9.80000000e+01]\n",
      " [  1.00000000e-09   5.74000000e+02   1.00000000e-09 ...,   1.00000000e-09\n",
      "    1.00000000e-09   1.00000000e-09]\n",
      " [  1.50000000e+01   1.00000000e-09   2.02900000e+03 ...,   1.00000000e-09\n",
      "    1.00000000e-09   2.00000000e+00]\n",
      " ..., \n",
      " [  7.00000000e+01   1.00000000e-09   1.00000000e-09 ...,   3.10000000e+01\n",
      "    1.00000000e-09   3.50000000e+01]\n",
      " [  1.00000000e-09   1.00000000e-09   1.00000000e-09 ...,   1.00000000e-09\n",
      "    5.50000000e+01   1.00000000e-09]\n",
      " [  9.80000000e+01   1.00000000e-09   2.00000000e+00 ...,   3.50000000e+01\n",
      "    1.00000000e-09   3.65100000e+03]]\n",
      "diag [  222.   574.  2029. ...,    31.    55.  3651.]\n",
      "[[ 14.89966443  23.9582971   45.04442252 ...,   5.56776436   7.41619849\n",
      "   60.42350536]]\n"
     ]
    }
   ],
   "source": [
    "sim2 = fast_similarity(ndmat)"
   ]
  },
  {
   "cell_type": "code",
   "execution_count": 805,
   "metadata": {
    "collapsed": false
   },
   "outputs": [],
   "source": [
    "simnd = coordinate_matrix_to_ndarr(sim)"
   ]
  },
  {
   "cell_type": "code",
   "execution_count": null,
   "metadata": {
    "collapsed": true
   },
   "outputs": [],
   "source": [
    "pwd"
   ]
  },
  {
   "cell_type": "code",
   "execution_count": 829,
   "metadata": {
    "collapsed": false,
    "scrolled": true
   },
   "outputs": [
    {
     "data": {
      "text/plain": [
       "array([[ 0.        ,  0.        ,  0.        ,  0.        ],\n",
       "       [ 0.98905039,  0.9516414 ,  0.20273982,  0.20800506]])"
      ]
     },
     "execution_count": 829,
     "metadata": {},
     "output_type": "execute_result"
    }
   ],
   "source": [
    "coordinate_matrix_to_ndarr(coordinatematrix_get_row(ndarr_to_coord_array(test_array3), 1))"
   ]
  },
  {
   "cell_type": "code",
   "execution_count": 844,
   "metadata": {
    "collapsed": true
   },
   "outputs": [],
   "source": [
    "row = coordinatematrix_get_row(ndarr_to_coord_array(test_array3), 1)"
   ]
  },
  {
   "cell_type": "code",
   "execution_count": 846,
   "metadata": {
    "collapsed": false
   },
   "outputs": [
    {
     "data": {
      "text/plain": [
       "array([[ 0.98905039,  0.9516414 ,  0.20273982,  0.20800506]])"
      ]
     },
     "execution_count": 846,
     "metadata": {},
     "output_type": "execute_result"
    }
   ],
   "source": [
    "coordinate_matrix_to_ndarr(row)"
   ]
  },
  {
   "cell_type": "code",
   "execution_count": 1089,
   "metadata": {
    "collapsed": true
   },
   "outputs": [],
   "source": [
    "%run cf_spark.py"
   ]
  },
  {
   "cell_type": "code",
   "execution_count": 852,
   "metadata": {
    "collapsed": true
   },
   "outputs": [
    {
     "data": {
      "text/plain": [
       "{1: u'AskReddit',\n",
       " 2: u'politics',\n",
       " 3: u'BigBrother',\n",
       " 4: u'SquaredCircle',\n",
       " 5: u'The_Donald',\n",
       " 6: u'gameofthrones',\n",
       " 7: u'nba',\n",
       " 8: u'funny',\n",
       " 9: u'RocketLeagueExchange',\n",
       " 10: u'videos',\n",
       " 11: u'worldnews',\n",
       " 12: u'leagueoflegends',\n",
       " 13: u'soccer',\n",
       " 14: u'movies',\n",
       " 15: u'DotA2',\n",
       " 16: u'Showerthoughts',\n",
       " 17: u'news',\n",
       " 18: u'pics',\n",
       " 19: u'gaming',\n",
       " 20: u'MMA',\n",
       " 21: u'teenagers',\n",
       " 22: u'todayilearned',\n",
       " 23: u'hearthstone',\n",
       " 24: u'pathofexile',\n",
       " 25: u'pcmasterrace',\n",
       " 26: u'PUBATTLEGROUNDS',\n",
       " 27: u'Overwatch',\n",
       " 28: u'baseball',\n",
       " 29: u'anime',\n",
       " 30: u'NYYankees',\n",
       " 31: u'asoiaf',\n",
       " 32: u'relationships',\n",
       " 33: u'Philippines',\n",
       " 34: u'FireEmblemHeroes',\n",
       " 35: u'me_irl',\n",
       " 36: u'aww',\n",
       " 37: u'gonewild',\n",
       " 38: u'conspiracy',\n",
       " 39: u'gifs',\n",
       " 40: u'BlackPeopleTwitter',\n",
       " 41: u'DBZDokkanBattle',\n",
       " 42: u'hiphopheads',\n",
       " 43: u'rupaulsdragrace',\n",
       " 44: u'mildlyinteresting',\n",
       " 45: u'Rainbow6',\n",
       " 46: u'australia',\n",
       " 47: u'ethtrader',\n",
       " 48: u'GlobalOffensive',\n",
       " 49: u'TheSilphRoad',\n",
       " 50: u'thebachelor',\n",
       " 51: u'GlobalOffensiveTrade',\n",
       " 52: u'Bitcoin',\n",
       " 53: u'buildapc',\n",
       " 54: u'teenmom',\n",
       " 55: u'nfl',\n",
       " 56: u'Amd',\n",
       " 57: u'rickandmorty',\n",
       " 58: u'CringeAnarchy',\n",
       " 59: u'pokemongo',\n",
       " 60: u'FFBraveExvius',\n",
       " 61: u'ffxiv',\n",
       " 62: u'europe',\n",
       " 63: u'television',\n",
       " 64: u'NintendoSwitch',\n",
       " 65: u'DestinyTheGame',\n",
       " 66: u'science',\n",
       " 67: u'legaladvice',\n",
       " 68: u'2007scape',\n",
       " 69: u'Mariners',\n",
       " 70: u'cars',\n",
       " 71: u'AskOuija',\n",
       " 72: u'wow',\n",
       " 73: u'WTF',\n",
       " 74: u'OldSchoolCool',\n",
       " 75: u'personalfinance',\n",
       " 76: u'trees',\n",
       " 77: u'CasualConversation',\n",
       " 78: u'FORTnITE',\n",
       " 79: u'india',\n",
       " 80: u'france',\n",
       " 81: u'heroesofthestorm',\n",
       " 82: u'grandorder',\n",
       " 83: u'neoliberal',\n",
       " 84: u'twinpeaks',\n",
       " 85: u'canada',\n",
       " 86: u'hockey',\n",
       " 87: u'teslamotors',\n",
       " 88: u'Warframe',\n",
       " 89: u'newzealand',\n",
       " 90: u'LifeProTips',\n",
       " 91: u'FashionReps',\n",
       " 92: u'Games',\n",
       " 93: u'Guildwars2',\n",
       " 94: u'Drugs',\n",
       " 95: u'exmormon',\n",
       " 96: u'CFB',\n",
       " 97: u'AdviceAnimals',\n",
       " 98: u'Torontobluejays',\n",
       " 99: u'de',\n",
       " 100: u'AFL'}"
      ]
     },
     "execution_count": 852,
     "metadata": {},
     "output_type": "execute_result"
    }
   ],
   "source": [
    "subreddit_mapper"
   ]
  },
  {
   "cell_type": "code",
   "execution_count": 904,
   "metadata": {
    "collapsed": false
   },
   "outputs": [
    {
     "data": {
      "text/plain": [
       "[u'videos',\n",
       " u'india',\n",
       " u'grandorder',\n",
       " u'AskReddit',\n",
       " u'Warframe',\n",
       " u'relationships']"
      ]
     },
     "execution_count": 904,
     "metadata": {},
     "output_type": "execute_result"
    }
   ],
   "source": [
    "top_k_movies(fast_similarity(ndmat, kind = 'item'), subreddit_to_idx('videos', idx_mapper))"
   ]
  },
  {
   "cell_type": "code",
   "execution_count": 880,
   "metadata": {
    "collapsed": true
   },
   "outputs": [],
   "source": [
    "def run_spark_ndarray(ndmat, subreddit):\n",
    "    \"\"\"\n",
    "    ndmat : np.ndarray\n",
    "    \n",
    "    row indices: users\n",
    "    column indices: subreddits\n",
    "    \"\"\"\n",
    "    sim = similarity_matrix(ndarr_to_coord_array(ndmat.T))\n",
    "    return spark_top_k_subs(sim, subreddit_to_idx(subreddit, idx_mapper), subreddit_mapper)"
   ]
  },
  {
   "cell_type": "code",
   "execution_count": 1109,
   "metadata": {
    "collapsed": false
   },
   "outputs": [],
   "source": [
    "idx = 55\n",
    "row = la.coordinatematrix_get_row(sim, idx)\n",
    "movie_row = la.coordinate_matrix_to_ndarr(row)[0]\n",
    "sm = [np.argsort(movie_row)[::-1]]"
   ]
  },
  {
   "cell_type": "code",
   "execution_count": 1125,
   "metadata": {
    "collapsed": true
   },
   "outputs": [
    {
     "data": {
      "text/plain": [
       "[0L,\n",
       " 1L,\n",
       " 2L,\n",
       " 3L,\n",
       " 4L,\n",
       " 5L,\n",
       " 6L,\n",
       " 7L,\n",
       " 8L,\n",
       " 9L,\n",
       " 10L,\n",
       " 11L,\n",
       " 12L,\n",
       " 13L,\n",
       " 14L,\n",
       " 15L,\n",
       " 16L,\n",
       " 17L,\n",
       " 18L,\n",
       " 19L,\n",
       " 20L,\n",
       " 21L,\n",
       " 22L,\n",
       " 23L,\n",
       " 24L,\n",
       " 25L,\n",
       " 26L,\n",
       " 27L,\n",
       " 28L,\n",
       " 29L,\n",
       " 30L,\n",
       " 31L,\n",
       " 32L,\n",
       " 33L,\n",
       " 34L,\n",
       " 35L,\n",
       " 36L,\n",
       " 37L,\n",
       " 38L,\n",
       " 39L,\n",
       " 40L,\n",
       " 41L,\n",
       " 42L,\n",
       " 43L,\n",
       " 44L,\n",
       " 45L,\n",
       " 46L,\n",
       " 47L,\n",
       " 48L,\n",
       " 49L,\n",
       " 50L,\n",
       " 51L,\n",
       " 52L,\n",
       " 54L,\n",
       " 55L,\n",
       " 56L,\n",
       " 57L,\n",
       " 58L,\n",
       " 59L,\n",
       " 60L,\n",
       " 61L,\n",
       " 62L,\n",
       " 63L,\n",
       " 64L,\n",
       " 65L,\n",
       " 66L,\n",
       " 67L,\n",
       " 68L,\n",
       " 69L,\n",
       " 70L,\n",
       " 71L,\n",
       " 72L,\n",
       " 73L,\n",
       " 74L,\n",
       " 75L,\n",
       " 76L,\n",
       " 77L,\n",
       " 78L,\n",
       " 79L,\n",
       " 80L,\n",
       " 81L,\n",
       " 82L,\n",
       " 83L,\n",
       " 84L,\n",
       " 85L,\n",
       " 86L,\n",
       " 87L,\n",
       " 88L,\n",
       " 89L,\n",
       " 90L,\n",
       " 91L,\n",
       " 92L,\n",
       " 93L,\n",
       " 94L,\n",
       " 95L,\n",
       " 96L,\n",
       " 97L,\n",
       " 98L,\n",
       " 99L]"
      ]
     },
     "execution_count": 1125,
     "metadata": {},
     "output_type": "execute_result"
    }
   ],
   "source": [
    "sorted(sim.entries.map(lambda entry: entry.i).distinct().collect())"
   ]
  },
  {
   "cell_type": "code",
   "execution_count": 1116,
   "metadata": {
    "collapsed": false
   },
   "outputs": [
    {
     "data": {
      "text/plain": [
       "99"
      ]
     },
     "execution_count": 1116,
     "metadata": {},
     "output_type": "execute_result"
    }
   ],
   "source": [
    "len(la.coordinatematrix_sort_rows(sim, 6))"
   ]
  },
  {
   "cell_type": "code",
   "execution_count": 1126,
   "metadata": {
    "collapsed": true
   },
   "outputs": [],
   "source": [
    "%run cf_spark.py"
   ]
  },
  {
   "cell_type": "code",
   "execution_count": 1104,
   "metadata": {
    "collapsed": false
   },
   "outputs": [
    {
     "data": {
      "text/plain": [
       "55"
      ]
     },
     "execution_count": 1104,
     "metadata": {},
     "output_type": "execute_result"
    }
   ],
   "source": [
    "subreddit_to_idx('Amd', idx_mapper)"
   ]
  },
  {
   "cell_type": "code",
   "execution_count": 1113,
   "metadata": {
    "collapsed": true
   },
   "outputs": [
    {
     "data": {
      "text/plain": [
       "[(0, [0L, 39L, 9L, 62L, 13L, 91L]),\n",
       " (1, [1L, 91L, 16L, 15L, 39L, 10L]),\n",
       " (2, [2L, 49L, 97L, 27L, 54L, 6L]),\n",
       " (3, [3L, 97L, 41L, 28L, 91L, 85L]),\n",
       " (4, [4L, 62L, 65L, 96L, 3L, 10L]),\n",
       " (5, [5L, 60L, 86L, 51L, 19L, 59L]),\n",
       " (6, [6L, 39L, 27L, 85L, 72L, 11L]),\n",
       " (7, [7L, 38L, 43L, 17L, 64L, 72L]),\n",
       " (8, [8L, 93L, 42L, 11L, 87L, 46L]),\n",
       " (9, [9L, 0L, 7L, 65L, 73L, 26L]),\n",
       " (10, [10L, 79L, 82L, 1L, 88L, 32L]),\n",
       " (11, [11L, 33L, 6L, 14L, 3L, 67L]),\n",
       " (12, [12L, 27L, 29L, 6L, 19L, 88L]),\n",
       " (13, [13L, 19L, 55L, 0L, 3L, 45L]),\n",
       " (14, [14L, 67L, 33L, 11L, 46L, 51L]),\n",
       " (15, [15L, 39L, 22L, 26L, 1L, 38L]),\n",
       " (16, [16L, 1L, 5L, 26L, 10L, 39L]),\n",
       " (17, [17L, 38L, 7L, 43L, 96L, 74L]),\n",
       " (18, [18L, 12L, 0L, 72L, 37L, 94L]),\n",
       " (19, [19L, 59L, 22L, 13L, 62L, 12L]),\n",
       " (20, [20L, 70L, 65L, 55L, 33L, 40L]),\n",
       " (21, [21L, 43L, 15L, 65L, 7L, 13L]),\n",
       " (22, [22L, 26L, 15L, 80L, 19L, 48L]),\n",
       " (23, [23L, 87L, 86L, 39L, 77L, 60L]),\n",
       " (24, [24L, 86L, 52L, 30L, 26L, 51L]),\n",
       " (25, [25L, 46L, 72L, 44L, 73L, 14L]),\n",
       " (26, [26L, 22L, 15L, 47L, 51L, 24L]),\n",
       " (27, [27L, 29L, 85L, 6L, 12L, 75L]),\n",
       " (28, [28L, 3L, 27L, 99L, 95L, 81L]),\n",
       " (29, [29L, 27L, 12L, 49L, 39L, 73L]),\n",
       " (30, [30L, 74L, 92L, 24L, 5L, 36L]),\n",
       " (31, [31L, 91L, 74L, 1L, 26L, 10L]),\n",
       " (32, [32L, 10L, 42L, 60L, 8L, 13L]),\n",
       " (33, [33L, 55L, 80L, 40L, 58L, 92L]),\n",
       " (34, [34L, 57L, 26L, 73L, 70L, 92L]),\n",
       " (35, [35L, 36L, 72L, 38L, 43L, 7L]),\n",
       " (36, [36L, 68L, 74L, 35L, 52L, 30L]),\n",
       " (37, [37L, 96L, 75L, 27L, 95L, 18L]),\n",
       " (38, [38L, 17L, 7L, 73L, 43L, 15L]),\n",
       " (39, [39L, 6L, 15L, 75L, 76L, 42L]),\n",
       " (40, [40L, 81L, 55L, 33L, 92L, 64L]),\n",
       " (41, [41L, 42L, 3L, 39L, 59L, 19L]),\n",
       " (42, [42L, 8L, 41L, 39L, 58L, 93L]),\n",
       " (43, [43L, 78L, 7L, 65L, 38L, 21L]),\n",
       " (44, [44L, 46L, 55L, 87L, 51L, 66L]),\n",
       " (45, [45L, 91L, 13L, 99L, 56L, 1L]),\n",
       " (46, [46L, 25L, 44L, 87L, 14L, 3L]),\n",
       " (47, [47L, 50L, 26L, 66L, 51L, 46L]),\n",
       " (48, [48L, 58L, 80L, 22L, 87L, 46L]),\n",
       " (49, [49L, 2L, 97L, 29L, 27L, 5L]),\n",
       " (50, [50L, 47L, 12L, 38L]),\n",
       " (51, [51L, 91L, 60L, 5L, 14L, 44L]),\n",
       " (52, [52L, 55L, 3L, 24L, 65L, 36L]),\n",
       " (53, [54L, 82L, 27L, 6L, 2L, 95L]),\n",
       " (54, [55L, 33L, 40L, 92L, 52L, 20L]),\n",
       " (55, [56L, 75L, 3L, 45L, 62L, 55L]),\n",
       " (56, [57L, 93L, 39L, 96L, 87L, 8L]),\n",
       " (57, [58L, 48L, 33L, 42L, 87L, 8L]),\n",
       " (58, [59L, 19L, 41L, 5L, 60L, 3L]),\n",
       " (59, [60L, 5L, 51L, 87L, 71L, 80L]),\n",
       " (60, [61L, 10L, 12L, 6L, 62L, 93L]),\n",
       " (61, [62L, 65L, 4L, 0L, 19L, 3L]),\n",
       " (62, [63L, 13L, 2L, 73L, 72L, 38L]),\n",
       " (63, [64L, 87L, 81L, 40L, 7L, 23L]),\n",
       " (64, [65L, 62L, 4L, 20L, 43L, 21L]),\n",
       " (65, [66L, 74L, 47L, 44L, 7L, 10L]),\n",
       " (66, [67L, 79L, 14L, 11L, 51L, 3L]),\n",
       " (67, [68L, 90L, 70L, 36L, 51L, 42L]),\n",
       " (68, [69L, 84L, 59L, 55L, 81L, 54L]),\n",
       " (69, [70L, 68L, 20L, 73L, 76L, 34L]),\n",
       " (70, [71L, 3L, 60L, 91L, 2L, 81L]),\n",
       " (71, [72L, 6L, 27L, 7L, 25L, 94L]),\n",
       " (72, [73L, 38L, 70L, 29L, 25L, 96L]),\n",
       " (73, [74L, 30L, 78L, 66L, 36L, 31L]),\n",
       " (74, [75L, 84L, 56L, 27L, 39L, 55L]),\n",
       " (75, [76L, 39L, 19L, 70L, 0L, 43L]),\n",
       " (76, [77L, 87L, 23L, 86L, 46L, 90L]),\n",
       " (77, [78L, 43L, 74L, 20L, 7L, 35L]),\n",
       " (78, [79L, 67L, 10L, 82L, 43L, 87L]),\n",
       " (79, [80L, 33L, 22L, 48L, 60L, 54L]),\n",
       " (80, [81L, 40L, 64L, 28L, 87L, 71L]),\n",
       " (81, [82L, 54L, 10L, 6L, 88L, 79L]),\n",
       " (82, [83L, 1L, 3L, 6L, 98L, 17L]),\n",
       " (83, [84L, 75L, 69L, 85L, 54L, 8L]),\n",
       " (84, [85L, 97L, 27L, 6L, 3L, 84L]),\n",
       " (85, [86L, 87L, 5L, 23L, 60L, 24L]),\n",
       " (86, [87L, 64L, 23L, 86L, 77L, 60L]),\n",
       " (87, [88L, 82L, 12L, 10L, 41L, 54L]),\n",
       " (88, [89L, 65L, 44L, 94L, 17L, 0L]),\n",
       " (89, [90L, 68L, 77L, 43L, 29L, 70L]),\n",
       " (90, [91L, 31L, 1L, 51L, 45L, 3L]),\n",
       " (91, [92L, 55L, 33L, 40L, 20L, 30L]),\n",
       " (92, [93L, 8L, 39L, 57L, 42L, 75L]),\n",
       " (93, [94L, 72L, 18L, 43L, 89L, 7L]),\n",
       " (94, [95L, 54L, 28L, 20L, 37L, 13L]),\n",
       " (95, [96L, 4L, 39L, 57L, 37L, 6L]),\n",
       " (96, [97L, 85L, 3L, 2L, 49L, 27L]),\n",
       " (97, [98L, 10L, 1L, 87L, 13L, 54L]),\n",
       " (98, [99L, 28L, 3L, 45L, 74L, 2L])]"
      ]
     },
     "execution_count": 1113,
     "metadata": {},
     "output_type": "execute_result"
    }
   ],
   "source": [
    "list(enumerate(la.coordinatematrix_sort_rows(sim, 6)))"
   ]
  },
  {
   "cell_type": "code",
   "execution_count": 1112,
   "metadata": {
    "collapsed": true
   },
   "outputs": [
    {
     "data": {
      "text/plain": [
       "[[0L, 39L, 9L, 62L, 13L, 91L],\n",
       " [1L, 91L, 16L, 15L, 39L, 10L],\n",
       " [2L, 49L, 97L, 27L, 54L, 6L],\n",
       " [3L, 97L, 41L, 28L, 91L, 85L],\n",
       " [4L, 62L, 65L, 96L, 3L, 10L],\n",
       " [5L, 60L, 86L, 51L, 19L, 59L],\n",
       " [6L, 39L, 27L, 85L, 72L, 11L],\n",
       " [7L, 38L, 43L, 17L, 64L, 72L],\n",
       " [8L, 93L, 42L, 11L, 87L, 46L],\n",
       " [9L, 0L, 7L, 65L, 73L, 26L],\n",
       " [10L, 79L, 82L, 1L, 88L, 32L],\n",
       " [11L, 33L, 6L, 14L, 3L, 67L],\n",
       " [12L, 27L, 29L, 6L, 19L, 88L],\n",
       " [13L, 19L, 55L, 0L, 3L, 45L],\n",
       " [14L, 67L, 33L, 11L, 46L, 51L],\n",
       " [15L, 39L, 22L, 26L, 1L, 38L],\n",
       " [16L, 1L, 5L, 26L, 10L, 39L],\n",
       " [17L, 38L, 7L, 43L, 96L, 74L],\n",
       " [18L, 12L, 0L, 72L, 37L, 94L],\n",
       " [19L, 59L, 22L, 13L, 62L, 12L],\n",
       " [20L, 70L, 65L, 55L, 33L, 40L],\n",
       " [21L, 43L, 15L, 65L, 7L, 13L],\n",
       " [22L, 26L, 15L, 80L, 19L, 48L],\n",
       " [23L, 87L, 86L, 39L, 77L, 60L],\n",
       " [24L, 86L, 52L, 30L, 26L, 51L],\n",
       " [25L, 46L, 72L, 44L, 73L, 14L],\n",
       " [26L, 22L, 15L, 47L, 51L, 24L],\n",
       " [27L, 29L, 85L, 6L, 12L, 75L],\n",
       " [28L, 3L, 27L, 99L, 95L, 81L],\n",
       " [29L, 27L, 12L, 49L, 39L, 73L],\n",
       " [30L, 74L, 92L, 24L, 5L, 36L],\n",
       " [31L, 91L, 74L, 1L, 26L, 10L],\n",
       " [32L, 10L, 42L, 60L, 8L, 13L],\n",
       " [33L, 55L, 80L, 40L, 58L, 92L],\n",
       " [34L, 57L, 26L, 73L, 70L, 92L],\n",
       " [35L, 36L, 72L, 38L, 43L, 7L],\n",
       " [36L, 68L, 74L, 35L, 52L, 30L],\n",
       " [37L, 96L, 75L, 27L, 95L, 18L],\n",
       " [38L, 17L, 7L, 73L, 43L, 15L],\n",
       " [39L, 6L, 15L, 75L, 76L, 42L],\n",
       " [40L, 81L, 55L, 33L, 92L, 64L],\n",
       " [41L, 42L, 3L, 39L, 59L, 19L],\n",
       " [42L, 8L, 41L, 39L, 58L, 93L],\n",
       " [43L, 78L, 7L, 65L, 38L, 21L],\n",
       " [44L, 46L, 55L, 87L, 51L, 66L],\n",
       " [45L, 91L, 13L, 99L, 56L, 1L],\n",
       " [46L, 25L, 44L, 87L, 14L, 3L],\n",
       " [47L, 50L, 26L, 66L, 51L, 46L],\n",
       " [48L, 58L, 80L, 22L, 87L, 46L],\n",
       " [49L, 2L, 97L, 29L, 27L, 5L],\n",
       " [50L, 47L, 12L, 38L],\n",
       " [51L, 91L, 60L, 5L, 14L, 44L],\n",
       " [52L, 55L, 3L, 24L, 65L, 36L],\n",
       " [54L, 82L, 27L, 6L, 2L, 95L],\n",
       " [55L, 33L, 40L, 92L, 52L, 20L],\n",
       " [56L, 75L, 3L, 45L, 62L, 55L],\n",
       " [57L, 93L, 39L, 96L, 87L, 8L],\n",
       " [58L, 48L, 33L, 42L, 87L, 8L],\n",
       " [59L, 19L, 41L, 5L, 60L, 3L],\n",
       " [60L, 5L, 51L, 87L, 71L, 80L],\n",
       " [61L, 10L, 12L, 6L, 62L, 93L],\n",
       " [62L, 65L, 4L, 0L, 19L, 3L],\n",
       " [63L, 13L, 2L, 73L, 72L, 38L],\n",
       " [64L, 87L, 81L, 40L, 7L, 23L],\n",
       " [65L, 62L, 4L, 20L, 43L, 21L],\n",
       " [66L, 74L, 47L, 44L, 7L, 10L],\n",
       " [67L, 79L, 14L, 11L, 51L, 3L],\n",
       " [68L, 90L, 70L, 36L, 51L, 42L],\n",
       " [69L, 84L, 59L, 55L, 81L, 54L],\n",
       " [70L, 68L, 20L, 73L, 76L, 34L],\n",
       " [71L, 3L, 60L, 91L, 2L, 81L],\n",
       " [72L, 6L, 27L, 7L, 25L, 94L],\n",
       " [73L, 38L, 70L, 29L, 25L, 96L],\n",
       " [74L, 30L, 78L, 66L, 36L, 31L],\n",
       " [75L, 84L, 56L, 27L, 39L, 55L],\n",
       " [76L, 39L, 19L, 70L, 0L, 43L],\n",
       " [77L, 87L, 23L, 86L, 46L, 90L],\n",
       " [78L, 43L, 74L, 20L, 7L, 35L],\n",
       " [79L, 67L, 10L, 82L, 43L, 87L],\n",
       " [80L, 33L, 22L, 48L, 60L, 54L],\n",
       " [81L, 40L, 64L, 28L, 87L, 71L],\n",
       " [82L, 54L, 10L, 6L, 88L, 79L],\n",
       " [83L, 1L, 3L, 6L, 98L, 17L],\n",
       " [84L, 75L, 69L, 85L, 54L, 8L],\n",
       " [85L, 97L, 27L, 6L, 3L, 84L],\n",
       " [86L, 87L, 5L, 23L, 60L, 24L],\n",
       " [87L, 64L, 23L, 86L, 77L, 60L],\n",
       " [88L, 82L, 12L, 10L, 41L, 54L],\n",
       " [89L, 65L, 44L, 94L, 17L, 0L],\n",
       " [90L, 68L, 77L, 43L, 29L, 70L],\n",
       " [91L, 31L, 1L, 51L, 45L, 3L],\n",
       " [92L, 55L, 33L, 40L, 20L, 30L],\n",
       " [93L, 8L, 39L, 57L, 42L, 75L],\n",
       " [94L, 72L, 18L, 43L, 89L, 7L],\n",
       " [95L, 54L, 28L, 20L, 37L, 13L],\n",
       " [96L, 4L, 39L, 57L, 37L, 6L],\n",
       " [97L, 85L, 3L, 2L, 49L, 27L],\n",
       " [98L, 10L, 1L, 87L, 13L, 54L],\n",
       " [99L, 28L, 3L, 45L, 74L, 2L]]"
      ]
     },
     "execution_count": 1112,
     "metadata": {},
     "output_type": "execute_result"
    }
   ],
   "source": [
    "la.coordinatematrix_sort_rows(sim, 6)[idx]"
   ]
  },
  {
   "cell_type": "code",
   "execution_count": 1050,
   "metadata": {
    "collapsed": true
   },
   "outputs": [
    {
     "data": {
      "text/plain": [
       "array([[67, 79, 43, 25, 26, 48, 47, 45, 44, 49, 80, 41, 40, 81, 38, 78, 50,\n",
       "        51, 52, 66, 65, 64, 63, 71, 72, 37, 74, 75, 76, 56, 77, 54, 53, 59,\n",
       "        36, 34, 68,  1,  2, 97,  4, 96,  6,  7, 95,  9, 94, 92, 91, 90, 89,\n",
       "        88, 16, 17, 33, 82, 31, 30, 29, 28, 35, 27, 83, 22, 21, 20, 19, 85,\n",
       "        24, 69,  0, 39, 15,  5, 18, 12, 10, 70, 55, 99, 73, 62, 14, 13, 98,\n",
       "        61, 84, 32,  3, 57, 23, 86, 58, 60, 46, 87, 11, 42, 93,  8]])"
      ]
     },
     "execution_count": 1050,
     "metadata": {},
     "output_type": "execute_result"
    }
   ],
   "source": [
    "np.argsort(coordinate_matrix_to_ndarr(la.coordinatematrix_get_row(sim, 8))[::-1])"
   ]
  },
  {
   "cell_type": "code",
   "execution_count": 1111,
   "metadata": {
    "collapsed": false
   },
   "outputs": [
    {
     "data": {
      "text/plain": [
       "array([55, 33, 40, 92, 52, 20, 13, 44, 75, 69, 56, 91, 84, 26, 14, 81, 97,\n",
       "       28, 47, 42, 48,  9, 39, 24, 10, 43,  8,  6,  1, 51, 79, 87, 62, 23,\n",
       "       96, 80,  0, 60, 18, 46, 61,  7, 95,  3, 27, 77, 86, 54, 73, 85,  5,\n",
       "       12, 57, 11, 22, 17, 68, 93,  2, 16, 21, 99, 70, 25, 19, 98, 15, 66,\n",
       "       67, 71, 72, 74, 37, 78, 82, 83, 88,  4, 89, 90, 94, 76, 64, 65, 29,\n",
       "       35, 34, 38, 32, 31, 30, 41, 36, 45, 50, 53, 58, 59, 63, 49])"
      ]
     },
     "execution_count": 1111,
     "metadata": {},
     "output_type": "execute_result"
    }
   ],
   "source": [
    "np.argsort(movie_row)[::-1]"
   ]
  },
  {
   "cell_type": "code",
   "execution_count": 1018,
   "metadata": {
    "collapsed": false
   },
   "outputs": [
    {
     "data": {
      "text/plain": [
       "[u'videos',\n",
       " u'india',\n",
       " u'grandorder',\n",
       " u'AskReddit',\n",
       " u'Warframe',\n",
       " u'relationships']"
      ]
     },
     "execution_count": 1018,
     "metadata": {},
     "output_type": "execute_result"
    }
   ],
   "source": [
    "run_spark_ndarray(ndmat, 'videos')"
   ]
  },
  {
   "cell_type": "code",
   "execution_count": 905,
   "metadata": {
    "collapsed": false
   },
   "outputs": [
    {
     "data": {
      "text/plain": [
       "[u'videos',\n",
       " u'india',\n",
       " u'grandorder',\n",
       " u'AskReddit',\n",
       " u'Warframe',\n",
       " u'relationships']"
      ]
     },
     "execution_count": 905,
     "metadata": {},
     "output_type": "execute_result"
    }
   ],
   "source": [
    "run_spark_ndarray(ndmat, 'videos')"
   ]
  },
  {
   "cell_type": "code",
   "execution_count": 1100,
   "metadata": {
    "collapsed": false
   },
   "outputs": [
    {
     "data": {
      "text/plain": [
       "[u'Amd',\n",
       " u'FireEmblemHeroes',\n",
       " u'DBZDokkanBattle',\n",
       " u'Guildwars2',\n",
       " u'buildapc',\n",
       " u'teenagers']"
      ]
     },
     "execution_count": 1100,
     "metadata": {},
     "output_type": "execute_result"
    }
   ],
   "source": [
    "spark_top_k_subs(sim, subreddit_to_idx('Amd', idx_mapper), subreddit_mapper)"
   ]
  },
  {
   "cell_type": "code",
   "execution_count": 1128,
   "metadata": {
    "collapsed": true
   },
   "outputs": [],
   "source": [
    "%run cf_spark.py"
   ]
  },
  {
   "cell_type": "code",
   "execution_count": 1130,
   "metadata": {
    "collapsed": false
   },
   "outputs": [
    {
     "data": {
      "text/plain": [
       "[u'buildapc',\n",
       " u'Amd',\n",
       " u'SquaredCircle',\n",
       " u'pcmasterrace',\n",
       " u'science',\n",
       " u'gonewild']"
      ]
     },
     "execution_count": 1130,
     "metadata": {},
     "output_type": "execute_result"
    }
   ],
   "source": [
    "spark_top_k_subs2(sim, subreddit_to_idx('buildapc', idx_mapper), subreddit_mapper)"
   ]
  },
  {
   "cell_type": "code",
   "execution_count": 811,
   "metadata": {
    "collapsed": false
   },
   "outputs": [
    {
     "data": {
      "text/plain": [
       "True"
      ]
     },
     "execution_count": 811,
     "metadata": {},
     "output_type": "execute_result"
    }
   ],
   "source": [
    "np.all(np.isclose(simnd, sim2))"
   ]
  },
  {
   "cell_type": "code",
   "execution_count": 408,
   "metadata": {
    "collapsed": true
   },
   "outputs": [],
   "source": [
    "def func1(ndmat):\n",
    "    ndmat = ndmat.copy()\n",
    "    ndmat /= (epsilon + np.std(ndmat, axis = 0))\n",
    "    ndmat /= (epsilon + np.std(ndmat.T, axis = 1).T)\n",
    "    return ndmat"
   ]
  },
  {
   "cell_type": "code",
   "execution_count": 411,
   "metadata": {
    "collapsed": false
   },
   "outputs": [],
   "source": [
    "matfuncs = [func1]\n",
    "def findtop_allmodels(sub_name):\n",
    "    ndmat = coordinate_matrix_to_ndarr(tf_ij)\n",
    "    ndmat = ndmat.T\n",
    "    ndmat = ndmat[1:, 1:]\n",
    "    \n",
    "    def do_one(func, ndmat):\n",
    "        ndmat = func(ndmat)\n",
    "        train, test = train_test_split(ndmat)\n",
    "        similarity = fast_similarity(train)\n",
    "\n",
    "        item_similarity = fast_similarity(train, kind = 'item')\n",
    "        print top_k_movies(item_similarity, subreddit_to_idx(sub_name), k = 10)\n",
    "    [do_one(f, ndmat) for f in matfuncs]"
   ]
  },
  {
   "cell_type": "code",
   "execution_count": 426,
   "metadata": {
    "collapsed": true
   },
   "outputs": [],
   "source": [
    "import pickle"
   ]
  },
  {
   "cell_type": "code",
   "execution_count": 427,
   "metadata": {
    "collapsed": false
   },
   "outputs": [
    {
     "name": "stderr",
     "output_type": "stream",
     "text": [
      "/usr/local/lib/python2.7/dist-packages/ipykernel/__main__.py:1: DeprecationWarning: the md5 module is deprecated; use hashlib instead\n",
      "  if __name__ == '__main__':\n"
     ]
    }
   ],
   "source": [
    "import md5"
   ]
  },
  {
   "cell_type": "code",
   "execution_count": 873,
   "metadata": {
    "collapsed": true
   },
   "outputs": [],
   "source": [
    "def generate_ndmat():\n",
    "    epsilon = 1e-9\n",
    "    ndmat = coordinate_matrix_to_ndarr(tf_ij)\n",
    "    ndmat = ndmat.T\n",
    "    ndmat = ndmat[1:, 1:]\n",
    "\n",
    "    #ndmat = np.mean(ndmat, axis = 0)\n",
    "    ndmat /= (epsilon + np.std(ndmat, axis = 0))\n",
    "    ndmat /= (epsilon + np.std(ndmat.T, axis = 1).T)\n",
    "    \n",
    "    print md5.md5(pickle.dumps(train)).digest()\n",
    "    return ndmat"
   ]
  },
  {
   "cell_type": "code",
   "execution_count": 1009,
   "metadata": {
    "collapsed": false
   },
   "outputs": [
    {
     "data": {
      "text/plain": [
       "'\\x1b\\xbb\\xc46 O\\xe3\\xdb\\x83\\xb2\\x15\\x84Rt\\x00\\x06'"
      ]
     },
     "execution_count": 1009,
     "metadata": {},
     "output_type": "execute_result"
    }
   ],
   "source": [
    "epsilon = 1e-9\n",
    "ndmat = coordinate_matrix_to_ndarr(tf_ij)\n",
    "ndmat = ndmat.T\n",
    "ndmat = ndmat[1:, 1:]\n",
    "\n",
    "#ndmat = np.mean(ndmat, axis = 0)\n",
    "ndmat /= (epsilon + np.std(ndmat, axis = 0))\n",
    "ndmat /= (epsilon + np.std(ndmat.T, axis = 1).T)\n",
    "\n",
    "train, test = train_test_split(ndmat)\n",
    "similarity = fast_similarity(ndmat)\n",
    "\n",
    "item_similarity = fast_similarity(ndmat, kind = 'item')\n",
    "\n",
    "md5.md5(pickle.dumps(train)).digest()"
   ]
  },
  {
   "cell_type": "code",
   "execution_count": 266,
   "metadata": {
    "collapsed": true
   },
   "outputs": [
    {
     "data": {
      "text/plain": [
       "{1: u'AskReddit',\n",
       " 2: u'politics',\n",
       " 3: u'BigBrother',\n",
       " 4: u'SquaredCircle',\n",
       " 5: u'The_Donald',\n",
       " 6: u'gameofthrones',\n",
       " 7: u'nba',\n",
       " 8: u'funny',\n",
       " 9: u'RocketLeagueExchange',\n",
       " 10: u'videos',\n",
       " 11: u'worldnews',\n",
       " 12: u'leagueoflegends',\n",
       " 13: u'soccer',\n",
       " 14: u'movies',\n",
       " 15: u'DotA2',\n",
       " 16: u'Showerthoughts',\n",
       " 17: u'news',\n",
       " 18: u'pics',\n",
       " 19: u'gaming',\n",
       " 20: u'MMA',\n",
       " 21: u'teenagers',\n",
       " 22: u'todayilearned',\n",
       " 23: u'hearthstone',\n",
       " 24: u'pathofexile',\n",
       " 25: u'pcmasterrace',\n",
       " 26: u'PUBATTLEGROUNDS',\n",
       " 27: u'Overwatch',\n",
       " 28: u'baseball',\n",
       " 29: u'anime',\n",
       " 30: u'NYYankees',\n",
       " 31: u'asoiaf',\n",
       " 32: u'relationships',\n",
       " 33: u'Philippines',\n",
       " 34: u'FireEmblemHeroes',\n",
       " 35: u'me_irl',\n",
       " 36: u'aww',\n",
       " 37: u'gonewild',\n",
       " 38: u'conspiracy',\n",
       " 39: u'gifs',\n",
       " 40: u'BlackPeopleTwitter',\n",
       " 41: u'DBZDokkanBattle',\n",
       " 42: u'hiphopheads',\n",
       " 43: u'rupaulsdragrace',\n",
       " 44: u'mildlyinteresting',\n",
       " 45: u'Rainbow6',\n",
       " 46: u'australia',\n",
       " 47: u'ethtrader',\n",
       " 48: u'GlobalOffensive',\n",
       " 49: u'TheSilphRoad',\n",
       " 50: u'thebachelor',\n",
       " 51: u'GlobalOffensiveTrade',\n",
       " 52: u'Bitcoin',\n",
       " 53: u'buildapc',\n",
       " 54: u'teenmom',\n",
       " 55: u'nfl',\n",
       " 56: u'Amd',\n",
       " 57: u'rickandmorty',\n",
       " 58: u'CringeAnarchy',\n",
       " 59: u'pokemongo',\n",
       " 60: u'FFBraveExvius',\n",
       " 61: u'ffxiv',\n",
       " 62: u'europe',\n",
       " 63: u'television',\n",
       " 64: u'NintendoSwitch',\n",
       " 65: u'DestinyTheGame',\n",
       " 66: u'science',\n",
       " 67: u'legaladvice',\n",
       " 68: u'2007scape',\n",
       " 69: u'Mariners',\n",
       " 70: u'cars',\n",
       " 71: u'AskOuija',\n",
       " 72: u'wow',\n",
       " 73: u'WTF',\n",
       " 74: u'OldSchoolCool',\n",
       " 75: u'personalfinance',\n",
       " 76: u'trees',\n",
       " 77: u'CasualConversation',\n",
       " 78: u'FORTnITE',\n",
       " 79: u'india',\n",
       " 80: u'france',\n",
       " 81: u'heroesofthestorm',\n",
       " 82: u'grandorder',\n",
       " 83: u'neoliberal',\n",
       " 84: u'twinpeaks',\n",
       " 85: u'canada',\n",
       " 86: u'hockey',\n",
       " 87: u'teslamotors',\n",
       " 88: u'Warframe',\n",
       " 89: u'newzealand',\n",
       " 90: u'LifeProTips',\n",
       " 91: u'FashionReps',\n",
       " 92: u'Games',\n",
       " 93: u'Guildwars2',\n",
       " 94: u'Drugs',\n",
       " 95: u'exmormon',\n",
       " 96: u'CFB',\n",
       " 97: u'AdviceAnimals',\n",
       " 98: u'Torontobluejays',\n",
       " 99: u'de',\n",
       " 100: u'AFL'}"
      ]
     },
     "execution_count": 266,
     "metadata": {},
     "output_type": "execute_result"
    }
   ],
   "source": [
    "subreddit_mapper"
   ]
  },
  {
   "cell_type": "code",
   "execution_count": 304,
   "metadata": {
    "collapsed": true
   },
   "outputs": [
    {
     "data": {
      "text/plain": [
       "{1: u'AskReddit',\n",
       " 2: u'politics',\n",
       " 3: u'BigBrother',\n",
       " 4: u'SquaredCircle',\n",
       " 5: u'The_Donald',\n",
       " 6: u'gameofthrones',\n",
       " 7: u'nba',\n",
       " 8: u'funny',\n",
       " 9: u'RocketLeagueExchange',\n",
       " 10: u'videos',\n",
       " 11: u'worldnews',\n",
       " 12: u'leagueoflegends',\n",
       " 13: u'soccer',\n",
       " 14: u'movies',\n",
       " 15: u'DotA2',\n",
       " 16: u'Showerthoughts',\n",
       " 17: u'news',\n",
       " 18: u'pics',\n",
       " 19: u'gaming',\n",
       " 20: u'MMA',\n",
       " 21: u'teenagers',\n",
       " 22: u'todayilearned',\n",
       " 23: u'hearthstone',\n",
       " 24: u'pathofexile',\n",
       " 25: u'pcmasterrace',\n",
       " 26: u'PUBATTLEGROUNDS',\n",
       " 27: u'Overwatch',\n",
       " 28: u'baseball',\n",
       " 29: u'anime',\n",
       " 30: u'NYYankees',\n",
       " 31: u'asoiaf',\n",
       " 32: u'relationships',\n",
       " 33: u'Philippines',\n",
       " 34: u'FireEmblemHeroes',\n",
       " 35: u'me_irl',\n",
       " 36: u'aww',\n",
       " 37: u'gonewild',\n",
       " 38: u'conspiracy',\n",
       " 39: u'gifs',\n",
       " 40: u'BlackPeopleTwitter',\n",
       " 41: u'DBZDokkanBattle',\n",
       " 42: u'hiphopheads',\n",
       " 43: u'rupaulsdragrace',\n",
       " 44: u'mildlyinteresting',\n",
       " 45: u'Rainbow6',\n",
       " 46: u'australia',\n",
       " 47: u'ethtrader',\n",
       " 48: u'GlobalOffensive',\n",
       " 49: u'TheSilphRoad',\n",
       " 50: u'thebachelor',\n",
       " 51: u'GlobalOffensiveTrade',\n",
       " 52: u'Bitcoin',\n",
       " 53: u'buildapc',\n",
       " 54: u'teenmom',\n",
       " 55: u'nfl',\n",
       " 56: u'Amd',\n",
       " 57: u'rickandmorty',\n",
       " 58: u'CringeAnarchy',\n",
       " 59: u'pokemongo',\n",
       " 60: u'FFBraveExvius',\n",
       " 61: u'ffxiv',\n",
       " 62: u'europe',\n",
       " 63: u'television',\n",
       " 64: u'NintendoSwitch',\n",
       " 65: u'DestinyTheGame',\n",
       " 66: u'science',\n",
       " 67: u'legaladvice',\n",
       " 68: u'2007scape',\n",
       " 69: u'Mariners',\n",
       " 70: u'cars',\n",
       " 71: u'AskOuija',\n",
       " 72: u'wow',\n",
       " 73: u'WTF',\n",
       " 74: u'OldSchoolCool',\n",
       " 75: u'personalfinance',\n",
       " 76: u'trees',\n",
       " 77: u'CasualConversation',\n",
       " 78: u'FORTnITE',\n",
       " 79: u'india',\n",
       " 80: u'france',\n",
       " 81: u'heroesofthestorm',\n",
       " 82: u'grandorder',\n",
       " 83: u'neoliberal',\n",
       " 84: u'twinpeaks',\n",
       " 85: u'canada',\n",
       " 86: u'hockey',\n",
       " 87: u'teslamotors',\n",
       " 88: u'Warframe',\n",
       " 89: u'newzealand',\n",
       " 90: u'LifeProTips',\n",
       " 91: u'FashionReps',\n",
       " 92: u'Games',\n",
       " 93: u'Guildwars2',\n",
       " 94: u'Drugs',\n",
       " 95: u'exmormon',\n",
       " 96: u'CFB',\n",
       " 97: u'AdviceAnimals',\n",
       " 98: u'Torontobluejays',\n",
       " 99: u'de',\n",
       " 100: u'AFL'}"
      ]
     },
     "execution_count": 304,
     "metadata": {},
     "output_type": "execute_result"
    }
   ],
   "source": [
    "subreddit_mapper"
   ]
  },
  {
   "cell_type": "code",
   "execution_count": 333,
   "metadata": {
    "collapsed": false
   },
   "outputs": [
    {
     "data": {
      "text/plain": [
       "[u'videos',\n",
       " u'anime',\n",
       " u'movies',\n",
       " u'Amd',\n",
       " u'gaming',\n",
       " u'hockey',\n",
       " u'hearthstone',\n",
       " u'rickandmorty',\n",
       " u'news',\n",
       " u'ffxiv']"
      ]
     },
     "execution_count": 333,
     "metadata": {},
     "output_type": "execute_result"
    }
   ],
   "source": [
    "top_k_movies(item_similarity, subreddit_to_idx(u'videos'), k = 10)"
   ]
  },
  {
   "cell_type": "code",
   "execution_count": 444,
   "metadata": {
    "collapsed": false
   },
   "outputs": [
    {
     "name": "stdout",
     "output_type": "stream",
     "text": [
      "[u'videos', u'movies', u'anime', u'Amd', u'gaming', u'pics', u'asoiaf', u'rickandmorty', u'AdviceAnimals', u'nba']\n"
     ]
    }
   ],
   "source": [
    "findtop_allmodels('videos')"
   ]
  },
  {
   "cell_type": "code",
   "execution_count": 530,
   "metadata": {
    "collapsed": true
   },
   "outputs": [],
   "source": [
    "import cf_numpy\n",
    "ndmat = coordinate_matrix_to_ndarr(tf_ij)\n",
    "ndmat = ndmat.T\n",
    "ndmat = ndmat[1:, 1:]\n",
    "subreddit_mapper = dict(act.rdd.map(lambda entry: (entry.ordered_id, entry.subreddit)).collect())"
   ]
  },
  {
   "cell_type": "code",
   "execution_count": 535,
   "metadata": {
    "collapsed": false
   },
   "outputs": [
    {
     "name": "stdout",
     "output_type": "stream",
     "text": [
      "Automatic pdb calling has been turned OFF\n"
     ]
    }
   ],
   "source": [
    "%pdb"
   ]
  },
  {
   "cell_type": "code",
   "execution_count": 541,
   "metadata": {
    "collapsed": false
   },
   "outputs": [],
   "source": [
    "ndmat = coordinate_matrix_to_ndarr(tf_ij)"
   ]
  },
  {
   "cell_type": "code",
   "execution_count": 543,
   "metadata": {
    "collapsed": false
   },
   "outputs": [
    {
     "ename": "ValueError",
     "evalue": "a must be non-empty",
     "output_type": "error",
     "traceback": [
      "\u001b[1;31m---------------------------------------------------------------------------\u001b[0m",
      "\u001b[1;31mValueError\u001b[0m                                Traceback (most recent call last)",
      "\u001b[1;32m<ipython-input-543-bfd8001b8958>\u001b[0m in \u001b[0;36m<module>\u001b[1;34m()\u001b[0m\n\u001b[1;32m----> 1\u001b[1;33m \u001b[0mtrain_test_split\u001b[0m\u001b[1;33m(\u001b[0m\u001b[0mndmat\u001b[0m\u001b[1;33m)\u001b[0m\u001b[1;33m\u001b[0m\u001b[0m\n\u001b[0m",
      "\u001b[1;32m<ipython-input-53-bd588dcd758c>\u001b[0m in \u001b[0;36mtrain_test_split\u001b[1;34m(ratings)\u001b[0m\n\u001b[0;32m      5\u001b[0m         test_ratings = np.random.choice(ratings[user, :].nonzero()[0], \n\u001b[0;32m      6\u001b[0m                                         \u001b[0msize\u001b[0m\u001b[1;33m=\u001b[0m\u001b[1;36m3\u001b[0m\u001b[1;33m,\u001b[0m\u001b[1;33m\u001b[0m\u001b[0m\n\u001b[1;32m----> 7\u001b[1;33m                                         replace=False)\n\u001b[0m\u001b[0;32m      8\u001b[0m         \u001b[0mtrain\u001b[0m\u001b[1;33m[\u001b[0m\u001b[0muser\u001b[0m\u001b[1;33m,\u001b[0m \u001b[0mtest_ratings\u001b[0m\u001b[1;33m]\u001b[0m \u001b[1;33m=\u001b[0m \u001b[1;36m0.\u001b[0m\u001b[1;33m\u001b[0m\u001b[0m\n\u001b[0;32m      9\u001b[0m         \u001b[0mtest\u001b[0m\u001b[1;33m[\u001b[0m\u001b[0muser\u001b[0m\u001b[1;33m,\u001b[0m \u001b[0mtest_ratings\u001b[0m\u001b[1;33m]\u001b[0m \u001b[1;33m=\u001b[0m \u001b[0mratings\u001b[0m\u001b[1;33m[\u001b[0m\u001b[0muser\u001b[0m\u001b[1;33m,\u001b[0m \u001b[0mtest_ratings\u001b[0m\u001b[1;33m]\u001b[0m\u001b[1;33m\u001b[0m\u001b[0m\n",
      "\u001b[1;32mmtrand.pyx\u001b[0m in \u001b[0;36mmtrand.RandomState.choice (numpy/random/mtrand/mtrand.c:7891)\u001b[1;34m()\u001b[0m\n",
      "\u001b[1;31mValueError\u001b[0m: a must be non-empty"
     ]
    }
   ],
   "source": [
    "train_test_split(ndmat)"
   ]
  },
  {
   "cell_type": "code",
   "execution_count": 537,
   "metadata": {
    "collapsed": false,
    "scrolled": true
   },
   "outputs": [
    {
     "ename": "ValueError",
     "evalue": "Cannot take a larger sample than population when 'replace=False'",
     "output_type": "error",
     "traceback": [
      "\u001b[1;31m---------------------------------------------------------------------------\u001b[0m",
      "\u001b[1;31mValueError\u001b[0m                                Traceback (most recent call last)",
      "\u001b[1;32m<ipython-input-537-da2bdbdb0ef6>\u001b[0m in \u001b[0;36m<module>\u001b[1;34m()\u001b[0m\n\u001b[0;32m      7\u001b[0m \u001b[0mndmat\u001b[0m \u001b[1;33m/=\u001b[0m \u001b[1;33m(\u001b[0m\u001b[0mepsilon\u001b[0m \u001b[1;33m+\u001b[0m \u001b[0mnp\u001b[0m\u001b[1;33m.\u001b[0m\u001b[0mstd\u001b[0m\u001b[1;33m(\u001b[0m\u001b[0mndmat\u001b[0m\u001b[1;33m.\u001b[0m\u001b[0mT\u001b[0m\u001b[1;33m,\u001b[0m \u001b[0maxis\u001b[0m \u001b[1;33m=\u001b[0m \u001b[1;36m1\u001b[0m\u001b[1;33m)\u001b[0m\u001b[1;33m.\u001b[0m\u001b[0mT\u001b[0m\u001b[1;33m)\u001b[0m\u001b[1;33m\u001b[0m\u001b[0m\n\u001b[0;32m      8\u001b[0m \u001b[1;33m\u001b[0m\u001b[0m\n\u001b[1;32m----> 9\u001b[1;33m \u001b[0mtrain\u001b[0m\u001b[1;33m,\u001b[0m \u001b[0mtest\u001b[0m \u001b[1;33m=\u001b[0m \u001b[0mtrain_test_split\u001b[0m\u001b[1;33m(\u001b[0m\u001b[0mndmat\u001b[0m\u001b[1;33m)\u001b[0m\u001b[1;33m\u001b[0m\u001b[0m\n\u001b[0m\u001b[0;32m     10\u001b[0m \u001b[0mstate\u001b[0m\u001b[1;33m[\u001b[0m\u001b[1;34m'item_similarity_full'\u001b[0m\u001b[1;33m]\u001b[0m \u001b[1;33m=\u001b[0m \u001b[0mfast_similarity\u001b[0m\u001b[1;33m(\u001b[0m\u001b[0mndmat\u001b[0m\u001b[1;33m,\u001b[0m \u001b[0mkind\u001b[0m \u001b[1;33m=\u001b[0m \u001b[1;34m'item'\u001b[0m\u001b[1;33m)\u001b[0m\u001b[1;33m\u001b[0m\u001b[0m\n\u001b[0;32m     11\u001b[0m \u001b[0mstate\u001b[0m\u001b[1;33m[\u001b[0m\u001b[1;34m'item_similarity_sampled'\u001b[0m\u001b[1;33m]\u001b[0m \u001b[1;33m=\u001b[0m \u001b[0mfast_similarity\u001b[0m\u001b[1;33m(\u001b[0m\u001b[0mtrain\u001b[0m\u001b[1;33m,\u001b[0m \u001b[0mkind\u001b[0m \u001b[1;33m=\u001b[0m \u001b[1;34m'item'\u001b[0m\u001b[1;33m)\u001b[0m\u001b[1;33m\u001b[0m\u001b[0m\n",
      "\u001b[1;32m<ipython-input-53-bd588dcd758c>\u001b[0m in \u001b[0;36mtrain_test_split\u001b[1;34m(ratings)\u001b[0m\n\u001b[0;32m      5\u001b[0m         test_ratings = np.random.choice(ratings[user, :].nonzero()[0], \n\u001b[0;32m      6\u001b[0m                                         \u001b[0msize\u001b[0m\u001b[1;33m=\u001b[0m\u001b[1;36m3\u001b[0m\u001b[1;33m,\u001b[0m\u001b[1;33m\u001b[0m\u001b[0m\n\u001b[1;32m----> 7\u001b[1;33m                                         replace=False)\n\u001b[0m\u001b[0;32m      8\u001b[0m         \u001b[0mtrain\u001b[0m\u001b[1;33m[\u001b[0m\u001b[0muser\u001b[0m\u001b[1;33m,\u001b[0m \u001b[0mtest_ratings\u001b[0m\u001b[1;33m]\u001b[0m \u001b[1;33m=\u001b[0m \u001b[1;36m0.\u001b[0m\u001b[1;33m\u001b[0m\u001b[0m\n\u001b[0;32m      9\u001b[0m         \u001b[0mtest\u001b[0m\u001b[1;33m[\u001b[0m\u001b[0muser\u001b[0m\u001b[1;33m,\u001b[0m \u001b[0mtest_ratings\u001b[0m\u001b[1;33m]\u001b[0m \u001b[1;33m=\u001b[0m \u001b[0mratings\u001b[0m\u001b[1;33m[\u001b[0m\u001b[0muser\u001b[0m\u001b[1;33m,\u001b[0m \u001b[0mtest_ratings\u001b[0m\u001b[1;33m]\u001b[0m\u001b[1;33m\u001b[0m\u001b[0m\n",
      "\u001b[1;32mmtrand.pyx\u001b[0m in \u001b[0;36mmtrand.RandomState.choice (numpy/random/mtrand/mtrand.c:8348)\u001b[1;34m()\u001b[0m\n",
      "\u001b[1;31mValueError\u001b[0m: Cannot take a larger sample than population when 'replace=False'"
     ]
    }
   ],
   "source": [
    "epsilon = 1e-9\n",
    "ndmat = ndmat.T\n",
    "ndmat = ndmat[1:, 1:]\n",
    "\n",
    "# TODO: play with this\n",
    "ndmat /= (epsilon + np.std(ndmat, axis = 0))\n",
    "ndmat /= (epsilon + np.std(ndmat.T, axis = 1).T)\n",
    "\n",
    "train, test = train_test_split(ndmat)\n",
    "state['item_similarity_full'] = fast_similarity(ndmat, kind = 'item')\n",
    "state['item_similarity_sampled'] = fast_similarity(train, kind = 'item')\n",
    "state['subreddit_mapper'] = subreddit_mapper\n",
    "state['idx_mapper'] = {v: k for k, v in subreddit_mapper.iteritems()}"
   ]
  },
  {
   "cell_type": "code",
   "execution_count": 567,
   "metadata": {
    "collapsed": false
   },
   "outputs": [],
   "source": [
    "reload(cf_numpy)\n",
    "cf_numpy.init(ndmat, subreddit_mapper)"
   ]
  },
  {
   "cell_type": "code",
   "execution_count": 571,
   "metadata": {
    "collapsed": false
   },
   "outputs": [
    {
     "data": {
      "text/plain": [
       "[u'movies',\n",
       " u'MMA',\n",
       " u'Amd',\n",
       " u'AskReddit',\n",
       " u'SquaredCircle',\n",
       " u'australia',\n",
       " u'Games',\n",
       " u'teslamotors',\n",
       " u'politics',\n",
       " u'funny']"
      ]
     },
     "execution_count": 571,
     "metadata": {},
     "output_type": "execute_result"
    }
   ],
   "source": [
    "cf_numpy.related_subs('movies')"
   ]
  },
  {
   "cell_type": "code",
   "execution_count": 523,
   "metadata": {
    "collapsed": false
   },
   "outputs": [
    {
     "data": {
      "text/plain": [
       "[u'news',\n",
       " u'politics',\n",
       " u'gameofthrones',\n",
       " u'Overwatch',\n",
       " u'worldnews',\n",
       " u'BlackPeopleTwitter',\n",
       " u'DotA2',\n",
       " u'funny',\n",
       " u'science',\n",
       " u'relationships']"
      ]
     },
     "execution_count": 523,
     "metadata": {},
     "output_type": "execute_result"
    }
   ],
   "source": [
    "top_k_movies(item_similarity, subreddit_to_idx(u'news'), k = 10)"
   ]
  },
  {
   "cell_type": "code",
   "execution_count": 524,
   "metadata": {
    "collapsed": false
   },
   "outputs": [
    {
     "data": {
      "text/plain": [
       "[u'leagueoflegends',\n",
       " u'FireEmblemHeroes',\n",
       " u'nba',\n",
       " u'DotA2',\n",
       " u'SquaredCircle',\n",
       " u'2007scape',\n",
       " u'RocketLeagueExchange',\n",
       " u'nfl',\n",
       " u'Bitcoin',\n",
       " u'ethtrader']"
      ]
     },
     "execution_count": 524,
     "metadata": {},
     "output_type": "execute_result"
    }
   ],
   "source": [
    "top_k_movies(item_similarity, subreddit_to_idx(u'leagueoflegends'), k = 10)"
   ]
  },
  {
   "cell_type": "code",
   "execution_count": 297,
   "metadata": {
    "collapsed": false
   },
   "outputs": [],
   "source": [
    "predictions = predict_nobias(train, item_similarity, kind = 'item')"
   ]
  },
  {
   "cell_type": "code",
   "execution_count": 300,
   "metadata": {
    "collapsed": false
   },
   "outputs": [
    {
     "data": {
      "text/plain": [
       "(227, 100)"
      ]
     },
     "execution_count": 300,
     "metadata": {},
     "output_type": "execute_result"
    }
   ],
   "source": [
    "predictions.shape"
   ]
  },
  {
   "cell_type": "code",
   "execution_count": 258,
   "metadata": {
    "collapsed": false
   },
   "outputs": [
    {
     "data": {
      "text/plain": [
       "u'FashionReps'"
      ]
     },
     "execution_count": 258,
     "metadata": {},
     "output_type": "execute_result"
    }
   ],
   "source": [
    "idx_to_subreddit(90)"
   ]
  },
  {
   "cell_type": "code",
   "execution_count": 224,
   "metadata": {
    "collapsed": false
   },
   "outputs": [
    {
     "data": {
      "text/plain": [
       "(227, 101)"
      ]
     },
     "execution_count": 224,
     "metadata": {},
     "output_type": "execute_result"
    }
   ],
   "source": [
    "predictions.shape"
   ]
  },
  {
   "cell_type": "code",
   "execution_count": 337,
   "metadata": {
    "collapsed": false
   },
   "outputs": [
    {
     "data": {
      "text/plain": [
       "465503"
      ]
     },
     "execution_count": 337,
     "metadata": {},
     "output_type": "execute_result"
    }
   ],
   "source": [
    "a_ij.entries.count()"
   ]
  },
  {
   "cell_type": "code",
   "execution_count": 103,
   "metadata": {
    "collapsed": false
   },
   "outputs": [
    {
     "data": {
      "text/plain": [
       "43758L"
      ]
     },
     "execution_count": 103,
     "metadata": {},
     "output_type": "execute_result"
    }
   ],
   "source": [
    "tf_ij.numCols()"
   ]
  },
  {
   "cell_type": "code",
   "execution_count": 323,
   "metadata": {
    "collapsed": false
   },
   "outputs": [
    {
     "data": {
      "text/plain": [
       "17045L"
      ]
     },
     "execution_count": 323,
     "metadata": {},
     "output_type": "execute_result"
    }
   ],
   "source": [
    "entropy_i.numRows()"
   ]
  },
  {
   "cell_type": "code",
   "execution_count": null,
   "metadata": {
    "collapsed": true
   },
   "outputs": [],
   "source": [
    "logp_ij = coordinateMatrixElementwise"
   ]
  },
  {
   "cell_type": "code",
   "execution_count": 203,
   "metadata": {
    "collapsed": true
   },
   "outputs": [
    {
     "data": {
      "text/html": [
       "<div style=\"max-height:1000px;max-width:1500px;overflow:auto;\">\n",
       "<table border=\"1\" class=\"dataframe\">\n",
       "  <thead>\n",
       "    <tr style=\"text-align: right;\">\n",
       "      <th></th>\n",
       "      <th>rid</th>\n",
       "      <th>activity</th>\n",
       "    </tr>\n",
       "  </thead>\n",
       "  <tbody>\n",
       "    <tr>\n",
       "      <th>0 </th>\n",
       "      <td>  1</td>\n",
       "      <td>    1</td>\n",
       "    </tr>\n",
       "    <tr>\n",
       "      <th>1 </th>\n",
       "      <td>  2</td>\n",
       "      <td>    1</td>\n",
       "    </tr>\n",
       "    <tr>\n",
       "      <th>2 </th>\n",
       "      <td>  3</td>\n",
       "      <td>    1</td>\n",
       "    </tr>\n",
       "    <tr>\n",
       "      <th>3 </th>\n",
       "      <td>  4</td>\n",
       "      <td>    2</td>\n",
       "    </tr>\n",
       "    <tr>\n",
       "      <th>4 </th>\n",
       "      <td>  5</td>\n",
       "      <td>    1</td>\n",
       "    </tr>\n",
       "    <tr>\n",
       "      <th>5 </th>\n",
       "      <td>  6</td>\n",
       "      <td>  295</td>\n",
       "    </tr>\n",
       "    <tr>\n",
       "      <th>6 </th>\n",
       "      <td>  7</td>\n",
       "      <td>   32</td>\n",
       "    </tr>\n",
       "    <tr>\n",
       "      <th>7 </th>\n",
       "      <td>  8</td>\n",
       "      <td>    9</td>\n",
       "    </tr>\n",
       "    <tr>\n",
       "      <th>8 </th>\n",
       "      <td>  9</td>\n",
       "      <td>    4</td>\n",
       "    </tr>\n",
       "    <tr>\n",
       "      <th>9 </th>\n",
       "      <td> 10</td>\n",
       "      <td>    3</td>\n",
       "    </tr>\n",
       "    <tr>\n",
       "      <th>10</th>\n",
       "      <td> 11</td>\n",
       "      <td>    5</td>\n",
       "    </tr>\n",
       "    <tr>\n",
       "      <th>11</th>\n",
       "      <td> 12</td>\n",
       "      <td>    4</td>\n",
       "    </tr>\n",
       "    <tr>\n",
       "      <th>12</th>\n",
       "      <td> 13</td>\n",
       "      <td>    4</td>\n",
       "    </tr>\n",
       "    <tr>\n",
       "      <th>13</th>\n",
       "      <td> 14</td>\n",
       "      <td>    7</td>\n",
       "    </tr>\n",
       "    <tr>\n",
       "      <th>14</th>\n",
       "      <td> 15</td>\n",
       "      <td>    5</td>\n",
       "    </tr>\n",
       "    <tr>\n",
       "      <th>15</th>\n",
       "      <td> 16</td>\n",
       "      <td>    5</td>\n",
       "    </tr>\n",
       "    <tr>\n",
       "      <th>16</th>\n",
       "      <td> 17</td>\n",
       "      <td>    3</td>\n",
       "    </tr>\n",
       "    <tr>\n",
       "      <th>17</th>\n",
       "      <td> 18</td>\n",
       "      <td>    4</td>\n",
       "    </tr>\n",
       "    <tr>\n",
       "      <th>18</th>\n",
       "      <td> 19</td>\n",
       "      <td>    1</td>\n",
       "    </tr>\n",
       "    <tr>\n",
       "      <th>19</th>\n",
       "      <td> 20</td>\n",
       "      <td>    1</td>\n",
       "    </tr>\n",
       "    <tr>\n",
       "      <th>20</th>\n",
       "      <td> 21</td>\n",
       "      <td>    2</td>\n",
       "    </tr>\n",
       "    <tr>\n",
       "      <th>21</th>\n",
       "      <td> 22</td>\n",
       "      <td>  132</td>\n",
       "    </tr>\n",
       "    <tr>\n",
       "      <th>22</th>\n",
       "      <td> 23</td>\n",
       "      <td>  444</td>\n",
       "    </tr>\n",
       "    <tr>\n",
       "      <th>23</th>\n",
       "      <td> 24</td>\n",
       "      <td>   10</td>\n",
       "    </tr>\n",
       "    <tr>\n",
       "      <th>24</th>\n",
       "      <td> 25</td>\n",
       "      <td>   14</td>\n",
       "    </tr>\n",
       "    <tr>\n",
       "      <th>25</th>\n",
       "      <td> 26</td>\n",
       "      <td>    9</td>\n",
       "    </tr>\n",
       "    <tr>\n",
       "      <th>26</th>\n",
       "      <td> 27</td>\n",
       "      <td>    1</td>\n",
       "    </tr>\n",
       "    <tr>\n",
       "      <th>27</th>\n",
       "      <td> 28</td>\n",
       "      <td>    3</td>\n",
       "    </tr>\n",
       "    <tr>\n",
       "      <th>28</th>\n",
       "      <td> 29</td>\n",
       "      <td>   14</td>\n",
       "    </tr>\n",
       "    <tr>\n",
       "      <th>29</th>\n",
       "      <td> 30</td>\n",
       "      <td>   18</td>\n",
       "    </tr>\n",
       "    <tr>\n",
       "      <th>30</th>\n",
       "      <td> 31</td>\n",
       "      <td> 1665</td>\n",
       "    </tr>\n",
       "    <tr>\n",
       "      <th>31</th>\n",
       "      <td> 32</td>\n",
       "      <td>   24</td>\n",
       "    </tr>\n",
       "    <tr>\n",
       "      <th>32</th>\n",
       "      <td> 33</td>\n",
       "      <td>    1</td>\n",
       "    </tr>\n",
       "    <tr>\n",
       "      <th>33</th>\n",
       "      <td> 34</td>\n",
       "      <td>   74</td>\n",
       "    </tr>\n",
       "    <tr>\n",
       "      <th>34</th>\n",
       "      <td> 35</td>\n",
       "      <td>   27</td>\n",
       "    </tr>\n",
       "    <tr>\n",
       "      <th>35</th>\n",
       "      <td> 36</td>\n",
       "      <td>    1</td>\n",
       "    </tr>\n",
       "    <tr>\n",
       "      <th>36</th>\n",
       "      <td> 37</td>\n",
       "      <td>    1</td>\n",
       "    </tr>\n",
       "    <tr>\n",
       "      <th>37</th>\n",
       "      <td> 38</td>\n",
       "      <td>   53</td>\n",
       "    </tr>\n",
       "    <tr>\n",
       "      <th>38</th>\n",
       "      <td> 39</td>\n",
       "      <td>    2</td>\n",
       "    </tr>\n",
       "    <tr>\n",
       "      <th>39</th>\n",
       "      <td> 40</td>\n",
       "      <td>   10</td>\n",
       "    </tr>\n",
       "    <tr>\n",
       "      <th>40</th>\n",
       "      <td> 41</td>\n",
       "      <td> 7068</td>\n",
       "    </tr>\n",
       "    <tr>\n",
       "      <th>41</th>\n",
       "      <td> 42</td>\n",
       "      <td>   25</td>\n",
       "    </tr>\n",
       "    <tr>\n",
       "      <th>42</th>\n",
       "      <td> 43</td>\n",
       "      <td>    1</td>\n",
       "    </tr>\n",
       "    <tr>\n",
       "      <th>43</th>\n",
       "      <td> 44</td>\n",
       "      <td>   13</td>\n",
       "    </tr>\n",
       "    <tr>\n",
       "      <th>44</th>\n",
       "      <td> 45</td>\n",
       "      <td>  512</td>\n",
       "    </tr>\n",
       "    <tr>\n",
       "      <th>45</th>\n",
       "      <td> 46</td>\n",
       "      <td>    3</td>\n",
       "    </tr>\n",
       "    <tr>\n",
       "      <th>46</th>\n",
       "      <td> 47</td>\n",
       "      <td>   84</td>\n",
       "    </tr>\n",
       "    <tr>\n",
       "      <th>47</th>\n",
       "      <td> 48</td>\n",
       "      <td>  132</td>\n",
       "    </tr>\n",
       "    <tr>\n",
       "      <th>48</th>\n",
       "      <td> 49</td>\n",
       "      <td>   10</td>\n",
       "    </tr>\n",
       "    <tr>\n",
       "      <th>49</th>\n",
       "      <td> 50</td>\n",
       "      <td>    5</td>\n",
       "    </tr>\n",
       "    <tr>\n",
       "      <th>50</th>\n",
       "      <td> 51</td>\n",
       "      <td>    1</td>\n",
       "    </tr>\n",
       "    <tr>\n",
       "      <th>51</th>\n",
       "      <td> 52</td>\n",
       "      <td>   16</td>\n",
       "    </tr>\n",
       "    <tr>\n",
       "      <th>52</th>\n",
       "      <td> 53</td>\n",
       "      <td>  154</td>\n",
       "    </tr>\n",
       "    <tr>\n",
       "      <th>53</th>\n",
       "      <td> 54</td>\n",
       "      <td> 4449</td>\n",
       "    </tr>\n",
       "    <tr>\n",
       "      <th>54</th>\n",
       "      <td> 55</td>\n",
       "      <td>    5</td>\n",
       "    </tr>\n",
       "    <tr>\n",
       "      <th>55</th>\n",
       "      <td> 56</td>\n",
       "      <td>   23</td>\n",
       "    </tr>\n",
       "    <tr>\n",
       "      <th>56</th>\n",
       "      <td> 57</td>\n",
       "      <td>   10</td>\n",
       "    </tr>\n",
       "    <tr>\n",
       "      <th>57</th>\n",
       "      <td> 58</td>\n",
       "      <td>    2</td>\n",
       "    </tr>\n",
       "    <tr>\n",
       "      <th>58</th>\n",
       "      <td> 59</td>\n",
       "      <td>   29</td>\n",
       "    </tr>\n",
       "    <tr>\n",
       "      <th>59</th>\n",
       "      <td> 60</td>\n",
       "      <td>    1</td>\n",
       "    </tr>\n",
       "    <tr>\n",
       "      <th></th>\n",
       "      <td>...</td>\n",
       "      <td>...</td>\n",
       "    </tr>\n",
       "  </tbody>\n",
       "</table>\n",
       "<p>17044 rows × 2 columns</p>\n",
       "</div>"
      ],
      "text/plain": [
       "    rid  activity\n",
       "0     1         1\n",
       "1     2         1\n",
       "2     3         1\n",
       "3     4         2\n",
       "4     5         1\n",
       "5     6       295\n",
       "6     7        32\n",
       "7     8         9\n",
       "8     9         4\n",
       "9    10         3\n",
       "10   11         5\n",
       "11   12         4\n",
       "12   13         4\n",
       "13   14         7\n",
       "14   15         5\n",
       "15   16         5\n",
       "16   17         3\n",
       "17   18         4\n",
       "18   19         1\n",
       "19   20         1\n",
       "20   21         2\n",
       "21   22       132\n",
       "22   23       444\n",
       "23   24        10\n",
       "24   25        14\n",
       "25   26         9\n",
       "26   27         1\n",
       "27   28         3\n",
       "28   29        14\n",
       "29   30        18\n",
       "30   31      1665\n",
       "31   32        24\n",
       "32   33         1\n",
       "33   34        74\n",
       "34   35        27\n",
       "35   36         1\n",
       "36   37         1\n",
       "37   38        53\n",
       "38   39         2\n",
       "39   40        10\n",
       "40   41      7068\n",
       "41   42        25\n",
       "42   43         1\n",
       "43   44        13\n",
       "44   45       512\n",
       "45   46         3\n",
       "46   47        84\n",
       "47   48       132\n",
       "48   49        10\n",
       "49   50         5\n",
       "50   51         1\n",
       "51   52        16\n",
       "52   53       154\n",
       "53   54      4449\n",
       "54   55         5\n",
       "55   56        23\n",
       "56   57        10\n",
       "57   58         2\n",
       "58   59        29\n",
       "59   60         1\n",
       "    ...       ...\n",
       "\n",
       "[17044 rows x 2 columns]"
      ]
     },
     "execution_count": 203,
     "metadata": {},
     "output_type": "execute_result"
    }
   ],
   "source": [
    "activity_df.toPandas()"
   ]
  },
  {
   "cell_type": "code",
   "execution_count": 15,
   "metadata": {
    "collapsed": true
   },
   "outputs": [],
   "source": [
    "from operator import add\n",
    "\n",
    "# TODO: check that zero entries are correctly filtered\n",
    "def coordinateMatrixMultiply(leftmat, rightmat):\n",
    "    m = leftmat.entries.map(lambda entry: (entry.j, (entry.i, entry.value)))\n",
    "    n = rightmat.entries.map(lambda entry: (entry.i, (entry.j, entry.value)))\n",
    "    product_entries = m.join(n)\\\n",
    "    .map(lambda tup: ((tup[1][0][0], tup[1][1][0]), (tup[1][0][1] * tup[1][1][1])))\\\n",
    "    .reduceByKey(add)\\\n",
    "    .map(lambda record: MatrixEntry(record[0][0], record[0][1], record[1]))\n",
    "    \n",
    "    return pyspark.mllib.linalg.distributed.CoordinateMatrix(product_entries)"
   ]
  },
  {
   "cell_type": "code",
   "execution_count": 16,
   "metadata": {
    "collapsed": true
   },
   "outputs": [],
   "source": [
    "def coordinateMatrixAdd(leftmat, rightmat, scalar):\n",
    "    \"\"\"\n",
    "    Return leftmat + scalar * rightmat\n",
    "    \"\"\"\n",
    "    m = leftmat.entries.map(lambda entry: ((entry.i, entry.j), entry.value))\n",
    "    n = rightmat.entries.map(lambda entry: ((entry.i, entry.j), scalar * entry.value))\n",
    "    matsum = m.fullOuterJoin(n)\\\n",
    "    .map(lambda tup: MatrixEntry(tup[0][0], tup[0][1],\n",
    "                                 reduce(add, filter(lambda elt: elt is not None, tup[1]))))\n",
    "    \n",
    "    #return matsum\n",
    "    return pyspark.mllib.linalg.distributed.CoordinateMatrix(matsum)"
   ]
  },
  {
   "cell_type": "code",
   "execution_count": 360,
   "metadata": {
    "collapsed": true
   },
   "outputs": [],
   "source": [
    "test_vec = np.array([[1,1,0]]).T\n",
    "test_vec2 = np.array([[1,0,0]]).T"
   ]
  },
  {
   "cell_type": "code",
   "execution_count": 356,
   "metadata": {
    "collapsed": false,
    "scrolled": true
   },
   "outputs": [
    {
     "data": {
      "text/plain": [
       "1.4142135623730951"
      ]
     },
     "execution_count": 356,
     "metadata": {},
     "output_type": "execute_result"
    }
   ],
   "source": [
    "coordinate_vector_matrix_norm(ndarr_to_coord_array(test_vec))"
   ]
  },
  {
   "cell_type": "code",
   "execution_count": 665,
   "metadata": {
    "collapsed": true
   },
   "outputs": [
    {
     "data": {
      "text/plain": [
       "[33L,\n",
       " 3L,\n",
       " 36L,\n",
       " 6L,\n",
       " 39L,\n",
       " 9L,\n",
       " 42L,\n",
       " 12L,\n",
       " 45L,\n",
       " 15L,\n",
       " 48L,\n",
       " 18L,\n",
       " 51L,\n",
       " 21L,\n",
       " 54L,\n",
       " 24L,\n",
       " 57L,\n",
       " 27L,\n",
       " 30L,\n",
       " 1L,\n",
       " 34L,\n",
       " 4L,\n",
       " 37L,\n",
       " 7L,\n",
       " 40L,\n",
       " 10L,\n",
       " 43L,\n",
       " 13L,\n",
       " 46L,\n",
       " 16L,\n",
       " 49L,\n",
       " 19L,\n",
       " 52L,\n",
       " 22L,\n",
       " 55L,\n",
       " 25L,\n",
       " 58L,\n",
       " 28L,\n",
       " 31L,\n",
       " 32L,\n",
       " 2L,\n",
       " 35L,\n",
       " 5L,\n",
       " 38L,\n",
       " 8L,\n",
       " 41L,\n",
       " 11L,\n",
       " 44L,\n",
       " 14L,\n",
       " 47L,\n",
       " 17L,\n",
       " 50L,\n",
       " 20L,\n",
       " 53L,\n",
       " 23L,\n",
       " 56L,\n",
       " 26L,\n",
       " 59L,\n",
       " 29L]"
      ]
     },
     "execution_count": 665,
     "metadata": {},
     "output_type": "execute_result"
    }
   ],
   "source": [
    "sort_row_indices_by_distance(a_ij, coordinatematrix_get_row(a_ij, 37))"
   ]
  },
  {
   "cell_type": "code",
   "execution_count": null,
   "metadata": {
    "collapsed": true
   },
   "outputs": [],
   "source": [
    "sort_row_indices_by_distance()"
   ]
  },
  {
   "cell_type": "code",
   "execution_count": 484,
   "metadata": {
    "collapsed": false
   },
   "outputs": [],
   "source": [
    "test_array5 = 2 * np.array([[1, 0, 0], [1, 1, 0], [0, 0,  1]])\n",
    "vec = 2 * np.array([[1, 1, 0.001]])"
   ]
  },
  {
   "cell_type": "code",
   "execution_count": 487,
   "metadata": {
    "collapsed": false
   },
   "outputs": [],
   "source": [
    "cm = ndarr_to_coord_array(test_array5)\n",
    "cv = ndarr_to_coord_array(vec)"
   ]
  },
  {
   "cell_type": "code",
   "execution_count": 563,
   "metadata": {
    "collapsed": false
   },
   "outputs": [],
   "source": [
    "td = coordinatematrix_get_row(cmat, 8797)"
   ]
  },
  {
   "cell_type": "code",
   "execution_count": 564,
   "metadata": {
    "collapsed": false
   },
   "outputs": [
    {
     "data": {
      "text/plain": [
       "1"
      ]
     },
     "execution_count": 564,
     "metadata": {},
     "output_type": "execute_result"
    }
   ],
   "source": [
    "td.entries.count()"
   ]
  },
  {
   "cell_type": "code",
   "execution_count": 537,
   "metadata": {
    "collapsed": false
   },
   "outputs": [
    {
     "data": {
      "text/plain": [
       "[1L, 0L, 2L]"
      ]
     },
     "execution_count": 537,
     "metadata": {},
     "output_type": "execute_result"
    }
   ],
   "source": [
    "sort_row_indices_by_distance(cm, cv)"
   ]
  },
  {
   "cell_type": "code",
   "execution_count": 474,
   "metadata": {
    "collapsed": true
   },
   "outputs": [],
   "source": []
  },
  {
   "cell_type": "code",
   "execution_count": 532,
   "metadata": {
    "collapsed": false
   },
   "outputs": [],
   "source": [
    "v = Vectors.sparse(3, [(1, 1), (2, 1)])"
   ]
  },
  {
   "cell_type": "code",
   "execution_count": 533,
   "metadata": {
    "collapsed": false,
    "scrolled": true
   },
   "outputs": [
    {
     "data": {
      "text/plain": [
       "1.4142135623730951"
      ]
     },
     "execution_count": 533,
     "metadata": {},
     "output_type": "execute_result"
    }
   ],
   "source": [
    "v.norm(2)"
   ]
  },
  {
   "cell_type": "code",
   "execution_count": 492,
   "metadata": {
    "collapsed": false
   },
   "outputs": [
    {
     "data": {
      "text/plain": [
       "[(0L, 2.0), (1L, 2.0), (2L, 0.002)]"
      ]
     },
     "execution_count": 492,
     "metadata": {},
     "output_type": "execute_result"
    }
   ],
   "source": [
    "cv.entries.map(lambda entry: (entry.j, entry.value)).collect()"
   ]
  },
  {
   "cell_type": "code",
   "execution_count": 599,
   "metadata": {
    "collapsed": false
   },
   "outputs": [],
   "source": [
    "v = ndarray_to_sparse_vector(np.zeros(5))"
   ]
  },
  {
   "cell_type": "code",
   "execution_count": 600,
   "metadata": {
    "collapsed": false
   },
   "outputs": [
    {
     "data": {
      "text/plain": [
       "array([ 0.,  0.,  0.,  0.,  0.])"
      ]
     },
     "execution_count": 600,
     "metadata": {},
     "output_type": "execute_result"
    }
   ],
   "source": [
    "sparse_vector_to_ndarray(v)"
   ]
  },
  {
   "cell_type": "code",
   "execution_count": 495,
   "metadata": {
    "collapsed": false
   },
   "outputs": [],
   "source": [
    "v = coordinatematrix_to_sparse_vector(cv)"
   ]
  },
  {
   "cell_type": "code",
   "execution_count": 466,
   "metadata": {
    "collapsed": false
   },
   "outputs": [
    {
     "data": {
      "text/plain": [
       "[(1L, 0.0), (0L, 0.0), (1L, 0.0), (2L, 3.992004)]"
      ]
     },
     "execution_count": 466,
     "metadata": {},
     "output_type": "execute_result"
    }
   ],
   "source": [
    "mat_j.fullOuterJoin(vec_j).map(lambda tup: (tup[1][0][0], (tup[1][0][1] - tup[1][1])**2)).collect()"
   ]
  },
  {
   "cell_type": "code",
   "execution_count": 454,
   "metadata": {
    "collapsed": false,
    "scrolled": true
   },
   "outputs": [
    {
     "data": {
      "text/plain": [
       "[(0L, 0.0), (1L, 0.0)]"
      ]
     },
     "execution_count": 454,
     "metadata": {},
     "output_type": "execute_result"
    }
   ],
   "source": [
    "mat_j.join(vec_j).map(lambda tup: (tup[1][0][0], (tup[1][0][1] - tup[1][1])**2)).reduceByKey(add).collect()"
   ]
  },
  {
   "cell_type": "code",
   "execution_count": 453,
   "metadata": {
    "collapsed": false
   },
   "outputs": [
    {
     "data": {
      "text/plain": [
       "[0L, 1L]"
      ]
     },
     "execution_count": 453,
     "metadata": {},
     "output_type": "execute_result"
    }
   ],
   "source": [
    "mat_j.join(vec_j).map(lambda tup: (tup[1][0][0], (tup[1][0][1] - tup[1][1])**2)).reduceByKey(add)\\\n",
    "    .map(lambda tup: (tup[1], tup[0])).sortByKey().map(lambda tup: tup[1]).collect()"
   ]
  },
  {
   "cell_type": "code",
   "execution_count": 439,
   "metadata": {
    "collapsed": false
   },
   "outputs": [
    {
     "data": {
      "text/plain": [
       "[(0L, [(0L, 0L), (0L, 1L), (0L, 2L)]),\n",
       " (1L, [(1L, 0L), (1L, 2L), (1L, 3L)]),\n",
       " (2L, [(2L, 2L), (2L, 3L)])]"
      ]
     },
     "execution_count": 439,
     "metadata": {},
     "output_type": "execute_result"
    }
   ],
   "source": [
    "ndarr_to_coord_array(test_array2).entries.map(lambda entry: (entry.i, [(entry.i, entry.j)]))\\\n",
    ".reduceByKey(add).collect()"
   ]
  },
  {
   "cell_type": "code",
   "execution_count": 361,
   "metadata": {
    "collapsed": false,
    "scrolled": true
   },
   "outputs": [
    {
     "data": {
      "text/plain": [
       "0.0"
      ]
     },
     "execution_count": 361,
     "metadata": {},
     "output_type": "execute_result"
    }
   ],
   "source": [
    "coordinate_matrix_vector_l2(ndarr_to_coord_array(test_vec), ndarr_to_coord_array(test_vec))"
   ]
  },
  {
   "cell_type": "code",
   "execution_count": 371,
   "metadata": {
    "collapsed": true
   },
   "outputs": [],
   "source": [
    "vec1, vec2 = ndarr_to_coord_array(test_vec), ndarr_to_coord_array(test_vec2)"
   ]
  },
  {
   "cell_type": "code",
   "execution_count": 372,
   "metadata": {
    "collapsed": true
   },
   "outputs": [],
   "source": [
    "norm1, norm2 = map(coordinate_vector_matrix_norm, [vec1, vec2])\n",
    "\n",
    "vec1normed = coordinateMatrixScalarMult(vec1, 1./norm1)\n",
    "vec2normed = coordinateMatrixScalarMult(vec2, 1./norm2)\n",
    "\n",
    "diff = coordinateMatrixAdd(vec1normed, vec2normed, -1.)"
   ]
  },
  {
   "cell_type": "code",
   "execution_count": 373,
   "metadata": {
    "collapsed": false
   },
   "outputs": [
    {
     "data": {
      "text/plain": [
       "[MatrixEntry(0, 0, -0.292893218813), MatrixEntry(1, 0, 0.707106781187)]"
      ]
     },
     "execution_count": 373,
     "metadata": {},
     "output_type": "execute_result"
    }
   ],
   "source": [
    "diff.entries.collect()"
   ]
  },
  {
   "cell_type": "code",
   "execution_count": 380,
   "metadata": {
    "collapsed": false,
    "scrolled": true
   },
   "outputs": [
    {
     "data": {
      "text/plain": [
       "0.76536686473017945"
      ]
     },
     "execution_count": 380,
     "metadata": {},
     "output_type": "execute_result"
    }
   ],
   "source": [
    "coordinate_matrix_vector_l2(ndarr_to_coord_array(test_vec), ndarr_to_coord_array(2 * test_vec2))"
   ]
  },
  {
   "cell_type": "code",
   "execution_count": 654,
   "metadata": {
    "collapsed": false
   },
   "outputs": [
    {
     "data": {
      "text/plain": [
       "{'indices': array([], dtype=int32),\n",
       " 'size': 5,\n",
       " 'values': array([], dtype=float64)}"
      ]
     },
     "execution_count": 654,
     "metadata": {},
     "output_type": "execute_result"
    }
   ],
   "source": [
    "v.__dict__"
   ]
  },
  {
   "cell_type": "code",
   "execution_count": 379,
   "metadata": {
    "collapsed": false,
    "scrolled": false
   },
   "outputs": [
    {
     "data": {
      "text/plain": [
       "0.76536686473017945"
      ]
     },
     "execution_count": 379,
     "metadata": {},
     "output_type": "execute_result"
    }
   ],
   "source": [
    "np.linalg.norm(test_vec.T[0] / np.linalg.norm(test_vec) - test_vec2.T[0] / np.linalg.norm(test_vec2))"
   ]
  },
  {
   "cell_type": "code",
   "execution_count": 375,
   "metadata": {
    "collapsed": false,
    "scrolled": true
   },
   "outputs": [
    {
     "ename": "SyntaxError",
     "evalue": "invalid syntax (<ipython-input-375-dc50cd5dbed2>, line 2)",
     "output_type": "error",
     "traceback": [
      "\u001b[1;36m  File \u001b[1;32m\"<ipython-input-375-dc50cd5dbed2>\"\u001b[1;36m, line \u001b[1;32m2\u001b[0m\n\u001b[1;33m    mat.entries.filter(lambda entry: entry.i == 2).map(lambda entry: collect()\u001b[0m\n\u001b[1;37m                                                                              ^\u001b[0m\n\u001b[1;31mSyntaxError\u001b[0m\u001b[1;31m:\u001b[0m invalid syntax\n"
     ]
    }
   ],
   "source": [
    "mat = ndarr_to_coord_array(test_array2)\n",
    "mat.entries.filter(lambda entry: entry.i == 2).map(lambda entry: collect()"
   ]
  },
  {
   "cell_type": "markdown",
   "metadata": {},
   "source": [
    "Implement LSA"
   ]
  },
  {
   "cell_type": "code",
   "execution_count": null,
   "metadata": {
    "collapsed": true
   },
   "outputs": [],
   "source": []
  },
  {
   "cell_type": "markdown",
   "metadata": {},
   "source": [
    "Test stuff"
   ]
  },
  {
   "cell_type": "code",
   "execution_count": 94,
   "metadata": {
    "collapsed": true
   },
   "outputs": [],
   "source": [
    "test_coordmat2 = ndarr_to_coord_array(test_array2)"
   ]
  },
  {
   "cell_type": "code",
   "execution_count": 97,
   "metadata": {
    "collapsed": false
   },
   "outputs": [
    {
     "data": {
      "text/plain": [
       "[MatrixEntry(0, 0, 1.0),\n",
       " MatrixEntry(0, 1, 2.0),\n",
       " MatrixEntry(0, 2, 3.0),\n",
       " MatrixEntry(1, 0, 4.0),\n",
       " MatrixEntry(1, 2, 6.0),\n",
       " MatrixEntry(1, 3, 1.0),\n",
       " MatrixEntry(2, 2, 8.0),\n",
       " MatrixEntry(2, 3, 2.0)]"
      ]
     },
     "execution_count": 97,
     "metadata": {},
     "output_type": "execute_result"
    }
   ],
   "source": [
    "test_coordmat2.entries.filter(lambda entry: entry.value != 0).collect()"
   ]
  },
  {
   "cell_type": "code",
   "execution_count": 244,
   "metadata": {
    "collapsed": false
   },
   "outputs": [],
   "source": [
    "vec = ndarr_to_coord_array(np.array([[2, 2, 2, 2]]))\n",
    "mat = ndarr_to_coord_array(np.ones((4, 4)))\n",
    "\n",
    "m = mat.entries.map(lambda entry: (entry.i, (entry.j, entry.value)))\n",
    "v = vec.entries.map(lambda entry: (entry.i, (entry.j, entry.value)))\n",
    "matdiv = m.join(v).map(lambda tup: MatrixEntry(tup[0], tup[1][0][0], float(tup[1][0][1]) / tup[1][1][1]))"
   ]
  },
  {
   "cell_type": "code",
   "execution_count": 263,
   "metadata": {
    "collapsed": false
   },
   "outputs": [
    {
     "data": {
      "text/plain": [
       "(<pyspark.mllib.linalg.distributed.CoordinateMatrix at 0x7fde2b3eba90>,\n",
       " array([[ 4.,  4.,  4.,  4.],\n",
       "        [ 4.,  4.,  4.,  4.],\n",
       "        [ 4.,  4.,  4.,  4.],\n",
       "        [ 4.,  4.,  4.,  4.]]))"
      ]
     },
     "execution_count": 263,
     "metadata": {},
     "output_type": "execute_result"
    }
   ],
   "source": [
    "eval_matrix_binop(2 * np.ones((4, 4)), 2 * np.ones((4, 4)), coordinate_matrix_elementwise_matrix_multiplication)"
   ]
  },
  {
   "cell_type": "code",
   "execution_count": 269,
   "metadata": {
    "collapsed": false
   },
   "outputs": [],
   "source": [
    "sumjtest = coordinate_matrix_sumj(ndarr_to_coord_array(np.ones((3, 4))))"
   ]
  },
  {
   "cell_type": "code",
   "execution_count": 270,
   "metadata": {
    "collapsed": false
   },
   "outputs": [
    {
     "data": {
      "text/plain": [
       "array([[ 4.],\n",
       "       [ 4.],\n",
       "       [ 4.]])"
      ]
     },
     "execution_count": 270,
     "metadata": {},
     "output_type": "execute_result"
    }
   ],
   "source": [
    "coordinate_matrix_to_ndarr(sumjtest)"
   ]
  },
  {
   "cell_type": "code",
   "execution_count": 296,
   "metadata": {
    "collapsed": false
   },
   "outputs": [
    {
     "data": {
      "text/plain": [
       "array([[ 1.,  2.,  3.,  0.],\n",
       "       [ 4.,  0.,  6.,  1.],\n",
       "       [ 0.,  0.,  8.,  2.]])"
      ]
     },
     "execution_count": 296,
     "metadata": {},
     "output_type": "execute_result"
    }
   ],
   "source": [
    "test_array2"
   ]
  },
  {
   "cell_type": "code",
   "execution_count": 300,
   "metadata": {
    "collapsed": false
   },
   "outputs": [
    {
     "data": {
      "text/plain": [
       "(<pyspark.mllib.linalg.distributed.CoordinateMatrix at 0x7fde20ca84d0>,\n",
       " array([[  2.,   4.,   6.,   0.],\n",
       "        [ 12.,   0.,  18.,   3.],\n",
       "        [  0.,   0.,  32.,   8.]]))"
      ]
     },
     "execution_count": 300,
     "metadata": {},
     "output_type": "execute_result"
    }
   ],
   "source": [
    "eval_matrix_binop(test_array2, np.array([[2, 3, 4]]).T, coordinatematrix_multiply_vector_elementwise)"
   ]
  },
  {
   "cell_type": "code",
   "execution_count": 351,
   "metadata": {
    "collapsed": false
   },
   "outputs": [
    {
     "data": {
      "text/plain": [
       "[MatrixEntry(0, 0, 4.0), MatrixEntry(0, 2, 6.0), MatrixEntry(0, 3, 1.0)]"
      ]
     },
     "execution_count": 351,
     "metadata": {},
     "output_type": "execute_result"
    }
   ],
   "source": [
    "coordinate_matrix_row(ndarr_to_coord_array(test_array2), 1).entries.collect()"
   ]
  },
  {
   "cell_type": "code",
   "execution_count": 125,
   "metadata": {
    "collapsed": false
   },
   "outputs": [],
   "source": [
    "test_add()\n",
    "test_multiply()"
   ]
  },
  {
   "cell_type": "code",
   "execution_count": 78,
   "metadata": {
    "collapsed": false,
    "scrolled": true
   },
   "outputs": [
    {
     "data": {
      "text/plain": [
       "array([[  1.5,   3. ,   4.5,   0. ],\n",
       "       [  6. ,   0. ,   9. ,   1.5],\n",
       "       [  0. ,   0. ,  12. ,   3. ]])"
      ]
     },
     "execution_count": 78,
     "metadata": {},
     "output_type": "execute_result"
    }
   ],
   "source": [
    "coordinate_matrix_to_ndarr(coordinateMatrixScalarMult(ndarr_to_coord_array(test_array2), 1.5))"
   ]
  },
  {
   "cell_type": "code",
   "execution_count": 92,
   "metadata": {
    "collapsed": false
   },
   "outputs": [
    {
     "data": {
      "text/plain": [
       "array([[ 0.        ,  0.69314718,  1.09861229,        -inf],\n",
       "       [ 1.38629436,        -inf,  1.79175947,  0.        ],\n",
       "       [       -inf,        -inf,  2.07944154,  0.69314718]])"
      ]
     },
     "execution_count": 92,
     "metadata": {},
     "output_type": "execute_result"
    }
   ],
   "source": [
    "coordinate_matrix_to_ndarr(coordinateMatrixElementwise(ndarr_to_coord_array(test_array2), lambda n: np.log(n)))"
   ]
  },
  {
   "cell_type": "code",
   "execution_count": 93,
   "metadata": {
    "collapsed": false
   },
   "outputs": [
    {
     "data": {
      "text/plain": [
       "array([[ 1.,  2.,  3.,  0.],\n",
       "       [ 4.,  0.,  6.,  1.],\n",
       "       [ 0.,  0.,  8.,  2.]])"
      ]
     },
     "execution_count": 93,
     "metadata": {},
     "output_type": "execute_result"
    }
   ],
   "source": [
    "test_array2"
   ]
  },
  {
   "cell_type": "markdown",
   "metadata": {},
   "source": [
    "SVD implementation"
   ]
  },
  {
   "cell_type": "code",
   "execution_count": 80,
   "metadata": {
    "collapsed": true
   },
   "outputs": [],
   "source": [
    "from random import normalvariate"
   ]
  },
  {
   "cell_type": "code",
   "execution_count": 85,
   "metadata": {
    "collapsed": false
   },
   "outputs": [
    {
     "data": {
      "text/plain": [
       "347112L"
      ]
     },
     "execution_count": 85,
     "metadata": {},
     "output_type": "execute_result"
    }
   ],
   "source": [
    "cmat.numCols()"
   ]
  },
  {
   "cell_type": "code",
   "execution_count": 83,
   "metadata": {
    "collapsed": true
   },
   "outputs": [],
   "source": [
    "from random import normalvariate\n",
    "def random_unit(n):\n",
    "    vec = np.array([normalvariate(0, 1) for _ in range(n)])\n",
    "    return vec / np.linalg.norm(vec)\n",
    "\n",
    "def SVD_1D(A, threshold = 1e-10):\n",
    "    \"\"\"\n",
    "    A : CoordinateMatrix\n",
    "    \"\"\"\n",
    "    n, m = A.numRows(), A.numCols()\n",
    "    x = random_unit(m)\n",
    "    # TODO finish this"
   ]
  },
  {
   "cell_type": "code",
   "execution_count": null,
   "metadata": {
    "collapsed": true
   },
   "outputs": [],
   "source": [
    "import numpy as np\n",
    "from numpy.linalg import norm\n",
    "\n",
    "def svd_1d(A, epsilon=1e-10):\n",
    "    ''' The one-dimensional SVD '''\n",
    "    n, m = A.shape\n",
    "    x = randomUnitVector(m)\n",
    "    lastV = None\n",
    "    currentV = x\n",
    "    B = np.dot(A.T, A)\n",
    " \n",
    "    iterations = 0\n",
    "    while True:\n",
    "        iterations += 1\n",
    "        lastV = currentV\n",
    "        currentV = np.dot(B, lastV)\n",
    "        currentV = currentV / norm(currentV)\n",
    " \n",
    "        if abs(np.dot(currentV, lastV)) > 1 - epsilon:\n",
    "            print(\"converged in {} iterations!\".format(iterations))\n",
    "            return currentV"
   ]
  },
  {
   "cell_type": "code",
   "execution_count": 62,
   "metadata": {
    "collapsed": true
   },
   "outputs": [],
   "source": [
    "m2 = coordinateMatrixAdd(cmat, cmat, -2)"
   ]
  },
  {
   "cell_type": "code",
   "execution_count": 64,
   "metadata": {
    "collapsed": false
   },
   "outputs": [
    {
     "data": {
      "text/plain": [
       "[MatrixEntry(3, 9, -2.0), MatrixEntry(8, 4, -1.0)]"
      ]
     },
     "execution_count": 64,
     "metadata": {},
     "output_type": "execute_result"
    }
   ],
   "source": [
    "m2.entries.take(2)"
   ]
  },
  {
   "cell_type": "code",
   "execution_count": 25,
   "metadata": {
    "collapsed": false
   },
   "outputs": [],
   "source": [
    "matsum = coordinateMatrixAdd(ndarr_to_coord_array(test_array3), ndarr_to_coord_array(test_array3), -2)"
   ]
  },
  {
   "cell_type": "code",
   "execution_count": 29,
   "metadata": {
    "collapsed": false
   },
   "outputs": [],
   "source": [
    "cmat = CoordinateMatrix(bare_occurrences.rdd.map(tuple))"
   ]
  },
  {
   "cell_type": "code",
   "execution_count": 43,
   "metadata": {
    "collapsed": false
   },
   "outputs": [
    {
     "data": {
      "text/plain": [
       "[MatrixEntry(1, 176355, 1.0), MatrixEntry(2, 2547, 1.0)]"
      ]
     },
     "execution_count": 43,
     "metadata": {},
     "output_type": "execute_result"
    }
   ],
   "source": [
    "cmat.entries.take(2)"
   ]
  },
  {
   "cell_type": "code",
   "execution_count": 74,
   "metadata": {
    "collapsed": false,
    "scrolled": false
   },
   "outputs": [
    {
     "data": {
      "text/plain": [
       "595811"
      ]
     },
     "execution_count": 74,
     "metadata": {},
     "output_type": "execute_result"
    }
   ],
   "source": [
    "mul.entries.count()"
   ]
  },
  {
   "cell_type": "code",
   "execution_count": 41,
   "metadata": {
    "collapsed": false
   },
   "outputs": [
    {
     "data": {
      "text/plain": [
       "475392"
      ]
     },
     "execution_count": 41,
     "metadata": {},
     "output_type": "execute_result"
    }
   ],
   "source": [
    "cmat.entries.count()"
   ]
  },
  {
   "cell_type": "code",
   "execution_count": 45,
   "metadata": {
    "collapsed": false
   },
   "outputs": [],
   "source": [
    "cmb = cmat.toBlockMatrix()"
   ]
  },
  {
   "cell_type": "code",
   "execution_count": 47,
   "metadata": {
    "collapsed": false
   },
   "outputs": [],
   "source": [
    "cmi = cmb.toIndexedRowMatrix()"
   ]
  },
  {
   "cell_type": "code",
   "execution_count": 51,
   "metadata": {
    "collapsed": false
   },
   "outputs": [
    {
     "data": {
      "text/plain": [
       "[IndexedRow(3558, (347112,[54015,294324],[1.0,2.0]))]"
      ]
     },
     "execution_count": 51,
     "metadata": {},
     "output_type": "execute_result"
    }
   ],
   "source": [
    "row = cmi.rows.take(1)"
   ]
  },
  {
   "cell_type": "code",
   "execution_count": 144,
   "metadata": {
    "collapsed": false
   },
   "outputs": [
    {
     "data": {
      "text/html": [
       "<div style=\"max-height:1000px;max-width:1500px;overflow:auto;\">\n",
       "<table border=\"1\" class=\"dataframe\">\n",
       "  <thead>\n",
       "    <tr style=\"text-align: right;\">\n",
       "      <th></th>\n",
       "      <th>max(uid)</th>\n",
       "    </tr>\n",
       "  </thead>\n",
       "  <tbody>\n",
       "    <tr>\n",
       "      <th>0</th>\n",
       "      <td> 341578</td>\n",
       "    </tr>\n",
       "  </tbody>\n",
       "</table>\n",
       "<p>1 rows × 1 columns</p>\n",
       "</div>"
      ],
      "text/plain": [
       "   max(uid)\n",
       "0    341578\n",
       "\n",
       "[1 rows x 1 columns]"
      ]
     },
     "execution_count": 144,
     "metadata": {},
     "output_type": "execute_result"
    }
   ],
   "source": [
    "sqlContext.sql(\"\"\"\n",
    "select max(uid)\n",
    "from occurrences\n",
    "\"\"\").toPandas()"
   ]
  },
  {
   "cell_type": "code",
   "execution_count": 57,
   "metadata": {
    "collapsed": true
   },
   "outputs": [
    {
     "data": {
      "text/html": [
       "<div style=\"max-height:1000px;max-width:1500px;overflow:auto;\">\n",
       "<table border=\"1\" class=\"dataframe\">\n",
       "  <thead>\n",
       "    <tr style=\"text-align: right;\">\n",
       "      <th></th>\n",
       "      <th>subreddit</th>\n",
       "      <th>author</th>\n",
       "      <th>tally</th>\n",
       "      <th>uid</th>\n",
       "      <th>rid</th>\n",
       "    </tr>\n",
       "  </thead>\n",
       "  <tbody>\n",
       "    <tr>\n",
       "      <th>0 </th>\n",
       "      <td>            zyramains</td>\n",
       "      <td>         TricolorStar</td>\n",
       "      <td>  1</td>\n",
       "      <td> 176355</td>\n",
       "      <td>  1</td>\n",
       "    </tr>\n",
       "    <tr>\n",
       "      <th>1 </th>\n",
       "      <td>               zylzon</td>\n",
       "      <td>      youknowitsyaboy</td>\n",
       "      <td>  1</td>\n",
       "      <td>   2547</td>\n",
       "      <td>  2</td>\n",
       "    </tr>\n",
       "    <tr>\n",
       "      <th>2 </th>\n",
       "      <td>           zweiteliga</td>\n",
       "      <td>              Saminka</td>\n",
       "      <td>  1</td>\n",
       "      <td> 206115</td>\n",
       "      <td>  3</td>\n",
       "    </tr>\n",
       "    <tr>\n",
       "      <th>3 </th>\n",
       "      <td>               zurich</td>\n",
       "      <td>         maxwellmaxen</td>\n",
       "      <td>  2</td>\n",
       "      <td>  72503</td>\n",
       "      <td>  4</td>\n",
       "    </tr>\n",
       "    <tr>\n",
       "      <th>4 </th>\n",
       "      <td>                  zsh</td>\n",
       "      <td>             __soddit</td>\n",
       "      <td>  1</td>\n",
       "      <td> 159502</td>\n",
       "      <td>  5</td>\n",
       "    </tr>\n",
       "    <tr>\n",
       "      <th>5 </th>\n",
       "      <td>             zootopia</td>\n",
       "      <td>       thawed_caveman</td>\n",
       "      <td>  2</td>\n",
       "      <td>  22475</td>\n",
       "      <td>  6</td>\n",
       "    </tr>\n",
       "    <tr>\n",
       "      <th>6 </th>\n",
       "      <td>             zootopia</td>\n",
       "      <td>          speisekarte</td>\n",
       "      <td> 11</td>\n",
       "      <td>  29937</td>\n",
       "      <td>  6</td>\n",
       "    </tr>\n",
       "    <tr>\n",
       "      <th>7 </th>\n",
       "      <td>             zootopia</td>\n",
       "      <td>         rodrigogirao</td>\n",
       "      <td>  6</td>\n",
       "      <td>  42380</td>\n",
       "      <td>  6</td>\n",
       "    </tr>\n",
       "    <tr>\n",
       "      <th>8 </th>\n",
       "      <td>             zootopia</td>\n",
       "      <td>            phobos136</td>\n",
       "      <td>  4</td>\n",
       "      <td>  53058</td>\n",
       "      <td>  6</td>\n",
       "    </tr>\n",
       "    <tr>\n",
       "      <th>9 </th>\n",
       "      <td>             zootopia</td>\n",
       "      <td>     midnightopheliac</td>\n",
       "      <td>  9</td>\n",
       "      <td>  70104</td>\n",
       "      <td>  6</td>\n",
       "    </tr>\n",
       "    <tr>\n",
       "      <th>10</th>\n",
       "      <td>             zootopia</td>\n",
       "      <td>           mashinjams</td>\n",
       "      <td>  2</td>\n",
       "      <td>  73325</td>\n",
       "      <td>  6</td>\n",
       "    </tr>\n",
       "    <tr>\n",
       "      <th>11</th>\n",
       "      <td>             zootopia</td>\n",
       "      <td>             maks_orp</td>\n",
       "      <td>  1</td>\n",
       "      <td>  74585</td>\n",
       "      <td>  6</td>\n",
       "    </tr>\n",
       "    <tr>\n",
       "      <th>12</th>\n",
       "      <td>             zootopia</td>\n",
       "      <td>           howieeiwoh</td>\n",
       "      <td>  2</td>\n",
       "      <td> 100894</td>\n",
       "      <td>  6</td>\n",
       "    </tr>\n",
       "    <tr>\n",
       "      <th>13</th>\n",
       "      <td>             zootopia</td>\n",
       "      <td>               ggctuk</td>\n",
       "      <td>  1</td>\n",
       "      <td> 108920</td>\n",
       "      <td>  6</td>\n",
       "    </tr>\n",
       "    <tr>\n",
       "      <th>14</th>\n",
       "      <td>             zootopia</td>\n",
       "      <td>            [deleted]</td>\n",
       "      <td> 13</td>\n",
       "      <td> 160457</td>\n",
       "      <td>  6</td>\n",
       "    </tr>\n",
       "    <tr>\n",
       "      <th>15</th>\n",
       "      <td>             zootopia</td>\n",
       "      <td>  ZootopiaNewsNetwork</td>\n",
       "      <td>  6</td>\n",
       "      <td> 160767</td>\n",
       "      <td>  6</td>\n",
       "    </tr>\n",
       "    <tr>\n",
       "      <th>16</th>\n",
       "      <td>             zootopia</td>\n",
       "      <td>            Yert19943</td>\n",
       "      <td> 14</td>\n",
       "      <td> 163631</td>\n",
       "      <td>  6</td>\n",
       "    </tr>\n",
       "    <tr>\n",
       "      <th>17</th>\n",
       "      <td>             zootopia</td>\n",
       "      <td>           WildeHopps</td>\n",
       "      <td>  9</td>\n",
       "      <td> 166926</td>\n",
       "      <td>  6</td>\n",
       "    </tr>\n",
       "    <tr>\n",
       "      <th>18</th>\n",
       "      <td>             zootopia</td>\n",
       "      <td>     Vulpes_V_Sapiens</td>\n",
       "      <td> 57</td>\n",
       "      <td> 169715</td>\n",
       "      <td>  6</td>\n",
       "    </tr>\n",
       "    <tr>\n",
       "      <th>19</th>\n",
       "      <td>             zootopia</td>\n",
       "      <td>     UneventfulWaffle</td>\n",
       "      <td>  4</td>\n",
       "      <td> 173379</td>\n",
       "      <td>  6</td>\n",
       "    </tr>\n",
       "    <tr>\n",
       "      <th>20</th>\n",
       "      <td>             zootopia</td>\n",
       "      <td>       ThatTrashPanda</td>\n",
       "      <td> 14</td>\n",
       "      <td> 185928</td>\n",
       "      <td>  6</td>\n",
       "    </tr>\n",
       "    <tr>\n",
       "      <th>21</th>\n",
       "      <td>             zootopia</td>\n",
       "      <td>        Stalwartheart</td>\n",
       "      <td>  5</td>\n",
       "      <td> 193799</td>\n",
       "      <td>  6</td>\n",
       "    </tr>\n",
       "    <tr>\n",
       "      <th>22</th>\n",
       "      <td>             zootopia</td>\n",
       "      <td>          Rutgerman95</td>\n",
       "      <td>  1</td>\n",
       "      <td> 208286</td>\n",
       "      <td>  6</td>\n",
       "    </tr>\n",
       "    <tr>\n",
       "      <th>23</th>\n",
       "      <td>             zootopia</td>\n",
       "      <td>              Qwerky3</td>\n",
       "      <td>  4</td>\n",
       "      <td> 216356</td>\n",
       "      <td>  6</td>\n",
       "    </tr>\n",
       "    <tr>\n",
       "      <th>24</th>\n",
       "      <td>             zootopia</td>\n",
       "      <td>         Pax_et_Bonum</td>\n",
       "      <td>  5</td>\n",
       "      <td> 223292</td>\n",
       "      <td>  6</td>\n",
       "    </tr>\n",
       "    <tr>\n",
       "      <th>25</th>\n",
       "      <td>             zootopia</td>\n",
       "      <td>       OmegaBartender</td>\n",
       "      <td>  1</td>\n",
       "      <td> 227854</td>\n",
       "      <td>  6</td>\n",
       "    </tr>\n",
       "    <tr>\n",
       "      <th>26</th>\n",
       "      <td>             zootopia</td>\n",
       "      <td>            LotharHex</td>\n",
       "      <td> 10</td>\n",
       "      <td> 249955</td>\n",
       "      <td>  6</td>\n",
       "    </tr>\n",
       "    <tr>\n",
       "      <th>27</th>\n",
       "      <td>             zootopia</td>\n",
       "      <td>          LiquidSpear</td>\n",
       "      <td>  9</td>\n",
       "      <td> 251725</td>\n",
       "      <td>  6</td>\n",
       "    </tr>\n",
       "    <tr>\n",
       "      <th>28</th>\n",
       "      <td>             zootopia</td>\n",
       "      <td>         Lapis_Mirror</td>\n",
       "      <td>  5</td>\n",
       "      <td> 254538</td>\n",
       "      <td>  6</td>\n",
       "    </tr>\n",
       "    <tr>\n",
       "      <th>29</th>\n",
       "      <td>             zootopia</td>\n",
       "      <td>     JacquesTheBird11</td>\n",
       "      <td> 17</td>\n",
       "      <td> 267391</td>\n",
       "      <td>  6</td>\n",
       "    </tr>\n",
       "    <tr>\n",
       "      <th>30</th>\n",
       "      <td>             zootopia</td>\n",
       "      <td>              INCG779</td>\n",
       "      <td>  4</td>\n",
       "      <td> 273570</td>\n",
       "      <td>  6</td>\n",
       "    </tr>\n",
       "    <tr>\n",
       "      <th>31</th>\n",
       "      <td>             zootopia</td>\n",
       "      <td>        HumanKleinJar</td>\n",
       "      <td>  6</td>\n",
       "      <td> 274928</td>\n",
       "      <td>  6</td>\n",
       "    </tr>\n",
       "    <tr>\n",
       "      <th>32</th>\n",
       "      <td>             zootopia</td>\n",
       "      <td>          Gambler_Tut</td>\n",
       "      <td> 25</td>\n",
       "      <td> 285881</td>\n",
       "      <td>  6</td>\n",
       "    </tr>\n",
       "    <tr>\n",
       "      <th>33</th>\n",
       "      <td>             zootopia</td>\n",
       "      <td>               Galgus</td>\n",
       "      <td> 19</td>\n",
       "      <td> 285952</td>\n",
       "      <td>  6</td>\n",
       "    </tr>\n",
       "    <tr>\n",
       "      <th>34</th>\n",
       "      <td>             zootopia</td>\n",
       "      <td>              Frozia_</td>\n",
       "      <td>  3</td>\n",
       "      <td> 287534</td>\n",
       "      <td>  6</td>\n",
       "    </tr>\n",
       "    <tr>\n",
       "      <th>35</th>\n",
       "      <td>             zootopia</td>\n",
       "      <td> EvilStevilTheKenevil</td>\n",
       "      <td>  1</td>\n",
       "      <td> 293754</td>\n",
       "      <td>  6</td>\n",
       "    </tr>\n",
       "    <tr>\n",
       "      <th>36</th>\n",
       "      <td>             zootopia</td>\n",
       "      <td>    DrunkenShitposter</td>\n",
       "      <td>  1</td>\n",
       "      <td> 299010</td>\n",
       "      <td>  6</td>\n",
       "    </tr>\n",
       "    <tr>\n",
       "      <th>37</th>\n",
       "      <td>             zootopia</td>\n",
       "      <td>               DL2828</td>\n",
       "      <td>  5</td>\n",
       "      <td> 308901</td>\n",
       "      <td>  6</td>\n",
       "    </tr>\n",
       "    <tr>\n",
       "      <th>38</th>\n",
       "      <td>             zootopia</td>\n",
       "      <td>      Cleaningcaptain</td>\n",
       "      <td>  3</td>\n",
       "      <td> 314387</td>\n",
       "      <td>  6</td>\n",
       "    </tr>\n",
       "    <tr>\n",
       "      <th>39</th>\n",
       "      <td>             zootopia</td>\n",
       "      <td>      Chandeliercrown</td>\n",
       "      <td>  5</td>\n",
       "      <td> 317076</td>\n",
       "      <td>  6</td>\n",
       "    </tr>\n",
       "    <tr>\n",
       "      <th>40</th>\n",
       "      <td>             zootopia</td>\n",
       "      <td>           CatsShadow</td>\n",
       "      <td>  8</td>\n",
       "      <td> 317759</td>\n",
       "      <td>  6</td>\n",
       "    </tr>\n",
       "    <tr>\n",
       "      <th>41</th>\n",
       "      <td>             zootopia</td>\n",
       "      <td>     BunnyMakingAMark</td>\n",
       "      <td>  2</td>\n",
       "      <td> 321433</td>\n",
       "      <td>  6</td>\n",
       "    </tr>\n",
       "    <tr>\n",
       "      <th>42</th>\n",
       "      <td>             zootopia</td>\n",
       "      <td>      A_Stinking_Hobo</td>\n",
       "      <td>  1</td>\n",
       "      <td> 340935</td>\n",
       "      <td>  6</td>\n",
       "    </tr>\n",
       "    <tr>\n",
       "      <th>43</th>\n",
       "      <td>            zoophilia</td>\n",
       "      <td>       the_egoldstein</td>\n",
       "      <td>  4</td>\n",
       "      <td>  22058</td>\n",
       "      <td>  7</td>\n",
       "    </tr>\n",
       "    <tr>\n",
       "      <th>44</th>\n",
       "      <td>            zoophilia</td>\n",
       "      <td>         electricfoxx</td>\n",
       "      <td>  4</td>\n",
       "      <td> 118713</td>\n",
       "      <td>  7</td>\n",
       "    </tr>\n",
       "    <tr>\n",
       "      <th>45</th>\n",
       "      <td>            zoophilia</td>\n",
       "      <td>             ckgjkjj6</td>\n",
       "      <td>  3</td>\n",
       "      <td> 134005</td>\n",
       "      <td>  7</td>\n",
       "    </tr>\n",
       "    <tr>\n",
       "      <th>46</th>\n",
       "      <td>            zoophilia</td>\n",
       "      <td>             caikgoch</td>\n",
       "      <td>  5</td>\n",
       "      <td> 138922</td>\n",
       "      <td>  7</td>\n",
       "    </tr>\n",
       "    <tr>\n",
       "      <th>47</th>\n",
       "      <td>            zoophilia</td>\n",
       "      <td>            [deleted]</td>\n",
       "      <td>  2</td>\n",
       "      <td> 160457</td>\n",
       "      <td>  7</td>\n",
       "    </tr>\n",
       "    <tr>\n",
       "      <th>48</th>\n",
       "      <td>            zoophilia</td>\n",
       "      <td>        AutoModerator</td>\n",
       "      <td>  1</td>\n",
       "      <td> 332256</td>\n",
       "      <td>  7</td>\n",
       "    </tr>\n",
       "    <tr>\n",
       "      <th>49</th>\n",
       "      <td>            zoophilia</td>\n",
       "      <td>          AmoreBestia</td>\n",
       "      <td> 12</td>\n",
       "      <td> 336724</td>\n",
       "      <td>  7</td>\n",
       "    </tr>\n",
       "    <tr>\n",
       "      <th>50</th>\n",
       "      <td>            zoophilia</td>\n",
       "      <td>                30-30</td>\n",
       "      <td>  1</td>\n",
       "      <td> 344251</td>\n",
       "      <td>  7</td>\n",
       "    </tr>\n",
       "    <tr>\n",
       "      <th>51</th>\n",
       "      <td> zooolanderconspiracy</td>\n",
       "      <td>          zjwflippers</td>\n",
       "      <td>  6</td>\n",
       "      <td>    680</td>\n",
       "      <td>  8</td>\n",
       "    </tr>\n",
       "    <tr>\n",
       "      <th>52</th>\n",
       "      <td> zooolanderconspiracy</td>\n",
       "      <td>          daunbugless</td>\n",
       "      <td>  3</td>\n",
       "      <td> 127323</td>\n",
       "      <td>  8</td>\n",
       "    </tr>\n",
       "    <tr>\n",
       "      <th>53</th>\n",
       "      <td>              zombies</td>\n",
       "      <td>           xmadison84</td>\n",
       "      <td>  3</td>\n",
       "      <td>   4184</td>\n",
       "      <td>  9</td>\n",
       "    </tr>\n",
       "    <tr>\n",
       "      <th>54</th>\n",
       "      <td>              zombies</td>\n",
       "      <td>            [deleted]</td>\n",
       "      <td>  1</td>\n",
       "      <td> 160457</td>\n",
       "      <td>  9</td>\n",
       "    </tr>\n",
       "    <tr>\n",
       "      <th>55</th>\n",
       "      <td>            zombicide</td>\n",
       "      <td>            Stormcast</td>\n",
       "      <td>  3</td>\n",
       "      <td> 192430</td>\n",
       "      <td> 10</td>\n",
       "    </tr>\n",
       "    <tr>\n",
       "      <th>56</th>\n",
       "      <td>          zoieburgher</td>\n",
       "      <td>             jdardick</td>\n",
       "      <td>  1</td>\n",
       "      <td>  92373</td>\n",
       "      <td> 11</td>\n",
       "    </tr>\n",
       "    <tr>\n",
       "      <th>57</th>\n",
       "      <td>          zoieburgher</td>\n",
       "      <td>          OrganaChard</td>\n",
       "      <td>  3</td>\n",
       "      <td> 226841</td>\n",
       "      <td> 11</td>\n",
       "    </tr>\n",
       "    <tr>\n",
       "      <th>58</th>\n",
       "      <td>          zoieburgher</td>\n",
       "      <td>        MUFCLEGEND123</td>\n",
       "      <td>  1</td>\n",
       "      <td> 247782</td>\n",
       "      <td> 11</td>\n",
       "    </tr>\n",
       "    <tr>\n",
       "      <th>59</th>\n",
       "      <td>                zizek</td>\n",
       "      <td>         tetsugakusei</td>\n",
       "      <td>  3</td>\n",
       "      <td>  23045</td>\n",
       "      <td> 12</td>\n",
       "    </tr>\n",
       "    <tr>\n",
       "      <th></th>\n",
       "      <td>...</td>\n",
       "      <td>...</td>\n",
       "      <td>...</td>\n",
       "      <td>...</td>\n",
       "      <td>...</td>\n",
       "    </tr>\n",
       "  </tbody>\n",
       "</table>\n",
       "<p>475392 rows × 5 columns</p>\n",
       "</div>"
      ],
      "text/plain": [
       "               subreddit                author  tally     uid  rid\n",
       "0              zyramains          TricolorStar      1  176355    1\n",
       "1                 zylzon       youknowitsyaboy      1    2547    2\n",
       "2             zweiteliga               Saminka      1  206115    3\n",
       "3                 zurich          maxwellmaxen      2   72503    4\n",
       "4                    zsh              __soddit      1  159502    5\n",
       "5               zootopia        thawed_caveman      2   22475    6\n",
       "6               zootopia           speisekarte     11   29937    6\n",
       "7               zootopia          rodrigogirao      6   42380    6\n",
       "8               zootopia             phobos136      4   53058    6\n",
       "9               zootopia      midnightopheliac      9   70104    6\n",
       "10              zootopia            mashinjams      2   73325    6\n",
       "11              zootopia              maks_orp      1   74585    6\n",
       "12              zootopia            howieeiwoh      2  100894    6\n",
       "13              zootopia                ggctuk      1  108920    6\n",
       "14              zootopia             [deleted]     13  160457    6\n",
       "15              zootopia   ZootopiaNewsNetwork      6  160767    6\n",
       "16              zootopia             Yert19943     14  163631    6\n",
       "17              zootopia            WildeHopps      9  166926    6\n",
       "18              zootopia      Vulpes_V_Sapiens     57  169715    6\n",
       "19              zootopia      UneventfulWaffle      4  173379    6\n",
       "20              zootopia        ThatTrashPanda     14  185928    6\n",
       "21              zootopia         Stalwartheart      5  193799    6\n",
       "22              zootopia           Rutgerman95      1  208286    6\n",
       "23              zootopia               Qwerky3      4  216356    6\n",
       "24              zootopia          Pax_et_Bonum      5  223292    6\n",
       "25              zootopia        OmegaBartender      1  227854    6\n",
       "26              zootopia             LotharHex     10  249955    6\n",
       "27              zootopia           LiquidSpear      9  251725    6\n",
       "28              zootopia          Lapis_Mirror      5  254538    6\n",
       "29              zootopia      JacquesTheBird11     17  267391    6\n",
       "30              zootopia               INCG779      4  273570    6\n",
       "31              zootopia         HumanKleinJar      6  274928    6\n",
       "32              zootopia           Gambler_Tut     25  285881    6\n",
       "33              zootopia                Galgus     19  285952    6\n",
       "34              zootopia               Frozia_      3  287534    6\n",
       "35              zootopia  EvilStevilTheKenevil      1  293754    6\n",
       "36              zootopia     DrunkenShitposter      1  299010    6\n",
       "37              zootopia                DL2828      5  308901    6\n",
       "38              zootopia       Cleaningcaptain      3  314387    6\n",
       "39              zootopia       Chandeliercrown      5  317076    6\n",
       "40              zootopia            CatsShadow      8  317759    6\n",
       "41              zootopia      BunnyMakingAMark      2  321433    6\n",
       "42              zootopia       A_Stinking_Hobo      1  340935    6\n",
       "43             zoophilia        the_egoldstein      4   22058    7\n",
       "44             zoophilia          electricfoxx      4  118713    7\n",
       "45             zoophilia              ckgjkjj6      3  134005    7\n",
       "46             zoophilia              caikgoch      5  138922    7\n",
       "47             zoophilia             [deleted]      2  160457    7\n",
       "48             zoophilia         AutoModerator      1  332256    7\n",
       "49             zoophilia           AmoreBestia     12  336724    7\n",
       "50             zoophilia                 30-30      1  344251    7\n",
       "51  zooolanderconspiracy           zjwflippers      6     680    8\n",
       "52  zooolanderconspiracy           daunbugless      3  127323    8\n",
       "53               zombies            xmadison84      3    4184    9\n",
       "54               zombies             [deleted]      1  160457    9\n",
       "55             zombicide             Stormcast      3  192430   10\n",
       "56           zoieburgher              jdardick      1   92373   11\n",
       "57           zoieburgher           OrganaChard      3  226841   11\n",
       "58           zoieburgher         MUFCLEGEND123      1  247782   11\n",
       "59                 zizek          tetsugakusei      3   23045   12\n",
       "                     ...                   ...    ...     ...  ...\n",
       "\n",
       "[475392 rows x 5 columns]"
      ]
     },
     "execution_count": 57,
     "metadata": {},
     "output_type": "execute_result"
    }
   ],
   "source": [
    "occurrences.toPandas()"
   ]
  },
  {
   "cell_type": "code",
   "execution_count": 89,
   "metadata": {
    "collapsed": false
   },
   "outputs": [
    {
     "data": {
      "text/plain": [
       "17085L"
      ]
     },
     "execution_count": 89,
     "metadata": {},
     "output_type": "execute_result"
    }
   ],
   "source": [
    "# TODO: why doesn't this match rid?\n",
    "cmat.numRows()"
   ]
  },
  {
   "cell_type": "code",
   "execution_count": 71,
   "metadata": {
    "collapsed": true
   },
   "outputs": [],
   "source": [
    "import numpy as np"
   ]
  },
  {
   "cell_type": "code",
   "execution_count": 74,
   "metadata": {
    "collapsed": false,
    "scrolled": true
   },
   "outputs": [
    {
     "data": {
      "text/plain": [
       "-632"
      ]
     },
     "execution_count": 74,
     "metadata": {},
     "output_type": "execute_result"
    }
   ],
   "source": [
    "np.array(df['tally']).min()"
   ]
  },
  {
   "cell_type": "code",
   "execution_count": 69,
   "metadata": {
    "collapsed": true
   },
   "outputs": [
    {
     "data": {
      "text/html": [
       "<div style=\"max-height:1000px;max-width:1500px;overflow:auto;\">\n",
       "<table border=\"1\" class=\"dataframe\">\n",
       "  <thead>\n",
       "    <tr style=\"text-align: right;\">\n",
       "      <th></th>\n",
       "      <th>author</th>\n",
       "      <th>subreddit</th>\n",
       "      <th>sum(score)</th>\n",
       "    </tr>\n",
       "  </thead>\n",
       "  <tbody>\n",
       "    <tr>\n",
       "      <th>0 </th>\n",
       "      <td>        FormulaXDGame</td>\n",
       "      <td>              formula1</td>\n",
       "      <td>  31</td>\n",
       "    </tr>\n",
       "    <tr>\n",
       "      <th>1 </th>\n",
       "      <td>          HelluvaDeke</td>\n",
       "      <td>                gaming</td>\n",
       "      <td>   2</td>\n",
       "    </tr>\n",
       "    <tr>\n",
       "      <th>2 </th>\n",
       "      <td>         WhoKnowsWho2</td>\n",
       "      <td>               xboxone</td>\n",
       "      <td>  70</td>\n",
       "    </tr>\n",
       "    <tr>\n",
       "      <th>3 </th>\n",
       "      <td>          listentohim</td>\n",
       "      <td>       DBZDokkanBattle</td>\n",
       "      <td>   1</td>\n",
       "    </tr>\n",
       "    <tr>\n",
       "      <th>4 </th>\n",
       "      <td>             sevenzig</td>\n",
       "      <td>              AskOuija</td>\n",
       "      <td>  10</td>\n",
       "    </tr>\n",
       "    <tr>\n",
       "      <th>5 </th>\n",
       "      <td>            LumpyPick</td>\n",
       "      <td>       leagueoflegends</td>\n",
       "      <td>   4</td>\n",
       "    </tr>\n",
       "    <tr>\n",
       "      <th>6 </th>\n",
       "      <td>      volvostupidshit</td>\n",
       "      <td>           Philippines</td>\n",
       "      <td>   6</td>\n",
       "    </tr>\n",
       "    <tr>\n",
       "      <th>7 </th>\n",
       "      <td>      i_fuck_goats777</td>\n",
       "      <td>             AskReddit</td>\n",
       "      <td>   2</td>\n",
       "    </tr>\n",
       "    <tr>\n",
       "      <th>8 </th>\n",
       "      <td>      Ineeditunesalot</td>\n",
       "      <td>         battlefield_4</td>\n",
       "      <td>  11</td>\n",
       "    </tr>\n",
       "    <tr>\n",
       "      <th>9 </th>\n",
       "      <td>      martianlawrence</td>\n",
       "      <td>                movies</td>\n",
       "      <td>  11</td>\n",
       "    </tr>\n",
       "    <tr>\n",
       "      <th>10</th>\n",
       "      <td>      Capt_Tommy_Bags</td>\n",
       "      <td>           nottheonion</td>\n",
       "      <td>   1</td>\n",
       "    </tr>\n",
       "    <tr>\n",
       "      <th>11</th>\n",
       "      <td>         KnightVision</td>\n",
       "      <td>                loseit</td>\n",
       "      <td>   2</td>\n",
       "    </tr>\n",
       "    <tr>\n",
       "      <th>12</th>\n",
       "      <td>               l4stfr</td>\n",
       "      <td>       gaymersgonewild</td>\n",
       "      <td>   1</td>\n",
       "    </tr>\n",
       "    <tr>\n",
       "      <th>13</th>\n",
       "      <td>            [deleted]</td>\n",
       "      <td>                leaves</td>\n",
       "      <td>  27</td>\n",
       "    </tr>\n",
       "    <tr>\n",
       "      <th>14</th>\n",
       "      <td>           Hansolo510</td>\n",
       "      <td>          IndoorGarden</td>\n",
       "      <td>   1</td>\n",
       "    </tr>\n",
       "    <tr>\n",
       "      <th>15</th>\n",
       "      <td>        FlightlessFly</td>\n",
       "      <td>              CasualUK</td>\n",
       "      <td>   8</td>\n",
       "    </tr>\n",
       "    <tr>\n",
       "      <th>16</th>\n",
       "      <td>            [deleted]</td>\n",
       "      <td>                   CFB</td>\n",
       "      <td>  72</td>\n",
       "    </tr>\n",
       "    <tr>\n",
       "      <th>17</th>\n",
       "      <td>  toolongdidntreadlol</td>\n",
       "      <td>          albiononline</td>\n",
       "      <td>  11</td>\n",
       "    </tr>\n",
       "    <tr>\n",
       "      <th>18</th>\n",
       "      <td>       notlaurensorry</td>\n",
       "      <td>         AdviceAnimals</td>\n",
       "      <td>  30</td>\n",
       "    </tr>\n",
       "    <tr>\n",
       "      <th>19</th>\n",
       "      <td>            [deleted]</td>\n",
       "      <td>           thebachelor</td>\n",
       "      <td> 544</td>\n",
       "    </tr>\n",
       "    <tr>\n",
       "      <th>20</th>\n",
       "      <td>  PAPERCUT_MY_URETHRA</td>\n",
       "      <td>            BigBrother</td>\n",
       "      <td>  14</td>\n",
       "    </tr>\n",
       "    <tr>\n",
       "      <th>21</th>\n",
       "      <td>               8bitid</td>\n",
       "      <td>                  news</td>\n",
       "      <td>   2</td>\n",
       "    </tr>\n",
       "    <tr>\n",
       "      <th>22</th>\n",
       "      <td>     WillGriggsOnFire</td>\n",
       "      <td>                soccer</td>\n",
       "      <td>   5</td>\n",
       "    </tr>\n",
       "    <tr>\n",
       "      <th>23</th>\n",
       "      <td>        notyet_aTwunk</td>\n",
       "      <td>            askgaybros</td>\n",
       "      <td>  33</td>\n",
       "    </tr>\n",
       "    <tr>\n",
       "      <th>24</th>\n",
       "      <td>        LithiumEnergy</td>\n",
       "      <td>     EverythingScience</td>\n",
       "      <td>   0</td>\n",
       "    </tr>\n",
       "    <tr>\n",
       "      <th>25</th>\n",
       "      <td>        GeorgFestrunk</td>\n",
       "      <td>          TheSilphRoad</td>\n",
       "      <td>  16</td>\n",
       "    </tr>\n",
       "    <tr>\n",
       "      <th>26</th>\n",
       "      <td>            Lichewitz</td>\n",
       "      <td>              ihavesex</td>\n",
       "      <td>   3</td>\n",
       "    </tr>\n",
       "    <tr>\n",
       "      <th>27</th>\n",
       "      <td>              sal9002</td>\n",
       "      <td>       whatisthisthing</td>\n",
       "      <td>  40</td>\n",
       "    </tr>\n",
       "    <tr>\n",
       "      <th>28</th>\n",
       "      <td>           shutupjoey</td>\n",
       "      <td>         gameofthrones</td>\n",
       "      <td>   2</td>\n",
       "    </tr>\n",
       "    <tr>\n",
       "      <th>29</th>\n",
       "      <td>             RMaximus</td>\n",
       "      <td>               Gunners</td>\n",
       "      <td>   1</td>\n",
       "    </tr>\n",
       "    <tr>\n",
       "      <th>30</th>\n",
       "      <td>     illuminaughtiess</td>\n",
       "      <td>                loseit</td>\n",
       "      <td>  14</td>\n",
       "    </tr>\n",
       "    <tr>\n",
       "      <th>31</th>\n",
       "      <td>             BetaKush</td>\n",
       "      <td>                  pics</td>\n",
       "      <td>   1</td>\n",
       "    </tr>\n",
       "    <tr>\n",
       "      <th>32</th>\n",
       "      <td>            phernoree</td>\n",
       "      <td>                   nba</td>\n",
       "      <td>   9</td>\n",
       "    </tr>\n",
       "    <tr>\n",
       "      <th>33</th>\n",
       "      <td>    uhhhhhhhhhhhhhidk</td>\n",
       "      <td>                fakeid</td>\n",
       "      <td>   2</td>\n",
       "    </tr>\n",
       "    <tr>\n",
       "      <th>34</th>\n",
       "      <td>    justalittlebird88</td>\n",
       "      <td>         relationships</td>\n",
       "      <td>   2</td>\n",
       "    </tr>\n",
       "    <tr>\n",
       "      <th>35</th>\n",
       "      <td> YodaGandalfDumbled0r</td>\n",
       "      <td> Chinese_Bootleg_Memes</td>\n",
       "      <td>   8</td>\n",
       "    </tr>\n",
       "    <tr>\n",
       "      <th>36</th>\n",
       "      <td>         Digital_loop</td>\n",
       "      <td>                gaming</td>\n",
       "      <td>  12</td>\n",
       "    </tr>\n",
       "    <tr>\n",
       "      <th>37</th>\n",
       "      <td>   iamtheultimateshoe</td>\n",
       "      <td>             AntiJokes</td>\n",
       "      <td>   1</td>\n",
       "    </tr>\n",
       "    <tr>\n",
       "      <th>38</th>\n",
       "      <td>          andrewcooke</td>\n",
       "      <td>            cyclocross</td>\n",
       "      <td>   5</td>\n",
       "    </tr>\n",
       "    <tr>\n",
       "      <th>39</th>\n",
       "      <td>             wratther</td>\n",
       "      <td>              Electrum</td>\n",
       "      <td>   2</td>\n",
       "    </tr>\n",
       "    <tr>\n",
       "      <th>40</th>\n",
       "      <td>           qldmaroon7</td>\n",
       "      <td>         SquaredCircle</td>\n",
       "      <td>  54</td>\n",
       "    </tr>\n",
       "    <tr>\n",
       "      <th>41</th>\n",
       "      <td>         PieceDigital</td>\n",
       "      <td>         StreetFighter</td>\n",
       "      <td>   4</td>\n",
       "    </tr>\n",
       "    <tr>\n",
       "      <th>42</th>\n",
       "      <td>             pwnsauce</td>\n",
       "      <td>             SeattleWA</td>\n",
       "      <td>  12</td>\n",
       "    </tr>\n",
       "    <tr>\n",
       "      <th>43</th>\n",
       "      <td>               Kim147</td>\n",
       "      <td>       climateskeptics</td>\n",
       "      <td>  14</td>\n",
       "    </tr>\n",
       "    <tr>\n",
       "      <th>44</th>\n",
       "      <td>             Cadinsor</td>\n",
       "      <td>            Wetshaving</td>\n",
       "      <td>   3</td>\n",
       "    </tr>\n",
       "    <tr>\n",
       "      <th>45</th>\n",
       "      <td>         MINIMAN10001</td>\n",
       "      <td>                MMORPG</td>\n",
       "      <td>   4</td>\n",
       "    </tr>\n",
       "    <tr>\n",
       "      <th>46</th>\n",
       "      <td>             GameVoid</td>\n",
       "      <td>              Teachers</td>\n",
       "      <td>   1</td>\n",
       "    </tr>\n",
       "    <tr>\n",
       "      <th>47</th>\n",
       "      <td>           sir_writer</td>\n",
       "      <td>             AskReddit</td>\n",
       "      <td>   8</td>\n",
       "    </tr>\n",
       "    <tr>\n",
       "      <th>48</th>\n",
       "      <td>    sugar_free_haribo</td>\n",
       "      <td>            The_Donald</td>\n",
       "      <td>   1</td>\n",
       "    </tr>\n",
       "    <tr>\n",
       "      <th>49</th>\n",
       "      <td>              jfchops</td>\n",
       "      <td>           hometheater</td>\n",
       "      <td>   4</td>\n",
       "    </tr>\n",
       "    <tr>\n",
       "      <th>50</th>\n",
       "      <td>     Pappy_StrideRite</td>\n",
       "      <td>       DarkBitsNPieces</td>\n",
       "      <td>   2</td>\n",
       "    </tr>\n",
       "    <tr>\n",
       "      <th>51</th>\n",
       "      <td>             Djinnobi</td>\n",
       "      <td>    BlackPeopleTwitter</td>\n",
       "      <td>   8</td>\n",
       "    </tr>\n",
       "    <tr>\n",
       "      <th>52</th>\n",
       "      <td>             dpeeeezy</td>\n",
       "      <td>                  FIFA</td>\n",
       "      <td>  -3</td>\n",
       "    </tr>\n",
       "    <tr>\n",
       "      <th>53</th>\n",
       "      <td>       schoolairplane</td>\n",
       "      <td>         SquaredCircle</td>\n",
       "      <td>  32</td>\n",
       "    </tr>\n",
       "    <tr>\n",
       "      <th>54</th>\n",
       "      <td>           SilverMars</td>\n",
       "      <td>         IgnorantImgur</td>\n",
       "      <td>  21</td>\n",
       "    </tr>\n",
       "    <tr>\n",
       "      <th>55</th>\n",
       "      <td>            fivejazz5</td>\n",
       "      <td>                   DIY</td>\n",
       "      <td>   3</td>\n",
       "    </tr>\n",
       "    <tr>\n",
       "      <th>56</th>\n",
       "      <td>    RetainedByLucifer</td>\n",
       "      <td>            The_Donald</td>\n",
       "      <td>   9</td>\n",
       "    </tr>\n",
       "    <tr>\n",
       "      <th>57</th>\n",
       "      <td>              SikeRed</td>\n",
       "      <td>    EatCheapAndHealthy</td>\n",
       "      <td>   4</td>\n",
       "    </tr>\n",
       "    <tr>\n",
       "      <th>58</th>\n",
       "      <td>       EdosianGeneral</td>\n",
       "      <td>                TrekRP</td>\n",
       "      <td>   2</td>\n",
       "    </tr>\n",
       "    <tr>\n",
       "      <th>59</th>\n",
       "      <td>              beardko</td>\n",
       "      <td>             OWConsole</td>\n",
       "      <td>   4</td>\n",
       "    </tr>\n",
       "    <tr>\n",
       "      <th></th>\n",
       "      <td>...</td>\n",
       "      <td>...</td>\n",
       "      <td>...</td>\n",
       "    </tr>\n",
       "  </tbody>\n",
       "</table>\n",
       "<p>475392 rows × 3 columns</p>\n",
       "</div>"
      ],
      "text/plain": [
       "                  author              subreddit  sum(score)\n",
       "0          FormulaXDGame               formula1          31\n",
       "1            HelluvaDeke                 gaming           2\n",
       "2           WhoKnowsWho2                xboxone          70\n",
       "3            listentohim        DBZDokkanBattle           1\n",
       "4               sevenzig               AskOuija          10\n",
       "5              LumpyPick        leagueoflegends           4\n",
       "6        volvostupidshit            Philippines           6\n",
       "7        i_fuck_goats777              AskReddit           2\n",
       "8        Ineeditunesalot          battlefield_4          11\n",
       "9        martianlawrence                 movies          11\n",
       "10       Capt_Tommy_Bags            nottheonion           1\n",
       "11          KnightVision                 loseit           2\n",
       "12                l4stfr        gaymersgonewild           1\n",
       "13             [deleted]                 leaves          27\n",
       "14            Hansolo510           IndoorGarden           1\n",
       "15         FlightlessFly               CasualUK           8\n",
       "16             [deleted]                    CFB          72\n",
       "17   toolongdidntreadlol           albiononline          11\n",
       "18        notlaurensorry          AdviceAnimals          30\n",
       "19             [deleted]            thebachelor         544\n",
       "20   PAPERCUT_MY_URETHRA             BigBrother          14\n",
       "21                8bitid                   news           2\n",
       "22      WillGriggsOnFire                 soccer           5\n",
       "23         notyet_aTwunk             askgaybros          33\n",
       "24         LithiumEnergy      EverythingScience           0\n",
       "25         GeorgFestrunk           TheSilphRoad          16\n",
       "26             Lichewitz               ihavesex           3\n",
       "27               sal9002        whatisthisthing          40\n",
       "28            shutupjoey          gameofthrones           2\n",
       "29              RMaximus                Gunners           1\n",
       "30      illuminaughtiess                 loseit          14\n",
       "31              BetaKush                   pics           1\n",
       "32             phernoree                    nba           9\n",
       "33     uhhhhhhhhhhhhhidk                 fakeid           2\n",
       "34     justalittlebird88          relationships           2\n",
       "35  YodaGandalfDumbled0r  Chinese_Bootleg_Memes           8\n",
       "36          Digital_loop                 gaming          12\n",
       "37    iamtheultimateshoe              AntiJokes           1\n",
       "38           andrewcooke             cyclocross           5\n",
       "39              wratther               Electrum           2\n",
       "40            qldmaroon7          SquaredCircle          54\n",
       "41          PieceDigital          StreetFighter           4\n",
       "42              pwnsauce              SeattleWA          12\n",
       "43                Kim147        climateskeptics          14\n",
       "44              Cadinsor             Wetshaving           3\n",
       "45          MINIMAN10001                 MMORPG           4\n",
       "46              GameVoid               Teachers           1\n",
       "47            sir_writer              AskReddit           8\n",
       "48     sugar_free_haribo             The_Donald           1\n",
       "49               jfchops            hometheater           4\n",
       "50      Pappy_StrideRite        DarkBitsNPieces           2\n",
       "51              Djinnobi     BlackPeopleTwitter           8\n",
       "52              dpeeeezy                   FIFA          -3\n",
       "53        schoolairplane          SquaredCircle          32\n",
       "54            SilverMars          IgnorantImgur          21\n",
       "55             fivejazz5                    DIY           3\n",
       "56     RetainedByLucifer             The_Donald           9\n",
       "57               SikeRed     EatCheapAndHealthy           4\n",
       "58        EdosianGeneral                 TrekRP           2\n",
       "59               beardko              OWConsole           4\n",
       "                     ...                    ...         ...\n",
       "\n",
       "[475392 rows x 3 columns]"
      ]
     },
     "execution_count": 69,
     "metadata": {},
     "output_type": "execute_result"
    }
   ],
   "source": [
    "sqlContext.sql(\"\"\"\n",
    "select author, subreddit, sum (score)\n",
    "from test\n",
    "group by author, subreddit\n",
    "\"\"\").toPandas()"
   ]
  },
  {
   "cell_type": "code",
   "execution_count": 78,
   "metadata": {
    "collapsed": true
   },
   "outputs": [
    {
     "data": {
      "text/html": [
       "<div style=\"max-height:1000px;max-width:1500px;overflow:auto;\">\n",
       "<table border=\"1\" class=\"dataframe\">\n",
       "  <thead>\n",
       "    <tr style=\"text-align: right;\">\n",
       "      <th></th>\n",
       "      <th>author</th>\n",
       "      <th>author_cakeday</th>\n",
       "      <th>author_flair_css_class</th>\n",
       "      <th>author_flair_text</th>\n",
       "      <th>body</th>\n",
       "      <th>can_gild</th>\n",
       "      <th>collapsed</th>\n",
       "      <th>collapsed_reason</th>\n",
       "      <th>controversiality</th>\n",
       "      <th>created_utc</th>\n",
       "      <th>distinguished</th>\n",
       "      <th>edited</th>\n",
       "      <th>gilded</th>\n",
       "      <th>id</th>\n",
       "      <th>is_submitter</th>\n",
       "      <th>link_id</th>\n",
       "      <th>parent_id</th>\n",
       "      <th>retrieved_on</th>\n",
       "      <th>score</th>\n",
       "      <th>stickied</th>\n",
       "      <th></th>\n",
       "    </tr>\n",
       "  </thead>\n",
       "  <tbody>\n",
       "    <tr>\n",
       "      <th>0 </th>\n",
       "      <td>       stunt_penguin</td>\n",
       "      <td> None</td>\n",
       "      <td>           None</td>\n",
       "      <td>                     None</td>\n",
       "      <td>                Wheelchairs make amazing dollys :D</td>\n",
       "      <td> True</td>\n",
       "      <td> False</td>\n",
       "      <td> None</td>\n",
       "      <td> 0</td>\n",
       "      <td> 1501545600</td>\n",
       "      <td> None</td>\n",
       "      <td>      false</td>\n",
       "      <td> 0</td>\n",
       "      <td> dkznc8h</td>\n",
       "      <td> False</td>\n",
       "      <td> t3_6qp8sw</td>\n",
       "      <td> t1_dkzbnn3</td>\n",
       "      <td> 1503654247</td>\n",
       "      <td>  1</td>\n",
       "      <td> False</td>\n",
       "      <td>...</td>\n",
       "    </tr>\n",
       "    <tr>\n",
       "      <th>1 </th>\n",
       "      <td>           [deleted]</td>\n",
       "      <td> None</td>\n",
       "      <td>           None</td>\n",
       "      <td>                     None</td>\n",
       "      <td>                                         [removed]</td>\n",
       "      <td> True</td>\n",
       "      <td> False</td>\n",
       "      <td> None</td>\n",
       "      <td> 0</td>\n",
       "      <td> 1501545600</td>\n",
       "      <td> None</td>\n",
       "      <td>      false</td>\n",
       "      <td> 0</td>\n",
       "      <td> dkznc8i</td>\n",
       "      <td> False</td>\n",
       "      <td> t3_6qse6i</td>\n",
       "      <td> t1_dkzmgc3</td>\n",
       "      <td> 1503654247</td>\n",
       "      <td>  2</td>\n",
       "      <td> False</td>\n",
       "      <td>...</td>\n",
       "    </tr>\n",
       "    <tr>\n",
       "      <th>2 </th>\n",
       "      <td>               69ing</td>\n",
       "      <td> None</td>\n",
       "      <td>           None</td>\n",
       "      <td>                     None</td>\n",
       "      <td>        I used to watch the shit out of these guys</td>\n",
       "      <td> True</td>\n",
       "      <td> False</td>\n",
       "      <td> None</td>\n",
       "      <td> 0</td>\n",
       "      <td> 1501545600</td>\n",
       "      <td> None</td>\n",
       "      <td>      false</td>\n",
       "      <td> 0</td>\n",
       "      <td> dkznc8j</td>\n",
       "      <td> False</td>\n",
       "      <td> t3_6qs8i1</td>\n",
       "      <td>  t3_6qs8i1</td>\n",
       "      <td> 1503654247</td>\n",
       "      <td>  5</td>\n",
       "      <td> False</td>\n",
       "      <td>...</td>\n",
       "    </tr>\n",
       "    <tr>\n",
       "      <th>3 </th>\n",
       "      <td>      ArchadianJudge</td>\n",
       "      <td> None</td>\n",
       "      <td> Archadianflair</td>\n",
       "      <td>                     None</td>\n",
       "      <td> http://www.pixiv.net/member_illust.php?mode=me...</td>\n",
       "      <td> True</td>\n",
       "      <td> False</td>\n",
       "      <td> None</td>\n",
       "      <td> 0</td>\n",
       "      <td> 1501545600</td>\n",
       "      <td> None</td>\n",
       "      <td>      false</td>\n",
       "      <td> 0</td>\n",
       "      <td> dkznc8k</td>\n",
       "      <td>  True</td>\n",
       "      <td> t3_6qsicx</td>\n",
       "      <td>  t3_6qsicx</td>\n",
       "      <td> 1503654247</td>\n",
       "      <td>  2</td>\n",
       "      <td> False</td>\n",
       "      <td>...</td>\n",
       "    </tr>\n",
       "    <tr>\n",
       "      <th>4 </th>\n",
       "      <td>            sglville</td>\n",
       "      <td> None</td>\n",
       "      <td>           None</td>\n",
       "      <td>                     None</td>\n",
       "      <td> On the other yand you could say it's capitalis...</td>\n",
       "      <td> True</td>\n",
       "      <td> False</td>\n",
       "      <td> None</td>\n",
       "      <td> 0</td>\n",
       "      <td> 1501545600</td>\n",
       "      <td> None</td>\n",
       "      <td>      false</td>\n",
       "      <td> 0</td>\n",
       "      <td> dkznc8l</td>\n",
       "      <td> False</td>\n",
       "      <td> t3_6qryxf</td>\n",
       "      <td>  t3_6qryxf</td>\n",
       "      <td> 1503654247</td>\n",
       "      <td>  2</td>\n",
       "      <td> False</td>\n",
       "      <td>...</td>\n",
       "    </tr>\n",
       "    <tr>\n",
       "      <th>5 </th>\n",
       "      <td>         NEWORLDODOR</td>\n",
       "      <td> None</td>\n",
       "      <td>           None</td>\n",
       "      <td>                     None</td>\n",
       "      <td> I'm not arguing that making university free an...</td>\n",
       "      <td> True</td>\n",
       "      <td> False</td>\n",
       "      <td> None</td>\n",
       "      <td> 0</td>\n",
       "      <td> 1501545600</td>\n",
       "      <td> None</td>\n",
       "      <td>      false</td>\n",
       "      <td> 0</td>\n",
       "      <td> dkznc8m</td>\n",
       "      <td>  True</td>\n",
       "      <td> t3_6qrr1o</td>\n",
       "      <td> t1_dkzn053</td>\n",
       "      <td> 1503654247</td>\n",
       "      <td>  3</td>\n",
       "      <td> False</td>\n",
       "      <td>...</td>\n",
       "    </tr>\n",
       "    <tr>\n",
       "      <th>6 </th>\n",
       "      <td>           zachwad22</td>\n",
       "      <td> None</td>\n",
       "      <td>           None</td>\n",
       "      <td>                     None</td>\n",
       "      <td> I like whisper-whistle obsessively, just barel...</td>\n",
       "      <td> True</td>\n",
       "      <td> False</td>\n",
       "      <td> None</td>\n",
       "      <td> 0</td>\n",
       "      <td> 1501545600</td>\n",
       "      <td> None</td>\n",
       "      <td>      false</td>\n",
       "      <td> 0</td>\n",
       "      <td> dkznc8n</td>\n",
       "      <td> False</td>\n",
       "      <td> t3_6qoe6s</td>\n",
       "      <td>  t3_6qoe6s</td>\n",
       "      <td> 1503654247</td>\n",
       "      <td>  1</td>\n",
       "      <td> False</td>\n",
       "      <td>...</td>\n",
       "    </tr>\n",
       "    <tr>\n",
       "      <th>7 </th>\n",
       "      <td>     lurker4lyfe6969</td>\n",
       "      <td> None</td>\n",
       "      <td>           None</td>\n",
       "      <td>                     None</td>\n",
       "      <td>           Served in the Chair Force. Can confirm </td>\n",
       "      <td> True</td>\n",
       "      <td> False</td>\n",
       "      <td> None</td>\n",
       "      <td> 0</td>\n",
       "      <td> 1501545600</td>\n",
       "      <td> None</td>\n",
       "      <td>      false</td>\n",
       "      <td> 0</td>\n",
       "      <td> dkznc8o</td>\n",
       "      <td> False</td>\n",
       "      <td> t3_6qodwi</td>\n",
       "      <td>  t3_6qodwi</td>\n",
       "      <td> 1503654247</td>\n",
       "      <td>  2</td>\n",
       "      <td> False</td>\n",
       "      <td>...</td>\n",
       "    </tr>\n",
       "    <tr>\n",
       "      <th>8 </th>\n",
       "      <td>      SuburbanStoner</td>\n",
       "      <td> None</td>\n",
       "      <td>           None</td>\n",
       "      <td>                     None</td>\n",
       "      <td>                        Nah, it's good right here </td>\n",
       "      <td> True</td>\n",
       "      <td> False</td>\n",
       "      <td> None</td>\n",
       "      <td> 0</td>\n",
       "      <td> 1501545600</td>\n",
       "      <td> None</td>\n",
       "      <td>      false</td>\n",
       "      <td> 0</td>\n",
       "      <td> dkznc8p</td>\n",
       "      <td> False</td>\n",
       "      <td> t3_6qn002</td>\n",
       "      <td> t1_dkz6ig2</td>\n",
       "      <td> 1503654247</td>\n",
       "      <td>  2</td>\n",
       "      <td> False</td>\n",
       "      <td>...</td>\n",
       "    </tr>\n",
       "    <tr>\n",
       "      <th>9 </th>\n",
       "      <td>          ensanguine</td>\n",
       "      <td> None</td>\n",
       "      <td>           None</td>\n",
       "      <td>                     None</td>\n",
       "      <td> I still stand by it not belonging on the plate...</td>\n",
       "      <td> True</td>\n",
       "      <td> False</td>\n",
       "      <td> None</td>\n",
       "      <td> 0</td>\n",
       "      <td> 1501545600</td>\n",
       "      <td> None</td>\n",
       "      <td>      false</td>\n",
       "      <td> 0</td>\n",
       "      <td> dkznc8q</td>\n",
       "      <td> False</td>\n",
       "      <td> t3_6qscet</td>\n",
       "      <td> t1_dkzn9vn</td>\n",
       "      <td> 1503654247</td>\n",
       "      <td> 18</td>\n",
       "      <td> False</td>\n",
       "      <td>...</td>\n",
       "    </tr>\n",
       "    <tr>\n",
       "      <th>10</th>\n",
       "      <td>              p-wing</td>\n",
       "      <td> None</td>\n",
       "      <td>               </td>\n",
       "      <td>              eggball pls</td>\n",
       "      <td>                                           eggball</td>\n",
       "      <td> True</td>\n",
       "      <td> False</td>\n",
       "      <td> None</td>\n",
       "      <td> 0</td>\n",
       "      <td> 1501545600</td>\n",
       "      <td> None</td>\n",
       "      <td>      false</td>\n",
       "      <td> 0</td>\n",
       "      <td> dkznc8r</td>\n",
       "      <td> False</td>\n",
       "      <td> t3_6qnun3</td>\n",
       "      <td>  t3_6qnun3</td>\n",
       "      <td> 1503654247</td>\n",
       "      <td>  3</td>\n",
       "      <td> False</td>\n",
       "      <td>...</td>\n",
       "    </tr>\n",
       "    <tr>\n",
       "      <th>11</th>\n",
       "      <td>           Lolonnais</td>\n",
       "      <td> None</td>\n",
       "      <td> pennant teamnp</td>\n",
       "      <td>         Get well Sheever</td>\n",
       "      <td>                         bulldong out - ktolguy in</td>\n",
       "      <td> True</td>\n",
       "      <td> False</td>\n",
       "      <td> None</td>\n",
       "      <td> 1</td>\n",
       "      <td> 1501545600</td>\n",
       "      <td> None</td>\n",
       "      <td>      false</td>\n",
       "      <td> 0</td>\n",
       "      <td> dkznc8s</td>\n",
       "      <td> False</td>\n",
       "      <td> t3_6qsfxy</td>\n",
       "      <td>  t3_6qsfxy</td>\n",
       "      <td> 1503654247</td>\n",
       "      <td>  2</td>\n",
       "      <td> False</td>\n",
       "      <td>...</td>\n",
       "    </tr>\n",
       "    <tr>\n",
       "      <th>12</th>\n",
       "      <td> askingquestionsblog</td>\n",
       "      <td> None</td>\n",
       "      <td>           None</td>\n",
       "      <td>                     None</td>\n",
       "      <td> So its utility is not as an inherit base, but ...</td>\n",
       "      <td> True</td>\n",
       "      <td> False</td>\n",
       "      <td> None</td>\n",
       "      <td> 0</td>\n",
       "      <td> 1501545600</td>\n",
       "      <td> None</td>\n",
       "      <td>      false</td>\n",
       "      <td> 0</td>\n",
       "      <td> dkznc8t</td>\n",
       "      <td>  True</td>\n",
       "      <td> t3_6qsh6n</td>\n",
       "      <td> t1_dkzn7ng</td>\n",
       "      <td> 1503654247</td>\n",
       "      <td>  1</td>\n",
       "      <td> False</td>\n",
       "      <td>...</td>\n",
       "    </tr>\n",
       "    <tr>\n",
       "      <th>13</th>\n",
       "      <td>         Newbieshoes</td>\n",
       "      <td> None</td>\n",
       "      <td>           None</td>\n",
       "      <td>                     None</td>\n",
       "      <td> Thank you, I was wondering what the fuck kind ...</td>\n",
       "      <td> True</td>\n",
       "      <td> False</td>\n",
       "      <td> None</td>\n",
       "      <td> 0</td>\n",
       "      <td> 1501545600</td>\n",
       "      <td> None</td>\n",
       "      <td> 1501570378</td>\n",
       "      <td> 0</td>\n",
       "      <td> dkznc8u</td>\n",
       "      <td> False</td>\n",
       "      <td> t3_6qs1fy</td>\n",
       "      <td> t1_dkzmwa8</td>\n",
       "      <td> 1503654247</td>\n",
       "      <td>  7</td>\n",
       "      <td> False</td>\n",
       "      <td>...</td>\n",
       "    </tr>\n",
       "    <tr>\n",
       "      <th>14</th>\n",
       "      <td>           sking1225</td>\n",
       "      <td> None</td>\n",
       "      <td>         cmpunk</td>\n",
       "      <td>         HEY COLT CABANA!</td>\n",
       "      <td> Is there a triple threat between reigns, joe, ...</td>\n",
       "      <td> True</td>\n",
       "      <td> False</td>\n",
       "      <td> None</td>\n",
       "      <td> 0</td>\n",
       "      <td> 1501545600</td>\n",
       "      <td> None</td>\n",
       "      <td>      false</td>\n",
       "      <td> 0</td>\n",
       "      <td> dkznc8v</td>\n",
       "      <td> False</td>\n",
       "      <td> t3_6qscjr</td>\n",
       "      <td>  t3_6qscjr</td>\n",
       "      <td> 1503654247</td>\n",
       "      <td>  2</td>\n",
       "      <td> False</td>\n",
       "      <td>...</td>\n",
       "    </tr>\n",
       "    <tr>\n",
       "      <th>15</th>\n",
       "      <td>  PM_ME_WEIRD_SMILES</td>\n",
       "      <td> None</td>\n",
       "      <td>           None</td>\n",
       "      <td>                     None</td>\n",
       "      <td>                    You got giffed in the faaaaace</td>\n",
       "      <td> True</td>\n",
       "      <td> False</td>\n",
       "      <td> None</td>\n",
       "      <td> 0</td>\n",
       "      <td> 1501545600</td>\n",
       "      <td> None</td>\n",
       "      <td>      false</td>\n",
       "      <td> 0</td>\n",
       "      <td> dkznc8w</td>\n",
       "      <td> False</td>\n",
       "      <td> t3_6qoyi3</td>\n",
       "      <td> t1_dkz03pr</td>\n",
       "      <td> 1503654247</td>\n",
       "      <td>  3</td>\n",
       "      <td> False</td>\n",
       "      <td>...</td>\n",
       "    </tr>\n",
       "    <tr>\n",
       "      <th>16</th>\n",
       "      <td>           Alvarez09</td>\n",
       "      <td> None</td>\n",
       "      <td>           None</td>\n",
       "      <td>                     None</td>\n",
       "      <td> TIL that when moves are made by Huntington tha...</td>\n",
       "      <td> True</td>\n",
       "      <td> False</td>\n",
       "      <td> None</td>\n",
       "      <td> 0</td>\n",
       "      <td> 1501545600</td>\n",
       "      <td> None</td>\n",
       "      <td>      false</td>\n",
       "      <td> 0</td>\n",
       "      <td> dkznc8x</td>\n",
       "      <td> False</td>\n",
       "      <td> t3_6qs1x2</td>\n",
       "      <td> t1_dkzn0yv</td>\n",
       "      <td> 1503654247</td>\n",
       "      <td>  9</td>\n",
       "      <td> False</td>\n",
       "      <td>...</td>\n",
       "    </tr>\n",
       "    <tr>\n",
       "      <th>17</th>\n",
       "      <td>         Synchrotr0n</td>\n",
       "      <td> None</td>\n",
       "      <td>           None</td>\n",
       "      <td>                     None</td>\n",
       "      <td> [Enquanto isso, na mente de todo pirata...](ht...</td>\n",
       "      <td> True</td>\n",
       "      <td> False</td>\n",
       "      <td> None</td>\n",
       "      <td> 0</td>\n",
       "      <td> 1501545600</td>\n",
       "      <td> None</td>\n",
       "      <td>      false</td>\n",
       "      <td> 0</td>\n",
       "      <td> dkznc8y</td>\n",
       "      <td> False</td>\n",
       "      <td> t3_6qq0sz</td>\n",
       "      <td>  t3_6qq0sz</td>\n",
       "      <td> 1503654247</td>\n",
       "      <td>  1</td>\n",
       "      <td> False</td>\n",
       "      <td>...</td>\n",
       "    </tr>\n",
       "    <tr>\n",
       "      <th>18</th>\n",
       "      <td>          rudolphsb9</td>\n",
       "      <td> None</td>\n",
       "      <td>           None</td>\n",
       "      <td>                     None</td>\n",
       "      <td> Either way, not really a great opener if you w...</td>\n",
       "      <td> True</td>\n",
       "      <td> False</td>\n",
       "      <td> None</td>\n",
       "      <td> 0</td>\n",
       "      <td> 1501545600</td>\n",
       "      <td> None</td>\n",
       "      <td>      false</td>\n",
       "      <td> 0</td>\n",
       "      <td> dkznc8z</td>\n",
       "      <td> False</td>\n",
       "      <td> t3_6qpilo</td>\n",
       "      <td> t1_dkz4ncr</td>\n",
       "      <td> 1503654247</td>\n",
       "      <td>  2</td>\n",
       "      <td> False</td>\n",
       "      <td>...</td>\n",
       "    </tr>\n",
       "    <tr>\n",
       "      <th>19</th>\n",
       "      <td>      arbuthnot-lane</td>\n",
       "      <td> None</td>\n",
       "      <td>           None</td>\n",
       "      <td>                     None</td>\n",
       "      <td> You seem to really dislike Oslo, yet it seems ...</td>\n",
       "      <td> True</td>\n",
       "      <td> False</td>\n",
       "      <td> None</td>\n",
       "      <td> 0</td>\n",
       "      <td> 1501545600</td>\n",
       "      <td> None</td>\n",
       "      <td>      false</td>\n",
       "      <td> 0</td>\n",
       "      <td> dkznc90</td>\n",
       "      <td> False</td>\n",
       "      <td> t3_6qqpjd</td>\n",
       "      <td> t1_dkze3uz</td>\n",
       "      <td> 1503654247</td>\n",
       "      <td>  6</td>\n",
       "      <td> False</td>\n",
       "      <td>...</td>\n",
       "    </tr>\n",
       "    <tr>\n",
       "      <th>20</th>\n",
       "      <td>              d3fect</td>\n",
       "      <td> None</td>\n",
       "      <td>               </td>\n",
       "      <td>               test-flair</td>\n",
       "      <td>                           i was a mod ignore this</td>\n",
       "      <td> True</td>\n",
       "      <td> False</td>\n",
       "      <td> None</td>\n",
       "      <td> 0</td>\n",
       "      <td> 1501545600</td>\n",
       "      <td> None</td>\n",
       "      <td>      false</td>\n",
       "      <td> 0</td>\n",
       "      <td> dkznc91</td>\n",
       "      <td>  True</td>\n",
       "      <td> t3_6qshyz</td>\n",
       "      <td>  t3_6qshyz</td>\n",
       "      <td> 1503654247</td>\n",
       "      <td>  1</td>\n",
       "      <td> False</td>\n",
       "      <td>...</td>\n",
       "    </tr>\n",
       "    <tr>\n",
       "      <th>21</th>\n",
       "      <td>      relator_fabula</td>\n",
       "      <td> None</td>\n",
       "      <td>     JerseyLogo</td>\n",
       "      <td>                         </td>\n",
       "      <td>                                               thx</td>\n",
       "      <td> True</td>\n",
       "      <td> False</td>\n",
       "      <td> None</td>\n",
       "      <td> 0</td>\n",
       "      <td> 1501545600</td>\n",
       "      <td> None</td>\n",
       "      <td>      false</td>\n",
       "      <td> 0</td>\n",
       "      <td> dkznc92</td>\n",
       "      <td> False</td>\n",
       "      <td> t3_6qr1mn</td>\n",
       "      <td> t1_dkznbgw</td>\n",
       "      <td> 1503654247</td>\n",
       "      <td>  1</td>\n",
       "      <td> False</td>\n",
       "      <td>...</td>\n",
       "    </tr>\n",
       "    <tr>\n",
       "      <th>22</th>\n",
       "      <td>              Knonkh</td>\n",
       "      <td> None</td>\n",
       "      <td>         AUDIEU</td>\n",
       "      <td> P&amp;amp;A || Team FGR #284</td>\n",
       "      <td>      Quality &amp;gt; quantity ;)\\n\\nBut thanks mate!</td>\n",
       "      <td> True</td>\n",
       "      <td> False</td>\n",
       "      <td> None</td>\n",
       "      <td> 0</td>\n",
       "      <td> 1501545600</td>\n",
       "      <td> None</td>\n",
       "      <td>      false</td>\n",
       "      <td> 0</td>\n",
       "      <td> dkznc93</td>\n",
       "      <td>  True</td>\n",
       "      <td> t3_6qlach</td>\n",
       "      <td> t1_dkzl1cu</td>\n",
       "      <td> 1503654247</td>\n",
       "      <td>  1</td>\n",
       "      <td> False</td>\n",
       "      <td>...</td>\n",
       "    </tr>\n",
       "    <tr>\n",
       "      <th>23</th>\n",
       "      <td>            zxj4k3xz</td>\n",
       "      <td> None</td>\n",
       "      <td>               </td>\n",
       "      <td>                Multiglam</td>\n",
       "      <td> I don’t know anything that crazy, but I know B...</td>\n",
       "      <td> True</td>\n",
       "      <td> False</td>\n",
       "      <td> None</td>\n",
       "      <td> 0</td>\n",
       "      <td> 1501545600</td>\n",
       "      <td> None</td>\n",
       "      <td>      false</td>\n",
       "      <td> 0</td>\n",
       "      <td> dkznc94</td>\n",
       "      <td> False</td>\n",
       "      <td> t3_6qrtqk</td>\n",
       "      <td> t1_dkzlae7</td>\n",
       "      <td> 1503654247</td>\n",
       "      <td>  2</td>\n",
       "      <td> False</td>\n",
       "      <td>...</td>\n",
       "    </tr>\n",
       "    <tr>\n",
       "      <th>24</th>\n",
       "      <td>           [deleted]</td>\n",
       "      <td> None</td>\n",
       "      <td>           None</td>\n",
       "      <td>                     None</td>\n",
       "      <td>                                         [deleted]</td>\n",
       "      <td> True</td>\n",
       "      <td>  True</td>\n",
       "      <td> None</td>\n",
       "      <td> 0</td>\n",
       "      <td> 1501545600</td>\n",
       "      <td> None</td>\n",
       "      <td>      false</td>\n",
       "      <td> 0</td>\n",
       "      <td> dkznc95</td>\n",
       "      <td> False</td>\n",
       "      <td> t3_6qse42</td>\n",
       "      <td> t1_dkzn4f4</td>\n",
       "      <td> 1503654247</td>\n",
       "      <td>  1</td>\n",
       "      <td> False</td>\n",
       "      <td>...</td>\n",
       "    </tr>\n",
       "    <tr>\n",
       "      <th>25</th>\n",
       "      <td>           [deleted]</td>\n",
       "      <td> None</td>\n",
       "      <td>           None</td>\n",
       "      <td>                     None</td>\n",
       "      <td>                                         [removed]</td>\n",
       "      <td> True</td>\n",
       "      <td> False</td>\n",
       "      <td> None</td>\n",
       "      <td> 0</td>\n",
       "      <td> 1501545600</td>\n",
       "      <td> None</td>\n",
       "      <td>      false</td>\n",
       "      <td> 0</td>\n",
       "      <td> dkznc96</td>\n",
       "      <td> False</td>\n",
       "      <td> t3_6qs63f</td>\n",
       "      <td>  t3_6qs63f</td>\n",
       "      <td> 1503654247</td>\n",
       "      <td>  1</td>\n",
       "      <td> False</td>\n",
       "      <td>...</td>\n",
       "    </tr>\n",
       "    <tr>\n",
       "      <th>26</th>\n",
       "      <td>      mcgregorshakes</td>\n",
       "      <td> None</td>\n",
       "      <td>           None</td>\n",
       "      <td>                     None</td>\n",
       "      <td> Those catterpillars are like umbrellas, they a...</td>\n",
       "      <td> True</td>\n",
       "      <td> False</td>\n",
       "      <td> None</td>\n",
       "      <td> 0</td>\n",
       "      <td> 1501545600</td>\n",
       "      <td> None</td>\n",
       "      <td>      false</td>\n",
       "      <td> 0</td>\n",
       "      <td> dkznc97</td>\n",
       "      <td> False</td>\n",
       "      <td> t3_6qpa11</td>\n",
       "      <td> t1_dkz65ie</td>\n",
       "      <td> 1503654247</td>\n",
       "      <td>  2</td>\n",
       "      <td> False</td>\n",
       "      <td>...</td>\n",
       "    </tr>\n",
       "    <tr>\n",
       "      <th>27</th>\n",
       "      <td>             kamekai</td>\n",
       "      <td> None</td>\n",
       "      <td>           None</td>\n",
       "      <td>                     None</td>\n",
       "      <td> Yeah that would look just great trying to cros...</td>\n",
       "      <td> True</td>\n",
       "      <td> False</td>\n",
       "      <td> None</td>\n",
       "      <td> 0</td>\n",
       "      <td> 1501545600</td>\n",
       "      <td> None</td>\n",
       "      <td>      false</td>\n",
       "      <td> 0</td>\n",
       "      <td> dkznc98</td>\n",
       "      <td> False</td>\n",
       "      <td> t3_6qpxyr</td>\n",
       "      <td> t1_dkzmcd1</td>\n",
       "      <td> 1503654247</td>\n",
       "      <td> 21</td>\n",
       "      <td> False</td>\n",
       "      <td>...</td>\n",
       "    </tr>\n",
       "    <tr>\n",
       "      <th>28</th>\n",
       "      <td>         KarlOskar12</td>\n",
       "      <td> None</td>\n",
       "      <td>           None</td>\n",
       "      <td>                     None</td>\n",
       "      <td> Bonds in osrs aren't MTX, it's a subscription ...</td>\n",
       "      <td> True</td>\n",
       "      <td> False</td>\n",
       "      <td> None</td>\n",
       "      <td> 0</td>\n",
       "      <td> 1501545600</td>\n",
       "      <td> None</td>\n",
       "      <td>      false</td>\n",
       "      <td> 0</td>\n",
       "      <td> dkznc99</td>\n",
       "      <td> False</td>\n",
       "      <td> t3_6qp3bb</td>\n",
       "      <td> t1_dkz0jjc</td>\n",
       "      <td> 1503654247</td>\n",
       "      <td> -3</td>\n",
       "      <td> False</td>\n",
       "      <td>...</td>\n",
       "    </tr>\n",
       "    <tr>\n",
       "      <th>29</th>\n",
       "      <td>      CrimsonStone72</td>\n",
       "      <td> None</td>\n",
       "      <td>             SL</td>\n",
       "      <td>                         </td>\n",
       "      <td>                                What is this from?</td>\n",
       "      <td> True</td>\n",
       "      <td> False</td>\n",
       "      <td> None</td>\n",
       "      <td> 0</td>\n",
       "      <td> 1501545600</td>\n",
       "      <td> None</td>\n",
       "      <td>      false</td>\n",
       "      <td> 0</td>\n",
       "      <td> dkznc9a</td>\n",
       "      <td> False</td>\n",
       "      <td> t3_6qse83</td>\n",
       "      <td>  t3_6qse83</td>\n",
       "      <td> 1503654247</td>\n",
       "      <td>  6</td>\n",
       "      <td> False</td>\n",
       "      <td>...</td>\n",
       "    </tr>\n",
       "    <tr>\n",
       "      <th>30</th>\n",
       "      <td>           marflow75</td>\n",
       "      <td> None</td>\n",
       "      <td>           None</td>\n",
       "      <td>                     None</td>\n",
       "      <td> You wil need glasses if you want to look direc...</td>\n",
       "      <td> True</td>\n",
       "      <td> False</td>\n",
       "      <td> None</td>\n",
       "      <td> 0</td>\n",
       "      <td> 1501545600</td>\n",
       "      <td> None</td>\n",
       "      <td>      false</td>\n",
       "      <td> 0</td>\n",
       "      <td> dkznc9b</td>\n",
       "      <td> False</td>\n",
       "      <td> t3_6qsh7g</td>\n",
       "      <td>  t3_6qsh7g</td>\n",
       "      <td> 1503654247</td>\n",
       "      <td>  4</td>\n",
       "      <td> False</td>\n",
       "      <td>...</td>\n",
       "    </tr>\n",
       "    <tr>\n",
       "      <th>31</th>\n",
       "      <td>            Jechtael</td>\n",
       "      <td> None</td>\n",
       "      <td>           None</td>\n",
       "      <td>                     None</td>\n",
       "      <td>                   Is that near [Undisclosed], IL?</td>\n",
       "      <td> True</td>\n",
       "      <td> False</td>\n",
       "      <td> None</td>\n",
       "      <td> 0</td>\n",
       "      <td> 1501545600</td>\n",
       "      <td> None</td>\n",
       "      <td>      false</td>\n",
       "      <td> 0</td>\n",
       "      <td> dkznc9c</td>\n",
       "      <td> False</td>\n",
       "      <td> t3_6qma14</td>\n",
       "      <td> t1_dkyzrdn</td>\n",
       "      <td> 1503654247</td>\n",
       "      <td>  2</td>\n",
       "      <td> False</td>\n",
       "      <td>...</td>\n",
       "    </tr>\n",
       "    <tr>\n",
       "      <th>32</th>\n",
       "      <td>        ChaoticLogix</td>\n",
       "      <td> None</td>\n",
       "      <td>           None</td>\n",
       "      <td>                     None</td>\n",
       "      <td> Put the SD card into a card reader and you wil...</td>\n",
       "      <td> True</td>\n",
       "      <td> False</td>\n",
       "      <td> None</td>\n",
       "      <td> 0</td>\n",
       "      <td> 1501545600</td>\n",
       "      <td> None</td>\n",
       "      <td>      false</td>\n",
       "      <td> 0</td>\n",
       "      <td> dkznc9d</td>\n",
       "      <td> False</td>\n",
       "      <td> t3_6qo9tw</td>\n",
       "      <td>  t3_6qo9tw</td>\n",
       "      <td> 1503654247</td>\n",
       "      <td>  1</td>\n",
       "      <td> False</td>\n",
       "      <td>...</td>\n",
       "    </tr>\n",
       "    <tr>\n",
       "      <th>33</th>\n",
       "      <td>               T1PPY</td>\n",
       "      <td> None</td>\n",
       "      <td>           None</td>\n",
       "      <td>                     None</td>\n",
       "      <td> Yeah, people are making a massive deal about t...</td>\n",
       "      <td> True</td>\n",
       "      <td> False</td>\n",
       "      <td> None</td>\n",
       "      <td> 0</td>\n",
       "      <td> 1501545600</td>\n",
       "      <td> None</td>\n",
       "      <td>      false</td>\n",
       "      <td> 0</td>\n",
       "      <td> dkznc9e</td>\n",
       "      <td> False</td>\n",
       "      <td> t3_6qo0sc</td>\n",
       "      <td> t1_dkzgdao</td>\n",
       "      <td> 1503654247</td>\n",
       "      <td>  3</td>\n",
       "      <td> False</td>\n",
       "      <td>...</td>\n",
       "    </tr>\n",
       "    <tr>\n",
       "      <th>34</th>\n",
       "      <td>          MdMa4Me247</td>\n",
       "      <td> None</td>\n",
       "      <td>           None</td>\n",
       "      <td>                     None</td>\n",
       "      <td> Lmao no offence but where the fuck do you even...</td>\n",
       "      <td> True</td>\n",
       "      <td> False</td>\n",
       "      <td> None</td>\n",
       "      <td> 0</td>\n",
       "      <td> 1501545600</td>\n",
       "      <td> None</td>\n",
       "      <td>      false</td>\n",
       "      <td> 0</td>\n",
       "      <td> dkznc9f</td>\n",
       "      <td> False</td>\n",
       "      <td> t3_6qshm7</td>\n",
       "      <td>  t3_6qshm7</td>\n",
       "      <td> 1503654247</td>\n",
       "      <td> 15</td>\n",
       "      <td> False</td>\n",
       "      <td>...</td>\n",
       "    </tr>\n",
       "    <tr>\n",
       "      <th>35</th>\n",
       "      <td>          Kanyeezy96</td>\n",
       "      <td> None</td>\n",
       "      <td>           None</td>\n",
       "      <td>                     None</td>\n",
       "      <td> Still no extra news man. It should be out any ...</td>\n",
       "      <td> True</td>\n",
       "      <td> False</td>\n",
       "      <td> None</td>\n",
       "      <td> 0</td>\n",
       "      <td> 1501545601</td>\n",
       "      <td> None</td>\n",
       "      <td>      false</td>\n",
       "      <td> 0</td>\n",
       "      <td> dkznc9g</td>\n",
       "      <td> False</td>\n",
       "      <td> t3_6qqmbl</td>\n",
       "      <td>  t3_6qqmbl</td>\n",
       "      <td> 1503654247</td>\n",
       "      <td>  2</td>\n",
       "      <td> False</td>\n",
       "      <td>...</td>\n",
       "    </tr>\n",
       "    <tr>\n",
       "      <th>36</th>\n",
       "      <td>            19720703</td>\n",
       "      <td> None</td>\n",
       "      <td>           None</td>\n",
       "      <td>                     None</td>\n",
       "      <td> Invasion of privacy ain't cool, and making jud...</td>\n",
       "      <td> True</td>\n",
       "      <td> False</td>\n",
       "      <td> None</td>\n",
       "      <td> 0</td>\n",
       "      <td> 1501545601</td>\n",
       "      <td> None</td>\n",
       "      <td>      false</td>\n",
       "      <td> 0</td>\n",
       "      <td> dkznc9h</td>\n",
       "      <td> False</td>\n",
       "      <td> t3_6qsgnd</td>\n",
       "      <td>  t3_6qsgnd</td>\n",
       "      <td> 1503654247</td>\n",
       "      <td> 11</td>\n",
       "      <td> False</td>\n",
       "      <td>...</td>\n",
       "    </tr>\n",
       "    <tr>\n",
       "      <th>37</th>\n",
       "      <td>        flyingmunkie</td>\n",
       "      <td> None</td>\n",
       "      <td>               </td>\n",
       "      <td>                   Krytac</td>\n",
       "      <td> If the mid caps you are refering to are the El...</td>\n",
       "      <td> True</td>\n",
       "      <td> False</td>\n",
       "      <td> None</td>\n",
       "      <td> 0</td>\n",
       "      <td> 1501545601</td>\n",
       "      <td> None</td>\n",
       "      <td>      false</td>\n",
       "      <td> 0</td>\n",
       "      <td> dkznc9i</td>\n",
       "      <td> False</td>\n",
       "      <td> t3_6qqzw7</td>\n",
       "      <td>  t3_6qqzw7</td>\n",
       "      <td> 1503654247</td>\n",
       "      <td>  1</td>\n",
       "      <td> False</td>\n",
       "      <td>...</td>\n",
       "    </tr>\n",
       "    <tr>\n",
       "      <th>38</th>\n",
       "      <td>         spartag00se</td>\n",
       "      <td> None</td>\n",
       "      <td>           None</td>\n",
       "      <td>                     None</td>\n",
       "      <td> A combination of [exposure therapy and beta bl...</td>\n",
       "      <td> True</td>\n",
       "      <td> False</td>\n",
       "      <td> None</td>\n",
       "      <td> 0</td>\n",
       "      <td> 1501545601</td>\n",
       "      <td> None</td>\n",
       "      <td>      false</td>\n",
       "      <td> 0</td>\n",
       "      <td> dkznc9j</td>\n",
       "      <td> False</td>\n",
       "      <td> t3_6qs22k</td>\n",
       "      <td>  t3_6qs22k</td>\n",
       "      <td> 1503654247</td>\n",
       "      <td>  1</td>\n",
       "      <td> False</td>\n",
       "      <td>...</td>\n",
       "    </tr>\n",
       "    <tr>\n",
       "      <th>39</th>\n",
       "      <td>        mrhomeless97</td>\n",
       "      <td> None</td>\n",
       "      <td>           None</td>\n",
       "      <td>                     None</td>\n",
       "      <td> Yeah haha, I was obviously joking about the ti...</td>\n",
       "      <td> True</td>\n",
       "      <td> False</td>\n",
       "      <td> None</td>\n",
       "      <td> 0</td>\n",
       "      <td> 1501545601</td>\n",
       "      <td> None</td>\n",
       "      <td>      false</td>\n",
       "      <td> 0</td>\n",
       "      <td> dkznc9k</td>\n",
       "      <td> False</td>\n",
       "      <td> t3_6qqjuh</td>\n",
       "      <td> t1_dkzmp3p</td>\n",
       "      <td> 1503654247</td>\n",
       "      <td>  2</td>\n",
       "      <td> False</td>\n",
       "      <td>...</td>\n",
       "    </tr>\n",
       "    <tr>\n",
       "      <th>40</th>\n",
       "      <td>              Asquil</td>\n",
       "      <td> None</td>\n",
       "      <td>           None</td>\n",
       "      <td>                     None</td>\n",
       "      <td>                                   You're welcome!</td>\n",
       "      <td> True</td>\n",
       "      <td> False</td>\n",
       "      <td> None</td>\n",
       "      <td> 0</td>\n",
       "      <td> 1501545601</td>\n",
       "      <td> None</td>\n",
       "      <td>      false</td>\n",
       "      <td> 0</td>\n",
       "      <td> dkznc9l</td>\n",
       "      <td> False</td>\n",
       "      <td> t3_6qprq0</td>\n",
       "      <td> t1_dkzn7j9</td>\n",
       "      <td> 1503654247</td>\n",
       "      <td>  2</td>\n",
       "      <td> False</td>\n",
       "      <td>...</td>\n",
       "    </tr>\n",
       "    <tr>\n",
       "      <th>41</th>\n",
       "      <td>           [deleted]</td>\n",
       "      <td> None</td>\n",
       "      <td>           None</td>\n",
       "      <td>                     None</td>\n",
       "      <td>                                         [deleted]</td>\n",
       "      <td> True</td>\n",
       "      <td>  True</td>\n",
       "      <td> None</td>\n",
       "      <td> 0</td>\n",
       "      <td> 1501545601</td>\n",
       "      <td> None</td>\n",
       "      <td>      false</td>\n",
       "      <td> 0</td>\n",
       "      <td> dkznc9m</td>\n",
       "      <td> False</td>\n",
       "      <td> t3_6qqize</td>\n",
       "      <td> t1_dkz9zf9</td>\n",
       "      <td> 1503654247</td>\n",
       "      <td>  1</td>\n",
       "      <td> False</td>\n",
       "      <td>...</td>\n",
       "    </tr>\n",
       "    <tr>\n",
       "      <th>42</th>\n",
       "      <td>        whammydiddle</td>\n",
       "      <td> None</td>\n",
       "      <td>        redsox7</td>\n",
       "      <td>                  redsox7</td>\n",
       "      <td> I don't think we have trading rights on Shaugh...</td>\n",
       "      <td> True</td>\n",
       "      <td> False</td>\n",
       "      <td> None</td>\n",
       "      <td> 0</td>\n",
       "      <td> 1501545601</td>\n",
       "      <td> None</td>\n",
       "      <td>      false</td>\n",
       "      <td> 0</td>\n",
       "      <td> dkznc9n</td>\n",
       "      <td> False</td>\n",
       "      <td> t3_6qdecq</td>\n",
       "      <td> t1_dkwed6p</td>\n",
       "      <td> 1503654247</td>\n",
       "      <td>  2</td>\n",
       "      <td> False</td>\n",
       "      <td>...</td>\n",
       "    </tr>\n",
       "    <tr>\n",
       "      <th>43</th>\n",
       "      <td>            horsodox</td>\n",
       "      <td> None</td>\n",
       "      <td>           None</td>\n",
       "      <td>                     None</td>\n",
       "      <td> Usually, arguments for greatest beings have co...</td>\n",
       "      <td> True</td>\n",
       "      <td> False</td>\n",
       "      <td> None</td>\n",
       "      <td> 0</td>\n",
       "      <td> 1501545601</td>\n",
       "      <td> None</td>\n",
       "      <td>      false</td>\n",
       "      <td> 0</td>\n",
       "      <td> dkznc9o</td>\n",
       "      <td> False</td>\n",
       "      <td> t3_6qquc1</td>\n",
       "      <td> t1_dkzn13m</td>\n",
       "      <td> 1503654247</td>\n",
       "      <td>  1</td>\n",
       "      <td> False</td>\n",
       "      <td>...</td>\n",
       "    </tr>\n",
       "    <tr>\n",
       "      <th>44</th>\n",
       "      <td>           [deleted]</td>\n",
       "      <td> None</td>\n",
       "      <td>           None</td>\n",
       "      <td>                     None</td>\n",
       "      <td>                                         [removed]</td>\n",
       "      <td> True</td>\n",
       "      <td>  True</td>\n",
       "      <td> None</td>\n",
       "      <td> 0</td>\n",
       "      <td> 1501545601</td>\n",
       "      <td> None</td>\n",
       "      <td>      false</td>\n",
       "      <td> 0</td>\n",
       "      <td> dkznc9p</td>\n",
       "      <td> False</td>\n",
       "      <td> t3_6qoe6s</td>\n",
       "      <td> t1_dkywehw</td>\n",
       "      <td> 1503654247</td>\n",
       "      <td>  1</td>\n",
       "      <td> False</td>\n",
       "      <td>...</td>\n",
       "    </tr>\n",
       "    <tr>\n",
       "      <th>45</th>\n",
       "      <td>            telebofh</td>\n",
       "      <td> None</td>\n",
       "      <td>           None</td>\n",
       "      <td>                     None</td>\n",
       "      <td>              What, you don't gopro when you game?</td>\n",
       "      <td> True</td>\n",
       "      <td> False</td>\n",
       "      <td> None</td>\n",
       "      <td> 0</td>\n",
       "      <td> 1501545601</td>\n",
       "      <td> None</td>\n",
       "      <td>      false</td>\n",
       "      <td> 0</td>\n",
       "      <td> dkznc9q</td>\n",
       "      <td> False</td>\n",
       "      <td> t3_6qoa53</td>\n",
       "      <td> t1_dkyrkot</td>\n",
       "      <td> 1503654247</td>\n",
       "      <td> 23</td>\n",
       "      <td> False</td>\n",
       "      <td>...</td>\n",
       "    </tr>\n",
       "    <tr>\n",
       "      <th>46</th>\n",
       "      <td>    sagittariuscraig</td>\n",
       "      <td> None</td>\n",
       "      <td>           None</td>\n",
       "      <td>                     None</td>\n",
       "      <td> This was on some of my very early lists, upwar...</td>\n",
       "      <td> True</td>\n",
       "      <td> False</td>\n",
       "      <td> None</td>\n",
       "      <td> 0</td>\n",
       "      <td> 1501545601</td>\n",
       "      <td> None</td>\n",
       "      <td>      false</td>\n",
       "      <td> 0</td>\n",
       "      <td> dkznc9r</td>\n",
       "      <td> False</td>\n",
       "      <td> t3_6qq9di</td>\n",
       "      <td>  t3_6qq9di</td>\n",
       "      <td> 1503654247</td>\n",
       "      <td>  3</td>\n",
       "      <td> False</td>\n",
       "      <td>...</td>\n",
       "    </tr>\n",
       "    <tr>\n",
       "      <th>47</th>\n",
       "      <td>    PM_YOUR_HARDCOCK</td>\n",
       "      <td> None</td>\n",
       "      <td>           None</td>\n",
       "      <td>                     None</td>\n",
       "      <td> Sure, but when they change in comics there is ...</td>\n",
       "      <td> True</td>\n",
       "      <td> False</td>\n",
       "      <td> None</td>\n",
       "      <td> 0</td>\n",
       "      <td> 1501545601</td>\n",
       "      <td> None</td>\n",
       "      <td>      false</td>\n",
       "      <td> 0</td>\n",
       "      <td> dkznc9s</td>\n",
       "      <td> False</td>\n",
       "      <td> t3_6qpkbk</td>\n",
       "      <td> t1_dkzmyeg</td>\n",
       "      <td> 1503654247</td>\n",
       "      <td>  1</td>\n",
       "      <td> False</td>\n",
       "      <td>...</td>\n",
       "    </tr>\n",
       "    <tr>\n",
       "      <th>48</th>\n",
       "      <td>        sarahfearing</td>\n",
       "      <td> None</td>\n",
       "      <td>           None</td>\n",
       "      <td>                     None</td>\n",
       "      <td>              That's... a really fair point. Lol! </td>\n",
       "      <td> True</td>\n",
       "      <td> False</td>\n",
       "      <td> None</td>\n",
       "      <td> 0</td>\n",
       "      <td> 1501545601</td>\n",
       "      <td> None</td>\n",
       "      <td>      false</td>\n",
       "      <td> 0</td>\n",
       "      <td> dkznc9t</td>\n",
       "      <td>  True</td>\n",
       "      <td> t3_6qrc7w</td>\n",
       "      <td> t1_dkzj7ss</td>\n",
       "      <td> 1503654247</td>\n",
       "      <td>  1</td>\n",
       "      <td> False</td>\n",
       "      <td>...</td>\n",
       "    </tr>\n",
       "    <tr>\n",
       "      <th>49</th>\n",
       "      <td>             twojs1b</td>\n",
       "      <td> None</td>\n",
       "      <td>           None</td>\n",
       "      <td>                     None</td>\n",
       "      <td>                          Your going to have that.</td>\n",
       "      <td> True</td>\n",
       "      <td> False</td>\n",
       "      <td> None</td>\n",
       "      <td> 0</td>\n",
       "      <td> 1501545601</td>\n",
       "      <td> None</td>\n",
       "      <td>      false</td>\n",
       "      <td> 0</td>\n",
       "      <td> dkznc9u</td>\n",
       "      <td> False</td>\n",
       "      <td> t3_6qsiaj</td>\n",
       "      <td>  t3_6qsiaj</td>\n",
       "      <td> 1503654247</td>\n",
       "      <td>  1</td>\n",
       "      <td> False</td>\n",
       "      <td>...</td>\n",
       "    </tr>\n",
       "    <tr>\n",
       "      <th>50</th>\n",
       "      <td>             EBJ1990</td>\n",
       "      <td> None</td>\n",
       "      <td>    sheet3pos21</td>\n",
       "      <td>             Brother Nero</td>\n",
       "      <td>                          Beautiful People was SD.</td>\n",
       "      <td> True</td>\n",
       "      <td> False</td>\n",
       "      <td> None</td>\n",
       "      <td> 0</td>\n",
       "      <td> 1501545601</td>\n",
       "      <td> None</td>\n",
       "      <td> 1501546310</td>\n",
       "      <td> 0</td>\n",
       "      <td> dkznc9v</td>\n",
       "      <td> False</td>\n",
       "      <td> t3_6qscjr</td>\n",
       "      <td> t1_dkzn9vl</td>\n",
       "      <td> 1503654247</td>\n",
       "      <td>  0</td>\n",
       "      <td> False</td>\n",
       "      <td>...</td>\n",
       "    </tr>\n",
       "    <tr>\n",
       "      <th>51</th>\n",
       "      <td>             x00drew</td>\n",
       "      <td> None</td>\n",
       "      <td>           xbox</td>\n",
       "      <td>          EquableCargo563</td>\n",
       "      <td>                                Could you do that?</td>\n",
       "      <td> True</td>\n",
       "      <td> False</td>\n",
       "      <td> None</td>\n",
       "      <td> 0</td>\n",
       "      <td> 1501545601</td>\n",
       "      <td> None</td>\n",
       "      <td>      false</td>\n",
       "      <td> 0</td>\n",
       "      <td> dkznc9w</td>\n",
       "      <td>  True</td>\n",
       "      <td> t3_6qsaiz</td>\n",
       "      <td> t1_dkzmym4</td>\n",
       "      <td> 1503654247</td>\n",
       "      <td>  1</td>\n",
       "      <td> False</td>\n",
       "      <td>...</td>\n",
       "    </tr>\n",
       "    <tr>\n",
       "      <th>52</th>\n",
       "      <td>             mikemnm</td>\n",
       "      <td> None</td>\n",
       "      <td>           None</td>\n",
       "      <td>                     None</td>\n",
       "      <td> I have a better offer of purple volts and 20xx...</td>\n",
       "      <td> True</td>\n",
       "      <td> False</td>\n",
       "      <td> None</td>\n",
       "      <td> 0</td>\n",
       "      <td> 1501545601</td>\n",
       "      <td> None</td>\n",
       "      <td>      false</td>\n",
       "      <td> 0</td>\n",
       "      <td> dkznc9x</td>\n",
       "      <td> False</td>\n",
       "      <td> t3_6qsdzd</td>\n",
       "      <td> t1_dkznae4</td>\n",
       "      <td> 1503654247</td>\n",
       "      <td>  1</td>\n",
       "      <td> False</td>\n",
       "      <td>...</td>\n",
       "    </tr>\n",
       "    <tr>\n",
       "      <th>53</th>\n",
       "      <td>         Blacktivism</td>\n",
       "      <td> None</td>\n",
       "      <td>           None</td>\n",
       "      <td>                     None</td>\n",
       "      <td> You don't need uninsured drivers' insurance, i...</td>\n",
       "      <td> True</td>\n",
       "      <td> False</td>\n",
       "      <td> None</td>\n",
       "      <td> 0</td>\n",
       "      <td> 1501545601</td>\n",
       "      <td> None</td>\n",
       "      <td>      false</td>\n",
       "      <td> 0</td>\n",
       "      <td> dkznc9y</td>\n",
       "      <td> False</td>\n",
       "      <td> t3_6qmoyb</td>\n",
       "      <td> t1_dkyw0yx</td>\n",
       "      <td> 1503654247</td>\n",
       "      <td>  1</td>\n",
       "      <td> False</td>\n",
       "      <td>...</td>\n",
       "    </tr>\n",
       "    <tr>\n",
       "      <th>54</th>\n",
       "      <td>         Inoidzervit</td>\n",
       "      <td> None</td>\n",
       "      <td>           None</td>\n",
       "      <td>                     None</td>\n",
       "      <td> NO! It's a trap! Do you see the tail?? The kit...</td>\n",
       "      <td> True</td>\n",
       "      <td> False</td>\n",
       "      <td> None</td>\n",
       "      <td> 0</td>\n",
       "      <td> 1501545601</td>\n",
       "      <td> None</td>\n",
       "      <td>      false</td>\n",
       "      <td> 0</td>\n",
       "      <td> dkznc9z</td>\n",
       "      <td> False</td>\n",
       "      <td> t3_6qp2xl</td>\n",
       "      <td>  t3_6qp2xl</td>\n",
       "      <td> 1503654247</td>\n",
       "      <td>  4</td>\n",
       "      <td> False</td>\n",
       "      <td>...</td>\n",
       "    </tr>\n",
       "    <tr>\n",
       "      <th>55</th>\n",
       "      <td>            Astonsfw</td>\n",
       "      <td> None</td>\n",
       "      <td>           None</td>\n",
       "      <td>                     None</td>\n",
       "      <td> Is suppose it's preference. Some people may li...</td>\n",
       "      <td> True</td>\n",
       "      <td> False</td>\n",
       "      <td> None</td>\n",
       "      <td> 0</td>\n",
       "      <td> 1501545601</td>\n",
       "      <td> None</td>\n",
       "      <td>      false</td>\n",
       "      <td> 0</td>\n",
       "      <td> dkznca0</td>\n",
       "      <td> False</td>\n",
       "      <td> t3_6qp7w1</td>\n",
       "      <td>  t3_6qp7w1</td>\n",
       "      <td> 1503654247</td>\n",
       "      <td>  4</td>\n",
       "      <td> False</td>\n",
       "      <td>...</td>\n",
       "    </tr>\n",
       "    <tr>\n",
       "      <th>56</th>\n",
       "      <td>   the_orange_wizard</td>\n",
       "      <td> None</td>\n",
       "      <td>           None</td>\n",
       "      <td>                     None</td>\n",
       "      <td> It's like, weebs and shit. Fucking weebs. They...</td>\n",
       "      <td> True</td>\n",
       "      <td> False</td>\n",
       "      <td> None</td>\n",
       "      <td> 0</td>\n",
       "      <td> 1501545601</td>\n",
       "      <td> None</td>\n",
       "      <td>      false</td>\n",
       "      <td> 0</td>\n",
       "      <td> dkznca1</td>\n",
       "      <td> False</td>\n",
       "      <td> t3_6qpgb4</td>\n",
       "      <td> t1_dkze894</td>\n",
       "      <td> 1503654247</td>\n",
       "      <td> 19</td>\n",
       "      <td> False</td>\n",
       "      <td>...</td>\n",
       "    </tr>\n",
       "    <tr>\n",
       "      <th>57</th>\n",
       "      <td>       noonespecific</td>\n",
       "      <td> None</td>\n",
       "      <td>         glitch</td>\n",
       "      <td>                         </td>\n",
       "      <td> There's something...oddly nostalgic about the ...</td>\n",
       "      <td> True</td>\n",
       "      <td> False</td>\n",
       "      <td> None</td>\n",
       "      <td> 0</td>\n",
       "      <td> 1501545601</td>\n",
       "      <td> None</td>\n",
       "      <td>      false</td>\n",
       "      <td> 0</td>\n",
       "      <td> dkznca2</td>\n",
       "      <td> False</td>\n",
       "      <td> t3_6qrcd4</td>\n",
       "      <td>  t3_6qrcd4</td>\n",
       "      <td> 1503654247</td>\n",
       "      <td> 20</td>\n",
       "      <td> False</td>\n",
       "      <td>...</td>\n",
       "    </tr>\n",
       "    <tr>\n",
       "      <th>58</th>\n",
       "      <td>           CMikeHunt</td>\n",
       "      <td> None</td>\n",
       "      <td>           DART</td>\n",
       "      <td>                Dartmouth</td>\n",
       "      <td>                    http://i.imgur.com/YLjVpBt.jpg</td>\n",
       "      <td> True</td>\n",
       "      <td> False</td>\n",
       "      <td> None</td>\n",
       "      <td> 0</td>\n",
       "      <td> 1501545601</td>\n",
       "      <td> None</td>\n",
       "      <td>      false</td>\n",
       "      <td> 0</td>\n",
       "      <td> dkznca3</td>\n",
       "      <td> False</td>\n",
       "      <td> t3_6qr8i0</td>\n",
       "      <td> t1_dkzja17</td>\n",
       "      <td> 1503654247</td>\n",
       "      <td>  2</td>\n",
       "      <td> False</td>\n",
       "      <td>...</td>\n",
       "    </tr>\n",
       "    <tr>\n",
       "      <th>59</th>\n",
       "      <td>          Cosmodious</td>\n",
       "      <td> None</td>\n",
       "      <td>           None</td>\n",
       "      <td>                     None</td>\n",
       "      <td> It takes some getting used to but I can vouch ...</td>\n",
       "      <td> True</td>\n",
       "      <td> False</td>\n",
       "      <td> None</td>\n",
       "      <td> 0</td>\n",
       "      <td> 1501545601</td>\n",
       "      <td> None</td>\n",
       "      <td>      false</td>\n",
       "      <td> 0</td>\n",
       "      <td> dkznca4</td>\n",
       "      <td> False</td>\n",
       "      <td> t3_6qqpfg</td>\n",
       "      <td>  t3_6qqpfg</td>\n",
       "      <td> 1503654247</td>\n",
       "      <td>  2</td>\n",
       "      <td> False</td>\n",
       "      <td>...</td>\n",
       "    </tr>\n",
       "    <tr>\n",
       "      <th></th>\n",
       "      <td>...</td>\n",
       "      <td>...</td>\n",
       "      <td>...</td>\n",
       "      <td>...</td>\n",
       "      <td>...</td>\n",
       "      <td>...</td>\n",
       "      <td>...</td>\n",
       "      <td>...</td>\n",
       "      <td>...</td>\n",
       "      <td>...</td>\n",
       "      <td>...</td>\n",
       "      <td>...</td>\n",
       "      <td>...</td>\n",
       "      <td>...</td>\n",
       "      <td>...</td>\n",
       "      <td>...</td>\n",
       "      <td>...</td>\n",
       "      <td>...</td>\n",
       "      <td>...</td>\n",
       "      <td>...</td>\n",
       "    </tr>\n",
       "  </tbody>\n",
       "</table>\n",
       "<p>1000000 rows × 22 columns</p>\n",
       "</div>"
      ],
      "text/plain": [
       "                 author author_cakeday author_flair_css_class  \\\n",
       "0         stunt_penguin           None                   None   \n",
       "1             [deleted]           None                   None   \n",
       "2                 69ing           None                   None   \n",
       "3        ArchadianJudge           None         Archadianflair   \n",
       "4              sglville           None                   None   \n",
       "5           NEWORLDODOR           None                   None   \n",
       "6             zachwad22           None                   None   \n",
       "7       lurker4lyfe6969           None                   None   \n",
       "8        SuburbanStoner           None                   None   \n",
       "9            ensanguine           None                   None   \n",
       "10               p-wing           None                          \n",
       "11            Lolonnais           None         pennant teamnp   \n",
       "12  askingquestionsblog           None                   None   \n",
       "13          Newbieshoes           None                   None   \n",
       "14            sking1225           None                 cmpunk   \n",
       "15   PM_ME_WEIRD_SMILES           None                   None   \n",
       "16            Alvarez09           None                   None   \n",
       "17          Synchrotr0n           None                   None   \n",
       "18           rudolphsb9           None                   None   \n",
       "19       arbuthnot-lane           None                   None   \n",
       "20               d3fect           None                          \n",
       "21       relator_fabula           None             JerseyLogo   \n",
       "22               Knonkh           None                 AUDIEU   \n",
       "23             zxj4k3xz           None                          \n",
       "24            [deleted]           None                   None   \n",
       "25            [deleted]           None                   None   \n",
       "26       mcgregorshakes           None                   None   \n",
       "27              kamekai           None                   None   \n",
       "28          KarlOskar12           None                   None   \n",
       "29       CrimsonStone72           None                     SL   \n",
       "30            marflow75           None                   None   \n",
       "31             Jechtael           None                   None   \n",
       "32         ChaoticLogix           None                   None   \n",
       "33                T1PPY           None                   None   \n",
       "34           MdMa4Me247           None                   None   \n",
       "35           Kanyeezy96           None                   None   \n",
       "36             19720703           None                   None   \n",
       "37         flyingmunkie           None                          \n",
       "38          spartag00se           None                   None   \n",
       "39         mrhomeless97           None                   None   \n",
       "40               Asquil           None                   None   \n",
       "41            [deleted]           None                   None   \n",
       "42         whammydiddle           None                redsox7   \n",
       "43             horsodox           None                   None   \n",
       "44            [deleted]           None                   None   \n",
       "45             telebofh           None                   None   \n",
       "46     sagittariuscraig           None                   None   \n",
       "47     PM_YOUR_HARDCOCK           None                   None   \n",
       "48         sarahfearing           None                   None   \n",
       "49              twojs1b           None                   None   \n",
       "50              EBJ1990           None            sheet3pos21   \n",
       "51              x00drew           None                   xbox   \n",
       "52              mikemnm           None                   None   \n",
       "53          Blacktivism           None                   None   \n",
       "54          Inoidzervit           None                   None   \n",
       "55             Astonsfw           None                   None   \n",
       "56    the_orange_wizard           None                   None   \n",
       "57        noonespecific           None                 glitch   \n",
       "58            CMikeHunt           None                   DART   \n",
       "59           Cosmodious           None                   None   \n",
       "                    ...            ...                    ...   \n",
       "\n",
       "           author_flair_text  \\\n",
       "0                       None   \n",
       "1                       None   \n",
       "2                       None   \n",
       "3                       None   \n",
       "4                       None   \n",
       "5                       None   \n",
       "6                       None   \n",
       "7                       None   \n",
       "8                       None   \n",
       "9                       None   \n",
       "10               eggball pls   \n",
       "11          Get well Sheever   \n",
       "12                      None   \n",
       "13                      None   \n",
       "14          HEY COLT CABANA!   \n",
       "15                      None   \n",
       "16                      None   \n",
       "17                      None   \n",
       "18                      None   \n",
       "19                      None   \n",
       "20                test-flair   \n",
       "21                             \n",
       "22  P&amp;A || Team FGR #284   \n",
       "23                 Multiglam   \n",
       "24                      None   \n",
       "25                      None   \n",
       "26                      None   \n",
       "27                      None   \n",
       "28                      None   \n",
       "29                             \n",
       "30                      None   \n",
       "31                      None   \n",
       "32                      None   \n",
       "33                      None   \n",
       "34                      None   \n",
       "35                      None   \n",
       "36                      None   \n",
       "37                    Krytac   \n",
       "38                      None   \n",
       "39                      None   \n",
       "40                      None   \n",
       "41                      None   \n",
       "42                   redsox7   \n",
       "43                      None   \n",
       "44                      None   \n",
       "45                      None   \n",
       "46                      None   \n",
       "47                      None   \n",
       "48                      None   \n",
       "49                      None   \n",
       "50              Brother Nero   \n",
       "51           EquableCargo563   \n",
       "52                      None   \n",
       "53                      None   \n",
       "54                      None   \n",
       "55                      None   \n",
       "56                      None   \n",
       "57                             \n",
       "58                 Dartmouth   \n",
       "59                      None   \n",
       "                         ...   \n",
       "\n",
       "                                                 body can_gild collapsed  \\\n",
       "0                  Wheelchairs make amazing dollys :D     True     False   \n",
       "1                                           [removed]     True     False   \n",
       "2          I used to watch the shit out of these guys     True     False   \n",
       "3   http://www.pixiv.net/member_illust.php?mode=me...     True     False   \n",
       "4   On the other yand you could say it's capitalis...     True     False   \n",
       "5   I'm not arguing that making university free an...     True     False   \n",
       "6   I like whisper-whistle obsessively, just barel...     True     False   \n",
       "7             Served in the Chair Force. Can confirm      True     False   \n",
       "8                          Nah, it's good right here      True     False   \n",
       "9   I still stand by it not belonging on the plate...     True     False   \n",
       "10                                            eggball     True     False   \n",
       "11                          bulldong out - ktolguy in     True     False   \n",
       "12  So its utility is not as an inherit base, but ...     True     False   \n",
       "13  Thank you, I was wondering what the fuck kind ...     True     False   \n",
       "14  Is there a triple threat between reigns, joe, ...     True     False   \n",
       "15                     You got giffed in the faaaaace     True     False   \n",
       "16  TIL that when moves are made by Huntington tha...     True     False   \n",
       "17  [Enquanto isso, na mente de todo pirata...](ht...     True     False   \n",
       "18  Either way, not really a great opener if you w...     True     False   \n",
       "19  You seem to really dislike Oslo, yet it seems ...     True     False   \n",
       "20                            i was a mod ignore this     True     False   \n",
       "21                                                thx     True     False   \n",
       "22       Quality &gt; quantity ;)\\n\\nBut thanks mate!     True     False   \n",
       "23  I don’t know anything that crazy, but I know B...     True     False   \n",
       "24                                          [deleted]     True      True   \n",
       "25                                          [removed]     True     False   \n",
       "26  Those catterpillars are like umbrellas, they a...     True     False   \n",
       "27  Yeah that would look just great trying to cros...     True     False   \n",
       "28  Bonds in osrs aren't MTX, it's a subscription ...     True     False   \n",
       "29                                 What is this from?     True     False   \n",
       "30  You wil need glasses if you want to look direc...     True     False   \n",
       "31                    Is that near [Undisclosed], IL?     True     False   \n",
       "32  Put the SD card into a card reader and you wil...     True     False   \n",
       "33  Yeah, people are making a massive deal about t...     True     False   \n",
       "34  Lmao no offence but where the fuck do you even...     True     False   \n",
       "35  Still no extra news man. It should be out any ...     True     False   \n",
       "36  Invasion of privacy ain't cool, and making jud...     True     False   \n",
       "37  If the mid caps you are refering to are the El...     True     False   \n",
       "38  A combination of [exposure therapy and beta bl...     True     False   \n",
       "39  Yeah haha, I was obviously joking about the ti...     True     False   \n",
       "40                                    You're welcome!     True     False   \n",
       "41                                          [deleted]     True      True   \n",
       "42  I don't think we have trading rights on Shaugh...     True     False   \n",
       "43  Usually, arguments for greatest beings have co...     True     False   \n",
       "44                                          [removed]     True      True   \n",
       "45               What, you don't gopro when you game?     True     False   \n",
       "46  This was on some of my very early lists, upwar...     True     False   \n",
       "47  Sure, but when they change in comics there is ...     True     False   \n",
       "48               That's... a really fair point. Lol!      True     False   \n",
       "49                           Your going to have that.     True     False   \n",
       "50                           Beautiful People was SD.     True     False   \n",
       "51                                 Could you do that?     True     False   \n",
       "52  I have a better offer of purple volts and 20xx...     True     False   \n",
       "53  You don't need uninsured drivers' insurance, i...     True     False   \n",
       "54  NO! It's a trap! Do you see the tail?? The kit...     True     False   \n",
       "55  Is suppose it's preference. Some people may li...     True     False   \n",
       "56  It's like, weebs and shit. Fucking weebs. They...     True     False   \n",
       "57  There's something...oddly nostalgic about the ...     True     False   \n",
       "58                     http://i.imgur.com/YLjVpBt.jpg     True     False   \n",
       "59  It takes some getting used to but I can vouch ...     True     False   \n",
       "                                                  ...      ...       ...   \n",
       "\n",
       "   collapsed_reason  controversiality  created_utc distinguished      edited  \\\n",
       "0              None                 0   1501545600          None       false   \n",
       "1              None                 0   1501545600          None       false   \n",
       "2              None                 0   1501545600          None       false   \n",
       "3              None                 0   1501545600          None       false   \n",
       "4              None                 0   1501545600          None       false   \n",
       "5              None                 0   1501545600          None       false   \n",
       "6              None                 0   1501545600          None       false   \n",
       "7              None                 0   1501545600          None       false   \n",
       "8              None                 0   1501545600          None       false   \n",
       "9              None                 0   1501545600          None       false   \n",
       "10             None                 0   1501545600          None       false   \n",
       "11             None                 1   1501545600          None       false   \n",
       "12             None                 0   1501545600          None       false   \n",
       "13             None                 0   1501545600          None  1501570378   \n",
       "14             None                 0   1501545600          None       false   \n",
       "15             None                 0   1501545600          None       false   \n",
       "16             None                 0   1501545600          None       false   \n",
       "17             None                 0   1501545600          None       false   \n",
       "18             None                 0   1501545600          None       false   \n",
       "19             None                 0   1501545600          None       false   \n",
       "20             None                 0   1501545600          None       false   \n",
       "21             None                 0   1501545600          None       false   \n",
       "22             None                 0   1501545600          None       false   \n",
       "23             None                 0   1501545600          None       false   \n",
       "24             None                 0   1501545600          None       false   \n",
       "25             None                 0   1501545600          None       false   \n",
       "26             None                 0   1501545600          None       false   \n",
       "27             None                 0   1501545600          None       false   \n",
       "28             None                 0   1501545600          None       false   \n",
       "29             None                 0   1501545600          None       false   \n",
       "30             None                 0   1501545600          None       false   \n",
       "31             None                 0   1501545600          None       false   \n",
       "32             None                 0   1501545600          None       false   \n",
       "33             None                 0   1501545600          None       false   \n",
       "34             None                 0   1501545600          None       false   \n",
       "35             None                 0   1501545601          None       false   \n",
       "36             None                 0   1501545601          None       false   \n",
       "37             None                 0   1501545601          None       false   \n",
       "38             None                 0   1501545601          None       false   \n",
       "39             None                 0   1501545601          None       false   \n",
       "40             None                 0   1501545601          None       false   \n",
       "41             None                 0   1501545601          None       false   \n",
       "42             None                 0   1501545601          None       false   \n",
       "43             None                 0   1501545601          None       false   \n",
       "44             None                 0   1501545601          None       false   \n",
       "45             None                 0   1501545601          None       false   \n",
       "46             None                 0   1501545601          None       false   \n",
       "47             None                 0   1501545601          None       false   \n",
       "48             None                 0   1501545601          None       false   \n",
       "49             None                 0   1501545601          None       false   \n",
       "50             None                 0   1501545601          None  1501546310   \n",
       "51             None                 0   1501545601          None       false   \n",
       "52             None                 0   1501545601          None       false   \n",
       "53             None                 0   1501545601          None       false   \n",
       "54             None                 0   1501545601          None       false   \n",
       "55             None                 0   1501545601          None       false   \n",
       "56             None                 0   1501545601          None       false   \n",
       "57             None                 0   1501545601          None       false   \n",
       "58             None                 0   1501545601          None       false   \n",
       "59             None                 0   1501545601          None       false   \n",
       "                ...               ...          ...           ...         ...   \n",
       "\n",
       "    gilded       id is_submitter    link_id   parent_id  retrieved_on  score  \\\n",
       "0        0  dkznc8h        False  t3_6qp8sw  t1_dkzbnn3    1503654247      1   \n",
       "1        0  dkznc8i        False  t3_6qse6i  t1_dkzmgc3    1503654247      2   \n",
       "2        0  dkznc8j        False  t3_6qs8i1   t3_6qs8i1    1503654247      5   \n",
       "3        0  dkznc8k         True  t3_6qsicx   t3_6qsicx    1503654247      2   \n",
       "4        0  dkznc8l        False  t3_6qryxf   t3_6qryxf    1503654247      2   \n",
       "5        0  dkznc8m         True  t3_6qrr1o  t1_dkzn053    1503654247      3   \n",
       "6        0  dkznc8n        False  t3_6qoe6s   t3_6qoe6s    1503654247      1   \n",
       "7        0  dkznc8o        False  t3_6qodwi   t3_6qodwi    1503654247      2   \n",
       "8        0  dkznc8p        False  t3_6qn002  t1_dkz6ig2    1503654247      2   \n",
       "9        0  dkznc8q        False  t3_6qscet  t1_dkzn9vn    1503654247     18   \n",
       "10       0  dkznc8r        False  t3_6qnun3   t3_6qnun3    1503654247      3   \n",
       "11       0  dkznc8s        False  t3_6qsfxy   t3_6qsfxy    1503654247      2   \n",
       "12       0  dkznc8t         True  t3_6qsh6n  t1_dkzn7ng    1503654247      1   \n",
       "13       0  dkznc8u        False  t3_6qs1fy  t1_dkzmwa8    1503654247      7   \n",
       "14       0  dkznc8v        False  t3_6qscjr   t3_6qscjr    1503654247      2   \n",
       "15       0  dkznc8w        False  t3_6qoyi3  t1_dkz03pr    1503654247      3   \n",
       "16       0  dkznc8x        False  t3_6qs1x2  t1_dkzn0yv    1503654247      9   \n",
       "17       0  dkznc8y        False  t3_6qq0sz   t3_6qq0sz    1503654247      1   \n",
       "18       0  dkznc8z        False  t3_6qpilo  t1_dkz4ncr    1503654247      2   \n",
       "19       0  dkznc90        False  t3_6qqpjd  t1_dkze3uz    1503654247      6   \n",
       "20       0  dkznc91         True  t3_6qshyz   t3_6qshyz    1503654247      1   \n",
       "21       0  dkznc92        False  t3_6qr1mn  t1_dkznbgw    1503654247      1   \n",
       "22       0  dkznc93         True  t3_6qlach  t1_dkzl1cu    1503654247      1   \n",
       "23       0  dkznc94        False  t3_6qrtqk  t1_dkzlae7    1503654247      2   \n",
       "24       0  dkznc95        False  t3_6qse42  t1_dkzn4f4    1503654247      1   \n",
       "25       0  dkznc96        False  t3_6qs63f   t3_6qs63f    1503654247      1   \n",
       "26       0  dkznc97        False  t3_6qpa11  t1_dkz65ie    1503654247      2   \n",
       "27       0  dkznc98        False  t3_6qpxyr  t1_dkzmcd1    1503654247     21   \n",
       "28       0  dkznc99        False  t3_6qp3bb  t1_dkz0jjc    1503654247     -3   \n",
       "29       0  dkznc9a        False  t3_6qse83   t3_6qse83    1503654247      6   \n",
       "30       0  dkznc9b        False  t3_6qsh7g   t3_6qsh7g    1503654247      4   \n",
       "31       0  dkznc9c        False  t3_6qma14  t1_dkyzrdn    1503654247      2   \n",
       "32       0  dkznc9d        False  t3_6qo9tw   t3_6qo9tw    1503654247      1   \n",
       "33       0  dkznc9e        False  t3_6qo0sc  t1_dkzgdao    1503654247      3   \n",
       "34       0  dkznc9f        False  t3_6qshm7   t3_6qshm7    1503654247     15   \n",
       "35       0  dkznc9g        False  t3_6qqmbl   t3_6qqmbl    1503654247      2   \n",
       "36       0  dkznc9h        False  t3_6qsgnd   t3_6qsgnd    1503654247     11   \n",
       "37       0  dkznc9i        False  t3_6qqzw7   t3_6qqzw7    1503654247      1   \n",
       "38       0  dkznc9j        False  t3_6qs22k   t3_6qs22k    1503654247      1   \n",
       "39       0  dkznc9k        False  t3_6qqjuh  t1_dkzmp3p    1503654247      2   \n",
       "40       0  dkznc9l        False  t3_6qprq0  t1_dkzn7j9    1503654247      2   \n",
       "41       0  dkznc9m        False  t3_6qqize  t1_dkz9zf9    1503654247      1   \n",
       "42       0  dkznc9n        False  t3_6qdecq  t1_dkwed6p    1503654247      2   \n",
       "43       0  dkznc9o        False  t3_6qquc1  t1_dkzn13m    1503654247      1   \n",
       "44       0  dkznc9p        False  t3_6qoe6s  t1_dkywehw    1503654247      1   \n",
       "45       0  dkznc9q        False  t3_6qoa53  t1_dkyrkot    1503654247     23   \n",
       "46       0  dkznc9r        False  t3_6qq9di   t3_6qq9di    1503654247      3   \n",
       "47       0  dkznc9s        False  t3_6qpkbk  t1_dkzmyeg    1503654247      1   \n",
       "48       0  dkznc9t         True  t3_6qrc7w  t1_dkzj7ss    1503654247      1   \n",
       "49       0  dkznc9u        False  t3_6qsiaj   t3_6qsiaj    1503654247      1   \n",
       "50       0  dkznc9v        False  t3_6qscjr  t1_dkzn9vl    1503654247      0   \n",
       "51       0  dkznc9w         True  t3_6qsaiz  t1_dkzmym4    1503654247      1   \n",
       "52       0  dkznc9x        False  t3_6qsdzd  t1_dkznae4    1503654247      1   \n",
       "53       0  dkznc9y        False  t3_6qmoyb  t1_dkyw0yx    1503654247      1   \n",
       "54       0  dkznc9z        False  t3_6qp2xl   t3_6qp2xl    1503654247      4   \n",
       "55       0  dkznca0        False  t3_6qp7w1   t3_6qp7w1    1503654247      4   \n",
       "56       0  dkznca1        False  t3_6qpgb4  t1_dkze894    1503654247     19   \n",
       "57       0  dkznca2        False  t3_6qrcd4   t3_6qrcd4    1503654247     20   \n",
       "58       0  dkznca3        False  t3_6qr8i0  t1_dkzja17    1503654247      2   \n",
       "59       0  dkznca4        False  t3_6qqpfg   t3_6qqpfg    1503654247      2   \n",
       "       ...      ...          ...        ...         ...           ...    ...   \n",
       "\n",
       "   stickied      \n",
       "0     False ...  \n",
       "1     False ...  \n",
       "2     False ...  \n",
       "3     False ...  \n",
       "4     False ...  \n",
       "5     False ...  \n",
       "6     False ...  \n",
       "7     False ...  \n",
       "8     False ...  \n",
       "9     False ...  \n",
       "10    False ...  \n",
       "11    False ...  \n",
       "12    False ...  \n",
       "13    False ...  \n",
       "14    False ...  \n",
       "15    False ...  \n",
       "16    False ...  \n",
       "17    False ...  \n",
       "18    False ...  \n",
       "19    False ...  \n",
       "20    False ...  \n",
       "21    False ...  \n",
       "22    False ...  \n",
       "23    False ...  \n",
       "24    False ...  \n",
       "25    False ...  \n",
       "26    False ...  \n",
       "27    False ...  \n",
       "28    False ...  \n",
       "29    False ...  \n",
       "30    False ...  \n",
       "31    False ...  \n",
       "32    False ...  \n",
       "33    False ...  \n",
       "34    False ...  \n",
       "35    False ...  \n",
       "36    False ...  \n",
       "37    False ...  \n",
       "38    False ...  \n",
       "39    False ...  \n",
       "40    False ...  \n",
       "41    False ...  \n",
       "42    False ...  \n",
       "43    False ...  \n",
       "44    False ...  \n",
       "45    False ...  \n",
       "46    False ...  \n",
       "47    False ...  \n",
       "48    False ...  \n",
       "49    False ...  \n",
       "50    False ...  \n",
       "51    False ...  \n",
       "52    False ...  \n",
       "53    False ...  \n",
       "54    False ...  \n",
       "55    False ...  \n",
       "56    False ...  \n",
       "57    False ...  \n",
       "58    False ...  \n",
       "59    False ...  \n",
       "        ...      \n",
       "\n",
       "[1000000 rows x 22 columns]"
      ]
     },
     "execution_count": 78,
     "metadata": {},
     "output_type": "execute_result"
    }
   ],
   "source": [
    "sj.toPandas()"
   ]
  },
  {
   "cell_type": "code",
   "execution_count": 27,
   "metadata": {
    "collapsed": false
   },
   "outputs": [],
   "source": [
    "rawDF = sqlContext.read.json(\"s3n://reddit-comments/2015/RC_2015-05\", StructType(fields)).persist(StorageLevel.MEMORY_AND_DISK_SER)"
   ]
  },
  {
   "cell_type": "code",
   "execution_count": 28,
   "metadata": {
    "collapsed": true
   },
   "outputs": [],
   "source": [
    "rawDF.registerTempTable('comments')"
   ]
  },
  {
   "cell_type": "code",
   "execution_count": 574,
   "metadata": {
    "collapsed": false
   },
   "outputs": [
    {
     "data": {
      "text/plain": [
       "<bound method DataFrame.select of DataFrame[author: string, score: bigint, controversiality: bigint, subreddit: string]>"
      ]
     },
     "execution_count": 574,
     "metadata": {},
     "output_type": "execute_result"
    }
   ],
   "source": [
    "sj.select"
   ]
  },
  {
   "cell_type": "code",
   "execution_count": null,
   "metadata": {
    "collapsed": true
   },
   "outputs": [],
   "source": []
  }
 ],
 "metadata": {
  "kernelspec": {
   "display_name": "Python 2",
   "language": "python",
   "name": "python2"
  },
  "language_info": {
   "codemirror_mode": {
    "name": "ipython",
    "version": 2
   },
   "file_extension": ".py",
   "mimetype": "text/x-python",
   "name": "python",
   "nbconvert_exporter": "python",
   "pygments_lexer": "ipython2",
   "version": "2.7.6"
  }
 },
 "nbformat": 4,
 "nbformat_minor": 0
}
